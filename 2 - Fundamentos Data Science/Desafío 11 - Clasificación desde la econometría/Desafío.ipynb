{
 "cells": [
  {
   "cell_type": "markdown",
   "metadata": {},
   "source": [
    "# Desafío 08-07-2019\n",
    "Integrantes: Yerko Carreño, Javier Pilasi, Daniel Flores, Francisco Fernandez, Máximo Oliva, Rocío Ehijo"
   ]
  },
  {
   "cell_type": "markdown",
   "metadata": {},
   "source": [
    "__Descripción__\n",
    "\n",
    "En esta sesión trabajaremos con:\n",
    "- sbp : Presión Sanguínea Sistólica.\n",
    "- tobacco : Promedio tabaco consumido por día.\n",
    "- ldl : Lipoproteína de baja densidad.\n",
    "- adiposity : Adiposidad.\n",
    "- famhist : Antecedentes familiares de enfermedades cardiácas. (Binaria)\n",
    "- types : Personalidad tipo A\n",
    "- obesity : Obesidad.\n",
    "- alcohol : Consumo actual de alcohol.\n",
    "- age : edad.\n",
    "- chd : Enfermedad coronaria. (dummy)"
   ]
  },
  {
   "cell_type": "markdown",
   "metadata": {},
   "source": [
    "## Preparar el ambiente de trabajo\n",
    "\n",
    "- Se detallan los pasos a seguir\n",
    "- tip: Los tips o sugerencias preceden de tip\n",
    "- Se generan dos notebooks, uno con las soluciones y otro con los ejercicios."
   ]
  },
  {
   "cell_type": "code",
   "execution_count": 5,
   "metadata": {},
   "outputs": [
    {
     "name": "stdout",
     "output_type": "stream",
     "text": [
      "<class 'pandas.core.frame.DataFrame'>\n",
      "Int64Index: 462 entries, 1 to 463\n",
      "Data columns (total 10 columns):\n",
      "sbp          462 non-null int64\n",
      "tobacco      462 non-null float64\n",
      "ldl          462 non-null float64\n",
      "adiposity    462 non-null float64\n",
      "famhist      462 non-null object\n",
      "typea        462 non-null int64\n",
      "obesity      462 non-null float64\n",
      "alcohol      462 non-null float64\n",
      "age          462 non-null int64\n",
      "chd          462 non-null int64\n",
      "dtypes: float64(5), int64(4), object(1)\n",
      "memory usage: 39.7+ KB\n"
     ]
    }
   ],
   "source": [
    "# Importamos las distintas librerías que utlizaremos en el ejercicio\n",
    "import pandas as pd\n",
    "import numpy as np\n",
    "import scipy.stats as stats\n",
    "import matplotlib.pyplot as plt\n",
    "import statsmodels.api as sm\n",
    "import seaborn as sns\n",
    "import statsmodels.formula.api as smf\n",
    "from sklearn import linear_model\n",
    "from sklearn.metrics import mean_squared_error, r2_score\n",
    "from sklearn.model_selection import train_test_split\n",
    "\n",
    "# Importamos el archivo con el cual trabajaremos\n",
    "df = pd.read_csv('southafricanheart.csv', index_col=0)\n",
    "\n",
    "df.info()"
   ]
  },
  {
   "cell_type": "code",
   "execution_count": 6,
   "metadata": {},
   "outputs": [
    {
     "data": {
      "text/html": [
       "<div>\n",
       "<style scoped>\n",
       "    .dataframe tbody tr th:only-of-type {\n",
       "        vertical-align: middle;\n",
       "    }\n",
       "\n",
       "    .dataframe tbody tr th {\n",
       "        vertical-align: top;\n",
       "    }\n",
       "\n",
       "    .dataframe thead th {\n",
       "        text-align: right;\n",
       "    }\n",
       "</style>\n",
       "<table border=\"1\" class=\"dataframe\">\n",
       "  <thead>\n",
       "    <tr style=\"text-align: right;\">\n",
       "      <th></th>\n",
       "      <th>sbp</th>\n",
       "      <th>tobacco</th>\n",
       "      <th>ldl</th>\n",
       "      <th>adiposity</th>\n",
       "      <th>typea</th>\n",
       "      <th>obesity</th>\n",
       "      <th>alcohol</th>\n",
       "      <th>age</th>\n",
       "      <th>chd</th>\n",
       "    </tr>\n",
       "  </thead>\n",
       "  <tbody>\n",
       "    <tr>\n",
       "      <th>count</th>\n",
       "      <td>462.000000</td>\n",
       "      <td>462.000000</td>\n",
       "      <td>462.000000</td>\n",
       "      <td>462.000000</td>\n",
       "      <td>462.000000</td>\n",
       "      <td>462.000000</td>\n",
       "      <td>462.000000</td>\n",
       "      <td>462.000000</td>\n",
       "      <td>462.000000</td>\n",
       "    </tr>\n",
       "    <tr>\n",
       "      <th>mean</th>\n",
       "      <td>138.326840</td>\n",
       "      <td>3.635649</td>\n",
       "      <td>4.740325</td>\n",
       "      <td>25.406732</td>\n",
       "      <td>53.103896</td>\n",
       "      <td>26.044113</td>\n",
       "      <td>17.044394</td>\n",
       "      <td>42.816017</td>\n",
       "      <td>0.346320</td>\n",
       "    </tr>\n",
       "    <tr>\n",
       "      <th>std</th>\n",
       "      <td>20.496317</td>\n",
       "      <td>4.593024</td>\n",
       "      <td>2.070909</td>\n",
       "      <td>7.780699</td>\n",
       "      <td>9.817534</td>\n",
       "      <td>4.213680</td>\n",
       "      <td>24.481059</td>\n",
       "      <td>14.608956</td>\n",
       "      <td>0.476313</td>\n",
       "    </tr>\n",
       "    <tr>\n",
       "      <th>min</th>\n",
       "      <td>101.000000</td>\n",
       "      <td>0.000000</td>\n",
       "      <td>0.980000</td>\n",
       "      <td>6.740000</td>\n",
       "      <td>13.000000</td>\n",
       "      <td>14.700000</td>\n",
       "      <td>0.000000</td>\n",
       "      <td>15.000000</td>\n",
       "      <td>0.000000</td>\n",
       "    </tr>\n",
       "    <tr>\n",
       "      <th>25%</th>\n",
       "      <td>124.000000</td>\n",
       "      <td>0.052500</td>\n",
       "      <td>3.282500</td>\n",
       "      <td>19.775000</td>\n",
       "      <td>47.000000</td>\n",
       "      <td>22.985000</td>\n",
       "      <td>0.510000</td>\n",
       "      <td>31.000000</td>\n",
       "      <td>0.000000</td>\n",
       "    </tr>\n",
       "    <tr>\n",
       "      <th>50%</th>\n",
       "      <td>134.000000</td>\n",
       "      <td>2.000000</td>\n",
       "      <td>4.340000</td>\n",
       "      <td>26.115000</td>\n",
       "      <td>53.000000</td>\n",
       "      <td>25.805000</td>\n",
       "      <td>7.510000</td>\n",
       "      <td>45.000000</td>\n",
       "      <td>0.000000</td>\n",
       "    </tr>\n",
       "    <tr>\n",
       "      <th>75%</th>\n",
       "      <td>148.000000</td>\n",
       "      <td>5.500000</td>\n",
       "      <td>5.790000</td>\n",
       "      <td>31.227500</td>\n",
       "      <td>60.000000</td>\n",
       "      <td>28.497500</td>\n",
       "      <td>23.892500</td>\n",
       "      <td>55.000000</td>\n",
       "      <td>1.000000</td>\n",
       "    </tr>\n",
       "    <tr>\n",
       "      <th>max</th>\n",
       "      <td>218.000000</td>\n",
       "      <td>31.200000</td>\n",
       "      <td>15.330000</td>\n",
       "      <td>42.490000</td>\n",
       "      <td>78.000000</td>\n",
       "      <td>46.580000</td>\n",
       "      <td>147.190000</td>\n",
       "      <td>64.000000</td>\n",
       "      <td>1.000000</td>\n",
       "    </tr>\n",
       "  </tbody>\n",
       "</table>\n",
       "</div>"
      ],
      "text/plain": [
       "              sbp     tobacco         ldl   adiposity       typea     obesity  \\\n",
       "count  462.000000  462.000000  462.000000  462.000000  462.000000  462.000000   \n",
       "mean   138.326840    3.635649    4.740325   25.406732   53.103896   26.044113   \n",
       "std     20.496317    4.593024    2.070909    7.780699    9.817534    4.213680   \n",
       "min    101.000000    0.000000    0.980000    6.740000   13.000000   14.700000   \n",
       "25%    124.000000    0.052500    3.282500   19.775000   47.000000   22.985000   \n",
       "50%    134.000000    2.000000    4.340000   26.115000   53.000000   25.805000   \n",
       "75%    148.000000    5.500000    5.790000   31.227500   60.000000   28.497500   \n",
       "max    218.000000   31.200000   15.330000   42.490000   78.000000   46.580000   \n",
       "\n",
       "          alcohol         age         chd  \n",
       "count  462.000000  462.000000  462.000000  \n",
       "mean    17.044394   42.816017    0.346320  \n",
       "std     24.481059   14.608956    0.476313  \n",
       "min      0.000000   15.000000    0.000000  \n",
       "25%      0.510000   31.000000    0.000000  \n",
       "50%      7.510000   45.000000    0.000000  \n",
       "75%     23.892500   55.000000    1.000000  \n",
       "max    147.190000   64.000000    1.000000  "
      ]
     },
     "execution_count": 6,
     "metadata": {},
     "output_type": "execute_result"
    }
   ],
   "source": [
    "# Obtenemos las principales características de las variables del DF\n",
    "\n",
    "df.describe()"
   ]
  },
  {
   "cell_type": "markdown",
   "metadata": {},
   "source": [
    "## Pregunta N° 2"
   ]
  },
  {
   "cell_type": "markdown",
   "metadata": {},
   "source": [
    "A continuación se presenta el siguiente modelo a estimar:\n",
    "$$log \\left( \\frac{Pr(chd=1)}{1-Prd(chd=1)} \\right) = \\beta_0 + \\beta_1 famhist$$\n",
    "\n",
    "Para ello ejecute los siguientes pasos:\n",
    "1. Recodifique famhist a dummy, asignando 1 a la categoría minoritaria.\n",
    "2. Utilice smf.logit para estimar el modelo.\n",
    "3. Implemente una función inverse_logit que realize el mapeo de log-odds a probabilidad.\n",
    "4. Con el modelo estimado, responda lo siguiente:\n",
    "    - ¿Cuál es la probabilidad de un individuo con antecedentes familiares de tener una enfermedad coronaria\n",
    "    - ¿Cuál es la probabilidad de un individuo sin antecedentes familiares de tener una enfermedad coronaria?\n",
    "    - ¿Cuál es la diferencia en la probabilidad entre un individuo con antecedentes y otro sin antecedentes?\n",
    "    - Replique el modelo con smf.ols y comente las similitudes entre los coeficientes estimados.\n",
    "        - tip: Utilice $\\beta/4$\n",
    "    - Estime el mismo modelo con LPM"
   ]
  },
  {
   "cell_type": "code",
   "execution_count": 7,
   "metadata": {},
   "outputs": [
    {
     "name": "stdout",
     "output_type": "stream",
     "text": [
      "\n",
      " famhist\n",
      "Absent     270\n",
      "Present    192\n",
      "Name: famhist, dtype: int64\n",
      "Absent     0.584416\n",
      "Present    0.415584\n",
      "Name: famhist, dtype: float64\n"
     ]
    }
   ],
   "source": [
    "# Recodificamos la variable  famhist a dummy asignando 1 a la categoría minoritaría\n",
    "# Primero debemos encontrar cual es la categoría minoritaria\n",
    "categorica = ['famhist']\n",
    "for cat in categorica:\n",
    "    print(\"\\n\", cat)\n",
    "    print(df[cat].value_counts())\n",
    "    print(df[cat].value_counts()/len(df[cat]))\n",
    "\n",
    "# Luego de saber cual es la variable minoritaria estamos en condiciones de proceder a su binarización\n",
    "df['Binfamhist'] = np.where(df['famhist'] == 'Present', 1, 0)"
   ]
  },
  {
   "cell_type": "code",
   "execution_count": 8,
   "metadata": {},
   "outputs": [
    {
     "name": "stdout",
     "output_type": "stream",
     "text": [
      "Optimization terminated successfully.\n",
      "         Current function value: 0.608111\n",
      "         Iterations 5\n"
     ]
    },
    {
     "data": {
      "text/html": [
       "<table class=\"simpletable\">\n",
       "<caption>Logit Regression Results</caption>\n",
       "<tr>\n",
       "  <th>Dep. Variable:</th>          <td>chd</td>       <th>  No. Observations:  </th>  <td>   462</td>  \n",
       "</tr>\n",
       "<tr>\n",
       "  <th>Model:</th>                 <td>Logit</td>      <th>  Df Residuals:      </th>  <td>   460</td>  \n",
       "</tr>\n",
       "<tr>\n",
       "  <th>Method:</th>                 <td>MLE</td>       <th>  Df Model:          </th>  <td>     1</td>  \n",
       "</tr>\n",
       "<tr>\n",
       "  <th>Date:</th>            <td>Sun, 14 Jul 2019</td> <th>  Pseudo R-squ.:     </th>  <td>0.05740</td> \n",
       "</tr>\n",
       "<tr>\n",
       "  <th>Time:</th>                <td>17:00:33</td>     <th>  Log-Likelihood:    </th> <td> -280.95</td> \n",
       "</tr>\n",
       "<tr>\n",
       "  <th>converged:</th>             <td>True</td>       <th>  LL-Null:           </th> <td> -298.05</td> \n",
       "</tr>\n",
       "<tr>\n",
       "  <th>Covariance Type:</th>     <td>nonrobust</td>    <th>  LLR p-value:       </th> <td>4.937e-09</td>\n",
       "</tr>\n",
       "</table>\n",
       "<table class=\"simpletable\">\n",
       "<tr>\n",
       "       <td></td>         <th>coef</th>     <th>std err</th>      <th>z</th>      <th>P>|z|</th>  <th>[0.025</th>    <th>0.975]</th>  \n",
       "</tr>\n",
       "<tr>\n",
       "  <th>Intercept</th>  <td>   -1.1690</td> <td>    0.143</td> <td>   -8.169</td> <td> 0.000</td> <td>   -1.449</td> <td>   -0.889</td>\n",
       "</tr>\n",
       "<tr>\n",
       "  <th>Binfamhist</th> <td>    1.1690</td> <td>    0.203</td> <td>    5.751</td> <td> 0.000</td> <td>    0.771</td> <td>    1.567</td>\n",
       "</tr>\n",
       "</table>"
      ],
      "text/plain": [
       "<class 'statsmodels.iolib.summary.Summary'>\n",
       "\"\"\"\n",
       "                           Logit Regression Results                           \n",
       "==============================================================================\n",
       "Dep. Variable:                    chd   No. Observations:                  462\n",
       "Model:                          Logit   Df Residuals:                      460\n",
       "Method:                           MLE   Df Model:                            1\n",
       "Date:                Sun, 14 Jul 2019   Pseudo R-squ.:                 0.05740\n",
       "Time:                        17:00:33   Log-Likelihood:                -280.95\n",
       "converged:                       True   LL-Null:                       -298.05\n",
       "Covariance Type:            nonrobust   LLR p-value:                 4.937e-09\n",
       "==============================================================================\n",
       "                 coef    std err          z      P>|z|      [0.025      0.975]\n",
       "------------------------------------------------------------------------------\n",
       "Intercept     -1.1690      0.143     -8.169      0.000      -1.449      -0.889\n",
       "Binfamhist     1.1690      0.203      5.751      0.000       0.771       1.567\n",
       "==============================================================================\n",
       "\"\"\""
      ]
     },
     "execution_count": 8,
     "metadata": {},
     "output_type": "execute_result"
    }
   ],
   "source": [
    "# Procedemos a generar el modelo logístico solicitado\n",
    "modelo = smf.logit('chd~Binfamhist', df).fit()\n",
    "modelo.summary()"
   ]
  },
  {
   "cell_type": "code",
   "execution_count": 49,
   "metadata": {},
   "outputs": [
    {
     "name": "stdout",
     "output_type": "stream",
     "text": [
      "La media del historial familiar es 0.416\n",
      "El log odds estimado es de -0.683\n"
     ]
    }
   ],
   "source": [
    "# Procedemos a obtener la media de la variable independiente\n",
    "\n",
    "media_famhist = df['Binfamhist'].mean()\n",
    "print(\"La media del historial familiar es\", round(media_famhist, 3))\n",
    "\n",
    "# Procedemos a evualuar el modelo logistico en el punto promedio\n",
    "\n",
    "modelo_promedio = (modelo.params['Intercept']\n",
    "                   + (modelo.params['Binfamhist']\n",
    "                      * media_famhist))\n",
    "\n",
    "print(\"El log odds estimado es de\", round(modelo_promedio, 3))"
   ]
  },
  {
   "cell_type": "code",
   "execution_count": 11,
   "metadata": {},
   "outputs": [
    {
     "name": "stdout",
     "output_type": "stream",
     "text": [
      "La Probabilidad promedio de padecer una enfermedad coronaria cuando se posee un historial familiar de 0.41, es de 0.34\n"
     ]
    }
   ],
   "source": [
    "# Una vez que tenemos nuestro Log odds promedio procedemos a convertirlo a una probabilidad\n",
    "\n",
    "\n",
    "def invlogit(x):\n",
    "    return 1/(1+np.exp(-x))\n",
    "\n",
    "\n",
    "print(\"La Probabilidad promedio de padecer una enfermedad coronaria cuando se posee un historial familiar de 0.41, es de\",\n",
    "      round(invlogit(modelo_promedio), 2))"
   ]
  },
  {
   "cell_type": "code",
   "execution_count": 12,
   "metadata": {},
   "outputs": [
    {
     "name": "stdout",
     "output_type": "stream",
     "text": [
      "La Probabilidad promedio de padecer una enfermedad coronaria para alguien con antecedentes familiares es de 0.5\n"
     ]
    }
   ],
   "source": [
    "# La Probabilidad de padecer una enfermedad coronaria para alguien con antecedentes familiares es de:\n",
    "\n",
    "prob_famhist_1 = modelo.params['Intercept']+(modelo.params['Binfamhist']*1)\n",
    "\n",
    "con_antecedentes = invlogit(prob_famhist_1)\n",
    "\n",
    "print(\"La Probabilidad promedio de padecer una enfermedad coronaria para alguien con antecedentes familiares es de\",\n",
    "      con_antecedentes.round(2))"
   ]
  },
  {
   "cell_type": "code",
   "execution_count": 14,
   "metadata": {},
   "outputs": [
    {
     "name": "stdout",
     "output_type": "stream",
     "text": [
      "La Probabilidad promedio de padecer una enfermedad coronaria para alguien sin antecedentes familiares es de 0.24\n"
     ]
    }
   ],
   "source": [
    "# La Probabilidad de padecer una enfermedad coronaria para alguien sin antecedentes familiares es de:\n",
    "\n",
    "prob_famhist_0 = modelo.params['Intercept']+(modelo.params['Binfamhist']*0)\n",
    "\n",
    "sin_antecedentes = invlogit(prob_famhist_0)\n",
    "\n",
    "print(\"La Probabilidad promedio de padecer una enfermedad coronaria para alguien sin antecedentes familiares es de\",\n",
    "      sin_antecedentes.round(2))"
   ]
  },
  {
   "cell_type": "code",
   "execution_count": 21,
   "metadata": {},
   "outputs": [
    {
     "name": "stdout",
     "output_type": "stream",
     "text": [
      "La diferencia en la probabilidad de enfermedad coronoaia entre un individuo con antecentes y otros sin antecedentes es de 0.263 es decir la presencia de historial familiar es un patrón de riesgo para las enfermedades coronarias\n"
     ]
    }
   ],
   "source": [
    "# Para calcular las direncias en las probabilidades simplemente realizamos la resta de ambas probabilidades\n",
    "\n",
    "print(\"La diferencia en la probabilidad de enfermedad coronoaia entre un individuo con antecentes y otros sin antecedentes es de\",\n",
    "      round(con_antecedentes-sin_antecedentes,3), \"es decir la presencia de historial familiar es un patrón de riesgo para las enfermedades coronarias\")"
   ]
  },
  {
   "cell_type": "code",
   "execution_count": 17,
   "metadata": {},
   "outputs": [
    {
     "data": {
      "text/html": [
       "<table class=\"simpletable\">\n",
       "<caption>OLS Regression Results</caption>\n",
       "<tr>\n",
       "  <th>Dep. Variable:</th>           <td>chd</td>       <th>  R-squared:         </th> <td>   0.074</td>\n",
       "</tr>\n",
       "<tr>\n",
       "  <th>Model:</th>                   <td>OLS</td>       <th>  Adj. R-squared:    </th> <td>   0.072</td>\n",
       "</tr>\n",
       "<tr>\n",
       "  <th>Method:</th>             <td>Least Squares</td>  <th>  F-statistic:       </th> <td>   36.86</td>\n",
       "</tr>\n",
       "<tr>\n",
       "  <th>Date:</th>             <td>Sun, 14 Jul 2019</td> <th>  Prob (F-statistic):</th> <td>2.66e-09</td>\n",
       "</tr>\n",
       "<tr>\n",
       "  <th>Time:</th>                 <td>17:25:36</td>     <th>  Log-Likelihood:    </th> <td> -294.59</td>\n",
       "</tr>\n",
       "<tr>\n",
       "  <th>No. Observations:</th>      <td>   462</td>      <th>  AIC:               </th> <td>   593.2</td>\n",
       "</tr>\n",
       "<tr>\n",
       "  <th>Df Residuals:</th>          <td>   460</td>      <th>  BIC:               </th> <td>   601.4</td>\n",
       "</tr>\n",
       "<tr>\n",
       "  <th>Df Model:</th>              <td>     1</td>      <th>                     </th>     <td> </td>   \n",
       "</tr>\n",
       "<tr>\n",
       "  <th>Covariance Type:</th>      <td>nonrobust</td>    <th>                     </th>     <td> </td>   \n",
       "</tr>\n",
       "</table>\n",
       "<table class=\"simpletable\">\n",
       "<tr>\n",
       "       <td></td>         <th>coef</th>     <th>std err</th>      <th>t</th>      <th>P>|t|</th>  <th>[0.025</th>    <th>0.975]</th>  \n",
       "</tr>\n",
       "<tr>\n",
       "  <th>Intercept</th>  <td>    0.2370</td> <td>    0.028</td> <td>    8.489</td> <td> 0.000</td> <td>    0.182</td> <td>    0.292</td>\n",
       "</tr>\n",
       "<tr>\n",
       "  <th>Binfamhist</th> <td>    0.2630</td> <td>    0.043</td> <td>    6.071</td> <td> 0.000</td> <td>    0.178</td> <td>    0.348</td>\n",
       "</tr>\n",
       "</table>\n",
       "<table class=\"simpletable\">\n",
       "<tr>\n",
       "  <th>Omnibus:</th>       <td>768.898</td> <th>  Durbin-Watson:     </th> <td>   1.961</td>\n",
       "</tr>\n",
       "<tr>\n",
       "  <th>Prob(Omnibus):</th> <td> 0.000</td>  <th>  Jarque-Bera (JB):  </th> <td>  58.778</td>\n",
       "</tr>\n",
       "<tr>\n",
       "  <th>Skew:</th>          <td> 0.579</td>  <th>  Prob(JB):          </th> <td>1.72e-13</td>\n",
       "</tr>\n",
       "<tr>\n",
       "  <th>Kurtosis:</th>      <td> 1.692</td>  <th>  Cond. No.          </th> <td>    2.47</td>\n",
       "</tr>\n",
       "</table><br/><br/>Warnings:<br/>[1] Standard Errors assume that the covariance matrix of the errors is correctly specified."
      ],
      "text/plain": [
       "<class 'statsmodels.iolib.summary.Summary'>\n",
       "\"\"\"\n",
       "                            OLS Regression Results                            \n",
       "==============================================================================\n",
       "Dep. Variable:                    chd   R-squared:                       0.074\n",
       "Model:                            OLS   Adj. R-squared:                  0.072\n",
       "Method:                 Least Squares   F-statistic:                     36.86\n",
       "Date:                Sun, 14 Jul 2019   Prob (F-statistic):           2.66e-09\n",
       "Time:                        17:25:36   Log-Likelihood:                -294.59\n",
       "No. Observations:                 462   AIC:                             593.2\n",
       "Df Residuals:                     460   BIC:                             601.4\n",
       "Df Model:                           1                                         \n",
       "Covariance Type:            nonrobust                                         \n",
       "==============================================================================\n",
       "                 coef    std err          t      P>|t|      [0.025      0.975]\n",
       "------------------------------------------------------------------------------\n",
       "Intercept      0.2370      0.028      8.489      0.000       0.182       0.292\n",
       "Binfamhist     0.2630      0.043      6.071      0.000       0.178       0.348\n",
       "==============================================================================\n",
       "Omnibus:                      768.898   Durbin-Watson:                   1.961\n",
       "Prob(Omnibus):                  0.000   Jarque-Bera (JB):               58.778\n",
       "Skew:                           0.579   Prob(JB):                     1.72e-13\n",
       "Kurtosis:                       1.692   Cond. No.                         2.47\n",
       "==============================================================================\n",
       "\n",
       "Warnings:\n",
       "[1] Standard Errors assume that the covariance matrix of the errors is correctly specified.\n",
       "\"\"\""
      ]
     },
     "execution_count": 17,
     "metadata": {},
     "output_type": "execute_result"
    }
   ],
   "source": [
    "#Generamos el modelo con OLS\n",
    "\n",
    "modelo_ols=smf.ols('chd~Binfamhist',df).fit()\n",
    "modelo_ols.summary()"
   ]
  },
  {
   "cell_type": "code",
   "execution_count": 23,
   "metadata": {},
   "outputs": [
    {
     "data": {
      "text/plain": [
       "0.292"
      ]
     },
     "execution_count": 23,
     "metadata": {},
     "output_type": "execute_result"
    }
   ],
   "source": [
    "# Ahora comparamos las similitudes entre el modelo sms.logit y sms.ols, para eso dividimos B1 logit por 4\n",
    "\n",
    "round(modelo.params['Binfamhist']/4,3)\n"
   ]
  },
  {
   "cell_type": "markdown",
   "metadata": {},
   "source": [
    "El coeficiente estimado de logit ajustado (4) es de 0.29, mientras que el coeficiente estimado con ols es de 0,26, existiendo así una diferencia de solo 3 puntos porcentuales, de esta manera, observamos según lo esperado una relativa similitud entre ambos coeficientes, no desviándose fuertemente uno del otro, por lo que podemos concluir que en ambos modelos, tanto logit como en ols, la estimación y pronóstico del modelo son similares, pronosticando magnitiudes similares del efecto de los antecedentes familiares sobre la probabilidad de padecer enfermedades coronarías."
   ]
  },
  {
   "cell_type": "markdown",
   "metadata": {},
   "source": [
    "## Estimación completa\n",
    "Implemente un modelo con la siguiente forma:\n",
    "\n",
    "$$log \\left( \\frac{Pr(chd=1)}{1-Prd(chd=1)} \\right) = \\beta_0 + \\sum_{j=1}^N\\beta_j X$$\n",
    "\n",
    "- Depure el modelo manteniendo las variables con significancia estadística al 95%.\n",
    "- Compare los estadísticos de bondad de ajuste entre ambos.\n",
    "- Reporte de forma sucinta el efecto de las variables en el log-odds de tener una enfermedad coronaria."
   ]
  },
  {
   "cell_type": "code",
   "execution_count": 36,
   "metadata": {},
   "outputs": [
    {
     "name": "stdout",
     "output_type": "stream",
     "text": [
      "Optimization terminated successfully.\n",
      "         Current function value: 0.510974\n",
      "         Iterations 6\n"
     ]
    },
    {
     "data": {
      "text/html": [
       "<table class=\"simpletable\">\n",
       "<caption>Logit Regression Results</caption>\n",
       "<tr>\n",
       "  <th>Dep. Variable:</th>          <td>chd</td>       <th>  No. Observations:  </th>  <td>   462</td>  \n",
       "</tr>\n",
       "<tr>\n",
       "  <th>Model:</th>                 <td>Logit</td>      <th>  Df Residuals:      </th>  <td>   452</td>  \n",
       "</tr>\n",
       "<tr>\n",
       "  <th>Method:</th>                 <td>MLE</td>       <th>  Df Model:          </th>  <td>     9</td>  \n",
       "</tr>\n",
       "<tr>\n",
       "  <th>Date:</th>            <td>Sun, 14 Jul 2019</td> <th>  Pseudo R-squ.:     </th>  <td>0.2080</td>  \n",
       "</tr>\n",
       "<tr>\n",
       "  <th>Time:</th>                <td>22:31:03</td>     <th>  Log-Likelihood:    </th> <td> -236.07</td> \n",
       "</tr>\n",
       "<tr>\n",
       "  <th>converged:</th>             <td>True</td>       <th>  LL-Null:           </th> <td> -298.05</td> \n",
       "</tr>\n",
       "<tr>\n",
       "  <th>Covariance Type:</th>     <td>nonrobust</td>    <th>  LLR p-value:       </th> <td>2.055e-22</td>\n",
       "</tr>\n",
       "</table>\n",
       "<table class=\"simpletable\">\n",
       "<tr>\n",
       "       <td></td>         <th>coef</th>     <th>std err</th>      <th>z</th>      <th>P>|z|</th>  <th>[0.025</th>    <th>0.975]</th>  \n",
       "</tr>\n",
       "<tr>\n",
       "  <th>Intercept</th>  <td>   -6.1507</td> <td>    1.308</td> <td>   -4.701</td> <td> 0.000</td> <td>   -8.715</td> <td>   -3.587</td>\n",
       "</tr>\n",
       "<tr>\n",
       "  <th>Binfamhist</th> <td>    0.9254</td> <td>    0.228</td> <td>    4.061</td> <td> 0.000</td> <td>    0.479</td> <td>    1.372</td>\n",
       "</tr>\n",
       "<tr>\n",
       "  <th>sbp</th>        <td>    0.0065</td> <td>    0.006</td> <td>    1.135</td> <td> 0.256</td> <td>   -0.005</td> <td>    0.018</td>\n",
       "</tr>\n",
       "<tr>\n",
       "  <th>tobacco</th>    <td>    0.0794</td> <td>    0.027</td> <td>    2.984</td> <td> 0.003</td> <td>    0.027</td> <td>    0.132</td>\n",
       "</tr>\n",
       "<tr>\n",
       "  <th>ldl</th>        <td>    0.1739</td> <td>    0.060</td> <td>    2.915</td> <td> 0.004</td> <td>    0.057</td> <td>    0.291</td>\n",
       "</tr>\n",
       "<tr>\n",
       "  <th>adiposity</th>  <td>    0.0186</td> <td>    0.029</td> <td>    0.635</td> <td> 0.526</td> <td>   -0.039</td> <td>    0.076</td>\n",
       "</tr>\n",
       "<tr>\n",
       "  <th>typea</th>      <td>    0.0396</td> <td>    0.012</td> <td>    3.214</td> <td> 0.001</td> <td>    0.015</td> <td>    0.064</td>\n",
       "</tr>\n",
       "<tr>\n",
       "  <th>obesity</th>    <td>   -0.0629</td> <td>    0.044</td> <td>   -1.422</td> <td> 0.155</td> <td>   -0.150</td> <td>    0.024</td>\n",
       "</tr>\n",
       "<tr>\n",
       "  <th>alcohol</th>    <td>    0.0001</td> <td>    0.004</td> <td>    0.027</td> <td> 0.978</td> <td>   -0.009</td> <td>    0.009</td>\n",
       "</tr>\n",
       "<tr>\n",
       "  <th>age</th>        <td>    0.0452</td> <td>    0.012</td> <td>    3.728</td> <td> 0.000</td> <td>    0.021</td> <td>    0.069</td>\n",
       "</tr>\n",
       "</table>"
      ],
      "text/plain": [
       "<class 'statsmodels.iolib.summary.Summary'>\n",
       "\"\"\"\n",
       "                           Logit Regression Results                           \n",
       "==============================================================================\n",
       "Dep. Variable:                    chd   No. Observations:                  462\n",
       "Model:                          Logit   Df Residuals:                      452\n",
       "Method:                           MLE   Df Model:                            9\n",
       "Date:                Sun, 14 Jul 2019   Pseudo R-squ.:                  0.2080\n",
       "Time:                        22:31:03   Log-Likelihood:                -236.07\n",
       "converged:                       True   LL-Null:                       -298.05\n",
       "Covariance Type:            nonrobust   LLR p-value:                 2.055e-22\n",
       "==============================================================================\n",
       "                 coef    std err          z      P>|z|      [0.025      0.975]\n",
       "------------------------------------------------------------------------------\n",
       "Intercept     -6.1507      1.308     -4.701      0.000      -8.715      -3.587\n",
       "Binfamhist     0.9254      0.228      4.061      0.000       0.479       1.372\n",
       "sbp            0.0065      0.006      1.135      0.256      -0.005       0.018\n",
       "tobacco        0.0794      0.027      2.984      0.003       0.027       0.132\n",
       "ldl            0.1739      0.060      2.915      0.004       0.057       0.291\n",
       "adiposity      0.0186      0.029      0.635      0.526      -0.039       0.076\n",
       "typea          0.0396      0.012      3.214      0.001       0.015       0.064\n",
       "obesity       -0.0629      0.044     -1.422      0.155      -0.150       0.024\n",
       "alcohol        0.0001      0.004      0.027      0.978      -0.009       0.009\n",
       "age            0.0452      0.012      3.728      0.000       0.021       0.069\n",
       "==============================================================================\n",
       "\"\"\""
      ]
     },
     "execution_count": 36,
     "metadata": {},
     "output_type": "execute_result"
    }
   ],
   "source": [
    "# Implementamos un modelo Logistic con todas las variables de la muestra para determinar la significancias de estas.\n",
    "\n",
    "modelo_total = (smf.logit(\n",
    "    '''chd ~ \n",
    "        Binfamhist \n",
    "        + sbp \n",
    "        + tobacco \n",
    "        + ldl \n",
    "        + adiposity \n",
    "        + typea \n",
    "        + obesity \n",
    "        + alcohol \n",
    "        + age''', data=df)\n",
    ".fit())\n",
    "\n",
    "modelo_total.summary()"
   ]
  },
  {
   "cell_type": "markdown",
   "metadata": {},
   "source": [
    "De la observación de la tabla es posible identificar que las variables \"sbp\", \"adiposity\", \"obesity\",\"alcohol\", no son significativamente estadísticos al 95%, por esta razón saldrán de nuestro modelo primario."
   ]
  },
  {
   "cell_type": "code",
   "execution_count": 38,
   "metadata": {},
   "outputs": [
    {
     "name": "stdout",
     "output_type": "stream",
     "text": [
      "Optimization terminated successfully.\n",
      "         Current function value: 0.514811\n",
      "         Iterations 6\n"
     ]
    },
    {
     "data": {
      "text/html": [
       "<table class=\"simpletable\">\n",
       "<caption>Logit Regression Results</caption>\n",
       "<tr>\n",
       "  <th>Dep. Variable:</th>          <td>chd</td>       <th>  No. Observations:  </th>  <td>   462</td>  \n",
       "</tr>\n",
       "<tr>\n",
       "  <th>Model:</th>                 <td>Logit</td>      <th>  Df Residuals:      </th>  <td>   456</td>  \n",
       "</tr>\n",
       "<tr>\n",
       "  <th>Method:</th>                 <td>MLE</td>       <th>  Df Model:          </th>  <td>     5</td>  \n",
       "</tr>\n",
       "<tr>\n",
       "  <th>Date:</th>            <td>Sun, 14 Jul 2019</td> <th>  Pseudo R-squ.:     </th>  <td>0.2020</td>  \n",
       "</tr>\n",
       "<tr>\n",
       "  <th>Time:</th>                <td>22:33:03</td>     <th>  Log-Likelihood:    </th> <td> -237.84</td> \n",
       "</tr>\n",
       "<tr>\n",
       "  <th>converged:</th>             <td>True</td>       <th>  LL-Null:           </th> <td> -298.05</td> \n",
       "</tr>\n",
       "<tr>\n",
       "  <th>Covariance Type:</th>     <td>nonrobust</td>    <th>  LLR p-value:       </th> <td>2.554e-24</td>\n",
       "</tr>\n",
       "</table>\n",
       "<table class=\"simpletable\">\n",
       "<tr>\n",
       "       <td></td>         <th>coef</th>     <th>std err</th>      <th>z</th>      <th>P>|z|</th>  <th>[0.025</th>    <th>0.975]</th>  \n",
       "</tr>\n",
       "<tr>\n",
       "  <th>Intercept</th>  <td>   -6.4464</td> <td>    0.921</td> <td>   -7.000</td> <td> 0.000</td> <td>   -8.251</td> <td>   -4.642</td>\n",
       "</tr>\n",
       "<tr>\n",
       "  <th>Binfamhist</th> <td>    0.9082</td> <td>    0.226</td> <td>    4.023</td> <td> 0.000</td> <td>    0.466</td> <td>    1.351</td>\n",
       "</tr>\n",
       "<tr>\n",
       "  <th>tobacco</th>    <td>    0.0804</td> <td>    0.026</td> <td>    3.106</td> <td> 0.002</td> <td>    0.030</td> <td>    0.131</td>\n",
       "</tr>\n",
       "<tr>\n",
       "  <th>ldl</th>        <td>    0.1620</td> <td>    0.055</td> <td>    2.947</td> <td> 0.003</td> <td>    0.054</td> <td>    0.270</td>\n",
       "</tr>\n",
       "<tr>\n",
       "  <th>typea</th>      <td>    0.0371</td> <td>    0.012</td> <td>    3.051</td> <td> 0.002</td> <td>    0.013</td> <td>    0.061</td>\n",
       "</tr>\n",
       "<tr>\n",
       "  <th>age</th>        <td>    0.0505</td> <td>    0.010</td> <td>    4.944</td> <td> 0.000</td> <td>    0.030</td> <td>    0.070</td>\n",
       "</tr>\n",
       "</table>"
      ],
      "text/plain": [
       "<class 'statsmodels.iolib.summary.Summary'>\n",
       "\"\"\"\n",
       "                           Logit Regression Results                           \n",
       "==============================================================================\n",
       "Dep. Variable:                    chd   No. Observations:                  462\n",
       "Model:                          Logit   Df Residuals:                      456\n",
       "Method:                           MLE   Df Model:                            5\n",
       "Date:                Sun, 14 Jul 2019   Pseudo R-squ.:                  0.2020\n",
       "Time:                        22:33:03   Log-Likelihood:                -237.84\n",
       "converged:                       True   LL-Null:                       -298.05\n",
       "Covariance Type:            nonrobust   LLR p-value:                 2.554e-24\n",
       "==============================================================================\n",
       "                 coef    std err          z      P>|z|      [0.025      0.975]\n",
       "------------------------------------------------------------------------------\n",
       "Intercept     -6.4464      0.921     -7.000      0.000      -8.251      -4.642\n",
       "Binfamhist     0.9082      0.226      4.023      0.000       0.466       1.351\n",
       "tobacco        0.0804      0.026      3.106      0.002       0.030       0.131\n",
       "ldl            0.1620      0.055      2.947      0.003       0.054       0.270\n",
       "typea          0.0371      0.012      3.051      0.002       0.013       0.061\n",
       "age            0.0505      0.010      4.944      0.000       0.030       0.070\n",
       "==============================================================================\n",
       "\"\"\""
      ]
     },
     "execution_count": 38,
     "metadata": {},
     "output_type": "execute_result"
    }
   ],
   "source": [
    "# Procedemos a ejecutar el modelo ajustado\n",
    "\n",
    "modelo_ajustado = (smf.logit(\n",
    "    '''chd ~ \n",
    "          Binfamhist  \n",
    "          + tobacco \n",
    "          + ldl  \n",
    "          + typea  \n",
    "          + age''', data=df)\n",
    "    .fit())\n",
    "modelo_ajustado.summary()"
   ]
  },
  {
   "cell_type": "markdown",
   "metadata": {},
   "source": [
    "De la comparación de ambas tablas observamos que no existen importantes diferencias en los estadísticos de bondad de ajustes reportados                "
   ]
  },
  {
   "cell_type": "code",
   "execution_count": 30,
   "metadata": {},
   "outputs": [
    {
     "name": "stdout",
     "output_type": "stream",
     "text": [
      "La media del historial familiar es 0.42\n",
      "La media del consumo de tobacco es 3.64\n",
      "La media del nivel de ldl es 4.74\n",
      "La media del type a es 53.1\n",
      "La media de age es 42.82\n",
      "\n",
      " El log odds estimado es de -0.683\n",
      "\n",
      " {'Binfamhist': 0.00231, 'tobacco': 0.00212, 'ldl': 0.00341, 'typea': 0.01126, 'age': 0.01357}\n"
     ]
    }
   ],
   "source": [
    "# Procedemos a obtener la media de las variable independientes del modelo depurado\n",
    "\n",
    "media_famhist = df['Binfamhist'].mean()\n",
    "media_tobacco = df['tobacco'].mean()\n",
    "media_ldl = df['ldl'].mean()\n",
    "media_typea = df['typea'].mean()\n",
    "media_age = df['age'].mean()\n",
    "\n",
    "# Porcedemos a visualizar las distintas medias de las variables independientes\n",
    "\n",
    "print(\"La media del historial familiar es\", round(media_famhist, 2))\n",
    "print(\"La media del consumo de tobacco es\", round(media_tobacco, 2))\n",
    "print(\"La media del nivel de ldl es\", round(media_ldl, 2))\n",
    "print(\"La media del type a es\", round(media_typea, 2))\n",
    "print(\"La media de age es\", round(media_age, 2))\n",
    "\n",
    "# Procedemos a evualuar el modelo logistico en el punto promedio\n",
    "\n",
    "modelo_prom_ajustado = (\n",
    "    modelo.params['Intercept']\n",
    "    + (modelo_ajustado.params['Binfamhist']\n",
    "       * media_famhist\n",
    "       + modelo_ajustado.params['tobacco']\n",
    "       * media_tobacco\n",
    "       + modelo_ajustado.params['ldl']\n",
    "       * media_ldl\n",
    "       + modelo_ajustado.params['typea']\n",
    "       * media_typea+modelo_ajustado.params['age']\n",
    "       * media_age)\n",
    ")\n",
    "\n",
    "print(\"\\n El log odds estimado es de\", round(modelo_promedio, 3))\n",
    "\n",
    "# Procedemos a convertir los log odds del modelo en probabilidades\n",
    "\n",
    "variables = ['Binfamhist', 'tobacco', 'ldl', 'typea', 'age']\n",
    "inverse = []\n",
    "\n",
    "for i in variables:\n",
    "    tmp = (\n",
    "        modelo_ajustado.params['Intercept']\n",
    "        + (modelo_ajustado.params[i]\n",
    "           * df[i].mean()\n",
    "           )\n",
    "    )\n",
    "    inverse.append(round(invlogit(tmp), 5))\n",
    "\n",
    "dic = dict(zip(variables, inverse))\n",
    "\n",
    "print(\"\\n\", dic)"
   ]
  },
  {
   "cell_type": "markdown",
   "metadata": {},
   "source": [
    "De esta manera podemos observar la contribución de cada variable a la porbabilidad de padecer enfermedad coronaria, del análisis es posible concluir que todas presentes coeficientes positivos, es decir, todas a medidas que aumentan producen un efecto positivo sobre la probabilidad de padecer la enfermedad, sienda la variable que contribuye más al padecimiento de la enfermedad la Edad, la cual por cada año adicional del paciente aumenta en un 1,3% la probabilidad de padecer la enfermedad"
   ]
  },
  {
   "cell_type": "markdown",
   "metadata": {},
   "source": [
    "## Estimación de perfiles\n",
    "A partir del modelo depurado, genere las estimaciones en log-odds y posteriormente transfórmelas a probabilidades con inverse_logit . Los perfiles a estimar son los siguientes:\n",
    "- La probabilidad de tener una enfermedad coronaria para un individuo con características similares a la muestra.\n",
    "- La probabilidad de tener una enfemerdad coronaria para un individuo con altos niveles de lipoproteína de baja densidad, manteniendo todas las demás características constantes.\n",
    "- La probabilidad de tener una enfemerdad coronaria para un individuo con bajos niveles de lipoproteína de baja densidad, manteniendo todas las demás características constantes."
   ]
  },
  {
   "cell_type": "code",
   "execution_count": 46,
   "metadata": {},
   "outputs": [
    {
     "name": "stdout",
     "output_type": "stream",
     "text": [
      "El log odds estimado es de -0.683\n",
      "La probabilidad de padecer enfermedades coronarías para un indivudo con características similares a la muestra (Promedio de todas las variables) es de 0.988\n"
     ]
    }
   ],
   "source": [
    "# Procedemos a evualuar el modelo logistico en el punto promedio\n",
    "\n",
    "modelo_prom_ajustado = (\n",
    "    modelo.params['Intercept']\n",
    "    + (modelo_ajustado.params['Binfamhist']\n",
    "       * media_famhist+modelo_ajustado.params['tobacco']\n",
    "       * media_tobacco+modelo_ajustado.params['ldl']\n",
    "       * media_ldl+modelo_ajustado.params['typea']\n",
    "       * media_typea+modelo_ajustado.params['age']\n",
    "       * media_age)\n",
    ")\n",
    "\n",
    "print(\"El log odds estimado es de\", round(modelo_promedio, 3))\n",
    "\n",
    "# Procedemos a evaluar el modelo en el punto promedio (individuo con caracterísitcas similares a la muestra) transformando el logit con nuestra función inverse\n",
    "\n",
    "print(\"La probabilidad de padecer enfermedades coronarías para un indivudo con características similares a la muestra (Promedio de todas las variables) es de\",\n",
    "      round(invlogit(modelo_prom_ajustado), 3))"
   ]
  },
  {
   "cell_type": "code",
   "execution_count": 38,
   "metadata": {},
   "outputs": [
    {
     "data": {
      "text/plain": [
       "15.33"
      ]
     },
     "execution_count": 38,
     "metadata": {},
     "output_type": "execute_result"
    }
   ],
   "source": [
    "# Procedemos a encontrar el individuo con mayores niveles de lipoproteina \"ldl\" del modelo para evualuarlo en el modelo con las demás variables en el punto promedio\n",
    "df['ldl'].max()"
   ]
  },
  {
   "cell_type": "code",
   "execution_count": 48,
   "metadata": {},
   "outputs": [
    {
     "name": "stdout",
     "output_type": "stream",
     "text": [
      "El log odds estimado es de -0.683\n",
      "La probabilidad de padecer enfermedades coronarías para un indivudo con altos niveles de lipoproteina, manteniendo constantes todas las demás variables es de 0.998\n"
     ]
    }
   ],
   "source": [
    "# Una vez que ya tenemos nuestro máximo lo evaluamos en el modelo probabístico\n",
    "\n",
    "modelo_prom_ajustado_ldl_alto = (\n",
    "    modelo.params['Intercept']\n",
    "    + (modelo_ajustado.params['Binfamhist']\n",
    "       * media_famhist\n",
    "       + modelo_ajustado.params['tobacco']\n",
    "       * media_tobacco\n",
    "       + modelo_ajustado.params['ldl']\n",
    "       * 15.33+modelo_ajustado.params['typea']\n",
    "       * media_typea\n",
    "       + modelo_ajustado.params['age']\n",
    "       * media_age)\n",
    ")\n",
    "\n",
    "print(\"El log odds estimado es de\", round(modelo_promedio,3))\n",
    "\n",
    "print(\"La probabilidad de padecer enfermedades coronarías para un indivudo con altos niveles de lipoproteina, manteniendo constantes todas las demás variables es de\",\n",
    "      round(invlogit(modelo_prom_ajustado_ldl_alto),3))"
   ]
  },
  {
   "cell_type": "markdown",
   "metadata": {},
   "source": [
    "De esta manera observamos que la probabilidad de padecer enfermedades coronorías con el máximo nivel de lipopoteina aumenta en torno a un punto porcentual."
   ]
  },
  {
   "cell_type": "code",
   "execution_count": 43,
   "metadata": {},
   "outputs": [
    {
     "data": {
      "text/plain": [
       "0.98"
      ]
     },
     "execution_count": 43,
     "metadata": {},
     "output_type": "execute_result"
    }
   ],
   "source": [
    "#Procedemos a encontrar el individuo con menores niveles de lipoproteina \"ldl\" del modelo para evualuarlo en el modelo con las demás variables en el punto promedio\n",
    "df['ldl'].min()"
   ]
  },
  {
   "cell_type": "code",
   "execution_count": 50,
   "metadata": {},
   "outputs": [
    {
     "name": "stdout",
     "output_type": "stream",
     "text": [
      "El log odds estimado es de -0.683\n",
      "La probabilidad de padecer enfermedades coronarías para un indivudo con bajos niveles de lipoproteina, manteniendo constantes todas las demás variables es de 0.978\n"
     ]
    }
   ],
   "source": [
    "# Una vez que ya tenemos nuestro mínimo lo evaluamos en el modelo probabístico\n",
    "modelo_prom_ajustado_ldl_bajo = (\n",
    "    modelo.params['Intercept']\n",
    "    + (modelo_ajustado.params['Binfamhist']\n",
    "       * media_famhist\n",
    "       + modelo_ajustado.params['tobacco']\n",
    "       * media_tobacco\n",
    "       + modelo_ajustado.params['ldl']\n",
    "       * 0.98\n",
    "       + modelo_ajustado.params['typea']\n",
    "       * media_typea+modelo_ajustado.params['age']\n",
    "       * media_age)\n",
    ")\n",
    "\n",
    "print(\"El log odds estimado es de\", round(modelo_promedio,3))\n",
    "print(\"La probabilidad de padecer enfermedades coronarías para un indivudo con bajos niveles de lipoproteina, manteniendo constantes todas las demás variables es de\",\n",
    "      round(invlogit(modelo_prom_ajustado_ldl_bajo),3))"
   ]
  },
  {
   "cell_type": "markdown",
   "metadata": {},
   "source": [
    "De esta manera observamos que la probabilidad de padecer enfermedades coronarías para un individuo con bajos niveles de lipoproteina cae en torno a un punto porcentual con respecto a un indivuo con niveles promedio"
   ]
  }
 ],
 "metadata": {
  "hide_input": false,
  "kernelspec": {
   "display_name": "venv",
   "language": "python",
   "name": "venv"
  },
  "language_info": {
   "codemirror_mode": {
    "name": "ipython",
    "version": 3
   },
   "file_extension": ".py",
   "mimetype": "text/x-python",
   "name": "python",
   "nbconvert_exporter": "python",
   "pygments_lexer": "ipython3",
   "version": "3.7.3"
  },
  "latex_envs": {
   "LaTeX_envs_menu_present": true,
   "autoclose": false,
   "autocomplete": true,
   "bibliofile": "biblio.bib",
   "cite_by": "apalike",
   "current_citInitial": 1,
   "eqLabelWithNumbers": true,
   "eqNumInitial": 1,
   "hotkeys": {
    "equation": "Ctrl-E",
    "itemize": "Ctrl-I"
   },
   "labels_anchors": false,
   "latex_user_defs": false,
   "report_style_numbering": false,
   "user_envs_cfg": false
  },
  "toc": {
   "base_numbering": 1,
   "nav_menu": {},
   "number_sections": true,
   "sideBar": true,
   "skip_h1_title": true,
   "title_cell": "Table of Contents",
   "title_sidebar": "Contents",
   "toc_cell": false,
   "toc_position": {},
   "toc_section_display": true,
   "toc_window_display": false
  }
 },
 "nbformat": 4,
 "nbformat_minor": 2
}
