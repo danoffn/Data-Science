{
 "cells": [
  {
   "cell_type": "markdown",
   "metadata": {},
   "source": [
    "# Desafío Regresión desde el ambiente de aprendizaje de máquinas\n",
    "\n",
    "__Integrantes:__ \n",
    "- Yerko Carreño\n",
    "- Javier Pilasi \n",
    "- Daniel Flores\n",
    "- Francisco Fernandez\n",
    "- Máximo Oliva\n",
    "- Rocío Ehijo"
   ]
  },
  {
   "cell_type": "markdown",
   "metadata": {},
   "source": [
    "__Sobre el ejemplo__\n",
    "\n",
    "\n",
    "* En esta sesión trabajaremos una base de datos sobre los precios de las viviendas en Boston, utilizada en el paper _Harrison Jr, D., & Rubinfeld, D. L. (1978). Hedonic housing prices and the demand for clean air. Journal of environmental economics and management, 5(1), 81-102._\n",
    "\n",
    "* Nuestro objetivo es desarrollar un modelo predictivo para el valor mediano de las casas mediante el entrenamiento de un modelo de regresión lineal. \n",
    "\n",
    "\n",
    "- `crim`: Tasa de criminalidad por sector de Boston\n",
    "- `zn` proporción de terreno residencial asignado para terrenos baldíos.\n",
    "- `indus` proporción de negocios no asociados al comercio por sector.\n",
    "- `chas` Dummy. 1 si el sector colinda con el río Charles, 0 de lo contrario.\n",
    "- `nox` Concentración de dióxido de carbono\n",
    "- `rm` cantidad promedio de habitaciones por  casa.\n",
    "- `age` proporción de casas construídas antes de 1940\n",
    "- `dis` distancia promedio a cinco centros de empleos.\n",
    "- `rad` índice de accesibilidad a autopistas.\n",
    "- `tax` nivel de impuestos asociados a viviendas.\n",
    "- `ptratio` razón alumno:profesor por sector de Boston.\n",
    "- `black` proporción de afroamericanos por sector de Boston.\n",
    "- `lstat` porcentaje de población de estratos bajos.\n",
    "- `medv` valor mediano de las casas "
   ]
  },
  {
   "cell_type": "markdown",
   "metadata": {},
   "source": [
    "## Prepare el ambiente de trabajo\n",
    "- Importe las librerías básicas para el análisis de datos.\n",
    "- Importe el módulo linear_model, y las funciones mean_squared_error, r2_score y train_test_split .\n",
    "- Importe la base de datos boston.csv y elimine la columna Unnamed: 0 .\n",
    "- Obtenga las medidas descriptivas de la base de datos con .describe() ."
   ]
  },
  {
   "cell_type": "code",
   "execution_count": 33,
   "metadata": {},
   "outputs": [],
   "source": [
    "import pandas as pd\n",
    "import numpy as np\n",
    "import seaborn as sns\n",
    "import matplotlib.pyplot as plt\n",
    "from sklearn import datasets, linear_model\n",
    "from sklearn.metrics import mean_squared_error, r2_score\n",
    "from sklearn.model_selection import train_test_split\n",
    "from IPython.display import display, Markdown"
   ]
  },
  {
   "cell_type": "code",
   "execution_count": 34,
   "metadata": {},
   "outputs": [
    {
     "data": {
      "text/html": [
       "<div>\n",
       "<style scoped>\n",
       "    .dataframe tbody tr th:only-of-type {\n",
       "        vertical-align: middle;\n",
       "    }\n",
       "\n",
       "    .dataframe tbody tr th {\n",
       "        vertical-align: top;\n",
       "    }\n",
       "\n",
       "    .dataframe thead th {\n",
       "        text-align: right;\n",
       "    }\n",
       "</style>\n",
       "<table border=\"1\" class=\"dataframe\">\n",
       "  <thead>\n",
       "    <tr style=\"text-align: right;\">\n",
       "      <th></th>\n",
       "      <th>crim</th>\n",
       "      <th>zn</th>\n",
       "      <th>indus</th>\n",
       "      <th>chas</th>\n",
       "      <th>nox</th>\n",
       "      <th>rm</th>\n",
       "      <th>age</th>\n",
       "      <th>dis</th>\n",
       "      <th>rad</th>\n",
       "      <th>tax</th>\n",
       "      <th>ptratio</th>\n",
       "      <th>black</th>\n",
       "      <th>lstat</th>\n",
       "      <th>medv</th>\n",
       "    </tr>\n",
       "  </thead>\n",
       "  <tbody>\n",
       "    <tr>\n",
       "      <th>400</th>\n",
       "      <td>25.04610</td>\n",
       "      <td>0.0</td>\n",
       "      <td>18.10</td>\n",
       "      <td>0</td>\n",
       "      <td>0.693</td>\n",
       "      <td>5.987</td>\n",
       "      <td>100.0</td>\n",
       "      <td>1.5888</td>\n",
       "      <td>24</td>\n",
       "      <td>666</td>\n",
       "      <td>20.2</td>\n",
       "      <td>396.90</td>\n",
       "      <td>26.77</td>\n",
       "      <td>5.6</td>\n",
       "    </tr>\n",
       "    <tr>\n",
       "      <th>113</th>\n",
       "      <td>0.22212</td>\n",
       "      <td>0.0</td>\n",
       "      <td>10.01</td>\n",
       "      <td>0</td>\n",
       "      <td>0.547</td>\n",
       "      <td>6.092</td>\n",
       "      <td>95.4</td>\n",
       "      <td>2.5480</td>\n",
       "      <td>6</td>\n",
       "      <td>432</td>\n",
       "      <td>17.8</td>\n",
       "      <td>396.90</td>\n",
       "      <td>17.09</td>\n",
       "      <td>18.7</td>\n",
       "    </tr>\n",
       "    <tr>\n",
       "      <th>427</th>\n",
       "      <td>37.66190</td>\n",
       "      <td>0.0</td>\n",
       "      <td>18.10</td>\n",
       "      <td>0</td>\n",
       "      <td>0.679</td>\n",
       "      <td>6.202</td>\n",
       "      <td>78.7</td>\n",
       "      <td>1.8629</td>\n",
       "      <td>24</td>\n",
       "      <td>666</td>\n",
       "      <td>20.2</td>\n",
       "      <td>18.82</td>\n",
       "      <td>14.52</td>\n",
       "      <td>10.9</td>\n",
       "    </tr>\n",
       "    <tr>\n",
       "      <th>384</th>\n",
       "      <td>20.08490</td>\n",
       "      <td>0.0</td>\n",
       "      <td>18.10</td>\n",
       "      <td>0</td>\n",
       "      <td>0.700</td>\n",
       "      <td>4.368</td>\n",
       "      <td>91.2</td>\n",
       "      <td>1.4395</td>\n",
       "      <td>24</td>\n",
       "      <td>666</td>\n",
       "      <td>20.2</td>\n",
       "      <td>285.83</td>\n",
       "      <td>30.63</td>\n",
       "      <td>8.8</td>\n",
       "    </tr>\n",
       "    <tr>\n",
       "      <th>224</th>\n",
       "      <td>0.31533</td>\n",
       "      <td>0.0</td>\n",
       "      <td>6.20</td>\n",
       "      <td>0</td>\n",
       "      <td>0.504</td>\n",
       "      <td>8.266</td>\n",
       "      <td>78.3</td>\n",
       "      <td>2.8944</td>\n",
       "      <td>8</td>\n",
       "      <td>307</td>\n",
       "      <td>17.4</td>\n",
       "      <td>385.05</td>\n",
       "      <td>4.14</td>\n",
       "      <td>44.8</td>\n",
       "    </tr>\n",
       "  </tbody>\n",
       "</table>\n",
       "</div>"
      ],
      "text/plain": [
       "         crim   zn  indus  chas    nox     rm    age     dis  rad  tax  \\\n",
       "400  25.04610  0.0  18.10     0  0.693  5.987  100.0  1.5888   24  666   \n",
       "113   0.22212  0.0  10.01     0  0.547  6.092   95.4  2.5480    6  432   \n",
       "427  37.66190  0.0  18.10     0  0.679  6.202   78.7  1.8629   24  666   \n",
       "384  20.08490  0.0  18.10     0  0.700  4.368   91.2  1.4395   24  666   \n",
       "224   0.31533  0.0   6.20     0  0.504  8.266   78.3  2.8944    8  307   \n",
       "\n",
       "     ptratio   black  lstat  medv  \n",
       "400     20.2  396.90  26.77   5.6  \n",
       "113     17.8  396.90  17.09  18.7  \n",
       "427     20.2   18.82  14.52  10.9  \n",
       "384     20.2  285.83  30.63   8.8  \n",
       "224     17.4  385.05   4.14  44.8  "
      ]
     },
     "execution_count": 34,
     "metadata": {},
     "output_type": "execute_result"
    }
   ],
   "source": [
    "df = pd.read_csv(\"boston.csv\")\n",
    "df = df.drop(columns=[\"Unnamed: 0\"])\n",
    "df.sample(5)"
   ]
  },
  {
   "cell_type": "code",
   "execution_count": 35,
   "metadata": {
    "scrolled": true
   },
   "outputs": [
    {
     "data": {
      "text/html": [
       "<div>\n",
       "<style scoped>\n",
       "    .dataframe tbody tr th:only-of-type {\n",
       "        vertical-align: middle;\n",
       "    }\n",
       "\n",
       "    .dataframe tbody tr th {\n",
       "        vertical-align: top;\n",
       "    }\n",
       "\n",
       "    .dataframe thead th {\n",
       "        text-align: right;\n",
       "    }\n",
       "</style>\n",
       "<table border=\"1\" class=\"dataframe\">\n",
       "  <thead>\n",
       "    <tr style=\"text-align: right;\">\n",
       "      <th></th>\n",
       "      <th>crim</th>\n",
       "      <th>zn</th>\n",
       "      <th>indus</th>\n",
       "      <th>chas</th>\n",
       "      <th>nox</th>\n",
       "      <th>rm</th>\n",
       "      <th>age</th>\n",
       "      <th>dis</th>\n",
       "      <th>rad</th>\n",
       "      <th>tax</th>\n",
       "      <th>ptratio</th>\n",
       "      <th>black</th>\n",
       "      <th>lstat</th>\n",
       "      <th>medv</th>\n",
       "    </tr>\n",
       "  </thead>\n",
       "  <tbody>\n",
       "    <tr>\n",
       "      <th>count</th>\n",
       "      <td>506.000000</td>\n",
       "      <td>506.000000</td>\n",
       "      <td>506.000000</td>\n",
       "      <td>506.000000</td>\n",
       "      <td>506.000000</td>\n",
       "      <td>506.000000</td>\n",
       "      <td>506.000000</td>\n",
       "      <td>506.000000</td>\n",
       "      <td>506.000000</td>\n",
       "      <td>506.000000</td>\n",
       "      <td>506.000000</td>\n",
       "      <td>506.000000</td>\n",
       "      <td>506.000000</td>\n",
       "      <td>506.000000</td>\n",
       "    </tr>\n",
       "    <tr>\n",
       "      <th>mean</th>\n",
       "      <td>3.613524</td>\n",
       "      <td>11.363636</td>\n",
       "      <td>11.136779</td>\n",
       "      <td>0.069170</td>\n",
       "      <td>0.554695</td>\n",
       "      <td>6.284634</td>\n",
       "      <td>68.574901</td>\n",
       "      <td>3.795043</td>\n",
       "      <td>9.549407</td>\n",
       "      <td>408.237154</td>\n",
       "      <td>18.455534</td>\n",
       "      <td>356.674032</td>\n",
       "      <td>12.653063</td>\n",
       "      <td>22.532806</td>\n",
       "    </tr>\n",
       "    <tr>\n",
       "      <th>std</th>\n",
       "      <td>8.601545</td>\n",
       "      <td>23.322453</td>\n",
       "      <td>6.860353</td>\n",
       "      <td>0.253994</td>\n",
       "      <td>0.115878</td>\n",
       "      <td>0.702617</td>\n",
       "      <td>28.148861</td>\n",
       "      <td>2.105710</td>\n",
       "      <td>8.707259</td>\n",
       "      <td>168.537116</td>\n",
       "      <td>2.164946</td>\n",
       "      <td>91.294864</td>\n",
       "      <td>7.141062</td>\n",
       "      <td>9.197104</td>\n",
       "    </tr>\n",
       "    <tr>\n",
       "      <th>min</th>\n",
       "      <td>0.006320</td>\n",
       "      <td>0.000000</td>\n",
       "      <td>0.460000</td>\n",
       "      <td>0.000000</td>\n",
       "      <td>0.385000</td>\n",
       "      <td>3.561000</td>\n",
       "      <td>2.900000</td>\n",
       "      <td>1.129600</td>\n",
       "      <td>1.000000</td>\n",
       "      <td>187.000000</td>\n",
       "      <td>12.600000</td>\n",
       "      <td>0.320000</td>\n",
       "      <td>1.730000</td>\n",
       "      <td>5.000000</td>\n",
       "    </tr>\n",
       "    <tr>\n",
       "      <th>25%</th>\n",
       "      <td>0.082045</td>\n",
       "      <td>0.000000</td>\n",
       "      <td>5.190000</td>\n",
       "      <td>0.000000</td>\n",
       "      <td>0.449000</td>\n",
       "      <td>5.885500</td>\n",
       "      <td>45.025000</td>\n",
       "      <td>2.100175</td>\n",
       "      <td>4.000000</td>\n",
       "      <td>279.000000</td>\n",
       "      <td>17.400000</td>\n",
       "      <td>375.377500</td>\n",
       "      <td>6.950000</td>\n",
       "      <td>17.025000</td>\n",
       "    </tr>\n",
       "    <tr>\n",
       "      <th>50%</th>\n",
       "      <td>0.256510</td>\n",
       "      <td>0.000000</td>\n",
       "      <td>9.690000</td>\n",
       "      <td>0.000000</td>\n",
       "      <td>0.538000</td>\n",
       "      <td>6.208500</td>\n",
       "      <td>77.500000</td>\n",
       "      <td>3.207450</td>\n",
       "      <td>5.000000</td>\n",
       "      <td>330.000000</td>\n",
       "      <td>19.050000</td>\n",
       "      <td>391.440000</td>\n",
       "      <td>11.360000</td>\n",
       "      <td>21.200000</td>\n",
       "    </tr>\n",
       "    <tr>\n",
       "      <th>75%</th>\n",
       "      <td>3.677082</td>\n",
       "      <td>12.500000</td>\n",
       "      <td>18.100000</td>\n",
       "      <td>0.000000</td>\n",
       "      <td>0.624000</td>\n",
       "      <td>6.623500</td>\n",
       "      <td>94.075000</td>\n",
       "      <td>5.188425</td>\n",
       "      <td>24.000000</td>\n",
       "      <td>666.000000</td>\n",
       "      <td>20.200000</td>\n",
       "      <td>396.225000</td>\n",
       "      <td>16.955000</td>\n",
       "      <td>25.000000</td>\n",
       "    </tr>\n",
       "    <tr>\n",
       "      <th>max</th>\n",
       "      <td>88.976200</td>\n",
       "      <td>100.000000</td>\n",
       "      <td>27.740000</td>\n",
       "      <td>1.000000</td>\n",
       "      <td>0.871000</td>\n",
       "      <td>8.780000</td>\n",
       "      <td>100.000000</td>\n",
       "      <td>12.126500</td>\n",
       "      <td>24.000000</td>\n",
       "      <td>711.000000</td>\n",
       "      <td>22.000000</td>\n",
       "      <td>396.900000</td>\n",
       "      <td>37.970000</td>\n",
       "      <td>50.000000</td>\n",
       "    </tr>\n",
       "  </tbody>\n",
       "</table>\n",
       "</div>"
      ],
      "text/plain": [
       "             crim          zn       indus        chas         nox          rm  \\\n",
       "count  506.000000  506.000000  506.000000  506.000000  506.000000  506.000000   \n",
       "mean     3.613524   11.363636   11.136779    0.069170    0.554695    6.284634   \n",
       "std      8.601545   23.322453    6.860353    0.253994    0.115878    0.702617   \n",
       "min      0.006320    0.000000    0.460000    0.000000    0.385000    3.561000   \n",
       "25%      0.082045    0.000000    5.190000    0.000000    0.449000    5.885500   \n",
       "50%      0.256510    0.000000    9.690000    0.000000    0.538000    6.208500   \n",
       "75%      3.677082   12.500000   18.100000    0.000000    0.624000    6.623500   \n",
       "max     88.976200  100.000000   27.740000    1.000000    0.871000    8.780000   \n",
       "\n",
       "              age         dis         rad         tax     ptratio       black  \\\n",
       "count  506.000000  506.000000  506.000000  506.000000  506.000000  506.000000   \n",
       "mean    68.574901    3.795043    9.549407  408.237154   18.455534  356.674032   \n",
       "std     28.148861    2.105710    8.707259  168.537116    2.164946   91.294864   \n",
       "min      2.900000    1.129600    1.000000  187.000000   12.600000    0.320000   \n",
       "25%     45.025000    2.100175    4.000000  279.000000   17.400000  375.377500   \n",
       "50%     77.500000    3.207450    5.000000  330.000000   19.050000  391.440000   \n",
       "75%     94.075000    5.188425   24.000000  666.000000   20.200000  396.225000   \n",
       "max    100.000000   12.126500   24.000000  711.000000   22.000000  396.900000   \n",
       "\n",
       "            lstat        medv  \n",
       "count  506.000000  506.000000  \n",
       "mean    12.653063   22.532806  \n",
       "std      7.141062    9.197104  \n",
       "min      1.730000    5.000000  \n",
       "25%      6.950000   17.025000  \n",
       "50%     11.360000   21.200000  \n",
       "75%     16.955000   25.000000  \n",
       "max     37.970000   50.000000  "
      ]
     },
     "execution_count": 35,
     "metadata": {},
     "output_type": "execute_result"
    }
   ],
   "source": [
    "df.describe()"
   ]
  },
  {
   "cell_type": "markdown",
   "metadata": {},
   "source": [
    "## División de la muestra\n",
    "- Genere conjuntos de entrenamiento y validación con train_test_split.\n",
    "- Genere segmentaciones del 33% para las muestras de validación.\n",
    "- Incluya una semilla pseudoaleatoria."
   ]
  },
  {
   "cell_type": "code",
   "execution_count": 22,
   "metadata": {},
   "outputs": [],
   "source": [
    "attr_mat = df.drop(['medv'], axis=1)\n",
    "df_y = df['medv']"
   ]
  },
  {
   "cell_type": "code",
   "execution_count": 23,
   "metadata": {},
   "outputs": [],
   "source": [
    "X_train, X_test, y_train, y_test = train_test_split(\n",
    "    attr_mat, df_y, test_size=0.33, random_state=40)"
   ]
  },
  {
   "cell_type": "markdown",
   "metadata": {},
   "source": [
    "## Generación de modelos\n",
    "- Ahora implementaremos dos versiones del modelo lineal:\n",
    "    - Con intercepto y atributos normalizados.\n",
    "    - Sin intercepto y atributos no normalizados.\n",
    "- Cada versión debe generarse en un nuevo objeto inicializado.\n",
    "- Posteriormente se deben entrenar los modelos especificando la matriz y vector de entrenamiento.\n",
    "- Con los modelos entrenados, genere una predicción de matriz de validación."
   ]
  },
  {
   "cell_type": "code",
   "execution_count": 24,
   "metadata": {},
   "outputs": [],
   "source": [
    "modelo1 = linear_model.LinearRegression(fit_intercept=True, normalize=True)\n",
    "modelo2 = linear_model.LinearRegression(fit_intercept=False, normalize=False)"
   ]
  },
  {
   "cell_type": "code",
   "execution_count": 25,
   "metadata": {},
   "outputs": [],
   "source": [
    "modelo1fit = modelo1.fit(X_train, y_train)\n",
    "modelo2fit = modelo2.fit(X_train, y_train)"
   ]
  },
  {
   "cell_type": "code",
   "execution_count": 26,
   "metadata": {},
   "outputs": [],
   "source": [
    "medv_yhat1 = modelo1.predict(X_test)\n",
    "medv_yhat2 = modelo2.predict(X_test)"
   ]
  },
  {
   "cell_type": "code",
   "execution_count": 27,
   "metadata": {},
   "outputs": [
    {
     "name": "stdout",
     "output_type": "stream",
     "text": [
      "Los valores predecidos para el modelo con intercepto y normalizado:  [21.91450954 32.43549858  9.41646948 16.44926671 17.96100207 31.93144495\n",
      " 25.09215936 15.47686185 21.67313156 -3.64985488 26.07082519 15.5122347\n",
      "  5.68133032  5.62389129 25.42134106 34.81828865 26.1507173  19.24742174\n",
      " 24.07448394 15.03485843 39.60313848 11.11112845 36.6650798  26.01782937\n",
      " 38.77598013 25.27320829 21.81538567 18.95581327 18.26953576 18.6491498\n",
      " 24.63128393 23.72068316 29.64341433 24.10097936  0.54375147 24.67344736\n",
      " 25.25001855 12.27136329 39.51185564 32.24393006 23.81151075  7.11911935\n",
      " 20.38283491 20.99262225 31.41727817  7.52633186 12.63479522 31.34904545\n",
      " 22.48091294 35.81078968 12.79991345 20.74592282 18.40153178  7.72726307\n",
      "  6.50920911 40.56012373 25.00715621 24.16673562 23.11327735  7.4281137\n",
      " 22.89453201  9.79280527 32.99809817 13.99805159 28.52328236 17.14428124\n",
      "  3.56278513 28.64408688 19.43041774 18.90432621 19.29523158 27.90357514\n",
      " 21.22951105 27.97950885 34.29747536 20.06671016 13.46891168 24.71284633\n",
      " 16.5965982  22.66498662 18.98298151 17.4434507  18.67448471 10.12214365\n",
      " 16.85776212 11.04187266 17.00736296 20.3118033  20.53014116 19.34836858\n",
      " 27.31669343  7.60166628 20.09323478  5.20057899 20.18816008  5.24262632\n",
      " 17.6504751  27.08419717 22.98367455 20.45562334 24.62584461 16.16527873\n",
      " 24.84237234  6.00246272 31.30314945 21.67632732 30.41948096 31.90092878\n",
      " 21.88789113 17.53825433 30.13185348 40.04244289 27.61633663 22.06393735\n",
      " 22.23201576 14.78934607 21.24663176 19.23065123 41.97851771 21.53594082\n",
      " 22.57109901 29.0312345  25.28563824 16.56749759 41.7364834  18.32691304\n",
      " 13.73522603 24.56991198 16.36881177 28.62417184 13.18948424 26.78800651\n",
      " 30.11785956 23.03411588 33.60921777 34.95827493 19.35540006 20.2178228\n",
      " 13.34400342 19.52201307 13.02861634 35.25031692 16.79672743 25.20347531\n",
      " 27.50033719 22.64372805 14.0768368  23.18512353 14.84428507 34.62449745\n",
      " 36.11449107 13.83795208 21.94480055 15.18230904 26.0910298  21.17112964\n",
      " 27.99357392 16.48669972 17.96868536 22.25775003 16.28193809 30.28335229\n",
      " 17.67848321 26.86534886 20.75721196 32.01458557 21.43449956]\n"
     ]
    }
   ],
   "source": [
    "print('Los valores predecidos para el modelo con intercepto y normalizado: ', medv_yhat1)"
   ]
  },
  {
   "cell_type": "code",
   "execution_count": 28,
   "metadata": {},
   "outputs": [
    {
     "name": "stdout",
     "output_type": "stream",
     "text": [
      "Los valores predecidos para el modelo sin intercepto y no normalizado:  [23.70802767 31.40789193  9.26381491 16.93465486 17.1678887  31.18073266\n",
      " 25.64394652 17.66764656 23.21669805 -4.15776469 24.92771071 16.41907986\n",
      "  5.24940156  5.05188156 22.89350753 34.51382143 23.01851593 20.74269387\n",
      " 27.1154735  17.45023058 40.65638965 12.09496793 36.62293906 25.47515501\n",
      " 41.52639279 27.81227624 20.97757227 21.03999322 20.74641428 18.19237969\n",
      " 24.78358593 22.54477539 28.55873271 23.64148552 -0.91829422 24.35062385\n",
      " 24.56189349 12.46433058 41.26190437 31.93933876 24.45028484  9.06568009\n",
      " 19.0402384  21.22354036 30.00980832  8.33440901 13.21618544 29.88165076\n",
      " 17.43428185 35.65182793 15.70405161 19.75638375 15.25527105 10.85167625\n",
      "  8.14402206 42.84903475 22.77284385 23.39209855 21.99206032  8.088339\n",
      " 22.1139753  10.90508656 32.05222987 13.65815286 26.4207424  17.04313839\n",
      "  5.02686456 29.79698179 21.79041687 18.8571034  19.8335255  27.30926054\n",
      " 19.21403998 29.69789444 33.60785553 19.85179733 14.67858712 25.65211417\n",
      " 15.89080632 23.4741984  16.96692256 16.17566586 19.86538832  9.2798291\n",
      " 18.44187468 10.0221174  17.32323857 19.00271493 18.99311881 19.18058705\n",
      " 23.26426457  8.14442939 18.98461144  6.75100593 18.60302152  5.98699435\n",
      " 19.23785626 26.48210048 21.86033523 20.51631332 26.0159378  17.66112428\n",
      " 24.74635037  5.67680316 31.83091365 23.27058516 28.94130111 31.65299919\n",
      " 20.41737404 19.66569568 35.73908655 40.19287695 27.21308416 18.87130759\n",
      " 23.71398596 14.16399531 21.54037163 20.66073937 42.1572191  21.8178038\n",
      " 21.24943682 27.64229891 27.22172448 18.14928076 43.90188234 18.46828067\n",
      " 20.00798279 23.15688163 18.86730841 27.26101965 14.39757972 26.4104471\n",
      " 28.20296009 21.86774085 31.68187207 36.15409637 19.66195367 19.23303662\n",
      "  6.85023132 20.36333829 13.11521049 36.18700102 16.23539473 23.48296207\n",
      " 27.93119558 19.22916126 15.65349211 22.44199784 16.25160781 32.30088541\n",
      " 35.21282666 15.06990578 22.58230462 12.53285823 25.86019012 20.40875603\n",
      " 28.62420073 18.09073402 19.54995713 20.75106341 18.93524256 31.25921184\n",
      " 19.17296006 25.57367121 21.70767103 32.50727295 25.55642059]\n"
     ]
    }
   ],
   "source": [
    "print('Los valores predecidos para el modelo sin intercepto y no normalizado: ',medv_yhat2)"
   ]
  },
  {
   "cell_type": "markdown",
   "metadata": {},
   "source": [
    "## Obtención de métricas\n",
    "- Ahora generemos una función llamada report_scores que ingrese como argumentos el vector de datos predichos y el vector de datos por validar.\n",
    "- La función debe imprimir las métricas del Error Cuadrático Promedio y R2.\n",
    "- Reporte las métricas para ambos modelos. En base a ello, seleccione el mejor modelo. __Resp: El primer modelo, con atributos normalizados e intersección, se ajusta mejor, con un menor error cuadrático medio, además el R-cuadrado explica en mayor porcentaje el vector objetivo.__"
   ]
  },
  {
   "cell_type": "code",
   "execution_count": 40,
   "metadata": {},
   "outputs": [
    {
     "name": "stdout",
     "output_type": "stream",
     "text": [
      "Error cuadrático medio:  29.26\n",
      "R-cuadrado:  0.6\n",
      "Error cuadrático medio:  32.14\n",
      "R-cuadrado:  0.56\n"
     ]
    }
   ],
   "source": [
    "def report_scores(vector_pred, vector_valid):\n",
    "    mse = mean_squared_error(vector_valid, vector_pred).round(2)\n",
    "    r2 = r2_score(vector_valid, vector_pred).round(2)\n",
    "    print('Error cuadrático medio: ', mse)\n",
    "    print('R-cuadrado: ', r2)\n",
    "\n",
    "    return (mse, r2)\n",
    "\n",
    "\n",
    "m1_mse, m1_r2 = report_scores(y_test, medv_yhat1)\n",
    "m2_mse, m2_r2 = report_scores(y_test, medv_yhat2)"
   ]
  },
  {
   "cell_type": "markdown",
   "metadata": {},
   "source": [
    "## Refactorización del modelo\n",
    "- Genere una función llamada fetch_features que ingrese como argumentos la base de datos y el nombre del vector objetivo. El nombre del vector debe ser `medv` por defecto.\n",
    "- La función debe retornar una lista con las correlaciones entre cada atributo y el vector objetivo y su nombre.\n",
    "- Reporte brevemente cuales los 6 atributos con una mayor correlación con medv. __Resp: Los atributos con mayor correlación son lstat, rm, ptratio, indus, tax y nox.__\n"
   ]
  },
  {
   "cell_type": "code",
   "execution_count": 30,
   "metadata": {},
   "outputs": [],
   "source": [
    "def fetch_features(df, vector_obj='medv'):\n",
    "    columns = df.columns\n",
    "    attr_name = []\n",
    "    pearson_r = []\n",
    "    abs_pearson_r = []\n",
    "\n",
    "    for col in columns:\n",
    "        if col != vector_obj:\n",
    "            attr_name.append(col)\n",
    "            pearson_r.append(df[col].corr(df[vector_obj]))\n",
    "            abs_pearson_r.append(abs(df[col].corr(df[vector_obj])))\n",
    "\n",
    "    features = pd.DataFrame({\n",
    "        'attribute': attr_name,\n",
    "        'corr': pearson_r,\n",
    "        'abs_corr': abs_pearson_r\n",
    "    })\n",
    "    features = features.set_index('attribute')\n",
    "    features = features.sort_values(by=['abs_corr'], ascending=False)\n",
    "\n",
    "    return features"
   ]
  },
  {
   "cell_type": "code",
   "execution_count": 31,
   "metadata": {},
   "outputs": [
    {
     "data": {
      "text/html": [
       "<div>\n",
       "<style scoped>\n",
       "    .dataframe tbody tr th:only-of-type {\n",
       "        vertical-align: middle;\n",
       "    }\n",
       "\n",
       "    .dataframe tbody tr th {\n",
       "        vertical-align: top;\n",
       "    }\n",
       "\n",
       "    .dataframe thead th {\n",
       "        text-align: right;\n",
       "    }\n",
       "</style>\n",
       "<table border=\"1\" class=\"dataframe\">\n",
       "  <thead>\n",
       "    <tr style=\"text-align: right;\">\n",
       "      <th></th>\n",
       "      <th>corr</th>\n",
       "      <th>abs_corr</th>\n",
       "    </tr>\n",
       "    <tr>\n",
       "      <th>attribute</th>\n",
       "      <th></th>\n",
       "      <th></th>\n",
       "    </tr>\n",
       "  </thead>\n",
       "  <tbody>\n",
       "    <tr>\n",
       "      <th>lstat</th>\n",
       "      <td>-0.737663</td>\n",
       "      <td>0.737663</td>\n",
       "    </tr>\n",
       "    <tr>\n",
       "      <th>rm</th>\n",
       "      <td>0.695360</td>\n",
       "      <td>0.695360</td>\n",
       "    </tr>\n",
       "    <tr>\n",
       "      <th>ptratio</th>\n",
       "      <td>-0.507787</td>\n",
       "      <td>0.507787</td>\n",
       "    </tr>\n",
       "    <tr>\n",
       "      <th>indus</th>\n",
       "      <td>-0.483725</td>\n",
       "      <td>0.483725</td>\n",
       "    </tr>\n",
       "    <tr>\n",
       "      <th>tax</th>\n",
       "      <td>-0.468536</td>\n",
       "      <td>0.468536</td>\n",
       "    </tr>\n",
       "    <tr>\n",
       "      <th>nox</th>\n",
       "      <td>-0.427321</td>\n",
       "      <td>0.427321</td>\n",
       "    </tr>\n",
       "    <tr>\n",
       "      <th>crim</th>\n",
       "      <td>-0.388305</td>\n",
       "      <td>0.388305</td>\n",
       "    </tr>\n",
       "    <tr>\n",
       "      <th>rad</th>\n",
       "      <td>-0.381626</td>\n",
       "      <td>0.381626</td>\n",
       "    </tr>\n",
       "    <tr>\n",
       "      <th>age</th>\n",
       "      <td>-0.376955</td>\n",
       "      <td>0.376955</td>\n",
       "    </tr>\n",
       "    <tr>\n",
       "      <th>zn</th>\n",
       "      <td>0.360445</td>\n",
       "      <td>0.360445</td>\n",
       "    </tr>\n",
       "    <tr>\n",
       "      <th>black</th>\n",
       "      <td>0.333461</td>\n",
       "      <td>0.333461</td>\n",
       "    </tr>\n",
       "    <tr>\n",
       "      <th>dis</th>\n",
       "      <td>0.249929</td>\n",
       "      <td>0.249929</td>\n",
       "    </tr>\n",
       "    <tr>\n",
       "      <th>chas</th>\n",
       "      <td>0.175260</td>\n",
       "      <td>0.175260</td>\n",
       "    </tr>\n",
       "  </tbody>\n",
       "</table>\n",
       "</div>"
      ],
      "text/plain": [
       "               corr  abs_corr\n",
       "attribute                    \n",
       "lstat     -0.737663  0.737663\n",
       "rm         0.695360  0.695360\n",
       "ptratio   -0.507787  0.507787\n",
       "indus     -0.483725  0.483725\n",
       "tax       -0.468536  0.468536\n",
       "nox       -0.427321  0.427321\n",
       "crim      -0.388305  0.388305\n",
       "rad       -0.381626  0.381626\n",
       "age       -0.376955  0.376955\n",
       "zn         0.360445  0.360445\n",
       "black      0.333461  0.333461\n",
       "dis        0.249929  0.249929\n",
       "chas       0.175260  0.175260"
      ]
     },
     "execution_count": 31,
     "metadata": {},
     "output_type": "execute_result"
    }
   ],
   "source": [
    "fetch_features(df)"
   ]
  },
  {
   "cell_type": "markdown",
   "metadata": {},
   "source": [
    "## Refactorización del modelo predictivo\n",
    "- Genere otros conjuntos de entrenamiento y validación en base a una matriz con los 6 atributos identificados y el vector objetivo.\n",
    "- Entrene un modelo en base al mejor desempeño.\n",
    "- Reporte las métricas para el nuevo modelo."
   ]
  },
  {
   "cell_type": "code",
   "execution_count": 71,
   "metadata": {},
   "outputs": [
    {
     "data": {
      "text/markdown": [
       "__Métricas modelo refactorizado con intercepto y atributos normalizados__"
      ],
      "text/plain": [
       "<IPython.core.display.Markdown object>"
      ]
     },
     "metadata": {},
     "output_type": "display_data"
    },
    {
     "name": "stdout",
     "output_type": "stream",
     "text": [
      "Error cuadrático medio:  25.04\n",
      "R-cuadrado:  0.53\n"
     ]
    },
    {
     "data": {
      "text/markdown": [
       "__Métricas modelo refactorizado sin intercepto y atributos no normalizados__"
      ],
      "text/plain": [
       "<IPython.core.display.Markdown object>"
      ]
     },
     "metadata": {},
     "output_type": "display_data"
    },
    {
     "name": "stdout",
     "output_type": "stream",
     "text": [
      "Error cuadrático medio:  25.98\n",
      "R-cuadrado:  0.52\n"
     ]
    },
    {
     "data": {
      "text/markdown": [
       "__Comparasión de métricas__"
      ],
      "text/plain": [
       "<IPython.core.display.Markdown object>"
      ]
     },
     "metadata": {},
     "output_type": "display_data"
    },
    {
     "data": {
      "image/png": "[encoded data removed]",
      "text/plain": [
       "<Figure size 432x288 with 2 Axes>"
      ]
     },
     "metadata": {
      "needs_background": "light"
     },
     "output_type": "display_data"
    }
   ],
   "source": [
    "# Genera un nuevo modelo con los 6 atributos con mayor correlación\n",
    "\n",
    "attr_mat2 = df.loc[:, ['lstat', 'ptratio', 'rm', 'indus', 'tax', 'nox']]\n",
    "\n",
    "# Obtiene vectores de entrenamiento y test\n",
    "\n",
    "X_train2, X_test2, y_train2, y_test2 = train_test_split(\n",
    "    attr_mat2, df_y, test_size=0.33, random_state=666)\n",
    "\n",
    "# Define modelo \n",
    "\n",
    "modelo3 = linear_model.LinearRegression(fit_intercept=True, normalize=True)\n",
    "modelo4 = linear_model.LinearRegression(fit_intercept=False, normalize=False)\n",
    "\n",
    "\n",
    "modelo3fit = modelo3.fit(X_train2, y_train2)\n",
    "modelo4fit = modelo4.fit(X_train2, y_train2)\n",
    "\n",
    "# Predice utilizando modelo\n",
    "\n",
    "medv_yhat3 = modelo3.predict(X_test2)\n",
    "medv_yhat4 = modelo4.predict(X_test2)\n",
    "\n",
    "# Obtiene métricas\n",
    "\n",
    "display(Markdown(\"__Métricas modelo refactorizado con intercepto y atributos normalizados__\"))\n",
    "m3_mse, m3_r2 = report_scores(y_test2, medv_yhat3)\n",
    "\n",
    "display(Markdown(\"__Métricas modelo refactorizado sin intercepto y atributos no normalizados__\"))\n",
    "m4_mse, m4_r2 = report_scores(y_test2, medv_yhat4)\n",
    "\n",
    "display(Markdown(\"__Comparasión de métricas__\"))\n",
    "\n",
    "plt.subplot(2,1,1)\n",
    "plt.barh(['Modelo 1', 'Modelo 2', 'Modelo 3', 'Modelo 4'], [m1_mse, m2_mse, m3_mse, m4_mse])\n",
    "plt.title(\"Promedio Error Cuadrático\")\n",
    "plt.subplot(2,1, 2)\n",
    "plt.barh(['Modelo 1', 'Modelo 2', 'Modelo 3', 'Modelo 4'], [m1_r2, m2_r2, m3_r2, m4_r2])\n",
    "plt.title(\"R cuadrado\");\n",
    "plt.tight_layout()\n"
   ]
  },
  {
   "cell_type": "markdown",
   "metadata": {},
   "source": [
    "Se puede ver que los nuevos modelos refactorizados tienen mejor error cuadrático que los modelos que utilizan todos los atributos. El modelo 3, con intercepto y atributos normalizados, es el mejor modelo, con menor error cuadrático entre todos los modelos generados. "
   ]
  },
  {
   "cell_type": "markdown",
   "metadata": {},
   "source": [
    "## Predicción de casos\n",
    "\n",
    "A continuación se generaron dos arrays que representan el peor escenario posible (`worst_neighbor`) y el mejor escenario posible (`best_neighbor`).\n",
    "\n",
    "```\n",
    "worst_neighbor = np.array([37.9, 12.6, 3.5, 27.7, 187, 0.87]).reshape(1, -1)\n",
    "best_neighbor = np.array([1.73, 22, 8.7, 0.46, 711, 0.38]).reshape(1, -1)\n",
    "```\n",
    "\n",
    "Los valores númericos representan los siguientes atributos ['lstat', 'ptratio', 'rm', 'indus', 'tax', 'nox'].\n",
    "\n",
    "Ingrese los arrays en el modelo entrenado y reporte cuál sería el valor esperado dada las condiciones."
   ]
  },
  {
   "cell_type": "code",
   "execution_count": 80,
   "metadata": {},
   "outputs": [
    {
     "data": {
      "text/markdown": [
       "__Valores esperados utilizando los modelos refactorizados__"
      ],
      "text/plain": [
       "<IPython.core.display.Markdown object>"
      ]
     },
     "metadata": {},
     "output_type": "display_data"
    },
    {
     "data": {
      "text/markdown": [
       "Peor vecindario 2.799 y mejor vecindario 35.176"
      ],
      "text/plain": [
       "<IPython.core.display.Markdown object>"
      ]
     },
     "metadata": {},
     "output_type": "display_data"
    }
   ],
   "source": [
    "worst_neighbor = np.array([37.9, 12.6, 3.5, 27.7, 187, 0.87]).reshape(1, -1)\n",
    "best_neighbor = np.array([1.73, 22, 8.7, 0.46, 711, 0.38]).reshape(1, -1)\n",
    "\n",
    "medv_worst3 = round(modelo3.predict(worst_neighbor)[0], 3)\n",
    "medv_best3 = round(modelo3.predict(best_neighbor)[0], 3)\n",
    "\n",
    "display(Markdown(\"__Valores esperados utilizando los modelos refactorizados__\"))\n",
    "display(Markdown(\"Peor vecindario {} y mejor vecindario {}\".format(medv_worst3, medv_best3)))\n"
   ]
  },
  {
   "cell_type": "code",
   "execution_count": null,
   "metadata": {},
   "outputs": [],
   "source": []
  }
 ],
 "metadata": {
  "hide_input": false,
  "kernelspec": {
   "display_name": "Python 3",
   "language": "python",
   "name": "python3"
  },
  "language_info": {
   "codemirror_mode": {
    "name": "ipython",
    "version": 3
   },
   "file_extension": ".py",
   "mimetype": "text/x-python",
   "name": "python",
   "nbconvert_exporter": "python",
   "pygments_lexer": "ipython3",
   "version": "3.7.3"
  },
  "latex_envs": {
   "LaTeX_envs_menu_present": true,
   "autoclose": false,
   "autocomplete": true,
   "bibliofile": "biblio.bib",
   "cite_by": "apalike",
   "current_citInitial": 1,
   "eqLabelWithNumbers": true,
   "eqNumInitial": 1,
   "hotkeys": {
    "equation": "Ctrl-E",
    "itemize": "Ctrl-I"
   },
   "labels_anchors": false,
   "latex_user_defs": false,
   "report_style_numbering": false,
   "user_envs_cfg": false
  },
  "toc": {
   "base_numbering": 1,
   "nav_menu": {},
   "number_sections": true,
   "sideBar": true,
   "skip_h1_title": true,
   "title_cell": "Table of Contents",
   "title_sidebar": "Contents",
   "toc_cell": false,
   "toc_position": {},
   "toc_section_display": true,
   "toc_window_display": false
  }
 },
 "nbformat": 4,
 "nbformat_minor": 2
}
