{
 "cells": [
  {
   "cell_type": "markdown",
   "metadata": {},
   "source": [
    "# Determinantes del ingreso\n",
    "\n",
    "__Integrantes:__ \n",
    "\n",
    "- Daniel Flores\n",
    "- Francisco Fernández\n"
   ]
  },
  {
   "cell_type": "markdown",
   "metadata": {},
   "source": [
    "## Preliminares\n",
    "\n",
    "### Problema:\n",
    "\n",
    "Un organismo no gubernamental  está interesado en las dinámicas socioeconómicas que determinan la desigualdad de ingreso y la erradicación de la pobreza extrema, enmarcado dentro de los objetivos del desarrollo del nuevo milenio del Programa de las Naciones Unidas para el Desarrollo.\n",
    "\n",
    "### Objetivo:\n",
    "\n",
    "Desarrollar un modelo predictivo de clasificación sobre la probabilidad que un individuo presente salarios bajo los 50.000 dólares anuales, en base a una serie de atributos sociodemográficos $X_i$.\n",
    "\n",
    "El modelo a estimar es:\n",
    "\n",
    "$$\\log\\left(\\frac{p({ income \\gt 50000})}{1 - p({ income \\gt 50000})}\\right)={{\\beta }_{0} + \\sum_{i=1} {\\beta }_{i} \\cdot {X_{i}}}$$\n",
    "\n",
    "\n",
    "### Implementación de la solución: \n",
    "\n",
    "- Se implementará una regresion logística para la clasificación de los salarios sobre y bajo los 50.000 dolares anuales, binarizando la variable `income` entre 0 y 1.\n",
    "- El método de optimización es el de la máxima verosimilitud de la función de distribución binomial para la estimación de  parámetros.\n",
    "\n",
    "### Métricas de evaluación\n",
    "\n",
    "Se utilizarán las siguientes métricas:\n",
    "\n",
    "- Matriz de confusión: cantidad de observaciones predichas de forma correcta.\n",
    "- Accuracy (exactitud): porcentaje de casos predichos correctamente por sobre el total de casos.\n",
    "- Precision: mide la fracción de predicciones correctas entre las etiquetas positivas.\n",
    "- Recall: Mide la fraccion de verdaderos positivos predichos por el modelo.\n",
    "- F1: representa la media armónica entre Precision y Recall (es decir, una medida general de la presición).\n",
    "- ROC (en particular, AUC): evalúa la relación entre ambos errores (falsos positivos y falso negativo) condicional en todo el rango del clasificador.\n",
    "\n",
    "Teniendo en consideración que el objetivo es erradización de la pobreza extrema y las dinámicas que determinan la desigualdad de ingresos.\n",
    "\n",
    "### Estrategia de preprocesamiento de datos:\n",
    "\n",
    "- Se realizará el siguiente preprocesamiento:\n",
    "    - Transformación de datos pérdidos, los datos pérdidos simbolizados con `?` que se cambiarán a `NaN`.\n",
    "    - Recodificación, se seguirá la sugerencia de la organización. Se detalla en sección recodifición.\n",
    "    - Binarización: se recodificarán las variables binarias, con valor 1 a las categorías minoritarias."
   ]
  },
  {
   "cell_type": "markdown",
   "metadata": {},
   "source": [
    "## Aspectos computacionales\n",
    "\n",
    "Se utilizara las principales librerias para el analisis de datos, las cuales son:\n",
    "\n",
    "### Bibliotecas de Python \n",
    " \n",
    "- `pandas`:  Permite realizar tareas de manipulación, agregación y visualización de datos de forma más sencilla.\n",
    "- `numpy`: Agrega soporte para vectores y matrices y  funciones matemáticas de alto nivel para operar con esos datos. \n",
    "- `matplotlib`: Permite crear visualizaciones de datos simples.\n",
    "- `seaborn`: Permite visualizar modelos estadísticos. Se basa en Matplotlib.\n",
    "- `statsmodels`: Estimación de modelos estadísticos, en nuestro caso la regresion logística.\n",
    "- `scikit-learn`: Implementa aprendizaje de máquina, incluye varios algoritmos de clasificación, regresión y métricas, incluyendo varias herramientas útiles, como separación de datos de entrenamiento, validación cruzada y codificación de variables categóricas.\n",
    "- `factor_analizer`: Permite implementar el EFA (análisis factorial exploratorio).\n",
    "- `missingno`: Biblioteca para la visualización de datos perdidos.\n",
    "- `warnings`: Evitará que aparezcan las advertencias de avisos de deprecación.\n",
    "- `IPython.display`: Embellece el output de salida. \n",
    "\n",
    "\n",
    "### Módulos y funciones de Python\n",
    "\n",
    "- `funciones_def1`: Módulo que contiene función para graficar"
   ]
  },
  {
   "cell_type": "code",
   "execution_count": 40,
   "metadata": {},
   "outputs": [],
   "source": [
    "import pandas as pd\n",
    "import numpy as np\n",
    "import seaborn as sns\n",
    "import matplotlib.pyplot as plt\n",
    "\n",
    "import statsmodels.api as sm\n",
    "import statsmodels.formula.api as smf\n",
    "\n",
    "from sklearn.linear_model import LogisticRegression\n",
    "from sklearn.model_selection import train_test_split\n",
    "from sklearn.preprocessing import StandardScaler\n",
    "from sklearn.preprocessing import LabelEncoder\n",
    "from sklearn.metrics import classification_report\n",
    "from sklearn.metrics import roc_curve\n",
    "from sklearn.metrics import roc_auc_score\n",
    "from sklearn.metrics import confusion_matrix\n",
    "from sklearn.model_selection import cross_validate\n",
    "\n",
    "import factor_analyzer as factor\n",
    "import missingno as msngo\n",
    "import warnings\n",
    "\n",
    "from IPython.display import display, Markdown\n",
    "\n",
    "from funciones_def1 import graficar\n",
    "\n",
    "warnings.filterwarnings('ignore')"
   ]
  },
  {
   "cell_type": "markdown",
   "metadata": {},
   "source": [
    "## Descripción\n",
    "\n",
    "### Descripción de datos\n",
    "\n",
    "La base de datos se encuentra en `income-db.csv`.\n",
    "\n",
    "Las variables que componen esta base se detallan a continuación:\n",
    "\n",
    "- `age`: Edad del individuo.\n",
    "- `workclass`: Naturaleza de la organización que emplea al individuo.\n",
    "- `education`: Nivel educacional del individuo:Bachelors (Licenciado), Some-college (Superior incompleta), 11th (3ro medio), HS-grad (Secundaria completa), Prof-school (Escuela profesional), Assoc-acdm (Técnico superior administrativo) , Assoc-voc (Técnico superior vocacional), 9th (1ro medio), 7th-8th (7mo-8vo), 12th (4to medio), Masters (Maestría de postgrado), 1st-4th (1ro-4to básico), 10th(2do medio), Doctorate (Doctorado), 5th-6th (5to-6to), Preschool (Preescolar).\n",
    "- `capital-gains`: Ingresos generados por inversiones fuera del trabajo asalariado = Ingresos generados por inversiones fuera del trabajo asalariado.\n",
    "- `capital-losses`: Pérdidas generadas por inversiones fuera del trabajo asalariado.\n",
    "- `fnlwgt`: Ponderador muestral.\n",
    "- `marital-status`: Estado civil del individuo: Married-civ-spouse (Casado/a régimen civil),Divorced (Divorciado/a), Never-married (Soltero/a), Separated (Separado/a), Widowed (Viudo/a),Married-spouse-absent (Casado con esposo/a ausente), Married-AF-spouse (Casado/a régimen castrense).\n",
    "- `occupation`: Ocupación del individuo: Tech-support (Soporte técnico), Craft-repair (Reparaciones), Other-service (Otros servicios), Sales (Ventas), Exec-managerial (Ejecutivo administrativos), Prof-specialty (Profesores), Handlers-cleaners (Aseo y ornato), Machine-opinspct (Inspectores de maquinarias), Adm-clerical (Administrativos servicio al cliente), Farmingfishing (Pesca-ganadería), Transport-moving (Transporte), Priv-house-serv (Asesor del hogar), Protective-serv (servicios de seguridad), Armed-Forces (Fuerzas armadas).\n",
    "- `relationship`: Relación respecto a su familia Wife(Esposa), Own-child (hijo único), Husband (Esposo), Not-in-family (No pertenece a la familia), Other-relative (Familiar de otro tipo),Unmarried (Soltero).\n",
    "- `race`: Raza del encuestado White(Blanco caucásico), Asian-Pac-Islander (Isleño del Asia Pacífico), Amer-Indian-Eskimo (Pertenenciente a pueblos originarios), Other (Otro grupo), Black (Afroamericano).\n",
    "- `sex`: Sexo del encuestado.\n",
    "- `hours-per-week`: Cantidad de horas trabajadas por semana.\n",
    "- `native-country`: País de origen. United-States, Cambodia, England, Puerto-Rico, Canada, Germany, Outlying-US(Guam-USVI-etc), India, Japan, Greece, South, China, Cuba, Iran, Honduras, Philippines, Italy, Poland, Jamaica, Vietnam, Mexico, Portugal, Ireland, France, Dominican-Republic, Laos, Ecuador, Taiwan, Haiti, Columbia, Hungary, Guatemala, Nicaragua, Scotland, Thailand, Yugoslavia, El-Salvador, Trinadad&Tobago, Peru, Hong, HolandNetherlands.\n",
    "- `income`: `<=50K` Si el individuo percibe ingresos inferiores a 50.000 dólares anuales, `>50K` si el individuo percibe ingresos superiores a 50.000 dólares anuales. Vector objetivo.\n",
    "\n",
    "#### Datos que no se considerarán\n",
    "\n",
    "- La columna `educational-num` no es considerada en la muestra por no indicarse su descripción. \n",
    "- Los datos del ponderador muestral `fnlwgt` se eliminarán por no ser un dato sociodemográfico.\n",
    "\n",
    "### Preprocesamiento"
   ]
  },
  {
   "cell_type": "code",
   "execution_count": 2,
   "metadata": {
    "scrolled": false
   },
   "outputs": [
    {
     "data": {
      "text/markdown": [
       "#### Información de datos no nulos y nombres de columnas"
      ],
      "text/plain": [
       "<IPython.core.display.Markdown object>"
      ]
     },
     "metadata": {},
     "output_type": "display_data"
    },
    {
     "name": "stdout",
     "output_type": "stream",
     "text": [
      "<class 'pandas.core.frame.DataFrame'>\n",
      "RangeIndex: 48842 entries, 0 to 48841\n",
      "Data columns (total 15 columns):\n",
      "age                48842 non-null int64\n",
      "workclass          48842 non-null object\n",
      "fnlwgt             48842 non-null int64\n",
      "education          48842 non-null object\n",
      "educational_num    48842 non-null int64\n",
      "marital_status     48842 non-null object\n",
      "occupation         48842 non-null object\n",
      "relationship       48842 non-null object\n",
      "race               48842 non-null object\n",
      "gender             48842 non-null object\n",
      "capital_gain       48842 non-null int64\n",
      "capital_loss       48842 non-null int64\n",
      "hours_per_week     48842 non-null int64\n",
      "native_country     48842 non-null object\n",
      "income             48842 non-null object\n",
      "dtypes: int64(6), object(9)\n",
      "memory usage: 5.6+ MB\n"
     ]
    },
    {
     "data": {
      "text/plain": [
       "None"
      ]
     },
     "metadata": {},
     "output_type": "display_data"
    },
    {
     "data": {
      "text/markdown": [
       "#### Información de datos pérdidos"
      ],
      "text/plain": [
       "<IPython.core.display.Markdown object>"
      ]
     },
     "metadata": {},
     "output_type": "display_data"
    },
    {
     "data": {
      "text/markdown": [
       "- Número de datos pérdidos para **workclass** 2799"
      ],
      "text/plain": [
       "<IPython.core.display.Markdown object>"
      ]
     },
     "metadata": {},
     "output_type": "display_data"
    },
    {
     "data": {
      "text/markdown": [
       "- Número de datos pérdidos para **occupation** 2809"
      ],
      "text/plain": [
       "<IPython.core.display.Markdown object>"
      ]
     },
     "metadata": {},
     "output_type": "display_data"
    },
    {
     "data": {
      "text/markdown": [
       "- Número de datos pérdidos para **native_country** 857"
      ],
      "text/plain": [
       "<IPython.core.display.Markdown object>"
      ]
     },
     "metadata": {},
     "output_type": "display_data"
    }
   ],
   "source": [
    "# Importa base de datos y reemplaza guion por guion bajo\n",
    "df = pd.read_csv(\"income-db.csv\")\n",
    "df.columns = df.columns.str.replace(\"[-]\", \"_\")\n",
    "\n",
    "display(Markdown(\"#### Información de datos no nulos y nombres de columnas\"))\n",
    "display(df.info())\n",
    "\n",
    "# Almacena nombre de columnas: todas, categóricas y numéricas\n",
    "\n",
    "var_todas = list(df.columns)\n",
    "var_categoricas = list(df.select_dtypes(include=['object']).columns)\n",
    "var_numericas = list(df.select_dtypes(include=['int64']).columns)\n",
    "\n",
    "# Reemplaza valor nulos por None\n",
    "\n",
    "display(Markdown(\"#### Información de datos pérdidos\"))\n",
    "\n",
    "for var in var_todas:\n",
    "    num_perdidos = df[df[var] == \"?\"].shape[0]\n",
    "    if num_perdidos > 0:\n",
    "        display(Markdown(\"- Número de datos pérdidos para **\"\n",
    "                         + var + \"** \" + str(num_perdidos)))\n",
    "\n",
    "df = df.replace(\"?\", np.nan)"
   ]
  },
  {
   "cell_type": "markdown",
   "metadata": {},
   "source": [
    "#### Recodificación\n",
    "\n",
    "Se aplicará la recodificación sugerida por la organización:\n",
    "\n",
    "- `occupation` se recodificará como `collars` siguiendo la siguiente nomenclatura:\n",
    "    - `white-collar` $\\leftarrow$ Prof-specialty, Exec-managerial, Adm-clerical, Sales,\n",
    "Tech-support.\n",
    "    - `blue-collar` $\\leftarrow$ Craft-repair, Machine-op-inspct, Transport-moving, Handlers-cleaners, Farming-fishing, Protective-serv, Priv-house-serv.\n",
    "    - `others` $\\leftarrow$ Other-service, Armed-Forces\n",
    "- `workclass` se recodificará como `workclass_recod` siguiendo una nomenclatura similar a:\n",
    "    - `federal-gov` $\\leftarrow$ Federal-gov.\n",
    "    - `state-level-gov` $\\leftarrow$ State-gov, Local-gov.\n",
    "    - `self-employed` $\\leftarrow$ Self-emp-inc, Self-emp-not-inc\n",
    "    - `unemployed` $\\leftarrow$ Never-worked, Without-pay.\n",
    "- `education` se recodifcará como `educ_recod` siguiendo una nomenclatura similar a:\n",
    "    - `preschool` $\\leftarrow$ Preschool\n",
    "    - `elementary-school` $\\leftarrow$ 1st-4th, 5th-6th\n",
    "    - `high-school` $\\leftarrow$ 7th-8th, 9th, 10th,11th, 12th, HS-grad\n",
    "    - `college` $\\leftarrow$ Assoc-voc, Assoc-acdm, Some-college\n",
    "    - `university` $\\leftarrow$ Bachelors, Masters, Prof-school, Doctorate\n",
    "- `marital-status` se recodificará como `civstatus` siguiendo una nomenclatura similar a:\n",
    "    - `married` $\\leftarrow$ Married-civ-spouse, Married-spouse-absent, Married-AFspouse\n",
    "    - `divorced` $\\leftarrow$ Divorced\n",
    "    - `separated` $\\leftarrow$ Separated\n",
    "    - `widowed` $\\leftarrow$ Widowed.\n",
    "    - `native-country` debe recodificarse como region donde cada país debe asignarse a uno de los 5 continentes.\n",
    "- `income` se recodificará de forma binaria"
   ]
  },
  {
   "cell_type": "code",
   "execution_count": 3,
   "metadata": {},
   "outputs": [
    {
     "data": {
      "text/markdown": [
       "#### Resultado recodificación"
      ],
      "text/plain": [
       "<IPython.core.display.Markdown object>"
      ]
     },
     "metadata": {},
     "output_type": "display_data"
    },
    {
     "data": {
      "text/html": [
       "<div>\n",
       "<style scoped>\n",
       "    .dataframe tbody tr th:only-of-type {\n",
       "        vertical-align: middle;\n",
       "    }\n",
       "\n",
       "    .dataframe tbody tr th {\n",
       "        vertical-align: top;\n",
       "    }\n",
       "\n",
       "    .dataframe thead th {\n",
       "        text-align: right;\n",
       "    }\n",
       "</style>\n",
       "<table border=\"1\" class=\"dataframe\">\n",
       "  <thead>\n",
       "    <tr style=\"text-align: right;\">\n",
       "      <th></th>\n",
       "      <th>collars</th>\n",
       "    </tr>\n",
       "  </thead>\n",
       "  <tbody>\n",
       "    <tr>\n",
       "      <th>white-collar</th>\n",
       "      <td>24819</td>\n",
       "    </tr>\n",
       "    <tr>\n",
       "      <th>blue-collar</th>\n",
       "      <td>16276</td>\n",
       "    </tr>\n",
       "    <tr>\n",
       "      <th>others</th>\n",
       "      <td>4938</td>\n",
       "    </tr>\n",
       "  </tbody>\n",
       "</table>\n",
       "</div>"
      ],
      "text/plain": [
       "              collars\n",
       "white-collar    24819\n",
       "blue-collar     16276\n",
       "others           4938"
      ]
     },
     "metadata": {},
     "output_type": "display_data"
    },
    {
     "data": {
      "text/html": [
       "<div>\n",
       "<style scoped>\n",
       "    .dataframe tbody tr th:only-of-type {\n",
       "        vertical-align: middle;\n",
       "    }\n",
       "\n",
       "    .dataframe tbody tr th {\n",
       "        vertical-align: top;\n",
       "    }\n",
       "\n",
       "    .dataframe thead th {\n",
       "        text-align: right;\n",
       "    }\n",
       "</style>\n",
       "<table border=\"1\" class=\"dataframe\">\n",
       "  <thead>\n",
       "    <tr style=\"text-align: right;\">\n",
       "      <th></th>\n",
       "      <th>workclass_recod</th>\n",
       "    </tr>\n",
       "  </thead>\n",
       "  <tbody>\n",
       "    <tr>\n",
       "      <th>private</th>\n",
       "      <td>33906</td>\n",
       "    </tr>\n",
       "    <tr>\n",
       "      <th>self-employed</th>\n",
       "      <td>5557</td>\n",
       "    </tr>\n",
       "    <tr>\n",
       "      <th>state-level-gov</th>\n",
       "      <td>5117</td>\n",
       "    </tr>\n",
       "    <tr>\n",
       "      <th>federal-gov</th>\n",
       "      <td>1432</td>\n",
       "    </tr>\n",
       "    <tr>\n",
       "      <th>unemployed</th>\n",
       "      <td>31</td>\n",
       "    </tr>\n",
       "  </tbody>\n",
       "</table>\n",
       "</div>"
      ],
      "text/plain": [
       "                 workclass_recod\n",
       "private                    33906\n",
       "self-employed               5557\n",
       "state-level-gov             5117\n",
       "federal-gov                 1432\n",
       "unemployed                    31"
      ]
     },
     "metadata": {},
     "output_type": "display_data"
    },
    {
     "data": {
      "text/html": [
       "<div>\n",
       "<style scoped>\n",
       "    .dataframe tbody tr th:only-of-type {\n",
       "        vertical-align: middle;\n",
       "    }\n",
       "\n",
       "    .dataframe tbody tr th {\n",
       "        vertical-align: top;\n",
       "    }\n",
       "\n",
       "    .dataframe thead th {\n",
       "        text-align: right;\n",
       "    }\n",
       "</style>\n",
       "<table border=\"1\" class=\"dataframe\">\n",
       "  <thead>\n",
       "    <tr style=\"text-align: right;\">\n",
       "      <th></th>\n",
       "      <th>educ_recod</th>\n",
       "    </tr>\n",
       "  </thead>\n",
       "  <tbody>\n",
       "    <tr>\n",
       "      <th>high-school</th>\n",
       "      <td>21353</td>\n",
       "    </tr>\n",
       "    <tr>\n",
       "      <th>college</th>\n",
       "      <td>14540</td>\n",
       "    </tr>\n",
       "    <tr>\n",
       "      <th>university</th>\n",
       "      <td>12110</td>\n",
       "    </tr>\n",
       "    <tr>\n",
       "      <th>elementary-school</th>\n",
       "      <td>756</td>\n",
       "    </tr>\n",
       "    <tr>\n",
       "      <th>preschool</th>\n",
       "      <td>83</td>\n",
       "    </tr>\n",
       "  </tbody>\n",
       "</table>\n",
       "</div>"
      ],
      "text/plain": [
       "                   educ_recod\n",
       "high-school             21353\n",
       "college                 14540\n",
       "university              12110\n",
       "elementary-school         756\n",
       "preschool                  83"
      ]
     },
     "metadata": {},
     "output_type": "display_data"
    },
    {
     "data": {
      "text/html": [
       "<div>\n",
       "<style scoped>\n",
       "    .dataframe tbody tr th:only-of-type {\n",
       "        vertical-align: middle;\n",
       "    }\n",
       "\n",
       "    .dataframe tbody tr th {\n",
       "        vertical-align: top;\n",
       "    }\n",
       "\n",
       "    .dataframe thead th {\n",
       "        text-align: right;\n",
       "    }\n",
       "</style>\n",
       "<table border=\"1\" class=\"dataframe\">\n",
       "  <thead>\n",
       "    <tr style=\"text-align: right;\">\n",
       "      <th></th>\n",
       "      <th>civstatus</th>\n",
       "    </tr>\n",
       "  </thead>\n",
       "  <tbody>\n",
       "    <tr>\n",
       "      <th>married</th>\n",
       "      <td>23044</td>\n",
       "    </tr>\n",
       "    <tr>\n",
       "      <th>never-married</th>\n",
       "      <td>16117</td>\n",
       "    </tr>\n",
       "    <tr>\n",
       "      <th>divorced</th>\n",
       "      <td>6633</td>\n",
       "    </tr>\n",
       "    <tr>\n",
       "      <th>separated</th>\n",
       "      <td>1530</td>\n",
       "    </tr>\n",
       "    <tr>\n",
       "      <th>widowed</th>\n",
       "      <td>1518</td>\n",
       "    </tr>\n",
       "  </tbody>\n",
       "</table>\n",
       "</div>"
      ],
      "text/plain": [
       "               civstatus\n",
       "married            23044\n",
       "never-married      16117\n",
       "divorced            6633\n",
       "separated           1530\n",
       "widowed             1518"
      ]
     },
     "metadata": {},
     "output_type": "display_data"
    },
    {
     "data": {
      "text/html": [
       "<div>\n",
       "<style scoped>\n",
       "    .dataframe tbody tr th:only-of-type {\n",
       "        vertical-align: middle;\n",
       "    }\n",
       "\n",
       "    .dataframe tbody tr th {\n",
       "        vertical-align: top;\n",
       "    }\n",
       "\n",
       "    .dataframe thead th {\n",
       "        text-align: right;\n",
       "    }\n",
       "</style>\n",
       "<table border=\"1\" class=\"dataframe\">\n",
       "  <thead>\n",
       "    <tr style=\"text-align: right;\">\n",
       "      <th></th>\n",
       "      <th>continent</th>\n",
       "    </tr>\n",
       "  </thead>\n",
       "  <tbody>\n",
       "    <tr>\n",
       "      <th>north-america</th>\n",
       "      <td>45745</td>\n",
       "    </tr>\n",
       "    <tr>\n",
       "      <th>asia</th>\n",
       "      <td>981</td>\n",
       "    </tr>\n",
       "    <tr>\n",
       "      <th>europe</th>\n",
       "      <td>780</td>\n",
       "    </tr>\n",
       "    <tr>\n",
       "      <th>south-america</th>\n",
       "      <td>456</td>\n",
       "    </tr>\n",
       "    <tr>\n",
       "      <th>australia</th>\n",
       "      <td>23</td>\n",
       "    </tr>\n",
       "  </tbody>\n",
       "</table>\n",
       "</div>"
      ],
      "text/plain": [
       "               continent\n",
       "north-america      45745\n",
       "asia                 981\n",
       "europe               780\n",
       "south-america        456\n",
       "australia             23"
      ]
     },
     "metadata": {},
     "output_type": "display_data"
    }
   ],
   "source": [
    "# Reglas de recodificación\n",
    "\n",
    "recodification_rules = {\n",
    "    'occupation': {\n",
    "        'to': 'collars',\n",
    "        'rules': {\n",
    "            'white-collar': [\n",
    "                'Prof-specialty',\n",
    "                'Exec-managerial',\n",
    "                'Adm-clerical',\n",
    "                'Sales',\n",
    "                'Tech-support'\n",
    "            ],\n",
    "            'blue-collar': [\n",
    "                'Craft-repair',\n",
    "                'Machine-op-inspct',\n",
    "                'Transport-moving',\n",
    "                'Handlers-cleaners',\n",
    "                'Farming-fishing',\n",
    "                'Protective-serv',\n",
    "                'Priv-house-serv'\n",
    "            ],\n",
    "            'others': [\n",
    "                'Other-service',\n",
    "                'Armed-Forces'\n",
    "            ],\n",
    "        },\n",
    "    },\n",
    "    'workclass': {\n",
    "        'to': 'workclass_recod',\n",
    "        'rules': {\n",
    "            'private': ['Private'],\n",
    "            'federal-gov': ['Federal-gov'],\n",
    "            'state-level-gov': [\n",
    "                'State-gov',\n",
    "                'Local-gov'\n",
    "            ],\n",
    "            'self-employed': [\n",
    "                'Self-emp-inc',\n",
    "                'Self-emp-not-inc'\n",
    "            ],\n",
    "            'unemployed': [\n",
    "                'Never-worked',\n",
    "                'Without-pay'\n",
    "            ],\n",
    "        },\n",
    "    },\n",
    "    'education': {\n",
    "        'to': 'educ_recod',\n",
    "        'rules': {\n",
    "            'preschool': ['Preschool'],\n",
    "            'elementary-school': [\n",
    "                '1st-4th',\n",
    "                '5th-6th'\n",
    "            ],\n",
    "            'high-school': [\n",
    "                '7th-8th',\n",
    "                '9th',\n",
    "                '10th',\n",
    "                '11th',\n",
    "                '12th',\n",
    "                'HS-grad'\n",
    "            ],\n",
    "            'college': [\n",
    "                'Assoc-voc',\n",
    "                'Assoc-acdm',\n",
    "                'Some-college'\n",
    "            ],\n",
    "            'university': [\n",
    "                'Bachelors',\n",
    "                'Masters',\n",
    "                'Prof-school',\n",
    "                'Doctorate'\n",
    "            ],\n",
    "        },\n",
    "    },\n",
    "    'marital_status': {\n",
    "        'to': 'civstatus',\n",
    "        'rules': {\n",
    "            'married': [\n",
    "                'Married-civ-spouse',\n",
    "                'Married-spouse-absent',\n",
    "                'Married-AF-spouse'\n",
    "            ],\n",
    "            'divorced': ['Divorced'],\n",
    "            'separated': ['Separated'],\n",
    "            'widowed': ['Widowed'],\n",
    "            'never-married': ['Never-married'],\n",
    "        },\n",
    "    },\n",
    "    'native_country': {\n",
    "        'to': 'continent',\n",
    "        'rules': {\n",
    "            'asia': [\n",
    "                'Philippines',\n",
    "                'India',\n",
    "                'China',\n",
    "                'Japan',\n",
    "                'Vietnam',\n",
    "                'Iran',\n",
    "                'Taiwan',\n",
    "                'Thailand',\n",
    "                'Hong',\n",
    "                'Cambodia',\n",
    "                'Laos',\n",
    "            ],\n",
    "            'australia': ['Outlying-US(Guam-USVI-etc)'],\n",
    "            'europe': [\n",
    "                'Germany',\n",
    "                'England',\n",
    "                'Italy',\n",
    "                'Poland',\n",
    "                'Portugal',\n",
    "                'Greece',\n",
    "                'France',\n",
    "                'Ireland',\n",
    "                'Yugoslavia',\n",
    "                'Scotland',\n",
    "                'Hungary',\n",
    "                'Holand-Netherlands',\n",
    "            ],\n",
    "            'north-america': [\n",
    "                'United-States',\n",
    "                'Mexico',\n",
    "                'Puerto-Rico',\n",
    "                'Canada',\n",
    "                'El-Salvador',\n",
    "                'Jamaica',\n",
    "                'Dominican-Republic',\n",
    "                'Guatemala',\n",
    "                'Haiti',\n",
    "                'Nicaragua',\n",
    "                'Honduras',\n",
    "            ],\n",
    "            'south-america': [\n",
    "                'Cuba',\n",
    "                'South',\n",
    "                'Columbia',\n",
    "                'Peru',\n",
    "                'Ecuador',\n",
    "                'Trinadad&Tobago',\n",
    "            ],\n",
    "        },\n",
    "    },\n",
    "}\n",
    "\n",
    "display(Markdown(\"#### Resultado recodificación\"))\n",
    "\n",
    "df_recod = df.copy()\n",
    "\n",
    "for original_column in recodification_rules:\n",
    "    new_column = recodification_rules[original_column]['to']\n",
    "    rules = recodification_rules[original_column]['rules']\n",
    "\n",
    "    df_recod[new_column] = None\n",
    "\n",
    "    for new_value, original_values in rules.items():\n",
    "        (df_recod\n",
    "         .loc[df[original_column]\n",
    "              .isin(original_values), new_column]) = new_value\n",
    "\n",
    "    display(pd.DataFrame(df_recod[new_column].value_counts()))\n",
    "\n",
    "# Variables a eliminar\n",
    "\n",
    "var_eliminar = [\"occupation\", \"workclass\",\n",
    "                \"education\", \"marital_status\", \"native_country\"]\n",
    "\n",
    "df_recod2 = df_recod.drop(columns=var_eliminar)"
   ]
  },
  {
   "cell_type": "markdown",
   "metadata": {},
   "source": [
    "### Análisis y visualización de variables\n",
    "\n",
    "#### Datos pérdidos"
   ]
  },
  {
   "cell_type": "code",
   "execution_count": 4,
   "metadata": {},
   "outputs": [
    {
     "data": {
      "text/markdown": [
       "#### Información de datos no nulos y nombres de columnas para base de datos recodificada"
      ],
      "text/plain": [
       "<IPython.core.display.Markdown object>"
      ]
     },
     "metadata": {},
     "output_type": "display_data"
    },
    {
     "name": "stdout",
     "output_type": "stream",
     "text": [
      "<class 'pandas.core.frame.DataFrame'>\n",
      "RangeIndex: 48842 entries, 0 to 48841\n",
      "Data columns (total 15 columns):\n",
      "age                48842 non-null int64\n",
      "fnlwgt             48842 non-null int64\n",
      "educational_num    48842 non-null int64\n",
      "relationship       48842 non-null object\n",
      "race               48842 non-null object\n",
      "gender             48842 non-null object\n",
      "capital_gain       48842 non-null int64\n",
      "capital_loss       48842 non-null int64\n",
      "hours_per_week     48842 non-null int64\n",
      "income             48842 non-null object\n",
      "collars            46033 non-null object\n",
      "workclass_recod    46043 non-null object\n",
      "educ_recod         48842 non-null object\n",
      "civstatus          48842 non-null object\n",
      "continent          47985 non-null object\n",
      "dtypes: int64(6), object(9)\n",
      "memory usage: 5.6+ MB\n"
     ]
    },
    {
     "data": {
      "text/plain": [
       "None"
      ]
     },
     "metadata": {},
     "output_type": "display_data"
    },
    {
     "data": {
      "text/markdown": [
       "#### Visualización de datos pérdidos"
      ],
      "text/plain": [
       "<IPython.core.display.Markdown object>"
      ]
     },
     "metadata": {},
     "output_type": "display_data"
    },
    {
     "data": {
      "text/markdown": [
       "El porcentaje de datos pérdidos es 0.7%"
      ],
      "text/plain": [
       "<IPython.core.display.Markdown object>"
      ]
     },
     "metadata": {},
     "output_type": "display_data"
    },
    {
     "data": {
      "image/png": "[encoded data removed]",
      "text/plain": [
       "<Figure size 1800x720 with 2 Axes>"
      ]
     },
     "metadata": {
      "needs_background": "light"
     },
     "output_type": "display_data"
    }
   ],
   "source": [
    "display(Markdown(\"\"\"#### Información de datos no nulos y nombres de columnas para base de datos recodificada\"\"\"))\n",
    "\n",
    "display(df_recod2.info())\n",
    "\n",
    "# Almacena por tipo de variable y elimina columnas que no se usarán\n",
    "\n",
    "var_objetivo = \"income\"\n",
    "var_todas = list(df_recod2.columns)\n",
    "var_todas.remove(\"educational_num\")\n",
    "var_todas.remove(\"fnlwgt\")\n",
    "\n",
    "var_atributos = var_todas.copy()\n",
    "var_atributos.remove(var_objetivo)\n",
    "\n",
    "var_categoricas = list(\n",
    "    df_recod2.loc[:, var_todas].select_dtypes(include=['object']).columns)\n",
    "\n",
    "var_numericas = list(\n",
    "    df_recod2.loc[:, var_todas].select_dtypes(include=['int64']).columns)\n",
    "\n",
    "var_cat = var_categoricas.copy()\n",
    "var_cat.remove(var_objetivo)\n",
    "\n",
    "# Visualización de datos pérdidos\n",
    "\n",
    "display(Markdown(\"#### Visualización de datos pérdidos\"))\n",
    "msngo.matrix(df)\n",
    "\n",
    "num_datos_perdidos = df_recod2.isnull().sum().sum()\n",
    "num_datos_totales = df_recod2.shape[0]*df_recod.shape[1]\n",
    "porc_datos_perdidos = round(num_datos_perdidos/num_datos_totales * 100, 1)\n",
    "\n",
    "display(\n",
    "    Markdown(f\"El porcentaje de datos pérdidos es {str(porc_datos_perdidos)}%\"))"
   ]
  },
  {
   "cell_type": "markdown",
   "metadata": {},
   "source": [
    "Ya que el porcentaje de datos pérdidos es bajo, se eliminan los registros nulos"
   ]
  },
  {
   "cell_type": "code",
   "execution_count": 5,
   "metadata": {},
   "outputs": [],
   "source": [
    "df_recod2 = df_recod2.dropna()"
   ]
  },
  {
   "cell_type": "markdown",
   "metadata": {},
   "source": [
    "#### Visualización de variable objetivo"
   ]
  },
  {
   "cell_type": "code",
   "execution_count": 6,
   "metadata": {},
   "outputs": [
    {
     "data": {
      "image/png": "[encoded data removed]",
      "text/plain": [
       "<Figure size 720x360 with 1 Axes>"
      ]
     },
     "metadata": {
      "needs_background": "light"
     },
     "output_type": "display_data"
    }
   ],
   "source": [
    "# Visualiza variable objetivo\n",
    "\n",
    "income_count  = df_recod2[\"income\"].value_counts()\n",
    "\n",
    "plt.figure(figsize=(10,5))\n",
    "sns.barplot(income_count.index, income_count.values, alpha=0.8)\n",
    "plt.title(\"Ocurrencias para 'income'\")\n",
    "plt.ylabel(\"Número de ocurrencias\", fontsize=12)\n",
    "plt.xlabel(\"Rango de ingresos [USD]\", fontsize=12)\n",
    "plt.show()"
   ]
  },
  {
   "cell_type": "markdown",
   "metadata": {},
   "source": [
    "#### Visualización de variables y estadística descritiva"
   ]
  },
  {
   "cell_type": "code",
   "execution_count": 39,
   "metadata": {
    "scrolled": false
   },
   "outputs": [
    {
     "data": {
      "text/markdown": [
       "#### Visualización de datos numéricos"
      ],
      "text/plain": [
       "<IPython.core.display.Markdown object>"
      ]
     },
     "metadata": {},
     "output_type": "display_data"
    },
    {
     "data": {
      "image/png": "[encoded data removed]",
      "text/plain": [
       "<Figure size 432x288 with 1 Axes>"
      ]
     },
     "metadata": {
      "needs_background": "light"
     },
     "output_type": "display_data"
    },
    {
     "data": {
      "image/png": "[encoded data removed]",
      "text/plain": [
       "<Figure size 432x288 with 1 Axes>"
      ]
     },
     "metadata": {
      "needs_background": "light"
     },
     "output_type": "display_data"
    },
    {
     "data": {
      "image/png": "[encoded data removed]",
      "text/plain": [
       "<Figure size 432x288 with 1 Axes>"
      ]
     },
     "metadata": {
      "needs_background": "light"
     },
     "output_type": "display_data"
    },
    {
     "data": {
      "image/png": "[encoded data removed]",
      "text/plain": [
       "<Figure size 432x288 with 1 Axes>"
      ]
     },
     "metadata": {
      "needs_background": "light"
     },
     "output_type": "display_data"
    },
    {
     "data": {
      "image/png": "[encoded data removed]",
      "text/plain": [
       "<Figure size 360x360 with 1 Axes>"
      ]
     },
     "metadata": {
      "needs_background": "light"
     },
     "output_type": "display_data"
    },
    {
     "data": {
      "image/png": "[encoded data removed]",
      "text/plain": [
       "<Figure size 360x360 with 1 Axes>"
      ]
     },
     "metadata": {
      "needs_background": "light"
     },
     "output_type": "display_data"
    },
    {
     "data": {
      "image/png": "[encoded data removed]",
      "text/plain": [
       "<Figure size 360x360 with 1 Axes>"
      ]
     },
     "metadata": {
      "needs_background": "light"
     },
     "output_type": "display_data"
    },
    {
     "data": {
      "image/png": "[encoded data removed]",
      "text/plain": [
       "<Figure size 360x360 with 1 Axes>"
      ]
     },
     "metadata": {
      "needs_background": "light"
     },
     "output_type": "display_data"
    }
   ],
   "source": [
    "display(Markdown(\"#### Visualización de datos numéricos\"))\n",
    "\n",
    "for var in var_numericas:\n",
    "    graficar(df_recod2, var)\n",
    "\n",
    "for var in var_numericas:\n",
    "    # plt.figure()\n",
    "    #ax = sns.catplot(x=\"income\", y=var, data=df_recod2);\n",
    "    #ax = sns.catplot(x=\"income\", y=var, kind=\"box\", data=df_recod2);\n",
    "    # sns.catplot(x=\"income\", y=var, kind=\"boxen\",\n",
    "    #        data=df_recod2);\n",
    "    sns.catplot(x=\"income\", y=var, hue=\"income\",\n",
    "                kind=\"violin\", data=df_recod2, palette=\"Pastel1\")"
   ]
  },
  {
   "cell_type": "code",
   "execution_count": 8,
   "metadata": {},
   "outputs": [
    {
     "data": {
      "text/markdown": [
       "#### Estadística descriptiva de datos numéricos"
      ],
      "text/plain": [
       "<IPython.core.display.Markdown object>"
      ]
     },
     "metadata": {},
     "output_type": "display_data"
    },
    {
     "data": {
      "text/html": [
       "<div>\n",
       "<style scoped>\n",
       "    .dataframe tbody tr th:only-of-type {\n",
       "        vertical-align: middle;\n",
       "    }\n",
       "\n",
       "    .dataframe tbody tr th {\n",
       "        vertical-align: top;\n",
       "    }\n",
       "\n",
       "    .dataframe thead th {\n",
       "        text-align: right;\n",
       "    }\n",
       "</style>\n",
       "<table border=\"1\" class=\"dataframe\">\n",
       "  <thead>\n",
       "    <tr style=\"text-align: right;\">\n",
       "      <th></th>\n",
       "      <th>age</th>\n",
       "      <th>fnlwgt</th>\n",
       "      <th>educational_num</th>\n",
       "      <th>capital_gain</th>\n",
       "      <th>capital_loss</th>\n",
       "      <th>hours_per_week</th>\n",
       "    </tr>\n",
       "  </thead>\n",
       "  <tbody>\n",
       "    <tr>\n",
       "      <th>count</th>\n",
       "      <td>45222.000000</td>\n",
       "      <td>4.522200e+04</td>\n",
       "      <td>45222.000000</td>\n",
       "      <td>45222.000000</td>\n",
       "      <td>45222.000000</td>\n",
       "      <td>45222.000000</td>\n",
       "    </tr>\n",
       "    <tr>\n",
       "      <th>mean</th>\n",
       "      <td>38.547941</td>\n",
       "      <td>1.897347e+05</td>\n",
       "      <td>10.118460</td>\n",
       "      <td>1101.430344</td>\n",
       "      <td>88.595418</td>\n",
       "      <td>40.938017</td>\n",
       "    </tr>\n",
       "    <tr>\n",
       "      <th>std</th>\n",
       "      <td>13.217870</td>\n",
       "      <td>1.056392e+05</td>\n",
       "      <td>2.552881</td>\n",
       "      <td>7506.430084</td>\n",
       "      <td>404.956092</td>\n",
       "      <td>12.007508</td>\n",
       "    </tr>\n",
       "    <tr>\n",
       "      <th>min</th>\n",
       "      <td>17.000000</td>\n",
       "      <td>1.349200e+04</td>\n",
       "      <td>1.000000</td>\n",
       "      <td>0.000000</td>\n",
       "      <td>0.000000</td>\n",
       "      <td>1.000000</td>\n",
       "    </tr>\n",
       "    <tr>\n",
       "      <th>25%</th>\n",
       "      <td>28.000000</td>\n",
       "      <td>1.173882e+05</td>\n",
       "      <td>9.000000</td>\n",
       "      <td>0.000000</td>\n",
       "      <td>0.000000</td>\n",
       "      <td>40.000000</td>\n",
       "    </tr>\n",
       "    <tr>\n",
       "      <th>50%</th>\n",
       "      <td>37.000000</td>\n",
       "      <td>1.783160e+05</td>\n",
       "      <td>10.000000</td>\n",
       "      <td>0.000000</td>\n",
       "      <td>0.000000</td>\n",
       "      <td>40.000000</td>\n",
       "    </tr>\n",
       "    <tr>\n",
       "      <th>75%</th>\n",
       "      <td>47.000000</td>\n",
       "      <td>2.379260e+05</td>\n",
       "      <td>13.000000</td>\n",
       "      <td>0.000000</td>\n",
       "      <td>0.000000</td>\n",
       "      <td>45.000000</td>\n",
       "    </tr>\n",
       "    <tr>\n",
       "      <th>max</th>\n",
       "      <td>90.000000</td>\n",
       "      <td>1.490400e+06</td>\n",
       "      <td>16.000000</td>\n",
       "      <td>99999.000000</td>\n",
       "      <td>4356.000000</td>\n",
       "      <td>99.000000</td>\n",
       "    </tr>\n",
       "  </tbody>\n",
       "</table>\n",
       "</div>"
      ],
      "text/plain": [
       "                age        fnlwgt  educational_num  capital_gain  \\\n",
       "count  45222.000000  4.522200e+04     45222.000000  45222.000000   \n",
       "mean      38.547941  1.897347e+05        10.118460   1101.430344   \n",
       "std       13.217870  1.056392e+05         2.552881   7506.430084   \n",
       "min       17.000000  1.349200e+04         1.000000      0.000000   \n",
       "25%       28.000000  1.173882e+05         9.000000      0.000000   \n",
       "50%       37.000000  1.783160e+05        10.000000      0.000000   \n",
       "75%       47.000000  2.379260e+05        13.000000      0.000000   \n",
       "max       90.000000  1.490400e+06        16.000000  99999.000000   \n",
       "\n",
       "       capital_loss  hours_per_week  \n",
       "count  45222.000000    45222.000000  \n",
       "mean      88.595418       40.938017  \n",
       "std      404.956092       12.007508  \n",
       "min        0.000000        1.000000  \n",
       "25%        0.000000       40.000000  \n",
       "50%        0.000000       40.000000  \n",
       "75%        0.000000       45.000000  \n",
       "max     4356.000000       99.000000  "
      ]
     },
     "execution_count": 8,
     "metadata": {},
     "output_type": "execute_result"
    }
   ],
   "source": [
    "display(Markdown(\"#### Estadística descriptiva de datos numéricos\"))\n",
    "df_recod2.describe()"
   ]
  },
  {
   "cell_type": "code",
   "execution_count": 9,
   "metadata": {
    "scrolled": false
   },
   "outputs": [
    {
     "data": {
      "text/markdown": [
       "#### Visualización de número de datos categóricos vs income"
      ],
      "text/plain": [
       "<IPython.core.display.Markdown object>"
      ]
     },
     "metadata": {},
     "output_type": "display_data"
    },
    {
     "data": {
      "image/png": "[encoded data removed]",
      "text/plain": [
       "<Figure size 864x216 with 2 Axes>"
      ]
     },
     "metadata": {
      "needs_background": "light"
     },
     "output_type": "display_data"
    },
    {
     "data": {
      "image/png": "[encoded data removed]",
      "text/plain": [
       "<Figure size 864x216 with 2 Axes>"
      ]
     },
     "metadata": {
      "needs_background": "light"
     },
     "output_type": "display_data"
    },
    {
     "data": {
      "image/png": "[encoded data removed]",
      "text/plain": [
       "<Figure size 864x216 with 2 Axes>"
      ]
     },
     "metadata": {
      "needs_background": "light"
     },
     "output_type": "display_data"
    },
    {
     "data": {
      "image/png": "[encoded data removed]",
      "text/plain": [
       "<Figure size 864x216 with 2 Axes>"
      ]
     },
     "metadata": {
      "needs_background": "light"
     },
     "output_type": "display_data"
    },
    {
     "data": {
      "image/png": "[encoded data removed]",
      "text/plain": [
       "<Figure size 864x216 with 2 Axes>"
      ]
     },
     "metadata": {
      "needs_background": "light"
     },
     "output_type": "display_data"
    },
    {
     "data": {
      "image/png": "[encoded data removed]",
      "text/plain": [
       "<Figure size 864x216 with 2 Axes>"
      ]
     },
     "metadata": {
      "needs_background": "light"
     },
     "output_type": "display_data"
    },
    {
     "data": {
      "image/png": "[encoded data removed]",
      "text/plain": [
       "<Figure size 864x216 with 2 Axes>"
      ]
     },
     "metadata": {
      "needs_background": "light"
     },
     "output_type": "display_data"
    },
    {
     "data": {
      "image/png": "[encoded data removed]",
      "text/plain": [
       "<Figure size 864x216 with 2 Axes>"
      ]
     },
     "metadata": {
      "needs_background": "light"
     },
     "output_type": "display_data"
    }
   ],
   "source": [
    "display(Markdown(\"#### Visualización de número de datos categóricos vs income\"))\n",
    "\n",
    "for var in var_cat:\n",
    "    g = sns.catplot(x=var, hue=\"income\", col=\"income\", data=df_recod2,\n",
    "                    kind=\"count\", dodge=False, height=3, aspect=2, palette=\"Pastel1\")\n",
    "    g.fig.suptitle(var + \" vs income\")"
   ]
  },
  {
   "cell_type": "code",
   "execution_count": 10,
   "metadata": {
    "scrolled": false
   },
   "outputs": [
    {
     "data": {
      "text/markdown": [
       "#### Visualización de porcentaje de datos categóricos vs income"
      ],
      "text/plain": [
       "<IPython.core.display.Markdown object>"
      ]
     },
     "metadata": {},
     "output_type": "display_data"
    },
    {
     "data": {
      "image/png": "[encoded data removed]",
      "text/plain": [
       "<Figure size 432x288 with 1 Axes>"
      ]
     },
     "metadata": {
      "needs_background": "light"
     },
     "output_type": "display_data"
    },
    {
     "data": {
      "image/png": "[encoded data removed]",
      "text/plain": [
       "<Figure size 432x288 with 1 Axes>"
      ]
     },
     "metadata": {
      "needs_background": "light"
     },
     "output_type": "display_data"
    },
    {
     "data": {
      "image/png": "[encoded data removed]",
      "text/plain": [
       "<Figure size 432x288 with 1 Axes>"
      ]
     },
     "metadata": {
      "needs_background": "light"
     },
     "output_type": "display_data"
    },
    {
     "data": {
      "image/png": "[encoded data removed]",
      "text/plain": [
       "<Figure size 432x288 with 1 Axes>"
      ]
     },
     "metadata": {
      "needs_background": "light"
     },
     "output_type": "display_data"
    },
    {
     "data": {
      "image/png": "[encoded data removed]",
      "text/plain": [
       "<Figure size 432x288 with 1 Axes>"
      ]
     },
     "metadata": {
      "needs_background": "light"
     },
     "output_type": "display_data"
    },
    {
     "data": {
      "image/png": "[encoded data removed]",
      "text/plain": [
       "<Figure size 432x288 with 1 Axes>"
      ]
     },
     "metadata": {
      "needs_background": "light"
     },
     "output_type": "display_data"
    },
    {
     "data": {
      "image/png": "[encoded data removed]",
      "text/plain": [
       "<Figure size 432x288 with 1 Axes>"
      ]
     },
     "metadata": {
      "needs_background": "light"
     },
     "output_type": "display_data"
    },
    {
     "data": {
      "image/png": "[encoded data removed]",
      "text/plain": [
       "<Figure size 432x288 with 1 Axes>"
      ]
     },
     "metadata": {
      "needs_background": "light"
     },
     "output_type": "display_data"
    }
   ],
   "source": [
    "display(Markdown(\"#### Visualización de porcentaje de datos categóricos vs income\"))\n",
    "\n",
    "for var in var_cat:\n",
    "    props = df_recod2.groupby(var)[\"income\"].value_counts(\n",
    "        normalize=True).unstack()\n",
    "    props.plot(kind=\"bar\", stacked=\"True\")"
   ]
  },
  {
   "cell_type": "markdown",
   "metadata": {},
   "source": [
    "#### Comentarios de los datos\n",
    "\n",
    "A partir de los gráficos y la estadística descriptiva se puede decir lo siguiente:\n",
    "\n",
    "- Edad:\n",
    "    - La edad promedio de los encuestados es 38 años, su curva de densidad es relativamente simétrica alrededor de la media.\n",
    "    - Los cuartiles para los ingresos sobre 50K es entre 35 y 55 años.\n",
    "    - Los cuartiles para los ingresos bajo 50K es entre 25 y 45 años.\n",
    "    - La distribución de la edad vs los ingresos muestra que los más jóvenes, tienen menores ingresos, y depués de los 50 años los ingresos disminuyen.\n",
    "    - El rango de edad de los encuestados va entre los 17 y 90 años.\n",
    "- Ingresos/Pérdidas por inversiones:\n",
    "    - El número de encuestados que se invierte es bajo.\n",
    "    - La media sólo explica alrededor de 1000 USD de ingresos y las pérdidas no más de 88 USD.\n",
    "- Horas trabajadas a la semana:\n",
    "    - Los cuartiles de las horas trabajadas son 40 y 45 horas.\n",
    "    - Las personas que ganan sobre 50K trabajan más que las personas con ingresos bajo 50K, considerando los cuartiles. \n",
    "- Ingresos:\n",
    "    - La mayoría de los encuestados gana menos de 50K.\n",
    "- Relación familiar: \n",
    "    - Un alto porcentaje de los casados (>40%), comparado con el resto de las relaciones, tiene ingresos sobre 50K.\n",
    "    - La gran mayoría de personas que se declaran hijo único, que no tiene familia y que no están casados están en el grupo con ingresos menores a 50K.\n",
    "    - La mayoría de los encuestados declara ser hombre casado.\n",
    "- Raza: \n",
    "    - Se puede ver que la mayoría de los encuestados se declara de raza blanca.  \n",
    "    - Un porcentaje alto de las afroamericanos, pueblos originarios y otros (>80%), tiene ingresos menores a 50K.\n",
    "- Género:\n",
    "    - La mayoría de encuestados es hombre.\n",
    "    - Hay un porcentaje mayor de mujeres vs hombres con ingresos menores a 50K.\n",
    "- Ocupación:\n",
    "    - La mayoría de las ocupaciones de los encuestados pertenece al grupo white collars, considerado profesiones.\n",
    "    - El porcentaje de personas con ingresos sobre 50K es mayor en los profesionales que en el resto. \n",
    "- Organización:\n",
    "    - La mayoría de los encuestados trabaja en el sector privado.\n",
    "    - Un altísimo porcentaje de personas sin empleo gane <50K.\n",
    "    - El porcentaje de personas con ingresos sobre 50K es mayor en el sector estatal y en los empleos por cuenta propia. \n",
    "- Educación:\n",
    "    - La mayoría de los encuestados llegó hasta high school.\n",
    "    - El porcentaje de personas con ingresos sobre 50K es mayor en el universitarios. \n",
    "- Estado civil:\n",
    "    - La mayoría de los encuestados está casado.\n",
    "    - El porcentaje de personas con ingresos sobre 50K es mayor en los casado.\n",
    "- Continente\n",
    "    - La gran mayoría de los encuestados se delcara norteaméricano.\n",
    "    - El porcentaje de personas con ingresos sobre 50K es mayor en Europa, Asia y Norteamérica."
   ]
  },
  {
   "cell_type": "markdown",
   "metadata": {},
   "source": [
    "### Conversión de datos categóricos"
   ]
  },
  {
   "cell_type": "code",
   "execution_count": 11,
   "metadata": {},
   "outputs": [
    {
     "data": {
      "text/markdown": [
       "#### Codifica datos de categorías y muestra resultados"
      ],
      "text/plain": [
       "<IPython.core.display.Markdown object>"
      ]
     },
     "metadata": {},
     "output_type": "display_data"
    },
    {
     "data": {
      "text/markdown": [
       "**Variable relationship**"
      ],
      "text/plain": [
       "<IPython.core.display.Markdown object>"
      ]
     },
     "metadata": {},
     "output_type": "display_data"
    },
    {
     "data": {
      "text/html": [
       "<div>\n",
       "<style scoped>\n",
       "    .dataframe tbody tr th:only-of-type {\n",
       "        vertical-align: middle;\n",
       "    }\n",
       "\n",
       "    .dataframe tbody tr th {\n",
       "        vertical-align: top;\n",
       "    }\n",
       "\n",
       "    .dataframe thead th {\n",
       "        text-align: right;\n",
       "    }\n",
       "</style>\n",
       "<table border=\"1\" class=\"dataframe\">\n",
       "  <thead>\n",
       "    <tr style=\"text-align: right;\">\n",
       "      <th></th>\n",
       "      <th>original</th>\n",
       "      <th>codificada</th>\n",
       "    </tr>\n",
       "  </thead>\n",
       "  <tbody>\n",
       "    <tr>\n",
       "      <th>0</th>\n",
       "      <td>Own-child</td>\n",
       "      <td>3</td>\n",
       "    </tr>\n",
       "    <tr>\n",
       "      <th>1</th>\n",
       "      <td>Husband</td>\n",
       "      <td>0</td>\n",
       "    </tr>\n",
       "    <tr>\n",
       "      <th>2</th>\n",
       "      <td>Not-in-family</td>\n",
       "      <td>1</td>\n",
       "    </tr>\n",
       "    <tr>\n",
       "      <th>3</th>\n",
       "      <td>Unmarried</td>\n",
       "      <td>4</td>\n",
       "    </tr>\n",
       "    <tr>\n",
       "      <th>4</th>\n",
       "      <td>Wife</td>\n",
       "      <td>5</td>\n",
       "    </tr>\n",
       "    <tr>\n",
       "      <th>5</th>\n",
       "      <td>Other-relative</td>\n",
       "      <td>2</td>\n",
       "    </tr>\n",
       "  </tbody>\n",
       "</table>\n",
       "</div>"
      ],
      "text/plain": [
       "         original  codificada\n",
       "0       Own-child           3\n",
       "1         Husband           0\n",
       "2   Not-in-family           1\n",
       "3       Unmarried           4\n",
       "4            Wife           5\n",
       "5  Other-relative           2"
      ]
     },
     "metadata": {},
     "output_type": "display_data"
    },
    {
     "data": {
      "text/markdown": [
       "**Variable race**"
      ],
      "text/plain": [
       "<IPython.core.display.Markdown object>"
      ]
     },
     "metadata": {},
     "output_type": "display_data"
    },
    {
     "data": {
      "text/html": [
       "<div>\n",
       "<style scoped>\n",
       "    .dataframe tbody tr th:only-of-type {\n",
       "        vertical-align: middle;\n",
       "    }\n",
       "\n",
       "    .dataframe tbody tr th {\n",
       "        vertical-align: top;\n",
       "    }\n",
       "\n",
       "    .dataframe thead th {\n",
       "        text-align: right;\n",
       "    }\n",
       "</style>\n",
       "<table border=\"1\" class=\"dataframe\">\n",
       "  <thead>\n",
       "    <tr style=\"text-align: right;\">\n",
       "      <th></th>\n",
       "      <th>original</th>\n",
       "      <th>codificada</th>\n",
       "    </tr>\n",
       "  </thead>\n",
       "  <tbody>\n",
       "    <tr>\n",
       "      <th>0</th>\n",
       "      <td>Black</td>\n",
       "      <td>2</td>\n",
       "    </tr>\n",
       "    <tr>\n",
       "      <th>1</th>\n",
       "      <td>White</td>\n",
       "      <td>4</td>\n",
       "    </tr>\n",
       "    <tr>\n",
       "      <th>2</th>\n",
       "      <td>Other</td>\n",
       "      <td>3</td>\n",
       "    </tr>\n",
       "    <tr>\n",
       "      <th>3</th>\n",
       "      <td>Amer-Indian-Eskimo</td>\n",
       "      <td>0</td>\n",
       "    </tr>\n",
       "    <tr>\n",
       "      <th>4</th>\n",
       "      <td>Asian-Pac-Islander</td>\n",
       "      <td>1</td>\n",
       "    </tr>\n",
       "  </tbody>\n",
       "</table>\n",
       "</div>"
      ],
      "text/plain": [
       "             original  codificada\n",
       "0               Black           2\n",
       "1               White           4\n",
       "2               Other           3\n",
       "3  Amer-Indian-Eskimo           0\n",
       "4  Asian-Pac-Islander           1"
      ]
     },
     "metadata": {},
     "output_type": "display_data"
    },
    {
     "data": {
      "text/markdown": [
       "**Variable gender**"
      ],
      "text/plain": [
       "<IPython.core.display.Markdown object>"
      ]
     },
     "metadata": {},
     "output_type": "display_data"
    },
    {
     "data": {
      "text/html": [
       "<div>\n",
       "<style scoped>\n",
       "    .dataframe tbody tr th:only-of-type {\n",
       "        vertical-align: middle;\n",
       "    }\n",
       "\n",
       "    .dataframe tbody tr th {\n",
       "        vertical-align: top;\n",
       "    }\n",
       "\n",
       "    .dataframe thead th {\n",
       "        text-align: right;\n",
       "    }\n",
       "</style>\n",
       "<table border=\"1\" class=\"dataframe\">\n",
       "  <thead>\n",
       "    <tr style=\"text-align: right;\">\n",
       "      <th></th>\n",
       "      <th>original</th>\n",
       "      <th>codificada</th>\n",
       "    </tr>\n",
       "  </thead>\n",
       "  <tbody>\n",
       "    <tr>\n",
       "      <th>0</th>\n",
       "      <td>Male</td>\n",
       "      <td>1</td>\n",
       "    </tr>\n",
       "    <tr>\n",
       "      <th>1</th>\n",
       "      <td>Female</td>\n",
       "      <td>0</td>\n",
       "    </tr>\n",
       "  </tbody>\n",
       "</table>\n",
       "</div>"
      ],
      "text/plain": [
       "  original  codificada\n",
       "0     Male           1\n",
       "1   Female           0"
      ]
     },
     "metadata": {},
     "output_type": "display_data"
    },
    {
     "data": {
      "text/markdown": [
       "**Variable income**"
      ],
      "text/plain": [
       "<IPython.core.display.Markdown object>"
      ]
     },
     "metadata": {},
     "output_type": "display_data"
    },
    {
     "data": {
      "text/html": [
       "<div>\n",
       "<style scoped>\n",
       "    .dataframe tbody tr th:only-of-type {\n",
       "        vertical-align: middle;\n",
       "    }\n",
       "\n",
       "    .dataframe tbody tr th {\n",
       "        vertical-align: top;\n",
       "    }\n",
       "\n",
       "    .dataframe thead th {\n",
       "        text-align: right;\n",
       "    }\n",
       "</style>\n",
       "<table border=\"1\" class=\"dataframe\">\n",
       "  <thead>\n",
       "    <tr style=\"text-align: right;\">\n",
       "      <th></th>\n",
       "      <th>original</th>\n",
       "      <th>codificada</th>\n",
       "    </tr>\n",
       "  </thead>\n",
       "  <tbody>\n",
       "    <tr>\n",
       "      <th>0</th>\n",
       "      <td>&lt;=50K</td>\n",
       "      <td>0</td>\n",
       "    </tr>\n",
       "    <tr>\n",
       "      <th>1</th>\n",
       "      <td>&gt;50K</td>\n",
       "      <td>1</td>\n",
       "    </tr>\n",
       "  </tbody>\n",
       "</table>\n",
       "</div>"
      ],
      "text/plain": [
       "  original  codificada\n",
       "0    <=50K           0\n",
       "1     >50K           1"
      ]
     },
     "metadata": {},
     "output_type": "display_data"
    },
    {
     "data": {
      "text/markdown": [
       "**Variable collars**"
      ],
      "text/plain": [
       "<IPython.core.display.Markdown object>"
      ]
     },
     "metadata": {},
     "output_type": "display_data"
    },
    {
     "data": {
      "text/html": [
       "<div>\n",
       "<style scoped>\n",
       "    .dataframe tbody tr th:only-of-type {\n",
       "        vertical-align: middle;\n",
       "    }\n",
       "\n",
       "    .dataframe tbody tr th {\n",
       "        vertical-align: top;\n",
       "    }\n",
       "\n",
       "    .dataframe thead th {\n",
       "        text-align: right;\n",
       "    }\n",
       "</style>\n",
       "<table border=\"1\" class=\"dataframe\">\n",
       "  <thead>\n",
       "    <tr style=\"text-align: right;\">\n",
       "      <th></th>\n",
       "      <th>original</th>\n",
       "      <th>codificada</th>\n",
       "    </tr>\n",
       "  </thead>\n",
       "  <tbody>\n",
       "    <tr>\n",
       "      <th>0</th>\n",
       "      <td>blue-collar</td>\n",
       "      <td>0</td>\n",
       "    </tr>\n",
       "    <tr>\n",
       "      <th>1</th>\n",
       "      <td>others</td>\n",
       "      <td>1</td>\n",
       "    </tr>\n",
       "    <tr>\n",
       "      <th>2</th>\n",
       "      <td>white-collar</td>\n",
       "      <td>2</td>\n",
       "    </tr>\n",
       "  </tbody>\n",
       "</table>\n",
       "</div>"
      ],
      "text/plain": [
       "       original  codificada\n",
       "0   blue-collar           0\n",
       "1        others           1\n",
       "2  white-collar           2"
      ]
     },
     "metadata": {},
     "output_type": "display_data"
    },
    {
     "data": {
      "text/markdown": [
       "**Variable workclass_recod**"
      ],
      "text/plain": [
       "<IPython.core.display.Markdown object>"
      ]
     },
     "metadata": {},
     "output_type": "display_data"
    },
    {
     "data": {
      "text/html": [
       "<div>\n",
       "<style scoped>\n",
       "    .dataframe tbody tr th:only-of-type {\n",
       "        vertical-align: middle;\n",
       "    }\n",
       "\n",
       "    .dataframe tbody tr th {\n",
       "        vertical-align: top;\n",
       "    }\n",
       "\n",
       "    .dataframe thead th {\n",
       "        text-align: right;\n",
       "    }\n",
       "</style>\n",
       "<table border=\"1\" class=\"dataframe\">\n",
       "  <thead>\n",
       "    <tr style=\"text-align: right;\">\n",
       "      <th></th>\n",
       "      <th>original</th>\n",
       "      <th>codificada</th>\n",
       "    </tr>\n",
       "  </thead>\n",
       "  <tbody>\n",
       "    <tr>\n",
       "      <th>0</th>\n",
       "      <td>private</td>\n",
       "      <td>1</td>\n",
       "    </tr>\n",
       "    <tr>\n",
       "      <th>1</th>\n",
       "      <td>state-level-gov</td>\n",
       "      <td>3</td>\n",
       "    </tr>\n",
       "    <tr>\n",
       "      <th>2</th>\n",
       "      <td>self-employed</td>\n",
       "      <td>2</td>\n",
       "    </tr>\n",
       "    <tr>\n",
       "      <th>3</th>\n",
       "      <td>federal-gov</td>\n",
       "      <td>0</td>\n",
       "    </tr>\n",
       "    <tr>\n",
       "      <th>4</th>\n",
       "      <td>unemployed</td>\n",
       "      <td>4</td>\n",
       "    </tr>\n",
       "  </tbody>\n",
       "</table>\n",
       "</div>"
      ],
      "text/plain": [
       "          original  codificada\n",
       "0          private           1\n",
       "1  state-level-gov           3\n",
       "2    self-employed           2\n",
       "3      federal-gov           0\n",
       "4       unemployed           4"
      ]
     },
     "metadata": {},
     "output_type": "display_data"
    },
    {
     "data": {
      "text/markdown": [
       "**Variable educ_recod**"
      ],
      "text/plain": [
       "<IPython.core.display.Markdown object>"
      ]
     },
     "metadata": {},
     "output_type": "display_data"
    },
    {
     "data": {
      "text/html": [
       "<div>\n",
       "<style scoped>\n",
       "    .dataframe tbody tr th:only-of-type {\n",
       "        vertical-align: middle;\n",
       "    }\n",
       "\n",
       "    .dataframe tbody tr th {\n",
       "        vertical-align: top;\n",
       "    }\n",
       "\n",
       "    .dataframe thead th {\n",
       "        text-align: right;\n",
       "    }\n",
       "</style>\n",
       "<table border=\"1\" class=\"dataframe\">\n",
       "  <thead>\n",
       "    <tr style=\"text-align: right;\">\n",
       "      <th></th>\n",
       "      <th>original</th>\n",
       "      <th>codificada</th>\n",
       "    </tr>\n",
       "  </thead>\n",
       "  <tbody>\n",
       "    <tr>\n",
       "      <th>0</th>\n",
       "      <td>high-school</td>\n",
       "      <td>2</td>\n",
       "    </tr>\n",
       "    <tr>\n",
       "      <th>1</th>\n",
       "      <td>college</td>\n",
       "      <td>0</td>\n",
       "    </tr>\n",
       "    <tr>\n",
       "      <th>2</th>\n",
       "      <td>university</td>\n",
       "      <td>4</td>\n",
       "    </tr>\n",
       "    <tr>\n",
       "      <th>3</th>\n",
       "      <td>elementary-school</td>\n",
       "      <td>1</td>\n",
       "    </tr>\n",
       "    <tr>\n",
       "      <th>4</th>\n",
       "      <td>preschool</td>\n",
       "      <td>3</td>\n",
       "    </tr>\n",
       "  </tbody>\n",
       "</table>\n",
       "</div>"
      ],
      "text/plain": [
       "            original  codificada\n",
       "0        high-school           2\n",
       "1            college           0\n",
       "2         university           4\n",
       "3  elementary-school           1\n",
       "4          preschool           3"
      ]
     },
     "metadata": {},
     "output_type": "display_data"
    },
    {
     "data": {
      "text/markdown": [
       "**Variable civstatus**"
      ],
      "text/plain": [
       "<IPython.core.display.Markdown object>"
      ]
     },
     "metadata": {},
     "output_type": "display_data"
    },
    {
     "data": {
      "text/html": [
       "<div>\n",
       "<style scoped>\n",
       "    .dataframe tbody tr th:only-of-type {\n",
       "        vertical-align: middle;\n",
       "    }\n",
       "\n",
       "    .dataframe tbody tr th {\n",
       "        vertical-align: top;\n",
       "    }\n",
       "\n",
       "    .dataframe thead th {\n",
       "        text-align: right;\n",
       "    }\n",
       "</style>\n",
       "<table border=\"1\" class=\"dataframe\">\n",
       "  <thead>\n",
       "    <tr style=\"text-align: right;\">\n",
       "      <th></th>\n",
       "      <th>original</th>\n",
       "      <th>codificada</th>\n",
       "    </tr>\n",
       "  </thead>\n",
       "  <tbody>\n",
       "    <tr>\n",
       "      <th>0</th>\n",
       "      <td>never-married</td>\n",
       "      <td>2</td>\n",
       "    </tr>\n",
       "    <tr>\n",
       "      <th>1</th>\n",
       "      <td>married</td>\n",
       "      <td>1</td>\n",
       "    </tr>\n",
       "    <tr>\n",
       "      <th>2</th>\n",
       "      <td>widowed</td>\n",
       "      <td>4</td>\n",
       "    </tr>\n",
       "    <tr>\n",
       "      <th>3</th>\n",
       "      <td>separated</td>\n",
       "      <td>3</td>\n",
       "    </tr>\n",
       "    <tr>\n",
       "      <th>4</th>\n",
       "      <td>divorced</td>\n",
       "      <td>0</td>\n",
       "    </tr>\n",
       "  </tbody>\n",
       "</table>\n",
       "</div>"
      ],
      "text/plain": [
       "        original  codificada\n",
       "0  never-married           2\n",
       "1        married           1\n",
       "2        widowed           4\n",
       "3      separated           3\n",
       "4       divorced           0"
      ]
     },
     "metadata": {},
     "output_type": "display_data"
    },
    {
     "data": {
      "text/markdown": [
       "**Variable continent**"
      ],
      "text/plain": [
       "<IPython.core.display.Markdown object>"
      ]
     },
     "metadata": {},
     "output_type": "display_data"
    },
    {
     "data": {
      "text/html": [
       "<div>\n",
       "<style scoped>\n",
       "    .dataframe tbody tr th:only-of-type {\n",
       "        vertical-align: middle;\n",
       "    }\n",
       "\n",
       "    .dataframe tbody tr th {\n",
       "        vertical-align: top;\n",
       "    }\n",
       "\n",
       "    .dataframe thead th {\n",
       "        text-align: right;\n",
       "    }\n",
       "</style>\n",
       "<table border=\"1\" class=\"dataframe\">\n",
       "  <thead>\n",
       "    <tr style=\"text-align: right;\">\n",
       "      <th></th>\n",
       "      <th>original</th>\n",
       "      <th>codificada</th>\n",
       "    </tr>\n",
       "  </thead>\n",
       "  <tbody>\n",
       "    <tr>\n",
       "      <th>0</th>\n",
       "      <td>north-america</td>\n",
       "      <td>3</td>\n",
       "    </tr>\n",
       "    <tr>\n",
       "      <th>1</th>\n",
       "      <td>south-america</td>\n",
       "      <td>4</td>\n",
       "    </tr>\n",
       "    <tr>\n",
       "      <th>2</th>\n",
       "      <td>europe</td>\n",
       "      <td>2</td>\n",
       "    </tr>\n",
       "    <tr>\n",
       "      <th>3</th>\n",
       "      <td>asia</td>\n",
       "      <td>0</td>\n",
       "    </tr>\n",
       "    <tr>\n",
       "      <th>4</th>\n",
       "      <td>australia</td>\n",
       "      <td>1</td>\n",
       "    </tr>\n",
       "  </tbody>\n",
       "</table>\n",
       "</div>"
      ],
      "text/plain": [
       "        original  codificada\n",
       "0  north-america           3\n",
       "1  south-america           4\n",
       "2         europe           2\n",
       "3           asia           0\n",
       "4      australia           1"
      ]
     },
     "metadata": {},
     "output_type": "display_data"
    }
   ],
   "source": [
    "display(Markdown(\"#### Codifica datos de categorías y muestra resultados\"))\n",
    "\n",
    "label_encoder = LabelEncoder()\n",
    "\n",
    "df_recod3 = df_recod2.copy()\n",
    "\n",
    "for var in var_categoricas:\n",
    "    display(Markdown(f\"**Variable {var}**\"))\n",
    "\n",
    "    df_recod3[var] = label_encoder.fit_transform(df_recod3[var])\n",
    "\n",
    "    display(pd.DataFrame({\n",
    "        \"original\": df_recod2[var].unique(),\n",
    "        \"codificada\": df_recod3[var].unique()\n",
    "    }))"
   ]
  },
  {
   "cell_type": "markdown",
   "metadata": {},
   "source": [
    "#### Visualización de correlaciones"
   ]
  },
  {
   "cell_type": "code",
   "execution_count": 12,
   "metadata": {},
   "outputs": [
    {
     "data": {
      "text/plain": [
       "<matplotlib.axes._subplots.AxesSubplot at 0x7f48901d2d68>"
      ]
     },
     "execution_count": 12,
     "metadata": {},
     "output_type": "execute_result"
    },
    {
     "data": {
      "image/png": "[encoded data removed]",
      "text/plain": [
       "<Figure size 1080x576 with 2 Axes>"
      ]
     },
     "metadata": {
      "needs_background": "light"
     },
     "output_type": "display_data"
    }
   ],
   "source": [
    "plt.figure(figsize=(15, 8))\n",
    "\n",
    "m_corr = df_recod3.loc[:, var_todas].corr()\n",
    "\n",
    "m_corr_filter = m_corr[(\n",
    "    (m_corr > 0.1) \n",
    "    | (m_corr < -0.1)\n",
    ")].dropna(axis=0, how='all').dropna(axis=1, how='all')\n",
    "\n",
    "sns.heatmap(m_corr_filter, cmap=\"PuOr\", annot=True)"
   ]
  },
  {
   "cell_type": "markdown",
   "metadata": {},
   "source": [
    "A partir del heatmap, se ve que income está relacionado en mayor medida con:\n",
    "    - Edad.\n",
    "    - Relación familiar.\n",
    "    - Género.\n",
    "    - Capital ganado.\n",
    "    - Capital pérdido.\n",
    "    - Horas trabajadas a la semana.\n",
    "    - Ocupación.\n",
    "    - Nivel educacional.\n",
    "    - Estado civil.\n",
    "    \n",
    "De todas formas los valores de correlación son bajos."
   ]
  },
  {
   "cell_type": "markdown",
   "metadata": {},
   "source": [
    "## Modelación descriptiva\n",
    "\n",
    "### Estrategia\n",
    "\n",
    "Se estimarán modelos como el definido en la sección objetivo. Se comparán los modelos a partir del AIC y BIC.\n",
    "\n",
    "Para el modelo seleccionado, se obtendrán los log odds (chances logarítimicas), las que se transformarán a una probabilidad usando la función logística inversa. \n",
    "\n",
    "Se verá como afectan los principales coeficientes a la probabilidad de tener ingresos menores a 50K.\n",
    "\n",
    "Los coeficientes de cada modelo se seleccionarán a partir de modelos saturados, y se irán ajustando los coeficientes a partir de los resultados del análisis en la sección de descripción de datos y el análisis de coeficientes y métricas de cada modelo.\n",
    "\n",
    "Las información obtenida de modelos y coeficientes se usará en la sección de modelación con machine learning.\n",
    "\n",
    "### Modelación\n",
    "\n",
    "#### Modelo descriptivo 1 "
   ]
  },
  {
   "cell_type": "code",
   "execution_count": 13,
   "metadata": {
    "scrolled": false
   },
   "outputs": [
    {
     "name": "stdout",
     "output_type": "stream",
     "text": [
      "Optimization terminated successfully.\n",
      "         Current function value: 0.405627\n",
      "         Iterations 8\n"
     ]
    },
    {
     "data": {
      "text/html": [
       "<table class=\"simpletable\">\n",
       "<tr>\n",
       "        <td>Model:</td>              <td>Logit</td>      <td>Pseudo R-squared:</td>    <td>0.276</td>  \n",
       "</tr>\n",
       "<tr>\n",
       "  <td>Dependent Variable:</td>      <td>income</td>            <td>AIC:</td>        <td>36712.5493</td>\n",
       "</tr>\n",
       "<tr>\n",
       "         <td>Date:</td>        <td>2019-07-26 19:23</td>       <td>BIC:</td>        <td>36825.9007</td>\n",
       "</tr>\n",
       "<tr>\n",
       "   <td>No. Observations:</td>        <td>45222</td>       <td>Log-Likelihood:</td>    <td>-18343.</td> \n",
       "</tr>\n",
       "<tr>\n",
       "       <td>Df Model:</td>             <td>12</td>            <td>LL-Null:</td>        <td>-25322.</td> \n",
       "</tr>\n",
       "<tr>\n",
       "     <td>Df Residuals:</td>          <td>45209</td>        <td>LLR p-value:</td>      <td>0.0000</td>  \n",
       "</tr>\n",
       "<tr>\n",
       "      <td>Converged:</td>           <td>1.0000</td>           <td>Scale:</td>         <td>1.0000</td>  \n",
       "</tr>\n",
       "<tr>\n",
       "    <td>No. Iterations:</td>        <td>8.0000</td>              <td></td>               <td></td>     \n",
       "</tr>\n",
       "</table>\n",
       "<table class=\"simpletable\">\n",
       "<tr>\n",
       "         <td></td>          <th>Coef.</th>  <th>Std.Err.</th>     <th>z</th>     <th>P>|z|</th> <th>[0.025</th>  <th>0.975]</th> \n",
       "</tr>\n",
       "<tr>\n",
       "  <th>Intercept</th>       <td>-5.1431</td>  <td>0.1297</td>  <td>-39.6615</td> <td>0.0000</td> <td>-5.3972</td> <td>-4.8889</td>\n",
       "</tr>\n",
       "<tr>\n",
       "  <th>age</th>             <td>0.0302</td>   <td>0.0011</td>   <td>27.2790</td> <td>0.0000</td> <td>0.0280</td>  <td>0.0323</td> \n",
       "</tr>\n",
       "<tr>\n",
       "  <th>relationship</th>    <td>-0.1544</td>  <td>0.0120</td>  <td>-12.9114</td> <td>0.0000</td> <td>-0.1779</td> <td>-0.1310</td>\n",
       "</tr>\n",
       "<tr>\n",
       "  <th>race</th>            <td>0.1460</td>   <td>0.0195</td>   <td>7.4727</td>  <td>0.0000</td> <td>0.1077</td>  <td>0.1843</td> \n",
       "</tr>\n",
       "<tr>\n",
       "  <th>gender</th>          <td>0.9989</td>   <td>0.0418</td>   <td>23.8831</td> <td>0.0000</td> <td>0.9169</td>  <td>1.0809</td> \n",
       "</tr>\n",
       "<tr>\n",
       "  <th>capital_gain</th>    <td>0.0003</td>   <td>0.0000</td>   <td>39.4946</td> <td>0.0000</td> <td>0.0003</td>  <td>0.0003</td> \n",
       "</tr>\n",
       "<tr>\n",
       "  <th>capital_loss</th>    <td>0.0007</td>   <td>0.0000</td>   <td>24.7135</td> <td>0.0000</td> <td>0.0006</td>  <td>0.0007</td> \n",
       "</tr>\n",
       "<tr>\n",
       "  <th>hours_per_week</th>  <td>0.0303</td>   <td>0.0012</td>   <td>26.1191</td> <td>0.0000</td> <td>0.0280</td>  <td>0.0326</td> \n",
       "</tr>\n",
       "<tr>\n",
       "  <th>collars</th>         <td>0.5439</td>   <td>0.0152</td>   <td>35.7562</td> <td>0.0000</td> <td>0.5140</td>  <td>0.5737</td> \n",
       "</tr>\n",
       "<tr>\n",
       "  <th>workclass_recod</th> <td>-0.0053</td>  <td>0.0180</td>   <td>-0.2926</td> <td>0.7699</td> <td>-0.0405</td> <td>0.0299</td> \n",
       "</tr>\n",
       "<tr>\n",
       "  <th>educ_recod</th>      <td>0.2022</td>   <td>0.0089</td>   <td>22.5990</td> <td>0.0000</td> <td>0.1847</td>  <td>0.2198</td> \n",
       "</tr>\n",
       "<tr>\n",
       "  <th>civstatus</th>       <td>-0.4099</td>  <td>0.0185</td>  <td>-22.1824</td> <td>0.0000</td> <td>-0.4461</td> <td>-0.3737</td>\n",
       "</tr>\n",
       "<tr>\n",
       "  <th>continent</th>       <td>-0.1668</td>  <td>0.0302</td>   <td>-5.5210</td> <td>0.0000</td> <td>-0.2260</td> <td>-0.1076</td>\n",
       "</tr>\n",
       "</table>"
      ],
      "text/plain": [
       "<class 'statsmodels.iolib.summary2.Summary'>\n",
       "\"\"\"\n",
       "            Resultados regresion Logit para modelo 1\n",
       "=================================================================\n",
       "Model:              Logit            Pseudo R-squared: 0.276     \n",
       "Dependent Variable: income           AIC:              36712.5493\n",
       "Date:               2019-07-26 19:23 BIC:              36825.9007\n",
       "No. Observations:   45222            Log-Likelihood:   -18343.   \n",
       "Df Model:           12               LL-Null:          -25322.   \n",
       "Df Residuals:       45209            LLR p-value:      0.0000    \n",
       "Converged:          1.0000           Scale:            1.0000    \n",
       "No. Iterations:     8.0000                                       \n",
       "-----------------------------------------------------------------\n",
       "                  Coef.  Std.Err.    z     P>|z|   [0.025  0.975]\n",
       "-----------------------------------------------------------------\n",
       "Intercept        -5.1431   0.1297 -39.6615 0.0000 -5.3972 -4.8889\n",
       "age               0.0302   0.0011  27.2790 0.0000  0.0280  0.0323\n",
       "relationship     -0.1544   0.0120 -12.9114 0.0000 -0.1779 -0.1310\n",
       "race              0.1460   0.0195   7.4727 0.0000  0.1077  0.1843\n",
       "gender            0.9989   0.0418  23.8831 0.0000  0.9169  1.0809\n",
       "capital_gain      0.0003   0.0000  39.4946 0.0000  0.0003  0.0003\n",
       "capital_loss      0.0007   0.0000  24.7135 0.0000  0.0006  0.0007\n",
       "hours_per_week    0.0303   0.0012  26.1191 0.0000  0.0280  0.0326\n",
       "collars           0.5439   0.0152  35.7562 0.0000  0.5140  0.5737\n",
       "workclass_recod  -0.0053   0.0180  -0.2926 0.7699 -0.0405  0.0299\n",
       "educ_recod        0.2022   0.0089  22.5990 0.0000  0.1847  0.2198\n",
       "civstatus        -0.4099   0.0185 -22.1824 0.0000 -0.4461 -0.3737\n",
       "continent        -0.1668   0.0302  -5.5210 0.0000 -0.2260 -0.1076\n",
       "=================================================================\n",
       "\n",
       "\"\"\""
      ]
     },
     "execution_count": 13,
     "metadata": {},
     "output_type": "execute_result"
    }
   ],
   "source": [
    "atributos = '+'.join(var_atributos)\n",
    "\n",
    "modelo1_de = smf.logit(\"income ~ \" + atributos, df_recod3).fit()\n",
    "modelo1_de.summary2(title=\"Resultados regresion Logit para modelo 1\")"
   ]
  },
  {
   "cell_type": "markdown",
   "metadata": {},
   "source": [
    "A partir del modelo se puede ver que las variables capital_gain y capital_loss no son significativamente estadísticas al 95%, por lo que que se sacan del siguiente modelo.\n",
    "\n",
    "Además que las variables que más influyen son:\n",
    "\n",
    "1. Género\n",
    "2. Ocupación.\n",
    "3. Estado civil.\n",
    "4. Nivel educacional.\n",
    "5. Continente.\n",
    "6. Relación familiar.\n",
    "7. Raza.\n",
    "\n",
    "#### Modelo descriptivo 2"
   ]
  },
  {
   "cell_type": "code",
   "execution_count": 14,
   "metadata": {},
   "outputs": [
    {
     "name": "stdout",
     "output_type": "stream",
     "text": [
      "Optimization terminated successfully.\n",
      "         Current function value: 0.445284\n",
      "         Iterations 7\n"
     ]
    },
    {
     "data": {
      "text/html": [
       "<table class=\"simpletable\">\n",
       "<tr>\n",
       "        <td>Model:</td>              <td>Logit</td>      <td>Pseudo R-squared:</td>    <td>0.205</td>  \n",
       "</tr>\n",
       "<tr>\n",
       "  <td>Dependent Variable:</td>      <td>income</td>            <td>AIC:</td>        <td>40295.2574</td>\n",
       "</tr>\n",
       "<tr>\n",
       "         <td>Date:</td>        <td>2019-07-26 19:23</td>       <td>BIC:</td>        <td>40391.1701</td>\n",
       "</tr>\n",
       "<tr>\n",
       "   <td>No. Observations:</td>        <td>45222</td>       <td>Log-Likelihood:</td>    <td>-20137.</td> \n",
       "</tr>\n",
       "<tr>\n",
       "       <td>Df Model:</td>             <td>10</td>            <td>LL-Null:</td>        <td>-25322.</td> \n",
       "</tr>\n",
       "<tr>\n",
       "     <td>Df Residuals:</td>          <td>45211</td>        <td>LLR p-value:</td>      <td>0.0000</td>  \n",
       "</tr>\n",
       "<tr>\n",
       "      <td>Converged:</td>           <td>1.0000</td>           <td>Scale:</td>         <td>1.0000</td>  \n",
       "</tr>\n",
       "<tr>\n",
       "    <td>No. Iterations:</td>        <td>7.0000</td>              <td></td>               <td></td>     \n",
       "</tr>\n",
       "</table>\n",
       "<table class=\"simpletable\">\n",
       "<tr>\n",
       "         <td></td>          <th>Coef.</th>  <th>Std.Err.</th>     <th>z</th>     <th>P>|z|</th> <th>[0.025</th>  <th>0.975]</th> \n",
       "</tr>\n",
       "<tr>\n",
       "  <th>Intercept</th>       <td>-5.2740</td>  <td>0.1228</td>  <td>-42.9429</td> <td>0.0000</td> <td>-5.5147</td> <td>-5.0333</td>\n",
       "</tr>\n",
       "<tr>\n",
       "  <th>age</th>             <td>0.0344</td>   <td>0.0010</td>   <td>32.9765</td> <td>0.0000</td> <td>0.0323</td>  <td>0.0364</td> \n",
       "</tr>\n",
       "<tr>\n",
       "  <th>relationship</th>    <td>-0.1464</td>  <td>0.0113</td>  <td>-12.9950</td> <td>0.0000</td> <td>-0.1684</td> <td>-0.1243</td>\n",
       "</tr>\n",
       "<tr>\n",
       "  <th>race</th>            <td>0.1434</td>   <td>0.0184</td>   <td>7.8063</td>  <td>0.0000</td> <td>0.1074</td>  <td>0.1794</td> \n",
       "</tr>\n",
       "<tr>\n",
       "  <th>gender</th>          <td>1.0159</td>   <td>0.0391</td>   <td>25.9646</td> <td>0.0000</td> <td>0.9392</td>  <td>1.0926</td> \n",
       "</tr>\n",
       "<tr>\n",
       "  <th>hours_per_week</th>  <td>0.0326</td>   <td>0.0011</td>   <td>29.4421</td> <td>0.0000</td> <td>0.0304</td>  <td>0.0347</td> \n",
       "</tr>\n",
       "<tr>\n",
       "  <th>collars</th>         <td>0.5745</td>   <td>0.0145</td>   <td>39.7384</td> <td>0.0000</td> <td>0.5461</td>  <td>0.6028</td> \n",
       "</tr>\n",
       "<tr>\n",
       "  <th>workclass_recod</th> <td>-0.0100</td>  <td>0.0171</td>   <td>-0.5878</td> <td>0.5567</td> <td>-0.0434</td> <td>0.0234</td> \n",
       "</tr>\n",
       "<tr>\n",
       "  <th>educ_recod</th>      <td>0.2268</td>   <td>0.0084</td>   <td>26.8512</td> <td>0.0000</td> <td>0.2102</td>  <td>0.2434</td> \n",
       "</tr>\n",
       "<tr>\n",
       "  <th>civstatus</th>       <td>-0.3874</td>  <td>0.0171</td>  <td>-22.6025</td> <td>0.0000</td> <td>-0.4210</td> <td>-0.3538</td>\n",
       "</tr>\n",
       "<tr>\n",
       "  <th>continent</th>       <td>-0.1573</td>  <td>0.0285</td>   <td>-5.5169</td> <td>0.0000</td> <td>-0.2132</td> <td>-0.1014</td>\n",
       "</tr>\n",
       "</table>"
      ],
      "text/plain": [
       "<class 'statsmodels.iolib.summary2.Summary'>\n",
       "\"\"\"\n",
       "            Resultados regresion Logit para modelo 2\n",
       "=================================================================\n",
       "Model:              Logit            Pseudo R-squared: 0.205     \n",
       "Dependent Variable: income           AIC:              40295.2574\n",
       "Date:               2019-07-26 19:23 BIC:              40391.1701\n",
       "No. Observations:   45222            Log-Likelihood:   -20137.   \n",
       "Df Model:           10               LL-Null:          -25322.   \n",
       "Df Residuals:       45211            LLR p-value:      0.0000    \n",
       "Converged:          1.0000           Scale:            1.0000    \n",
       "No. Iterations:     7.0000                                       \n",
       "-----------------------------------------------------------------\n",
       "                  Coef.  Std.Err.    z     P>|z|   [0.025  0.975]\n",
       "-----------------------------------------------------------------\n",
       "Intercept        -5.2740   0.1228 -42.9429 0.0000 -5.5147 -5.0333\n",
       "age               0.0344   0.0010  32.9765 0.0000  0.0323  0.0364\n",
       "relationship     -0.1464   0.0113 -12.9950 0.0000 -0.1684 -0.1243\n",
       "race              0.1434   0.0184   7.8063 0.0000  0.1074  0.1794\n",
       "gender            1.0159   0.0391  25.9646 0.0000  0.9392  1.0926\n",
       "hours_per_week    0.0326   0.0011  29.4421 0.0000  0.0304  0.0347\n",
       "collars           0.5745   0.0145  39.7384 0.0000  0.5461  0.6028\n",
       "workclass_recod  -0.0100   0.0171  -0.5878 0.5567 -0.0434  0.0234\n",
       "educ_recod        0.2268   0.0084  26.8512 0.0000  0.2102  0.2434\n",
       "civstatus        -0.3874   0.0171 -22.6025 0.0000 -0.4210 -0.3538\n",
       "continent        -0.1573   0.0285  -5.5169 0.0000 -0.2132 -0.1014\n",
       "=================================================================\n",
       "\n",
       "\"\"\""
      ]
     },
     "execution_count": 14,
     "metadata": {},
     "output_type": "execute_result"
    }
   ],
   "source": [
    "# Se eliminan atributos de ingresos/perdidas de capital\n",
    "\n",
    "var_atributos2 = var_atributos.copy()\n",
    "var_atributos2.remove(\"capital_gain\")\n",
    "var_atributos2.remove(\"capital_loss\")\n",
    "\n",
    "atributos = '+'.join(var_atributos2)\n",
    "\n",
    "modelo2_de = smf.logit(\"income ~ \" + atributos, df_recod3).fit()\n",
    "modelo2_de.summary2(title=\"Resultados regresion Logit para modelo 2\")"
   ]
  },
  {
   "cell_type": "markdown",
   "metadata": {},
   "source": [
    "Los coeficientes se mantuvieron similares al del modelo 1, lo mismo sucedió con las variables que más influyen. Pero el valor de AIC y BIC aumentó. El siguiente modelo usará las variables que más influyen según el modelo 2.\n",
    "\n",
    "#### Modelo descriptivo 3"
   ]
  },
  {
   "cell_type": "code",
   "execution_count": 15,
   "metadata": {},
   "outputs": [
    {
     "name": "stdout",
     "output_type": "stream",
     "text": [
      "Optimization terminated successfully.\n",
      "         Current function value: 0.465779\n",
      "         Iterations 6\n"
     ]
    },
    {
     "data": {
      "text/html": [
       "<table class=\"simpletable\">\n",
       "<tr>\n",
       "        <td>Model:</td>              <td>Logit</td>      <td>Pseudo R-squared:</td>    <td>0.168</td>  \n",
       "</tr>\n",
       "<tr>\n",
       "  <td>Dependent Variable:</td>      <td>income</td>            <td>AIC:</td>        <td>42144.9252</td>\n",
       "</tr>\n",
       "<tr>\n",
       "         <td>Date:</td>        <td>2019-07-26 19:23</td>       <td>BIC:</td>        <td>42223.3992</td>\n",
       "</tr>\n",
       "<tr>\n",
       "   <td>No. Observations:</td>        <td>45222</td>       <td>Log-Likelihood:</td>    <td>-21063.</td> \n",
       "</tr>\n",
       "<tr>\n",
       "       <td>Df Model:</td>              <td>8</td>            <td>LL-Null:</td>        <td>-25322.</td> \n",
       "</tr>\n",
       "<tr>\n",
       "     <td>Df Residuals:</td>          <td>45213</td>        <td>LLR p-value:</td>      <td>0.0000</td>  \n",
       "</tr>\n",
       "<tr>\n",
       "      <td>Converged:</td>           <td>1.0000</td>           <td>Scale:</td>         <td>1.0000</td>  \n",
       "</tr>\n",
       "<tr>\n",
       "    <td>No. Iterations:</td>        <td>6.0000</td>              <td></td>               <td></td>     \n",
       "</tr>\n",
       "</table>\n",
       "<table class=\"simpletable\">\n",
       "<tr>\n",
       "         <td></td>          <th>Coef.</th>  <th>Std.Err.</th>     <th>z</th>     <th>P>|z|</th> <th>[0.025</th>  <th>0.975]</th> \n",
       "</tr>\n",
       "<tr>\n",
       "  <th>Intercept</th>       <td>-2.4012</td>  <td>0.0983</td>  <td>-24.4247</td> <td>0.0000</td> <td>-2.5939</td> <td>-2.2085</td>\n",
       "</tr>\n",
       "<tr>\n",
       "  <th>relationship</th>    <td>-0.2532</td>  <td>0.0109</td>  <td>-23.2386</td> <td>0.0000</td> <td>-0.2746</td> <td>-0.2318</td>\n",
       "</tr>\n",
       "<tr>\n",
       "  <th>race</th>            <td>0.1535</td>   <td>0.0181</td>   <td>8.4905</td>  <td>0.0000</td> <td>0.1181</td>  <td>0.1889</td> \n",
       "</tr>\n",
       "<tr>\n",
       "  <th>gender</th>          <td>1.0142</td>   <td>0.0374</td>   <td>27.0911</td> <td>0.0000</td> <td>0.9408</td>  <td>1.0875</td> \n",
       "</tr>\n",
       "<tr>\n",
       "  <th>collars</th>         <td>0.5854</td>   <td>0.0141</td>   <td>41.3923</td> <td>0.0000</td> <td>0.5577</td>  <td>0.6131</td> \n",
       "</tr>\n",
       "<tr>\n",
       "  <th>workclass_recod</th> <td>0.0646</td>   <td>0.0166</td>   <td>3.9000</td>  <td>0.0001</td> <td>0.0321</td>  <td>0.0970</td> \n",
       "</tr>\n",
       "<tr>\n",
       "  <th>educ_recod</th>      <td>0.2424</td>   <td>0.0082</td>   <td>29.4598</td> <td>0.0000</td> <td>0.2263</td>  <td>0.2585</td> \n",
       "</tr>\n",
       "<tr>\n",
       "  <th>civstatus</th>       <td>-0.5532</td>  <td>0.0177</td>  <td>-31.2052</td> <td>0.0000</td> <td>-0.5879</td> <td>-0.5184</td>\n",
       "</tr>\n",
       "<tr>\n",
       "  <th>continent</th>       <td>-0.1411</td>  <td>0.0281</td>   <td>-5.0252</td> <td>0.0000</td> <td>-0.1962</td> <td>-0.0861</td>\n",
       "</tr>\n",
       "</table>"
      ],
      "text/plain": [
       "<class 'statsmodels.iolib.summary2.Summary'>\n",
       "\"\"\"\n",
       "            Resultados regresion Logit para modelo 3\n",
       "=================================================================\n",
       "Model:              Logit            Pseudo R-squared: 0.168     \n",
       "Dependent Variable: income           AIC:              42144.9252\n",
       "Date:               2019-07-26 19:23 BIC:              42223.3992\n",
       "No. Observations:   45222            Log-Likelihood:   -21063.   \n",
       "Df Model:           8                LL-Null:          -25322.   \n",
       "Df Residuals:       45213            LLR p-value:      0.0000    \n",
       "Converged:          1.0000           Scale:            1.0000    \n",
       "No. Iterations:     6.0000                                       \n",
       "-----------------------------------------------------------------\n",
       "                  Coef.  Std.Err.    z     P>|z|   [0.025  0.975]\n",
       "-----------------------------------------------------------------\n",
       "Intercept        -2.4012   0.0983 -24.4247 0.0000 -2.5939 -2.2085\n",
       "relationship     -0.2532   0.0109 -23.2386 0.0000 -0.2746 -0.2318\n",
       "race              0.1535   0.0181   8.4905 0.0000  0.1181  0.1889\n",
       "gender            1.0142   0.0374  27.0911 0.0000  0.9408  1.0875\n",
       "collars           0.5854   0.0141  41.3923 0.0000  0.5577  0.6131\n",
       "workclass_recod   0.0646   0.0166   3.9000 0.0001  0.0321  0.0970\n",
       "educ_recod        0.2424   0.0082  29.4598 0.0000  0.2263  0.2585\n",
       "civstatus        -0.5532   0.0177 -31.2052 0.0000 -0.5879 -0.5184\n",
       "continent        -0.1411   0.0281  -5.0252 0.0000 -0.1962 -0.0861\n",
       "=================================================================\n",
       "\n",
       "\"\"\""
      ]
     },
     "execution_count": 15,
     "metadata": {},
     "output_type": "execute_result"
    }
   ],
   "source": [
    "var_atributos3 = var_atributos.copy()\n",
    "var_atributos3.remove(\"capital_gain\")\n",
    "var_atributos3.remove(\"capital_loss\")\n",
    "var_atributos3.remove(\"age\")\n",
    "var_atributos3.remove(\"hours_per_week\")\n",
    "\n",
    "\n",
    "atributos = '+'.join(var_atributos3)\n",
    "\n",
    "modelo3_de = smf.logit(\"income ~ \" + atributos, df_recod3).fit()\n",
    "modelo3_de.summary2(title=\"Resultados regresion Logit para modelo 3\")"
   ]
  },
  {
   "cell_type": "markdown",
   "metadata": {},
   "source": [
    "Nuevamente no se mejoraron las métricas (AIC y BIC). En el siguiente modelo se intentrá con las variables con mejor correlación.\n",
    "\n",
    "#### Modelo descriptivo 4"
   ]
  },
  {
   "cell_type": "code",
   "execution_count": 16,
   "metadata": {},
   "outputs": [
    {
     "name": "stdout",
     "output_type": "stream",
     "text": [
      "Optimization terminated successfully.\n",
      "         Current function value: 0.406350\n",
      "         Iterations 8\n"
     ]
    },
    {
     "data": {
      "text/html": [
       "<table class=\"simpletable\">\n",
       "<tr>\n",
       "        <td>Model:</td>              <td>Logit</td>      <td>Pseudo R-squared:</td>    <td>0.274</td>  \n",
       "</tr>\n",
       "<tr>\n",
       "  <td>Dependent Variable:</td>      <td>income</td>            <td>AIC:</td>        <td>36771.9078</td>\n",
       "</tr>\n",
       "<tr>\n",
       "         <td>Date:</td>        <td>2019-07-26 19:24</td>       <td>BIC:</td>        <td>36859.1012</td>\n",
       "</tr>\n",
       "<tr>\n",
       "   <td>No. Observations:</td>        <td>45222</td>       <td>Log-Likelihood:</td>    <td>-18376.</td> \n",
       "</tr>\n",
       "<tr>\n",
       "       <td>Df Model:</td>              <td>9</td>            <td>LL-Null:</td>        <td>-25322.</td> \n",
       "</tr>\n",
       "<tr>\n",
       "     <td>Df Residuals:</td>          <td>45212</td>        <td>LLR p-value:</td>      <td>0.0000</td>  \n",
       "</tr>\n",
       "<tr>\n",
       "      <td>Converged:</td>           <td>1.0000</td>           <td>Scale:</td>         <td>1.0000</td>  \n",
       "</tr>\n",
       "<tr>\n",
       "    <td>No. Iterations:</td>        <td>8.0000</td>              <td></td>               <td></td>     \n",
       "</tr>\n",
       "</table>\n",
       "<table class=\"simpletable\">\n",
       "<tr>\n",
       "         <td></td>         <th>Coef.</th>  <th>Std.Err.</th>     <th>z</th>     <th>P>|z|</th> <th>[0.025</th>  <th>0.975]</th> \n",
       "</tr>\n",
       "<tr>\n",
       "  <th>Intercept</th>      <td>-5.1009</td>  <td>0.0951</td>  <td>-53.6333</td> <td>0.0000</td> <td>-5.2873</td> <td>-4.9145</td>\n",
       "</tr>\n",
       "<tr>\n",
       "  <th>age</th>            <td>0.0301</td>   <td>0.0011</td>   <td>27.3776</td> <td>0.0000</td> <td>0.0279</td>  <td>0.0322</td> \n",
       "</tr>\n",
       "<tr>\n",
       "  <th>relationship</th>   <td>-0.1601</td>  <td>0.0119</td>  <td>-13.4081</td> <td>0.0000</td> <td>-0.1835</td> <td>-0.1367</td>\n",
       "</tr>\n",
       "<tr>\n",
       "  <th>gender</th>         <td>1.0059</td>   <td>0.0418</td>   <td>24.0874</td> <td>0.0000</td> <td>0.9241</td>  <td>1.0878</td> \n",
       "</tr>\n",
       "<tr>\n",
       "  <th>capital_gain</th>   <td>0.0003</td>   <td>0.0000</td>   <td>39.4754</td> <td>0.0000</td> <td>0.0003</td>  <td>0.0003</td> \n",
       "</tr>\n",
       "<tr>\n",
       "  <th>capital_loss</th>   <td>0.0007</td>   <td>0.0000</td>   <td>24.8205</td> <td>0.0000</td> <td>0.0006</td>  <td>0.0007</td> \n",
       "</tr>\n",
       "<tr>\n",
       "  <th>hours_per_week</th> <td>0.0304</td>   <td>0.0012</td>   <td>26.2878</td> <td>0.0000</td> <td>0.0282</td>  <td>0.0327</td> \n",
       "</tr>\n",
       "<tr>\n",
       "  <th>collars</th>        <td>0.5476</td>   <td>0.0152</td>   <td>36.0485</td> <td>0.0000</td> <td>0.5178</td>  <td>0.5774</td> \n",
       "</tr>\n",
       "<tr>\n",
       "  <th>educ_recod</th>     <td>0.2050</td>   <td>0.0089</td>   <td>23.0678</td> <td>0.0000</td> <td>0.1876</td>  <td>0.2224</td> \n",
       "</tr>\n",
       "<tr>\n",
       "  <th>civstatus</th>      <td>-0.4144</td>  <td>0.0185</td>  <td>-22.4538</td> <td>0.0000</td> <td>-0.4506</td> <td>-0.3782</td>\n",
       "</tr>\n",
       "</table>"
      ],
      "text/plain": [
       "<class 'statsmodels.iolib.summary2.Summary'>\n",
       "\"\"\"\n",
       "            Resultados regresion Logit para modelo 3\n",
       "=================================================================\n",
       "Model:              Logit            Pseudo R-squared: 0.274     \n",
       "Dependent Variable: income           AIC:              36771.9078\n",
       "Date:               2019-07-26 19:24 BIC:              36859.1012\n",
       "No. Observations:   45222            Log-Likelihood:   -18376.   \n",
       "Df Model:           9                LL-Null:          -25322.   \n",
       "Df Residuals:       45212            LLR p-value:      0.0000    \n",
       "Converged:          1.0000           Scale:            1.0000    \n",
       "No. Iterations:     8.0000                                       \n",
       "-----------------------------------------------------------------\n",
       "                  Coef.  Std.Err.    z     P>|z|   [0.025  0.975]\n",
       "-----------------------------------------------------------------\n",
       "Intercept        -5.1009   0.0951 -53.6333 0.0000 -5.2873 -4.9145\n",
       "age               0.0301   0.0011  27.3776 0.0000  0.0279  0.0322\n",
       "relationship     -0.1601   0.0119 -13.4081 0.0000 -0.1835 -0.1367\n",
       "gender            1.0059   0.0418  24.0874 0.0000  0.9241  1.0878\n",
       "capital_gain      0.0003   0.0000  39.4754 0.0000  0.0003  0.0003\n",
       "capital_loss      0.0007   0.0000  24.8205 0.0000  0.0006  0.0007\n",
       "hours_per_week    0.0304   0.0012  26.2878 0.0000  0.0282  0.0327\n",
       "collars           0.5476   0.0152  36.0485 0.0000  0.5178  0.5774\n",
       "educ_recod        0.2050   0.0089  23.0678 0.0000  0.1876  0.2224\n",
       "civstatus        -0.4144   0.0185 -22.4538 0.0000 -0.4506 -0.3782\n",
       "=================================================================\n",
       "\n",
       "\"\"\""
      ]
     },
     "execution_count": 16,
     "metadata": {},
     "output_type": "execute_result"
    }
   ],
   "source": [
    "var_atributos4 = var_atributos.copy()\n",
    "var_atributos4.remove(\"race\")\n",
    "var_atributos4.remove(\"workclass_recod\")\n",
    "var_atributos4.remove(\"continent\")\n",
    "    \n",
    "atributos = '+'.join(var_atributos4)\n",
    "\n",
    "modelo4_de = smf.logit(\"income ~ \" + atributos, df_recod3).fit()\n",
    "modelo4_de.summary2(title=\"Resultados regresion Logit para modelo 3\")"
   ]
  },
  {
   "cell_type": "markdown",
   "metadata": {},
   "source": [
    "El último modelo tiene valores muy similares comparado con el modelo descriptivo 1 de AIC y BIC. Cómo el último modelo utiliza menos variables, para llegar a resultados similares, se usará este modelo para la obtención de probabilidades."
   ]
  }
 ],
 "metadata": {
  "hide_input": false,
  "kernelspec": {
   "display_name": "Python 3",
   "language": "python",
   "name": "python3"
  },
  "language_info": {
   "codemirror_mode": {
    "name": "ipython",
    "version": 3
   },
   "file_extension": ".py",
   "mimetype": "text/x-python",
   "name": "python",
   "nbconvert_exporter": "python",
   "pygments_lexer": "ipython3",
   "version": "3.7.3"
  },
  "latex_envs": {
   "LaTeX_envs_menu_present": true,
   "autoclose": false,
   "autocomplete": true,
   "bibliofile": "biblio.bib",
   "cite_by": "apalike",
   "current_citInitial": 1,
   "eqLabelWithNumbers": true,
   "eqNumInitial": 1,
   "hotkeys": {
    "equation": "Ctrl-E",
    "itemize": "Ctrl-I"
   },
   "labels_anchors": false,
   "latex_user_defs": false,
   "report_style_numbering": false,
   "user_envs_cfg": false
  },
  "toc": {
   "base_numbering": 1,
   "nav_menu": {},
   "number_sections": true,
   "sideBar": true,
   "skip_h1_title": true,
   "title_cell": "Table of Contents",
   "title_sidebar": "Contents",
   "toc_cell": false,
   "toc_position": {
    "height": "calc(100% - 180px)",
    "left": "10px",
    "top": "150px",
    "width": "299.188px"
   },
   "toc_section_display": true,
   "toc_window_display": true
  }
 },
 "nbformat": 4,
 "nbformat_minor": 2
}
