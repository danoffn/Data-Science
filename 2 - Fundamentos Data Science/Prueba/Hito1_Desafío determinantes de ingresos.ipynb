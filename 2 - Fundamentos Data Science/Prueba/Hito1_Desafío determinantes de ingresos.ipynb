{
 "cells": [
  {
   "cell_type": "markdown",
   "metadata": {},
   "source": [
    "# Determinantes del ingreso\n",
    "\n",
    "__Integrantes:__ \n",
    "\n",
    "- Daniel Flores\n",
    "- Francisco Fernández\n"
   ]
  },
  {
   "cell_type": "markdown",
   "metadata": {},
   "source": [
    "## Preliminares\n",
    "\n",
    "### Problema:\n",
    "\n",
    "Un organismo no gubernamental  está interesado en las dinámicas socioeconómicas que determinan la desigualdad de ingreso y la erradicación de la pobreza extrema, enmarcado dentro de los objetivos del desarrollo del nuevo milenio del Programa de las Naciones Unidas para el Desarrollo.\n",
    "\n",
    "### Objetivo:\n",
    "\n",
    "Desarrollar un modelo predictivo de clasificación sobre la probabilidad que un individuo presente salarios bajo los 50.000 dólares anuales, en base a una serie de atributos sociodemográficos $X_i$.\n",
    "\n",
    "El modelo a estimar es:\n",
    "\n",
    "$$\\log\\left(\\frac{p({ income \\gt 50000})}{1 - p({ income \\gt 50000})}\\right)={{\\beta }_{0} + \\sum_{i=1} {\\beta }_{i} \\cdot {X_{i}}}$$\n",
    "\n",
    "\n",
    "### Implementación de la solución: \n",
    "\n",
    "- Se implementará una regresion logística para la clasificación de los salarios sobre y bajo los 50.000 dolares anuales, binarizando la variable `income` entre 0 y 1.\n",
    "- El método de optimización es el de la máxima verosimilitud de la función de distribución binomial para la estimación de  parámetros.\n",
    "\n",
    "### Métricas de evaluación\n",
    "\n",
    "Se utilizarán las siguientes métricas:\n",
    "\n",
    "- Matriz de confusión: cantidad de observaciones predichas de forma correcta.\n",
    "- Accuracy (exactitud): porcentaje de casos predichos correctamente por sobre el total de casos.\n",
    "- Precision: mide la fracción de predicciones correctas entre las etiquetas positivas.\n",
    "- Recall: Mide la fraccion de verdaderos positivos predichos por el modelo.\n",
    "- F1: representa la media armónica entre Precision y Recall (es decir, una medida general de la presición).\n",
    "- ROC (en particular, AUC): evalúa la relación entre ambos errores (falsos positivos y falso negativo) condicional en todo el rango del clasificador.\n",
    "\n",
    "Teniendo en consideración que el objetivo es erradización de la pobreza extrema y las dinámicas que determinan la desigualdad de ingresos.\n",
    "\n",
    "### Estrategia de preprocesamiento de datos:\n",
    "\n",
    "- Se realizará el siguiente preprocesamiento:\n",
    "    - Transformación de datos pérdidos, los datos pérdidos simbolizados con `?` que se cambiarán a `NaN`.\n",
    "    - Recodificación, se seguirá la sugerencia de la organización. Se detalla en sección recodifición.\n",
    "    - Binarización: se recodificarán las variables binarias, con valor 1 a las categorías minoritarias."
   ]
  },
  {
   "cell_type": "markdown",
   "metadata": {},
   "source": [
    "## Aspectos computacionales\n",
    "\n",
    "Se utilizara las principales librerias para el analisis de datos, las cuales son:\n",
    "\n",
    "### Bibliotecas de Python \n",
    " \n",
    "- `pandas`:  Permite realizar tareas de manipulación, agregación y visualización de datos de forma más sencilla.\n",
    "- `numpy`: Agrega soporte para vectores y matrices y  funciones matemáticas de alto nivel para operar con esos datos. \n",
    "- `matplotlib`: Permite crear visualizaciones de datos simples.\n",
    "- `seaborn`: Permite visualizar modelos estadísticos. Se basa en Matplotlib.\n",
    "- `statsmodels`: Estimación de modelos estadísticos, en nuestro caso la regresion logística.\n",
    "- `scikit-learn`: Implementa aprendizaje de máquina, incluye varios algoritmos de clasificación, regresión y métricas, incluyendo varias herramientas útiles, como separación de datos de entrenamiento, validación cruzada y codificación de variables categóricas.\n",
    "- `factor_analizer`: Permite implementar el EFA (análisis factorial exploratorio).\n",
    "- `missingno`: Biblioteca para la visualización de datos perdidos.\n",
    "- `warnings`: Evitará que aparezcan las advertencias de avisos de deprecación.\n",
    "- `IPython.display`: Embellece el output de salida. \n",
    "- `funciones_def1`: Módulo que contiene función para graficar\n",
    "\n",
    "### Módulos y funciones de Python\n",
    "\n",
    "- `funciones_def1`: Módulo que contiene función para graficar"
   ]
  },
  {
   "cell_type": "code",
   "execution_count": 1,
   "metadata": {},
   "outputs": [],
   "source": [
    "import pandas as pd\n",
    "import numpy as np\n",
    "import seaborn as sns\n",
    "import matplotlib.pyplot as plt\n",
    "\n",
    "import statsmodels.api as sm\n",
    "import statsmodels.formula.api as smf\n",
    "\n",
    "from sklearn.linear_model import LogisticRegression\n",
    "from sklearn.model_selection import train_test_split\n",
    "from sklearn.preprocessing import StandardScaler\n",
    "from sklearn.preprocessing import LabelEncoder\n",
    "from sklearn.metrics import classification_report\n",
    "from sklearn.metrics import roc_curve\n",
    "from sklearn.metrics import roc_auc_score\n",
    "from sklearn.metrics import confusion_matrix\n",
    "from sklearn.model_selection import cross_validate\n",
    "\n",
    "import factor_analyzer as factor\n",
    "import missingno as msngo\n",
    "import warnings\n",
    "\n",
    "from IPython.display import display, Markdown\n",
    "\n",
    "from funciones_def1 import graficar\n",
    "\n",
    "warnings.filterwarnings('ignore')"
   ]
  },
  {
   "cell_type": "code",
   "execution_count": null,
   "metadata": {},
   "outputs": [],
   "source": []
  }
 ],
 "metadata": {
  "hide_input": false,
  "kernelspec": {
   "display_name": "Python 3",
   "language": "python",
   "name": "python3"
  },
  "language_info": {
   "codemirror_mode": {
    "name": "ipython",
    "version": 3
   },
   "file_extension": ".py",
   "mimetype": "text/x-python",
   "name": "python",
   "nbconvert_exporter": "python",
   "pygments_lexer": "ipython3",
   "version": "3.7.3"
  },
  "latex_envs": {
   "LaTeX_envs_menu_present": true,
   "autoclose": false,
   "autocomplete": true,
   "bibliofile": "biblio.bib",
   "cite_by": "apalike",
   "current_citInitial": 1,
   "eqLabelWithNumbers": true,
   "eqNumInitial": 1,
   "hotkeys": {
    "equation": "Ctrl-E",
    "itemize": "Ctrl-I"
   },
   "labels_anchors": false,
   "latex_user_defs": false,
   "report_style_numbering": false,
   "user_envs_cfg": false
  },
  "toc": {
   "base_numbering": 1,
   "nav_menu": {},
   "number_sections": true,
   "sideBar": true,
   "skip_h1_title": true,
   "title_cell": "Table of Contents",
   "title_sidebar": "Contents",
   "toc_cell": false,
   "toc_position": {
    "height": "calc(100% - 180px)",
    "left": "10px",
    "top": "150px",
    "width": "299.188px"
   },
   "toc_section_display": true,
   "toc_window_display": true
  }
 },
 "nbformat": 4,
 "nbformat_minor": 2
}
