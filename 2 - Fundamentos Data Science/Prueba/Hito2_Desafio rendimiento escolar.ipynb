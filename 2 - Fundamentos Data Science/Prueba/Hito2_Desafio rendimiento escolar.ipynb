{
 "cells": [
  {
   "cell_type": "markdown",
   "metadata": {},
   "source": [
    "# Desafío 2: Rendimiento Escolar\n",
    "\n",
    "__Integrantes:__ \n",
    "- Daniel Flores\n",
    "- Francisco Fernandez\n",
    "\n",
    "Sección G1\n"
   ]
  },
  {
   "cell_type": "markdown",
   "metadata": {},
   "source": [
    "# HITO 1:\n",
    "\n",
    "### __Preliminares:__\n",
    "\n",
    "__Enunciado:__\n",
    "\n",
    "- Lo contactan de una escuela Portuguesa para generar un modelo que identifique aquellos alumnos que presentan un bajo desempeño académico, medido en el promedio final del año escolar. Para ello le envían un archivo con registros sociodemográficos y conductuales de los alumnos dos escuelas para perfilar a los estudiantes.\n",
    "\n",
    "- De manera adicional la psicopedagoga sugiere inspeccionar una batería de preguntas asociadas a aspectos ambientales del alumno (de famrel a health ) y ver si éstas se pueden abstraer en categorías latentes.\n",
    "\n",
    "\n",
    "- Las variables que componen esta base se detallan a continuación:\n",
    "\n",
    "\n",
    "$school$ : Escuela del estudiante. (binaria: 'GP' - Gabriel Pereira o 'MS' - Mousinho da Silveira)\n",
    "\n",
    "$sex$ : Sexo del estudiante. (binaria: 'F' - Mujer o 'M' - Hombre)\n",
    "\n",
    "$age$ : Edad del estudiante. (numérica: de 15 a 22)\n",
    "\n",
    "$address$ : Ubicación de la casa del estudiante. (binaria: 'U' - urbana o 'R' - rural)\n",
    "\n",
    "$famsize$ : Tamaño de la familia. (binaria: 'LE3' - less or equal to 3 or 'GT3' - greater than 3)\n",
    "\n",
    "$Pstatus$ : Estado cohabitacional de los padres. (binaria: 'T' - cohabitando juntos o 'A' - viviendo separados)\n",
    "\n",
    "$Medu$ : Nivel educacional de la madre. (numérica: 0 - ninguno, 1 - educación básica (4to), 2 - de 5to a 9, 3 - educación media, o 4 - educación superior).\n",
    "\n",
    "$Fedu$ : Nivel educacional del padre. (numérica: 0 - ninguno, 1 - educación básica (4to), 2 - de 5to a 9, 3 - educación media, o 4 - educación superior).\n",
    "\n",
    "$Mjob$ : Ocupación de la madre. (nominal: 'teacher' profesora, 'health' relacionada a salud, 'services' (e.g. administración pública o policía), 'at_home' en casa u 'other' otra).\n",
    "\n",
    "$Fjob$ : Ocupación del padre (nominal: 'teacher' profesor, 'health' relacionado a salud, 'services' (e.g. administración pública o policía), 'at_home' en casa u 'other' otra).\n",
    "\n",
    "$reason$ : Razón para escoger la escuela (nominal: 'home' cercano a casa, 'reputation' reputación de la escuela, 'course' preferencia de cursos u 'other' otra)\n",
    "\n",
    "$guardian$ : Apoderado del estudiante (nominal: 'mother' madre, 'father' padre u 'other' otro)\n",
    "\n",
    "$traveltime$ : Tiempo de viaje entre hogar y colegio. (numeric: 1 - <15 min., 2 - 15 a 30 min., 3 - 30 min. a 1 hora, or 4 - >1 hora).\n",
    "\n",
    "$studytime$ : Horas semanales dedicadas al estudio. (numérica: 1 - <2 horas, 2 - 2 a 5 horas, 3 - 5 a 10 horas, o 4 - >10 horas)\n",
    "\n",
    "$failures$ : Número de clases reprobadas. (numérica: n si 1<=n<3, de lo contrario 4)\n",
    "\n",
    "$schoolsup$ : Apoyo educacional del colegio. (binaria: si o no)\n",
    "\n",
    "$famsup$ : Apoyo educacional familiar. (binaria: si o no)\n",
    "\n",
    "$paid$ : Clases particulares pagadas (matemáticas o portugués) (binaria: si o no)\n",
    "\n",
    "$activities$ : Actividades extracurriculares. (binaria: si o no)\n",
    "\n",
    "$nursery$ : Asistió a guardería infantil. (binaria: si o no)\n",
    "\n",
    "$higher$ : Desea proseguir estudios superiores (binaria: si o no)\n",
    "\n",
    "$internet$ : Acceso a internet desde el hogar (binaria: si o no)\n",
    "\n",
    "$romantic$ : Relación romántica (binaria: si o no)\n",
    "\n",
    "$famrel$ : Calidad de las relaciones familiares. (numérica: de 1 - muy malas a 5 - excelentes)\n",
    "\n",
    "$freetime$ : Tiempo libre fuera del colegio (numérica: de 1 - muy poco a 5 - mucho)\n",
    "\n",
    "$goout$ : Salidas con amigos (numérica: de 1 - muy pocas a 5 - muchas)\n",
    "\n",
    "$Dalc$ : Consumo de alcohol en día de semana (numérica: de 1 - muy bajo a 5 - muy alto)\n",
    "\n",
    "$Walc$ : Consumo de alcohol en fines de semana (numérica: de 1 - muy bajo a 5 - muy alto)\n",
    "\n",
    "$health$ : Estado de salud actual (numérica: from 1 - muy malo to 5 - muy bueno)\n",
    "\n",
    "$absences$ : Cantidad de ausencias escolares (numérica: de 0 a 93)\n",
    "\n",
    "$G1$ : Notas durante el primer semestre (numérica: de 0 a 20). Este es uno de sus vectores objetivos para el modelo descriptivo.\n",
    "\n",
    "$G2$ : Notas durante el segundo semestre (numérica: de 0 a 20). Este es uno de sus vectores objetivos para el modelo descriptivo.\n",
    "\n",
    "$G3$ : Promedio final (numérica: de 0 a 20). Este es uno de sus vectores objetivos para el\n",
    "modelo descriptivo y el vector a predecir en el modelo predictivo.\n"
   ]
  },
  {
   "cell_type": "markdown",
   "metadata": {},
   "source": [
    "__Problema__:\n",
    "\n",
    "Una escuela portuguesa necesita identificar aquellos alumnos que presentan un bajo desempeño académico, medido en el promedio final del año escolar.\n",
    " \n",
    "__Objetivo__:\n",
    "\n",
    "Perfilar a los estudiantes mediante variables sociodemográficas y conductuales. Además se pide analizar la posibilidad de abstraer en categorias latentes un cojunto de variables ambientales del alumno.\n",
    "\n",
    "__Solucion__: \n",
    "\n",
    "- Para perfilar a los estudiantes se empleara un módelo descriptivo en base a las notas registradas en el primer semestre, segundo semestre y el promdedio final. Para ello se planeta realizar regresiones lineales múltiples por separado y considerando todas las variables presentes (módelos saturados), previamente se analizará la posibilidad de reducción de las variables ambientales del alumno a factores latentes que puedan ser incluidos en el modelo descriptivo. \n",
    "\n",
    "- Para evaluar el ajuste de los modelos, se interpretaran los valores de los estadísticos de bondad de ajuste $R-Cuadrado$ y $Prueba-F$. Por su parte cada variable incluida en el modelo se interpreta de forma individual los siguientes estadísticos asociados: \n",
    "\n",
    "    -$coef$ : El parámetro estimado en sí.\n",
    "\n",
    "    -$std err$ : El error estandar asociado al parámetro.\n",
    "\n",
    "    -$t$ : El valor crítico del coeficiente.\n",
    "\n",
    "    -$P>|t|$ : El valor p que pone a prueba la significancia estadística del coeficiente.\n",
    "\n",
    "    -$[0.025 0.975]$ : El intervalo de confianza al 95% del parámetro.\n",
    "\n",
    "\n",
    "- Por otra parte, en base a los modelos descriptivos anteriores, se genera un modelo predictivo cuyo vector objetivo será el promedio final. Para evaluar el ajuste del módelo utilizaremos el Promedio del Error Cuadrático y el R-cuadrado."
   ]
  },
  {
   "cell_type": "markdown",
   "metadata": {},
   "source": [
    "### Aspectos computacionales\n",
    "\n",
    "__Librerias de Python a utilizar:__\n",
    "- pandas: para la manipulación de las tablas de datos a través de los DataFrame y arrays.\n",
    "- numpy: para la conversión de datos en matrices/vectores y la manipulación de estos en los cálculos de alguans métricas.\n",
    "- sklearn: para aplicar el algoritmo de aprendizaje supervisado, selección de matrices y vectores train/test, estandarización, entre otros.\n",
    "        -Módulo: Linear-Model\n",
    "            -Método_ LinearRegression\n",
    "        -Módulo: Model-Selection\n",
    "            -Método: Train-Test_split\n",
    "        -Módulo: sklearn-preprocessing\n",
    "            -Método: StandardScaler\n",
    "        -Módulo: metrics\n",
    "            -Método: mean_squared_error\n",
    "            -Método: r2_score\n",
    "        -Módulo: model_selection\n",
    "            -Método: cross_val_score\n",
    "- Sebaorn: para algunas descripciones estadísticas.\n",
    "- Statsmodels: para algunos cálculos estadísticos.\n",
    "- Matplotlib: para la generación de gráficos.\n",
    "- factor_analyzer: para análisis factoriales.\n",
    "    -Método: calculate_bartlett_sphericity\n",
    "    -Método: calculate_kmo\n",
    "- missingno: para visualizar patrones de datos pérdidos.\n",
    "- Warnings: para evitar avisos de precaución.\n",
    "\n",
    "__Funciones generadas:__\n",
    "\n",
    "- Función __tipo_variable__: devuelve el nombre y el tipo de variable para todas las variables en la base de datos.\n",
    "- Función __descripcion_variable__: devuelve las estadísticas descriptivas de todas las variables en la base de datos.\n",
    "- Función __histograma__: genera el histograma de frecuencia de datos y grafica la media.\n",
    "- Función __distribucion_frecuencias__: genera el gráfico de barra.\n",
    "- Función __report_scores__: imprime las métricas del Error Cuadrático promedio y R2.\n",
    "\n",
    "\n",
    "### __Preprocesamiento de datos:__\n",
    "\n",
    "__Análsis exploratorio__: para determinar la cantidad de casos, estudiar las variables presentes y obtener las medidas descriptivas de los datos con los que vamos a trabajar.\n",
    "\n",
    "__Data Clean__: Dado que la base de datos presenta una serie de anomalías, se procederá a la limpieza y estandarización de los datos, en primera instancia transformando los datos pérdidos que estan registrados bajo tres categorias: nulidade, sem validade, zero. También se ralizaran las respectivas recodificaciones acorde a las nomenclaturas indicadas y binarozación de las variables dicotómicas. \n",
    "\n",
    "__Data Process__: se estudiaran las correlaciones para determinar la intensidad de las asociaciones entre las variables de la base de datos y su posible redundancia. Luego, se realizaran modelos de regresión lineal saturados (cosniderando todas las variables) pero antes de plantear las regresiones, se analizará la posible formación de factores latentes con las variables de aspectos ambientales del alumno; de determinarse la existencia de dichos factores estos seran cosniderados como variables independientes en las regresiones y posterior modelo predictivo. Para el modelo predictivo, se segmentará nuestra base de datos en entrenamiento y validación siguiendo el criterio de guardar el 30% de la muestra como validación. De ser necesario, se estandarizaran las variables para homogeneizarlas y facilitar la comparación entre atributos. Aplicamos el modelo y evaluamos las métricas de ajuste.\n"
   ]
  },
  {
   "cell_type": "markdown",
   "metadata": {},
   "source": [
    "# Hito 2:\n",
    "\n",
    "__Descripción:__ análisis descriptivo considerando el tipo de variables (desde el punto de vista estadístico así como computacional). Esta sección debe considerar medidas univariadas/frecuencias, datos perdidos y gráficos distributivos sobre las variables a analizar. A partir de ésta se debe clarificar la estrategia de preprocesamiento datos perdidos, recodificaciones).\n",
    "\n",
    "__Elementos a considerar en éste hito:__\n",
    "\n",
    "- La inspección visual del vector objetivo. \n",
    "- La inspección visual de las variables.\n",
    "- La inspección de datos perdidos en las variables.\n",
    "- De ser necesario, se puede iterar en el proceso de preprocesamiento y recodificación de las variables"
   ]
  },
  {
   "cell_type": "code",
   "execution_count": 499,
   "metadata": {},
   "outputs": [
    {
     "data": {
      "text/html": [
       "<div>\n",
       "<style scoped>\n",
       "    .dataframe tbody tr th:only-of-type {\n",
       "        vertical-align: middle;\n",
       "    }\n",
       "\n",
       "    .dataframe tbody tr th {\n",
       "        vertical-align: top;\n",
       "    }\n",
       "\n",
       "    .dataframe thead th {\n",
       "        text-align: right;\n",
       "    }\n",
       "</style>\n",
       "<table border=\"1\" class=\"dataframe\">\n",
       "  <thead>\n",
       "    <tr style=\"text-align: right;\">\n",
       "      <th></th>\n",
       "      <th>Unnamed: 0</th>\n",
       "      <th>school</th>\n",
       "      <th>sex</th>\n",
       "      <th>age</th>\n",
       "      <th>address</th>\n",
       "      <th>famsize</th>\n",
       "      <th>Pstatus</th>\n",
       "      <th>Medu</th>\n",
       "      <th>Fedu</th>\n",
       "      <th>Mjob</th>\n",
       "      <th>...</th>\n",
       "      <th>famrel</th>\n",
       "      <th>freetime</th>\n",
       "      <th>goout</th>\n",
       "      <th>Dalc</th>\n",
       "      <th>Walc</th>\n",
       "      <th>health</th>\n",
       "      <th>absences</th>\n",
       "      <th>G1</th>\n",
       "      <th>G2</th>\n",
       "      <th>G3</th>\n",
       "    </tr>\n",
       "  </thead>\n",
       "  <tbody>\n",
       "    <tr>\n",
       "      <th>0</th>\n",
       "      <td>0</td>\n",
       "      <td>GP</td>\n",
       "      <td>F</td>\n",
       "      <td>nulidade</td>\n",
       "      <td>U</td>\n",
       "      <td>GT3</td>\n",
       "      <td>A</td>\n",
       "      <td>4</td>\n",
       "      <td>4</td>\n",
       "      <td>at_home</td>\n",
       "      <td>...</td>\n",
       "      <td>4</td>\n",
       "      <td>3</td>\n",
       "      <td>\"4\"</td>\n",
       "      <td>1</td>\n",
       "      <td>1</td>\n",
       "      <td>\"3\"</td>\n",
       "      <td>6</td>\n",
       "      <td>5</td>\n",
       "      <td>6</td>\n",
       "      <td>6</td>\n",
       "    </tr>\n",
       "    <tr>\n",
       "      <th>1</th>\n",
       "      <td>1</td>\n",
       "      <td>GP</td>\n",
       "      <td>F</td>\n",
       "      <td>\"17\"</td>\n",
       "      <td>U</td>\n",
       "      <td>GT3</td>\n",
       "      <td>T</td>\n",
       "      <td>1</td>\n",
       "      <td>1</td>\n",
       "      <td>at_home</td>\n",
       "      <td>...</td>\n",
       "      <td>5</td>\n",
       "      <td>3</td>\n",
       "      <td>\"3\"</td>\n",
       "      <td>1</td>\n",
       "      <td>1</td>\n",
       "      <td>\"3\"</td>\n",
       "      <td>4</td>\n",
       "      <td>5</td>\n",
       "      <td>5</td>\n",
       "      <td>6</td>\n",
       "    </tr>\n",
       "    <tr>\n",
       "      <th>2</th>\n",
       "      <td>2</td>\n",
       "      <td>GP</td>\n",
       "      <td>F</td>\n",
       "      <td>\"15\"</td>\n",
       "      <td>U</td>\n",
       "      <td>LE3</td>\n",
       "      <td>T</td>\n",
       "      <td>1</td>\n",
       "      <td>1</td>\n",
       "      <td>at_home</td>\n",
       "      <td>...</td>\n",
       "      <td>4</td>\n",
       "      <td>3</td>\n",
       "      <td>\"2\"</td>\n",
       "      <td>2</td>\n",
       "      <td>3</td>\n",
       "      <td>\"3\"</td>\n",
       "      <td>10</td>\n",
       "      <td>zero</td>\n",
       "      <td>8</td>\n",
       "      <td>10</td>\n",
       "    </tr>\n",
       "    <tr>\n",
       "      <th>3</th>\n",
       "      <td>3</td>\n",
       "      <td>GP</td>\n",
       "      <td>F</td>\n",
       "      <td>\"15\"</td>\n",
       "      <td>U</td>\n",
       "      <td>GT3</td>\n",
       "      <td>T</td>\n",
       "      <td>4</td>\n",
       "      <td>2</td>\n",
       "      <td>health</td>\n",
       "      <td>...</td>\n",
       "      <td>3</td>\n",
       "      <td>2</td>\n",
       "      <td>\"2\"</td>\n",
       "      <td>1</td>\n",
       "      <td>1</td>\n",
       "      <td>\"5\"</td>\n",
       "      <td>2</td>\n",
       "      <td>15</td>\n",
       "      <td>14</td>\n",
       "      <td>15</td>\n",
       "    </tr>\n",
       "    <tr>\n",
       "      <th>4</th>\n",
       "      <td>4</td>\n",
       "      <td>GP</td>\n",
       "      <td>F</td>\n",
       "      <td>sem validade</td>\n",
       "      <td>U</td>\n",
       "      <td>GT3</td>\n",
       "      <td>T</td>\n",
       "      <td>3</td>\n",
       "      <td>3</td>\n",
       "      <td>other</td>\n",
       "      <td>...</td>\n",
       "      <td>4</td>\n",
       "      <td>3</td>\n",
       "      <td>\"2\"</td>\n",
       "      <td>1</td>\n",
       "      <td>2</td>\n",
       "      <td>\"5\"</td>\n",
       "      <td>4</td>\n",
       "      <td>6</td>\n",
       "      <td>10</td>\n",
       "      <td>10</td>\n",
       "    </tr>\n",
       "  </tbody>\n",
       "</table>\n",
       "<p>5 rows × 34 columns</p>\n",
       "</div>"
      ],
      "text/plain": [
       "   Unnamed: 0 school sex           age address famsize Pstatus Medu Fedu  \\\n",
       "0           0     GP   F      nulidade       U     GT3       A    4    4   \n",
       "1           1     GP   F          \"17\"       U     GT3       T    1    1   \n",
       "2           2     GP   F          \"15\"       U     LE3       T    1    1   \n",
       "3           3     GP   F          \"15\"       U     GT3       T    4    2   \n",
       "4           4     GP   F  sem validade       U     GT3       T    3    3   \n",
       "\n",
       "      Mjob  ... famrel freetime goout Dalc Walc health absences    G1  G2  G3  \n",
       "0  at_home  ...      4        3   \"4\"    1    1    \"3\"        6     5   6   6  \n",
       "1  at_home  ...      5        3   \"3\"    1    1    \"3\"        4     5   5   6  \n",
       "2  at_home  ...      4        3   \"2\"    2    3    \"3\"       10  zero   8  10  \n",
       "3   health  ...      3        2   \"2\"    1    1    \"5\"        2    15  14  15  \n",
       "4    other  ...      4        3   \"2\"    1    2    \"5\"        4     6  10  10  \n",
       "\n",
       "[5 rows x 34 columns]"
      ]
     },
     "execution_count": 499,
     "metadata": {},
     "output_type": "execute_result"
    }
   ],
   "source": [
    "import pandas as pd\n",
    "import numpy as np\n",
    "import scipy.stats as stats\n",
    "import matplotlib.pyplot as plt\n",
    "import seaborn as sns\n",
    "import statsmodels.api as stm\n",
    "import statsmodels.formula.api as smf\n",
    "import missingno as msngo\n",
    "import factor_analyzer as factor\n",
    "from sklearn.model_selection import train_test_split\n",
    "from sklearn import linear_model\n",
    "from sklearn.metrics import mean_squared_error, r2_score\n",
    "\n",
    "\n",
    "import warnings\n",
    "warnings.filterwarnings(\"ignore\")\n",
    "\n",
    "#Lecrura de la base de datos\n",
    "df = pd.read_csv(\"students.csv\", sep='|')\n",
    "df.head()"
   ]
  },
  {
   "cell_type": "code",
   "execution_count": 500,
   "metadata": {},
   "outputs": [
    {
     "name": "stdout",
     "output_type": "stream",
     "text": [
      "La base de datos tiene 34 variables y 395 registros.\n"
     ]
    }
   ],
   "source": [
    "print(\"La base de datos tiene {} variables y {} registros.\".format(df.shape[1],df.shape[0]))"
   ]
  },
  {
   "cell_type": "markdown",
   "metadata": {},
   "source": [
    "# Lista y Tipo de variables presentes en la base de datos"
   ]
  },
  {
   "cell_type": "code",
   "execution_count": 501,
   "metadata": {},
   "outputs": [
    {
     "name": "stdout",
     "output_type": "stream",
     "text": [
      "La variable Unnamed: 0 es de tipo int64.\n",
      "La variable school es de tipo object.\n",
      "La variable sex es de tipo object.\n",
      "La variable age es de tipo object.\n",
      "La variable address es de tipo object.\n",
      "La variable famsize es de tipo object.\n",
      "La variable Pstatus es de tipo object.\n",
      "La variable Medu es de tipo object.\n",
      "La variable Fedu es de tipo object.\n",
      "La variable Mjob es de tipo object.\n",
      "La variable Fjob es de tipo object.\n",
      "La variable reason es de tipo object.\n",
      "La variable guardian es de tipo object.\n",
      "La variable traveltime es de tipo object.\n",
      "La variable studytime es de tipo object.\n",
      "La variable failures es de tipo object.\n",
      "La variable schoolsup es de tipo object.\n",
      "La variable famsup es de tipo object.\n",
      "La variable paid es de tipo object.\n",
      "La variable activities es de tipo object.\n",
      "La variable nursery es de tipo object.\n",
      "La variable higher es de tipo object.\n",
      "La variable internet es de tipo object.\n",
      "La variable romantic es de tipo object.\n",
      "La variable famrel es de tipo object.\n",
      "La variable freetime es de tipo object.\n",
      "La variable goout es de tipo object.\n",
      "La variable Dalc es de tipo object.\n",
      "La variable Walc es de tipo object.\n",
      "La variable health es de tipo object.\n",
      "La variable absences es de tipo object.\n",
      "La variable G1 es de tipo object.\n",
      "La variable G2 es de tipo int64.\n",
      "La variable G3 es de tipo object.\n"
     ]
    }
   ],
   "source": [
    "%run funciones_def_2.py\n",
    "tipo_variable(df)"
   ]
  },
  {
   "cell_type": "markdown",
   "metadata": {},
   "source": [
    "# Estadisticas descriptivas de las variables"
   ]
  },
  {
   "cell_type": "code",
   "execution_count": 502,
   "metadata": {},
   "outputs": [
    {
     "name": "stdout",
     "output_type": "stream",
     "text": [
      "\n",
      " Variable: Unnamed: 0 \n",
      " \n",
      " Estadísticos descriptivos: \n",
      "\n",
      "count    395.000000\n",
      "mean     197.000000\n",
      "std      114.170924\n",
      "min        0.000000\n",
      "25%       98.500000\n",
      "50%      197.000000\n",
      "75%      295.500000\n",
      "max      394.000000\n",
      "Name: Unnamed: 0, dtype: float64\n",
      "\n",
      " Variable: school \n",
      " \n",
      " Estadísticos descriptivos: \n",
      "\n",
      "count     395\n",
      "unique      5\n",
      "top        GP\n",
      "freq      345\n",
      "Name: school, dtype: object\n",
      "\n",
      " Variable: sex \n",
      " \n",
      " Estadísticos descriptivos: \n",
      "\n",
      "count     395\n",
      "unique      5\n",
      "top         F\n",
      "freq      206\n",
      "Name: sex, dtype: object\n",
      "\n",
      " Variable: age \n",
      " \n",
      " Estadísticos descriptivos: \n",
      "\n",
      "count      395\n",
      "unique      10\n",
      "top       \"16\"\n",
      "freq       101\n",
      "Name: age, dtype: object\n",
      "\n",
      " Variable: address \n",
      " \n",
      " Estadísticos descriptivos: \n",
      "\n",
      "count     395\n",
      "unique      3\n",
      "top         U\n",
      "freq      305\n",
      "Name: address, dtype: object\n",
      "\n",
      " Variable: famsize \n",
      " \n",
      " Estadísticos descriptivos: \n",
      "\n",
      "count     395\n",
      "unique      4\n",
      "top       GT3\n",
      "freq      278\n",
      "Name: famsize, dtype: object\n",
      "\n",
      " Variable: Pstatus \n",
      " \n",
      " Estadísticos descriptivos: \n",
      "\n",
      "count     395\n",
      "unique      5\n",
      "top         T\n",
      "freq      349\n",
      "Name: Pstatus, dtype: object\n",
      "\n",
      " Variable: Medu \n",
      " \n",
      " Estadísticos descriptivos: \n",
      "\n",
      "count     395\n",
      "unique      7\n",
      "top         4\n",
      "freq      129\n",
      "Name: Medu, dtype: object\n",
      "\n",
      " Variable: Fedu \n",
      " \n",
      " Estadísticos descriptivos: \n",
      "\n",
      "count     395\n",
      "unique      8\n",
      "top         2\n",
      "freq      112\n",
      "Name: Fedu, dtype: object\n",
      "\n",
      " Variable: Mjob \n",
      " \n",
      " Estadísticos descriptivos: \n",
      "\n",
      "count       395\n",
      "unique        8\n",
      "top       other\n",
      "freq        138\n",
      "Name: Mjob, dtype: object\n",
      "\n",
      " Variable: Fjob \n",
      " \n",
      " Estadísticos descriptivos: \n",
      "\n",
      "count       395\n",
      "unique        5\n",
      "top       other\n",
      "freq        217\n",
      "Name: Fjob, dtype: object\n",
      "\n",
      " Variable: reason \n",
      " \n",
      " Estadísticos descriptivos: \n",
      "\n",
      "count        395\n",
      "unique         7\n",
      "top       course\n",
      "freq         144\n",
      "Name: reason, dtype: object\n",
      "\n",
      " Variable: guardian \n",
      " \n",
      " Estadísticos descriptivos: \n",
      "\n",
      "count        395\n",
      "unique         6\n",
      "top       mother\n",
      "freq         270\n",
      "Name: guardian, dtype: object\n",
      "\n",
      " Variable: traveltime \n",
      " \n",
      " Estadísticos descriptivos: \n",
      "\n",
      "count     395\n",
      "unique      6\n",
      "top         1\n",
      "freq      254\n",
      "Name: traveltime, dtype: object\n",
      "\n",
      " Variable: studytime \n",
      " \n",
      " Estadísticos descriptivos: \n",
      "\n",
      "count     395\n",
      "unique      6\n",
      "top         2\n",
      "freq      194\n",
      "Name: studytime, dtype: object\n",
      "\n",
      " Variable: failures \n",
      " \n",
      " Estadísticos descriptivos: \n",
      "\n",
      "count     395\n",
      "unique      6\n",
      "top         0\n",
      "freq      308\n",
      "Name: failures, dtype: object\n",
      "\n",
      " Variable: schoolsup \n",
      " \n",
      " Estadísticos descriptivos: \n",
      "\n",
      "count     395\n",
      "unique      5\n",
      "top        no\n",
      "freq      337\n",
      "Name: schoolsup, dtype: object\n",
      "\n",
      " Variable: famsup \n",
      " \n",
      " Estadísticos descriptivos: \n",
      "\n",
      "count     395\n",
      "unique      5\n",
      "top       yes\n",
      "freq      239\n",
      "Name: famsup, dtype: object\n",
      "\n",
      " Variable: paid \n",
      " \n",
      " Estadísticos descriptivos: \n",
      "\n",
      "count     395\n",
      "unique      3\n",
      "top        no\n",
      "freq      214\n",
      "Name: paid, dtype: object\n",
      "\n",
      " Variable: activities \n",
      " \n",
      " Estadísticos descriptivos: \n",
      "\n",
      "count     395\n",
      "unique      5\n",
      "top       yes\n",
      "freq      199\n",
      "Name: activities, dtype: object\n",
      "\n",
      " Variable: nursery \n",
      " \n",
      " Estadísticos descriptivos: \n",
      "\n",
      "count     395\n",
      "unique      5\n",
      "top       yes\n",
      "freq      309\n",
      "Name: nursery, dtype: object\n",
      "\n",
      " Variable: higher \n",
      " \n",
      " Estadísticos descriptivos: \n",
      "\n",
      "count     395\n",
      "unique      5\n",
      "top       yes\n",
      "freq      369\n",
      "Name: higher, dtype: object\n",
      "\n",
      " Variable: internet \n",
      " \n",
      " Estadísticos descriptivos: \n",
      "\n",
      "count     395\n",
      "unique      4\n",
      "top       yes\n",
      "freq      327\n",
      "Name: internet, dtype: object\n",
      "\n",
      " Variable: romantic \n",
      " \n",
      " Estadísticos descriptivos: \n",
      "\n",
      "count     395\n",
      "unique      4\n",
      "top        no\n",
      "freq      262\n",
      "Name: romantic, dtype: object\n",
      "\n",
      " Variable: famrel \n",
      " \n",
      " Estadísticos descriptivos: \n",
      "\n",
      "count     395\n",
      "unique      8\n",
      "top         4\n",
      "freq      194\n",
      "Name: famrel, dtype: object\n",
      "\n",
      " Variable: freetime \n",
      " \n",
      " Estadísticos descriptivos: \n",
      "\n",
      "count     395\n",
      "unique      7\n",
      "top         3\n",
      "freq      157\n",
      "Name: freetime, dtype: object\n",
      "\n",
      " Variable: goout \n",
      " \n",
      " Estadísticos descriptivos: \n",
      "\n",
      "count     395\n",
      "unique      8\n",
      "top       \"3\"\n",
      "freq      128\n",
      "Name: goout, dtype: object\n",
      "\n",
      " Variable: Dalc \n",
      " \n",
      " Estadísticos descriptivos: \n",
      "\n",
      "count     395\n",
      "unique      7\n",
      "top         1\n",
      "freq      274\n",
      "Name: Dalc, dtype: object\n",
      "\n",
      " Variable: Walc \n",
      " \n",
      " Estadísticos descriptivos: \n",
      "\n",
      "count     395\n",
      "unique      7\n",
      "top         1\n",
      "freq      150\n",
      "Name: Walc, dtype: object\n",
      "\n",
      " Variable: health \n",
      " \n",
      " Estadísticos descriptivos: \n",
      "\n",
      "count     395\n",
      "unique      7\n",
      "top       \"5\"\n",
      "freq      145\n",
      "Name: health, dtype: object\n",
      "\n",
      " Variable: absences \n",
      " \n",
      " Estadísticos descriptivos: \n",
      "\n",
      "count     395\n",
      "unique     37\n",
      "top         0\n",
      "freq      113\n",
      "Name: absences, dtype: object\n",
      "\n",
      " Variable: G1 \n",
      " \n",
      " Estadísticos descriptivos: \n",
      "\n",
      "count     395\n",
      "unique     19\n",
      "top        10\n",
      "freq       50\n",
      "Name: G1, dtype: object\n",
      "\n",
      " Variable: G2 \n",
      " \n",
      " Estadísticos descriptivos: \n",
      "\n",
      "count    395.000000\n",
      "mean      10.713924\n",
      "std        3.761505\n",
      "min        0.000000\n",
      "25%        9.000000\n",
      "50%       11.000000\n",
      "75%       13.000000\n",
      "max       19.000000\n",
      "Name: G2, dtype: float64\n",
      "\n",
      " Variable: G3 \n",
      " \n",
      " Estadísticos descriptivos: \n",
      "\n",
      "count     395\n",
      "unique     19\n",
      "top        10\n",
      "freq       55\n",
      "Name: G3, dtype: object\n"
     ]
    }
   ],
   "source": [
    "%run funciones_def_2.py\n",
    "descripcion_variable(df)"
   ]
  },
  {
   "cell_type": "markdown",
   "metadata": {},
   "source": [
    "# Transfromación valores perdidos"
   ]
  },
  {
   "cell_type": "code",
   "execution_count": 503,
   "metadata": {},
   "outputs": [
    {
     "data": {
      "text/plain": [
       "<Figure size 288x288 with 0 Axes>"
      ]
     },
     "metadata": {},
     "output_type": "display_data"
    },
    {
     "data": {
      "image/png": "[encoded data removed]",
      "text/plain": [
       "<Figure size 1800x720 with 2 Axes>"
      ]
     },
     "metadata": {
      "needs_background": "light"
     },
     "output_type": "display_data"
    }
   ],
   "source": [
    "plt.figure(figsize=(4,4))\n",
    "msngo.matrix(df.replace(['nulidade', 'sem validade', 'zero'], [np.nan, np.nan, np.nan]));"
   ]
  },
  {
   "cell_type": "code",
   "execution_count": 504,
   "metadata": {},
   "outputs": [
    {
     "name": "stdout",
     "output_type": "stream",
     "text": [
      "La base de datos ahora tiene 34 variables y 284 registros.\n"
     ]
    },
    {
     "data": {
      "text/plain": [
       "<Figure size 288x288 with 0 Axes>"
      ]
     },
     "metadata": {},
     "output_type": "display_data"
    },
    {
     "data": {
      "image/png": "[encoded data removed]",
      "text/plain": [
       "<Figure size 1800x720 with 2 Axes>"
      ]
     },
     "metadata": {
      "needs_background": "light"
     },
     "output_type": "display_data"
    }
   ],
   "source": [
    "df= df.replace(['nulidade', 'sem validade', 'zero'], [np.nan, np.nan, np.nan])\n",
    "df = df.dropna(axis=0)\n",
    "plt.figure(figsize=(4,4))\n",
    "msngo.matrix(df);\n",
    "print(\"La base de datos ahora tiene {} variables y {} registros.\".format(df.shape[1],df.shape[0]))"
   ]
  },
  {
   "cell_type": "markdown",
   "metadata": {},
   "source": [
    "# Recodificación y binarización de las variables"
   ]
  },
  {
   "cell_type": "code",
   "execution_count": 505,
   "metadata": {},
   "outputs": [
    {
     "data": {
      "text/plain": [
       "GP    247\n",
       "MS     37\n",
       "Name: school, dtype: int64"
      ]
     },
     "execution_count": 505,
     "metadata": {},
     "output_type": "execute_result"
    }
   ],
   "source": [
    "df['school'].value_counts()"
   ]
  },
  {
   "cell_type": "code",
   "execution_count": 506,
   "metadata": {},
   "outputs": [
    {
     "data": {
      "text/plain": [
       "0    247\n",
       "1     37\n",
       "Name: school_bin, dtype: int64"
      ]
     },
     "execution_count": 506,
     "metadata": {},
     "output_type": "execute_result"
    }
   ],
   "source": [
    "df['school_bin'] = np.where(df['school'] == 'MS', 1, 0)\n",
    "df['school_bin'].value_counts()"
   ]
  },
  {
   "cell_type": "code",
   "execution_count": 507,
   "metadata": {},
   "outputs": [
    {
     "data": {
      "text/plain": [
       "F    147\n",
       "M    137\n",
       "Name: sex, dtype: int64"
      ]
     },
     "execution_count": 507,
     "metadata": {},
     "output_type": "execute_result"
    }
   ],
   "source": [
    "df['sex'].value_counts()"
   ]
  },
  {
   "cell_type": "code",
   "execution_count": 508,
   "metadata": {},
   "outputs": [
    {
     "data": {
      "text/plain": [
       "0    147\n",
       "1    137\n",
       "Name: sex_bin, dtype: int64"
      ]
     },
     "execution_count": 508,
     "metadata": {},
     "output_type": "execute_result"
    }
   ],
   "source": [
    "df['sex_bin'] = np.where(df['sex'] == 'M', 1, 0)\n",
    "df['sex_bin'].value_counts()"
   ]
  },
  {
   "cell_type": "code",
   "execution_count": 509,
   "metadata": {},
   "outputs": [
    {
     "data": {
      "text/plain": [
       "\"16\"    74\n",
       "\"18\"    70\n",
       "\"15\"    61\n",
       "\"17\"    60\n",
       "\"19\"    15\n",
       "\"20\"     3\n",
       "\"21\"     1\n",
       "Name: age, dtype: int64"
      ]
     },
     "execution_count": 509,
     "metadata": {},
     "output_type": "execute_result"
    }
   ],
   "source": [
    "df['age'].value_counts()"
   ]
  },
  {
   "cell_type": "code",
   "execution_count": 510,
   "metadata": {},
   "outputs": [
    {
     "data": {
      "text/plain": [
       "16    74\n",
       "18    70\n",
       "15    61\n",
       "17    60\n",
       "19    15\n",
       "20     3\n",
       "21     1\n",
       "Name: age, dtype: int64"
      ]
     },
     "execution_count": 510,
     "metadata": {},
     "output_type": "execute_result"
    }
   ],
   "source": [
    "#Recodificacmos a valores sin comillas\n",
    "df['age'] = df['age'].replace(['\"15\"','\"16\"','\"17\"','\"18\"','\"19\"','\"20\"','\"21\"'], [15, 16, 17, 18, 19, 20, 21])\n",
    "df['age'] = df['age'].astype(int) \n",
    "df['age'].value_counts()"
   ]
  },
  {
   "cell_type": "code",
   "execution_count": 511,
   "metadata": {},
   "outputs": [
    {
     "data": {
      "text/plain": [
       "U    214\n",
       "R     70\n",
       "Name: address, dtype: int64"
      ]
     },
     "execution_count": 511,
     "metadata": {},
     "output_type": "execute_result"
    }
   ],
   "source": [
    "df['address'].value_counts()"
   ]
  },
  {
   "cell_type": "code",
   "execution_count": 512,
   "metadata": {},
   "outputs": [
    {
     "data": {
      "text/plain": [
       "0    214\n",
       "1     70\n",
       "Name: address_bin, dtype: int64"
      ]
     },
     "execution_count": 512,
     "metadata": {},
     "output_type": "execute_result"
    }
   ],
   "source": [
    "df['address_bin'] = np.where(df['address'] == 'R', 1, 0)\n",
    "df['address_bin'].value_counts()"
   ]
  },
  {
   "cell_type": "code",
   "execution_count": 513,
   "metadata": {},
   "outputs": [
    {
     "data": {
      "text/plain": [
       "GT3    209\n",
       "LE3     75\n",
       "Name: famsize, dtype: int64"
      ]
     },
     "execution_count": 513,
     "metadata": {},
     "output_type": "execute_result"
    }
   ],
   "source": [
    "df['famsize'].value_counts()"
   ]
  },
  {
   "cell_type": "code",
   "execution_count": 514,
   "metadata": {},
   "outputs": [
    {
     "data": {
      "text/plain": [
       "0    209\n",
       "1     75\n",
       "Name: famsize_bin, dtype: int64"
      ]
     },
     "execution_count": 514,
     "metadata": {},
     "output_type": "execute_result"
    }
   ],
   "source": [
    "df['famsize_bin'] = np.where(df['famsize'] == 'LE3', 1, 0)\n",
    "df['famsize_bin'].value_counts()"
   ]
  },
  {
   "cell_type": "code",
   "execution_count": 515,
   "metadata": {},
   "outputs": [
    {
     "data": {
      "text/plain": [
       "T    257\n",
       "A     27\n",
       "Name: Pstatus, dtype: int64"
      ]
     },
     "execution_count": 515,
     "metadata": {},
     "output_type": "execute_result"
    }
   ],
   "source": [
    "df['Pstatus'].value_counts()"
   ]
  },
  {
   "cell_type": "code",
   "execution_count": 516,
   "metadata": {},
   "outputs": [
    {
     "data": {
      "text/plain": [
       "0    257\n",
       "1     27\n",
       "Name: Pstatus_bin, dtype: int64"
      ]
     },
     "execution_count": 516,
     "metadata": {},
     "output_type": "execute_result"
    }
   ],
   "source": [
    "df['Pstatus_bin'] = np.where(df['Pstatus'] == 'A', 1, 0)\n",
    "df['Pstatus_bin'].value_counts()"
   ]
  },
  {
   "cell_type": "code",
   "execution_count": 517,
   "metadata": {},
   "outputs": [
    {
     "data": {
      "text/plain": [
       "4    98\n",
       "2    71\n",
       "3    70\n",
       "1    44\n",
       "0     1\n",
       "Name: Medu, dtype: int64"
      ]
     },
     "execution_count": 517,
     "metadata": {},
     "output_type": "execute_result"
    }
   ],
   "source": [
    "df['Medu'] = df['Medu'].astype(int) \n",
    "df['Medu'].value_counts()"
   ]
  },
  {
   "cell_type": "code",
   "execution_count": 518,
   "metadata": {},
   "outputs": [
    {
     "data": {
      "text/plain": [
       "2    77\n",
       "3    76\n",
       "4    68\n",
       "1    62\n",
       "0     1\n",
       "Name: Fedu, dtype: int64"
      ]
     },
     "execution_count": 518,
     "metadata": {},
     "output_type": "execute_result"
    }
   ],
   "source": [
    "df['Fedu'] = df['Fedu'].astype(int) \n",
    "df['Fedu'].value_counts()"
   ]
  },
  {
   "cell_type": "code",
   "execution_count": 519,
   "metadata": {},
   "outputs": [
    {
     "data": {
      "text/plain": [
       "other       103\n",
       "services     68\n",
       "teacher      44\n",
       "at_home      43\n",
       "health       26\n",
       "Name: Mjob, dtype: int64"
      ]
     },
     "execution_count": 519,
     "metadata": {},
     "output_type": "execute_result"
    }
   ],
   "source": [
    "df['Mjob'].value_counts()"
   ]
  },
  {
   "cell_type": "code",
   "execution_count": 520,
   "metadata": {},
   "outputs": [
    {
     "data": {
      "text/plain": [
       "other       159\n",
       "services     80\n",
       "teacher      21\n",
       "health       13\n",
       "at_home      11\n",
       "Name: Fjob, dtype: int64"
      ]
     },
     "execution_count": 520,
     "metadata": {},
     "output_type": "execute_result"
    }
   ],
   "source": [
    "df['Fjob'].value_counts()"
   ]
  },
  {
   "cell_type": "code",
   "execution_count": 521,
   "metadata": {},
   "outputs": [
    {
     "data": {
      "text/plain": [
       "course        102\n",
       "home           78\n",
       "reputation     77\n",
       "other          27\n",
       "Name: reason, dtype: int64"
      ]
     },
     "execution_count": 521,
     "metadata": {},
     "output_type": "execute_result"
    }
   ],
   "source": [
    "df['reason'].value_counts()"
   ]
  },
  {
   "cell_type": "code",
   "execution_count": 522,
   "metadata": {},
   "outputs": [
    {
     "data": {
      "text/plain": [
       "mother    200\n",
       "father     60\n",
       "other      24\n",
       "Name: guardian, dtype: int64"
      ]
     },
     "execution_count": 522,
     "metadata": {},
     "output_type": "execute_result"
    }
   ],
   "source": [
    "df['guardian'].value_counts()"
   ]
  },
  {
   "cell_type": "code",
   "execution_count": 523,
   "metadata": {},
   "outputs": [
    {
     "data": {
      "text/plain": [
       "1    177\n",
       "2     84\n",
       "3     18\n",
       "4      5\n",
       "Name: traveltime, dtype: int64"
      ]
     },
     "execution_count": 523,
     "metadata": {},
     "output_type": "execute_result"
    }
   ],
   "source": [
    "df['traveltime'] = df['traveltime'].astype(int) \n",
    "df['traveltime'].value_counts()"
   ]
  },
  {
   "cell_type": "code",
   "execution_count": 524,
   "metadata": {},
   "outputs": [
    {
     "data": {
      "text/plain": [
       "2    139\n",
       "1     75\n",
       "3     51\n",
       "4     19\n",
       "Name: studytime, dtype: int64"
      ]
     },
     "execution_count": 524,
     "metadata": {},
     "output_type": "execute_result"
    }
   ],
   "source": [
    "df['studytime'] = df['studytime'].astype(int) \n",
    "df['studytime'].value_counts()"
   ]
  },
  {
   "cell_type": "code",
   "execution_count": 525,
   "metadata": {},
   "outputs": [
    {
     "data": {
      "text/plain": [
       "0    223\n",
       "1     37\n",
       "2     14\n",
       "3     10\n",
       "Name: failures, dtype: int64"
      ]
     },
     "execution_count": 525,
     "metadata": {},
     "output_type": "execute_result"
    }
   ],
   "source": [
    "df['failures'] = df['failures'].astype(int) \n",
    "df['failures'].value_counts()"
   ]
  },
  {
   "cell_type": "code",
   "execution_count": 526,
   "metadata": {},
   "outputs": [
    {
     "data": {
      "text/plain": [
       "no     246\n",
       "yes     38\n",
       "Name: schoolsup, dtype: int64"
      ]
     },
     "execution_count": 526,
     "metadata": {},
     "output_type": "execute_result"
    }
   ],
   "source": [
    "df['schoolsup'].value_counts()"
   ]
  },
  {
   "cell_type": "code",
   "execution_count": 527,
   "metadata": {},
   "outputs": [
    {
     "data": {
      "text/plain": [
       "0    246\n",
       "1     38\n",
       "Name: schoolsup_bin, dtype: int64"
      ]
     },
     "execution_count": 527,
     "metadata": {},
     "output_type": "execute_result"
    }
   ],
   "source": [
    "df['schoolsup_bin'] = np.where(df['schoolsup'] == 'yes', 1, 0)\n",
    "df['schoolsup_bin'].value_counts()"
   ]
  },
  {
   "cell_type": "code",
   "execution_count": 528,
   "metadata": {},
   "outputs": [
    {
     "data": {
      "text/plain": [
       "yes    174\n",
       "no     110\n",
       "Name: famsup, dtype: int64"
      ]
     },
     "execution_count": 528,
     "metadata": {},
     "output_type": "execute_result"
    }
   ],
   "source": [
    "df['famsup'].value_counts()"
   ]
  },
  {
   "cell_type": "code",
   "execution_count": 529,
   "metadata": {},
   "outputs": [
    {
     "data": {
      "text/plain": [
       "0    174\n",
       "1    110\n",
       "Name: famsup_bin, dtype: int64"
      ]
     },
     "execution_count": 529,
     "metadata": {},
     "output_type": "execute_result"
    }
   ],
   "source": [
    "df['famsup_bin'] = np.where(df['famsup'] == 'no', 1, 0)\n",
    "df['famsup_bin'].value_counts()"
   ]
  },
  {
   "cell_type": "code",
   "execution_count": 530,
   "metadata": {},
   "outputs": [
    {
     "data": {
      "text/plain": [
       "no     158\n",
       "yes    126\n",
       "Name: paid, dtype: int64"
      ]
     },
     "execution_count": 530,
     "metadata": {},
     "output_type": "execute_result"
    }
   ],
   "source": [
    "df['paid'].value_counts()"
   ]
  },
  {
   "cell_type": "code",
   "execution_count": 531,
   "metadata": {},
   "outputs": [
    {
     "data": {
      "text/plain": [
       "0    158\n",
       "1    126\n",
       "Name: paid_bin, dtype: int64"
      ]
     },
     "execution_count": 531,
     "metadata": {},
     "output_type": "execute_result"
    }
   ],
   "source": [
    "df['paid_bin'] = np.where(df['paid'] == 'yes', 1, 0)\n",
    "df['paid_bin'].value_counts()"
   ]
  },
  {
   "cell_type": "code",
   "execution_count": 532,
   "metadata": {},
   "outputs": [
    {
     "data": {
      "text/plain": [
       "yes    148\n",
       "no     136\n",
       "Name: activities, dtype: int64"
      ]
     },
     "execution_count": 532,
     "metadata": {},
     "output_type": "execute_result"
    }
   ],
   "source": [
    "df['activities'].value_counts()"
   ]
  },
  {
   "cell_type": "code",
   "execution_count": 533,
   "metadata": {},
   "outputs": [
    {
     "data": {
      "text/plain": [
       "0    148\n",
       "1    136\n",
       "Name: activities_bin, dtype: int64"
      ]
     },
     "execution_count": 533,
     "metadata": {},
     "output_type": "execute_result"
    }
   ],
   "source": [
    "df['activities_bin'] = np.where(df['activities'] == 'no', 1, 0)\n",
    "df['activities_bin'].value_counts()"
   ]
  },
  {
   "cell_type": "code",
   "execution_count": 534,
   "metadata": {},
   "outputs": [
    {
     "data": {
      "text/plain": [
       "yes    223\n",
       "no      61\n",
       "Name: nursery, dtype: int64"
      ]
     },
     "execution_count": 534,
     "metadata": {},
     "output_type": "execute_result"
    }
   ],
   "source": [
    "df['nursery'].value_counts()"
   ]
  },
  {
   "cell_type": "code",
   "execution_count": 535,
   "metadata": {},
   "outputs": [
    {
     "data": {
      "text/plain": [
       "0    223\n",
       "1     61\n",
       "Name: nursery_bin, dtype: int64"
      ]
     },
     "execution_count": 535,
     "metadata": {},
     "output_type": "execute_result"
    }
   ],
   "source": [
    "df['nursery_bin'] = np.where(df['nursery'] == 'no', 1, 0)\n",
    "df['nursery_bin'].value_counts()"
   ]
  },
  {
   "cell_type": "code",
   "execution_count": 536,
   "metadata": {},
   "outputs": [
    {
     "data": {
      "text/plain": [
       "yes    269\n",
       "no      15\n",
       "Name: higher, dtype: int64"
      ]
     },
     "execution_count": 536,
     "metadata": {},
     "output_type": "execute_result"
    }
   ],
   "source": [
    "df['higher'].value_counts()"
   ]
  },
  {
   "cell_type": "code",
   "execution_count": 537,
   "metadata": {},
   "outputs": [
    {
     "data": {
      "text/plain": [
       "0    269\n",
       "1     15\n",
       "Name: higher_bin, dtype: int64"
      ]
     },
     "execution_count": 537,
     "metadata": {},
     "output_type": "execute_result"
    }
   ],
   "source": [
    "df['higher_bin'] = np.where(df['higher'] == 'no', 1, 0)\n",
    "df['higher_bin'].value_counts()"
   ]
  },
  {
   "cell_type": "code",
   "execution_count": 538,
   "metadata": {},
   "outputs": [
    {
     "data": {
      "text/plain": [
       "yes    231\n",
       "no      53\n",
       "Name: internet, dtype: int64"
      ]
     },
     "execution_count": 538,
     "metadata": {},
     "output_type": "execute_result"
    }
   ],
   "source": [
    "df['internet'].value_counts()"
   ]
  },
  {
   "cell_type": "code",
   "execution_count": 539,
   "metadata": {},
   "outputs": [
    {
     "data": {
      "text/plain": [
       "0    231\n",
       "1     53\n",
       "Name: internet_bin, dtype: int64"
      ]
     },
     "execution_count": 539,
     "metadata": {},
     "output_type": "execute_result"
    }
   ],
   "source": [
    "df['internet_bin'] = np.where(df['internet'] == 'no', 1, 0)\n",
    "df['internet_bin'].value_counts()"
   ]
  },
  {
   "cell_type": "code",
   "execution_count": 540,
   "metadata": {},
   "outputs": [
    {
     "data": {
      "text/plain": [
       "no     189\n",
       "yes     95\n",
       "Name: romantic, dtype: int64"
      ]
     },
     "execution_count": 540,
     "metadata": {},
     "output_type": "execute_result"
    }
   ],
   "source": [
    "df['romantic'].value_counts()"
   ]
  },
  {
   "cell_type": "code",
   "execution_count": 541,
   "metadata": {},
   "outputs": [
    {
     "data": {
      "text/plain": [
       "0    189\n",
       "1     95\n",
       "Name: romantic_bin, dtype: int64"
      ]
     },
     "execution_count": 541,
     "metadata": {},
     "output_type": "execute_result"
    }
   ],
   "source": [
    "df['romantic_bin'] = np.where(df['romantic'] == 'yes', 1, 0)\n",
    "df['romantic_bin'].value_counts()"
   ]
  },
  {
   "cell_type": "code",
   "execution_count": 542,
   "metadata": {},
   "outputs": [
    {
     "data": {
      "text/plain": [
       "4    145\n",
       "5     73\n",
       "3     47\n",
       "2     14\n",
       "1      5\n",
       "Name: famrel, dtype: int64"
      ]
     },
     "execution_count": 542,
     "metadata": {},
     "output_type": "execute_result"
    }
   ],
   "source": [
    "df['famrel'] = df['famrel'].astype(int) \n",
    "df['famrel'].value_counts()"
   ]
  },
  {
   "cell_type": "code",
   "execution_count": 543,
   "metadata": {},
   "outputs": [
    {
     "data": {
      "text/plain": [
       "3    114\n",
       "4     76\n",
       "2     49\n",
       "5     29\n",
       "1     16\n",
       "Name: freetime, dtype: int64"
      ]
     },
     "execution_count": 543,
     "metadata": {},
     "output_type": "execute_result"
    }
   ],
   "source": [
    "df['freetime'] = df['freetime'].astype(int) \n",
    "df['freetime'].value_counts()"
   ]
  },
  {
   "cell_type": "code",
   "execution_count": 544,
   "metadata": {},
   "outputs": [
    {
     "data": {
      "text/plain": [
       "\"3\"    101\n",
       "\"2\"     76\n",
       "\"4\"     58\n",
       "\"5\"     35\n",
       "\"1\"     14\n",
       "Name: goout, dtype: int64"
      ]
     },
     "execution_count": 544,
     "metadata": {},
     "output_type": "execute_result"
    }
   ],
   "source": [
    "df['goout'].value_counts()"
   ]
  },
  {
   "cell_type": "code",
   "execution_count": 545,
   "metadata": {},
   "outputs": [
    {
     "data": {
      "text/plain": [
       "3    101\n",
       "2     76\n",
       "4     58\n",
       "5     35\n",
       "1     14\n",
       "Name: goout, dtype: int64"
      ]
     },
     "execution_count": 545,
     "metadata": {},
     "output_type": "execute_result"
    }
   ],
   "source": [
    "#Recodificacmos a valores sin comillas\n",
    "df['goout'] = df['goout'].replace(['\"1\"','\"2\"','\"3\"','\"4\"','\"5\"'], [1, 2, 3, 4, 5])\n",
    "df['goout'] = df['goout'].astype(int) \n",
    "df['goout'].value_counts()"
   ]
  },
  {
   "cell_type": "code",
   "execution_count": 546,
   "metadata": {},
   "outputs": [
    {
     "data": {
      "text/plain": [
       "1    198\n",
       "2     53\n",
       "3     20\n",
       "4      8\n",
       "5      5\n",
       "Name: Dalc, dtype: int64"
      ]
     },
     "execution_count": 546,
     "metadata": {},
     "output_type": "execute_result"
    }
   ],
   "source": [
    "df['Dalc'] = df['Dalc'].astype(int) \n",
    "df['Dalc'].value_counts()"
   ]
  },
  {
   "cell_type": "code",
   "execution_count": 547,
   "metadata": {},
   "outputs": [
    {
     "data": {
      "text/plain": [
       "1    116\n",
       "2     58\n",
       "3     54\n",
       "4     38\n",
       "5     18\n",
       "Name: Walc, dtype: int64"
      ]
     },
     "execution_count": 547,
     "metadata": {},
     "output_type": "execute_result"
    }
   ],
   "source": [
    "df['Walc'] = df['Walc'].astype(int) \n",
    "df['Walc'].value_counts()"
   ]
  },
  {
   "cell_type": "code",
   "execution_count": 548,
   "metadata": {},
   "outputs": [
    {
     "data": {
      "text/plain": [
       "\"5\"    104\n",
       "\"3\"     73\n",
       "\"4\"     52\n",
       "\"2\"     28\n",
       "\"1\"     27\n",
       "Name: health, dtype: int64"
      ]
     },
     "execution_count": 548,
     "metadata": {},
     "output_type": "execute_result"
    }
   ],
   "source": [
    "df['health'].value_counts()"
   ]
  },
  {
   "cell_type": "code",
   "execution_count": 549,
   "metadata": {},
   "outputs": [
    {
     "data": {
      "text/plain": [
       "5    104\n",
       "3     73\n",
       "4     52\n",
       "2     28\n",
       "1     27\n",
       "Name: health, dtype: int64"
      ]
     },
     "execution_count": 549,
     "metadata": {},
     "output_type": "execute_result"
    }
   ],
   "source": [
    "#Recodificacmos a valores sin comillas\n",
    "df['health'] = df['health'].replace(['\"5\"','\"4\"','\"3\"','\"2\"','\"1\"'], [5, 4, 3, 2, 1])\n",
    "df['health'] = df['health'].astype(int) \n",
    "df['health'].value_counts()"
   ]
  },
  {
   "cell_type": "code",
   "execution_count": 550,
   "metadata": {},
   "outputs": [
    {
     "data": {
      "text/plain": [
       "0     81\n",
       "2     50\n",
       "4     41\n",
       "6     23\n",
       "8     13\n",
       "10    12\n",
       "14     6\n",
       "7      6\n",
       "3      5\n",
       "5      5\n",
       "12     5\n",
       "18     5\n",
       "1      3\n",
       "11     3\n",
       "13     3\n",
       "15     3\n",
       "16     3\n",
       "20     2\n",
       "9      2\n",
       "54     1\n",
       "17     1\n",
       "19     1\n",
       "21     1\n",
       "22     1\n",
       "24     1\n",
       "25     1\n",
       "26     1\n",
       "28     1\n",
       "30     1\n",
       "38     1\n",
       "40     1\n",
       "75     1\n",
       "Name: absences, dtype: int64"
      ]
     },
     "execution_count": 550,
     "metadata": {},
     "output_type": "execute_result"
    }
   ],
   "source": [
    "df['absences'] = df['absences'].astype(int) \n",
    "df['absences'].value_counts()"
   ]
  },
  {
   "cell_type": "code",
   "execution_count": 551,
   "metadata": {},
   "outputs": [
    {
     "data": {
      "text/plain": [
       "10    38\n",
       "8     33\n",
       "12    29\n",
       "13    25\n",
       "9     24\n",
       "7     23\n",
       "11    22\n",
       "14    21\n",
       "6     17\n",
       "15    16\n",
       "16    15\n",
       "17     8\n",
       "18     5\n",
       "5      5\n",
       "19     2\n",
       "4      1\n",
       "Name: G1, dtype: int64"
      ]
     },
     "execution_count": 551,
     "metadata": {},
     "output_type": "execute_result"
    }
   ],
   "source": [
    "df['G1'] = df['G1'].astype(int) \n",
    "df['G1'].value_counts()"
   ]
  },
  {
   "cell_type": "code",
   "execution_count": 552,
   "metadata": {},
   "outputs": [
    {
     "data": {
      "text/plain": [
       "9     38\n",
       "10    34\n",
       "12    32\n",
       "13    25\n",
       "11    23\n",
       "8     22\n",
       "15    20\n",
       "7     17\n",
       "14    16\n",
       "6     11\n",
       "16    11\n",
       "0     10\n",
       "5      9\n",
       "18     7\n",
       "17     5\n",
       "19     3\n",
       "4      1\n",
       "Name: G2, dtype: int64"
      ]
     },
     "execution_count": 552,
     "metadata": {},
     "output_type": "execute_result"
    }
   ],
   "source": [
    "df['G2'] = df['G2'].astype(int) \n",
    "df['G2'].value_counts()"
   ]
  },
  {
   "cell_type": "code",
   "execution_count": 553,
   "metadata": {},
   "outputs": [
    {
     "data": {
      "text/plain": [
       "10    40\n",
       "11    32\n",
       "0     26\n",
       "12    24\n",
       "13    22\n",
       "9     21\n",
       "8     21\n",
       "15    20\n",
       "14    20\n",
       "6     13\n",
       "16    11\n",
       "7      9\n",
       "18     7\n",
       "17     6\n",
       "19     5\n",
       "5      5\n",
       "4      1\n",
       "20     1\n",
       "Name: G3, dtype: int64"
      ]
     },
     "execution_count": 553,
     "metadata": {},
     "output_type": "execute_result"
    }
   ],
   "source": [
    "df['G3'] = df['G3'].astype(int) \n",
    "df['G3'].value_counts()"
   ]
  },
  {
   "cell_type": "markdown",
   "metadata": {},
   "source": [
    "# Distribuciones de frecuencias"
   ]
  },
  {
   "cell_type": "code",
   "execution_count": 554,
   "metadata": {},
   "outputs": [
    {
     "data": {
      "image/png": "[encoded data removed]",
      "text/plain": [
       "<Figure size 360x360 with 1 Axes>"
      ]
     },
     "metadata": {
      "needs_background": "light"
     },
     "output_type": "display_data"
    }
   ],
   "source": [
    "%run funciones_def_2.py\n",
    "distribucion_frecuencias(df, 'school')"
   ]
  },
  {
   "cell_type": "code",
   "execution_count": 555,
   "metadata": {},
   "outputs": [
    {
     "data": {
      "image/png": "[encoded data removed]",
      "text/plain": [
       "<Figure size 360x360 with 1 Axes>"
      ]
     },
     "metadata": {
      "needs_background": "light"
     },
     "output_type": "display_data"
    }
   ],
   "source": [
    "%run funciones_def_2.py\n",
    "distribucion_frecuencias(df, 'sex')"
   ]
  },
  {
   "cell_type": "code",
   "execution_count": 556,
   "metadata": {},
   "outputs": [
    {
     "data": {
      "image/png": "[encoded data removed]",
      "text/plain": [
       "<Figure size 360x360 with 1 Axes>"
      ]
     },
     "metadata": {
      "needs_background": "light"
     },
     "output_type": "display_data"
    }
   ],
   "source": [
    "%run funciones_def_2.py\n",
    "distribucion_frecuencias(df, 'address')"
   ]
  },
  {
   "cell_type": "code",
   "execution_count": 557,
   "metadata": {},
   "outputs": [
    {
     "data": {
      "image/png": "[encoded data removed]",
      "text/plain": [
       "<Figure size 360x360 with 1 Axes>"
      ]
     },
     "metadata": {
      "needs_background": "light"
     },
     "output_type": "display_data"
    }
   ],
   "source": [
    "%run funciones_def_2.py\n",
    "distribucion_frecuencias(df, 'famsize')"
   ]
  },
  {
   "cell_type": "code",
   "execution_count": 558,
   "metadata": {},
   "outputs": [
    {
     "data": {
      "image/png": "[encoded data removed]",
      "text/plain": [
       "<Figure size 360x360 with 1 Axes>"
      ]
     },
     "metadata": {
      "needs_background": "light"
     },
     "output_type": "display_data"
    }
   ],
   "source": [
    "%run funciones_def_2.py\n",
    "distribucion_frecuencias(df, 'Pstatus')"
   ]
  },
  {
   "cell_type": "code",
   "execution_count": 559,
   "metadata": {},
   "outputs": [
    {
     "data": {
      "image/png": "[encoded data removed]",
      "text/plain": [
       "<Figure size 360x360 with 1 Axes>"
      ]
     },
     "metadata": {
      "needs_background": "light"
     },
     "output_type": "display_data"
    }
   ],
   "source": [
    "%run funciones_def_2.py\n",
    "distribucion_frecuencias(df, 'Medu')"
   ]
  },
  {
   "cell_type": "code",
   "execution_count": 560,
   "metadata": {},
   "outputs": [
    {
     "data": {
      "image/png": "[encoded data removed]",
      "text/plain": [
       "<Figure size 360x360 with 1 Axes>"
      ]
     },
     "metadata": {
      "needs_background": "light"
     },
     "output_type": "display_data"
    }
   ],
   "source": [
    "%run funciones_def_2.py\n",
    "distribucion_frecuencias(df, 'Fedu')"
   ]
  },
  {
   "cell_type": "code",
   "execution_count": 561,
   "metadata": {},
   "outputs": [
    {
     "data": {
      "image/png": "[encoded data removed]",
      "text/plain": [
       "<Figure size 360x360 with 1 Axes>"
      ]
     },
     "metadata": {
      "needs_background": "light"
     },
     "output_type": "display_data"
    }
   ],
   "source": [
    "%run funciones_def_2.py\n",
    "distribucion_frecuencias(df, 'Mjob')"
   ]
  },
  {
   "cell_type": "code",
   "execution_count": 562,
   "metadata": {},
   "outputs": [
    {
     "data": {
      "image/png": "[encoded data removed]",
      "text/plain": [
       "<Figure size 360x360 with 1 Axes>"
      ]
     },
     "metadata": {
      "needs_background": "light"
     },
     "output_type": "display_data"
    }
   ],
   "source": [
    "%run funciones_def_2.py\n",
    "distribucion_frecuencias(df, 'Fjob')"
   ]
  },
  {
   "cell_type": "code",
   "execution_count": 563,
   "metadata": {},
   "outputs": [
    {
     "data": {
      "image/png": "[encoded data removed]",
      "text/plain": [
       "<Figure size 360x360 with 1 Axes>"
      ]
     },
     "metadata": {
      "needs_background": "light"
     },
     "output_type": "display_data"
    }
   ],
   "source": [
    "%run funciones_def_2.py\n",
    "distribucion_frecuencias(df, 'reason')"
   ]
  },
  {
   "cell_type": "code",
   "execution_count": 564,
   "metadata": {},
   "outputs": [
    {
     "data": {
      "image/png": "[encoded data removed]",
      "text/plain": [
       "<Figure size 360x360 with 1 Axes>"
      ]
     },
     "metadata": {
      "needs_background": "light"
     },
     "output_type": "display_data"
    }
   ],
   "source": [
    "%run funciones_def_2.py\n",
    "distribucion_frecuencias(df, 'guardian')"
   ]
  },
  {
   "cell_type": "code",
   "execution_count": 565,
   "metadata": {},
   "outputs": [
    {
     "data": {
      "image/png": "[encoded data removed]",
      "text/plain": [
       "<Figure size 360x360 with 1 Axes>"
      ]
     },
     "metadata": {
      "needs_background": "light"
     },
     "output_type": "display_data"
    }
   ],
   "source": [
    "%run funciones_def_2.py\n",
    "distribucion_frecuencias(df, 'schoolsup')"
   ]
  },
  {
   "cell_type": "code",
   "execution_count": 566,
   "metadata": {},
   "outputs": [
    {
     "data": {
      "image/png": "[encoded data removed]",
      "text/plain": [
       "<Figure size 360x360 with 1 Axes>"
      ]
     },
     "metadata": {
      "needs_background": "light"
     },
     "output_type": "display_data"
    }
   ],
   "source": [
    "%run funciones_def_2.py\n",
    "distribucion_frecuencias(df, 'famsup')"
   ]
  },
  {
   "cell_type": "code",
   "execution_count": 567,
   "metadata": {},
   "outputs": [
    {
     "data": {
      "image/png": "[encoded data removed]",
      "text/plain": [
       "<Figure size 360x360 with 1 Axes>"
      ]
     },
     "metadata": {
      "needs_background": "light"
     },
     "output_type": "display_data"
    }
   ],
   "source": [
    "%run funciones_def_2.py\n",
    "distribucion_frecuencias(df, 'paid')"
   ]
  },
  {
   "cell_type": "code",
   "execution_count": 568,
   "metadata": {},
   "outputs": [
    {
     "data": {
      "image/png": "[encoded data removed]",
      "text/plain": [
       "<Figure size 360x360 with 1 Axes>"
      ]
     },
     "metadata": {
      "needs_background": "light"
     },
     "output_type": "display_data"
    }
   ],
   "source": [
    "%run funciones_def_2.py\n",
    "distribucion_frecuencias(df, 'activities')"
   ]
  },
  {
   "cell_type": "code",
   "execution_count": 569,
   "metadata": {},
   "outputs": [
    {
     "data": {
      "image/png": "[encoded data removed]",
      "text/plain": [
       "<Figure size 360x360 with 1 Axes>"
      ]
     },
     "metadata": {
      "needs_background": "light"
     },
     "output_type": "display_data"
    }
   ],
   "source": [
    "%run funciones_def_2.py\n",
    "distribucion_frecuencias(df, 'nursery')"
   ]
  },
  {
   "cell_type": "code",
   "execution_count": 570,
   "metadata": {},
   "outputs": [
    {
     "data": {
      "image/png": "[encoded data removed]",
      "text/plain": [
       "<Figure size 360x360 with 1 Axes>"
      ]
     },
     "metadata": {
      "needs_background": "light"
     },
     "output_type": "display_data"
    }
   ],
   "source": [
    "%run funciones_def_2.py\n",
    "distribucion_frecuencias(df, 'higher')"
   ]
  },
  {
   "cell_type": "code",
   "execution_count": 571,
   "metadata": {},
   "outputs": [
    {
     "data": {
      "image/png": "[encoded data removed]",
      "text/plain": [
       "<Figure size 360x360 with 1 Axes>"
      ]
     },
     "metadata": {
      "needs_background": "light"
     },
     "output_type": "display_data"
    }
   ],
   "source": [
    "%run funciones_def_2.py\n",
    "distribucion_frecuencias(df, 'internet')"
   ]
  },
  {
   "cell_type": "code",
   "execution_count": 572,
   "metadata": {},
   "outputs": [
    {
     "data": {
      "image/png": "[encoded data removed]",
      "text/plain": [
       "<Figure size 360x360 with 1 Axes>"
      ]
     },
     "metadata": {
      "needs_background": "light"
     },
     "output_type": "display_data"
    }
   ],
   "source": [
    "%run funciones_def_2.py\n",
    "distribucion_frecuencias(df, 'romantic')"
   ]
  },
  {
   "cell_type": "markdown",
   "metadata": {},
   "source": [
    "# Histogramas"
   ]
  },
  {
   "cell_type": "code",
   "execution_count": 573,
   "metadata": {},
   "outputs": [
    {
     "data": {
      "image/png": "[encoded data removed]",
      "text/plain": [
       "<Figure size 432x288 with 1 Axes>"
      ]
     },
     "metadata": {
      "needs_background": "light"
     },
     "output_type": "display_data"
    }
   ],
   "source": [
    "%run funciones_def_2.py\n",
    "histograma(df, 'age')"
   ]
  },
  {
   "cell_type": "code",
   "execution_count": 574,
   "metadata": {},
   "outputs": [
    {
     "data": {
      "image/png": "[encoded data removed]",
      "text/plain": [
       "<Figure size 432x288 with 1 Axes>"
      ]
     },
     "metadata": {
      "needs_background": "light"
     },
     "output_type": "display_data"
    }
   ],
   "source": [
    "%run funciones_def_2.py\n",
    "histograma(df, 'traveltime')"
   ]
  },
  {
   "cell_type": "code",
   "execution_count": 575,
   "metadata": {},
   "outputs": [
    {
     "data": {
      "image/png": "[encoded data removed]",
      "text/plain": [
       "<Figure size 432x288 with 1 Axes>"
      ]
     },
     "metadata": {
      "needs_background": "light"
     },
     "output_type": "display_data"
    }
   ],
   "source": [
    "%run funciones_def_2.py\n",
    "histograma(df, 'studytime')"
   ]
  },
  {
   "cell_type": "code",
   "execution_count": 576,
   "metadata": {},
   "outputs": [
    {
     "data": {
      "image/png": "[encoded data removed]",
      "text/plain": [
       "<Figure size 432x288 with 1 Axes>"
      ]
     },
     "metadata": {
      "needs_background": "light"
     },
     "output_type": "display_data"
    }
   ],
   "source": [
    "%run funciones_def_2.py\n",
    "histograma(df, 'failures')"
   ]
  },
  {
   "cell_type": "code",
   "execution_count": 577,
   "metadata": {},
   "outputs": [
    {
     "data": {
      "image/png": "[encoded data removed]",
      "text/plain": [
       "<Figure size 432x288 with 1 Axes>"
      ]
     },
     "metadata": {
      "needs_background": "light"
     },
     "output_type": "display_data"
    }
   ],
   "source": [
    "%run funciones_def_2.py\n",
    "histograma(df, 'famrel')"
   ]
  },
  {
   "cell_type": "code",
   "execution_count": 578,
   "metadata": {},
   "outputs": [
    {
     "data": {
      "image/png": "[encoded data removed]",
      "text/plain": [
       "<Figure size 432x288 with 1 Axes>"
      ]
     },
     "metadata": {
      "needs_background": "light"
     },
     "output_type": "display_data"
    }
   ],
   "source": [
    "%run funciones_def_2.py\n",
    "histograma(df, 'freetime')"
   ]
  },
  {
   "cell_type": "code",
   "execution_count": 579,
   "metadata": {},
   "outputs": [
    {
     "data": {
      "image/png": "[encoded data removed]",
      "text/plain": [
       "<Figure size 432x288 with 1 Axes>"
      ]
     },
     "metadata": {
      "needs_background": "light"
     },
     "output_type": "display_data"
    }
   ],
   "source": [
    "%run funciones_def_2.py\n",
    "histograma(df, 'goout')"
   ]
  },
  {
   "cell_type": "code",
   "execution_count": 580,
   "metadata": {},
   "outputs": [
    {
     "data": {
      "image/png": "[encoded data removed]",
      "text/plain": [
       "<Figure size 432x288 with 1 Axes>"
      ]
     },
     "metadata": {
      "needs_background": "light"
     },
     "output_type": "display_data"
    }
   ],
   "source": [
    "%run funciones_def_2.py\n",
    "histograma(df, 'Dalc')"
   ]
  },
  {
   "cell_type": "markdown",
   "metadata": {},
   "source": [
    "# Vectores Objetivos"
   ]
  },
  {
   "cell_type": "code",
   "execution_count": 581,
   "metadata": {},
   "outputs": [
    {
     "data": {
      "image/png": "[encoded data removed]",
      "text/plain": [
       "<Figure size 432x288 with 1 Axes>"
      ]
     },
     "metadata": {
      "needs_background": "light"
     },
     "output_type": "display_data"
    }
   ],
   "source": [
    "%run funciones_def_2.py\n",
    "histograma(df, 'G1')"
   ]
  },
  {
   "cell_type": "code",
   "execution_count": 582,
   "metadata": {},
   "outputs": [
    {
     "data": {
      "image/png": "[encoded data removed]",
      "text/plain": [
       "<Figure size 432x288 with 1 Axes>"
      ]
     },
     "metadata": {
      "needs_background": "light"
     },
     "output_type": "display_data"
    }
   ],
   "source": [
    "%run funciones_def_2.py\n",
    "histograma(df, 'G2')"
   ]
  },
  {
   "cell_type": "code",
   "execution_count": 583,
   "metadata": {},
   "outputs": [
    {
     "data": {
      "image/png": "[encoded data removed]",
      "text/plain": [
       "<Figure size 432x288 with 1 Axes>"
      ]
     },
     "metadata": {
      "needs_background": "light"
     },
     "output_type": "display_data"
    }
   ],
   "source": [
    "%run funciones_def_2.py\n",
    "histograma(df, 'G3')"
   ]
  },
  {
   "cell_type": "markdown",
   "metadata": {},
   "source": [
    "# Selección de variables de interes"
   ]
  },
  {
   "cell_type": "code",
   "execution_count": 584,
   "metadata": {},
   "outputs": [
    {
     "name": "stdout",
     "output_type": "stream",
     "text": [
      "La base de datos tiene 33 variables y 284 registros.\n"
     ]
    }
   ],
   "source": [
    "df_selec = df[['school_bin', 'sex_bin','age', 'address_bin', 'famsize_bin', 'Pstatus_bin', 'Medu', 'Fedu', \n",
    "               'Mjob', 'Fjob', 'reason', 'guardian', 'traveltime', 'studytime', 'failures', 'schoolsup_bin', \n",
    "               'famsup_bin', 'paid_bin', 'activities_bin', 'nursery_bin', 'higher_bin', 'internet_bin', \n",
    "               'romantic_bin', 'famrel', 'freetime', 'goout', 'Dalc', 'Walc', 'health', 'absences', 'G1', \n",
    "               'G2', 'G3']].copy()\n",
    "\n",
    "print(\"La base de datos tiene {} variables y {} registros.\".format(df_selec.shape[1],df_selec.shape[0]))"
   ]
  },
  {
   "cell_type": "code",
   "execution_count": null,
   "metadata": {},
   "outputs": [],
   "source": []
  }
 ],
 "metadata": {
  "kernelspec": {
   "display_name": "Python 3",
   "language": "python",
   "name": "python3"
  },
  "language_info": {
   "codemirror_mode": {
    "name": "ipython",
    "version": 3
   },
   "file_extension": ".py",
   "mimetype": "text/x-python",
   "name": "python",
   "nbconvert_exporter": "python",
   "pygments_lexer": "ipython3",
   "version": "3.6.8"
  }
 },
 "nbformat": 4,
 "nbformat_minor": 2
}
