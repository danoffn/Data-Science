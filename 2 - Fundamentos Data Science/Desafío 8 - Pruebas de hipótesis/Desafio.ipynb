{
 "cells": [
  {
   "cell_type": "markdown",
   "metadata": {},
   "source": [
    "# Desafío 26/06"
   ]
  },
  {
   "cell_type": "markdown",
   "metadata": {},
   "source": [
    "__Integrantes:__ \n",
    "- Yerko Carreño\n",
    "- Javier Pilasi \n",
    "- Daniel Flores\n",
    "- Francisco Fernandez\n",
    "- Máximo Oliva\n",
    "- Rocío Ehijo"
   ]
  },
  {
   "cell_type": "markdown",
   "metadata": {},
   "source": [
    "## Evaluar juicios de hipótesis\n",
    "A continuación se presenta una serie de enunciados de hipótesis. Usted debe discernir si es posible\n",
    "rechazar la hipótesis nula.\n",
    "\n",
    "- 75 individuos elegidos al azar fueron alcanzados por activistas pro-LGTB que se identificaron como homosexuales, y 75 alcanzados por activistas pro-LGTB que se identificaron como heterosexuales. El objetivo era medir actitudes frente a la adopción homoparentales. La organización encargada de procesar los datos obtuvo los siguientes resultados:\n",
    "    - El 67% de los encuestados por heterosexuales se mostró a favor de la adopción homoparental, mientras que un 72% de los encuestados por activistas que se identifaron como homosexuales se mostraron a favor de la adopción homoparental.\n",
    "    - Asumiendo que la hipótesis nula es que ambos porcentajes no son diferentes, y la hipótesis alternativa es que existe una diferencia substancial entre ambos.\n",
    "    - Con un valor de prueba p=11.83 y un puntaje de corte de 2.58, ¿qué se debe concluir?\n",
    "\n",
    "__Respuesta:__ \n",
    "\n",
    "El objetivo central del primer enunciado es determinar la existencia de diferencias en la opinión de las personas sobre la adopción homoparental, en función si el encuestador es homosexual o heterosexual.\n",
    "\n",
    "Estadísiticamente estamos en búsqueda de diferencias en proporciones de dos muestras:\n",
    "\n",
    "La hipótesisis Nula a Evualar: Es la inexistencia de diferencias en los porcentajes. La Hipótesis Alternativa: Es la existencia de diferencia en los porcentajes.\n",
    "\n",
    "Por otro lado, existen dos grupos\n",
    "\n",
    "Grupo 1: Aquellas personas encuestadas por Heterosexuales, con un tamaño muestral de 75 y en donde el número de personas a favor de la adopción homoparental fue de 50, equivalente al 67% de la muestra. Grupo 2: Aquellas personas encuestadas por Homosexuales, con un tamaño muestral de 75 y en donde el número de personas a favor de la adopción homoparental fue de 54, equivalente al 72% de la muestra.\n",
    "\n",
    "El enunciado del problema encontró los siguientes parámetros:\n",
    "\n",
    "Un valor de prueba p= 11,83 y un puntaje de corte de 2,58\n",
    "\n",
    "En Base a estos antecedentes podemos concluir con un 99% de significancia que es posible rechazar la hipótesis nula, toda vez que el valor de prueba (Z) se encuentra fuera de la zona de no rechazo, cuyo límite de corte es de 2.58. Es decir, existe evidencia estdísticamente significativa que permite afirmar que existen diferencias en las opiniones de las personas respecto a la adopción homoparental en función de la condición sexual declarada por el encuestador.\n",
    "\n",
    "- Un investigador de la Sociedad de Abstemios de Chile sugiere que los hombres tienen\n",
    "mayores niveles de consumo de alcohol que las mujeres, siendo esta diferencia\n",
    "estadísticamente significativa. Esto en base a su estudio realizado con 48 individuos, donde\n",
    "contrastó su puntaje de prueba a una distribución asintóticamente normal. ¿Qué se puede\n",
    "decir sobre su estudio? \n",
    "__Respuesta:__ \n",
    "\n",
    "Con la información prevista en el segundo enunciado no es posible realizar una conclusión respecto al estudio, toda vez que el enunciado carese de información relevante para la formación de una opinión concluyente, a saber, alguno de los puntos obviados son:\n",
    "\n",
    "El enunciado no informa respecto a la conformación de la muestra, la cual podría tener distintos problemas como por ejemplo sesgo de selección.\n",
    "\n",
    "el estudio no hace referencia a la circunscripcción sobre la cual es válida la inferencia, es decir, no especifica de forma clara la población sobre la cual se busca inferir.\n",
    "\n",
    "El tamaño muestral parece extremadamente bajo para obtener conclusiones sobre una población tan alta como el universo de hombres y mujeres.\n",
    "\n",
    "El enunciado no transparente los parámetros obtenidos, ni la magnitud de las diferencias encontradas.\n",
    "\n",
    "Toda esta es información esencial para la formación de una opinión respecto al estudio, por lo que no es posible concluir al respecto."
   ]
  },
  {
   "cell_type": "markdown",
   "metadata": {},
   "source": [
    "## Importe la base de datos utilizada la sesión presencial anterior\n",
    "\n",
    "- Agrege una serie de variables binarias por cada continente de la variable region.\n",
    "    - tip: Utilice np.where para ello.\n",
    "- De manera similar a la sesión anterior, enfóquese en las siguientes variables:\n",
    "    - Apellidos desde la A hasta la N: Enfocarse en las variables chldmort, adfert y life.\n",
    "    - Apellidos desde la N hasta la Z: Enfocarse en las variables femlab, literacy y school."
   ]
  },
  {
   "cell_type": "code",
   "execution_count": 15,
   "metadata": {
    "scrolled": true
   },
   "outputs": [
    {
     "name": "stdout",
     "output_type": "stream",
     "text": [
      "<class 'pandas.core.frame.DataFrame'>\n",
      "Int64Index: 194 entries, 1 to 194\n",
      "Data columns (total 18 columns):\n",
      "country              194 non-null object\n",
      "region               194 non-null object\n",
      "gdp                  179 non-null float64\n",
      "school               188 non-null float64\n",
      "adfert               194 non-null float64\n",
      "chldmort             193 non-null float64\n",
      "life                 194 non-null float64\n",
      "pop                  194 non-null int64\n",
      "urban                194 non-null float64\n",
      "femlab               177 non-null float64\n",
      "literacy             135 non-null float64\n",
      "co2                  185 non-null float64\n",
      "gini                 81 non-null float64\n",
      "binarize_Africa      194 non-null int64\n",
      "binarize_Americas    194 non-null int64\n",
      "binarize_Asia        194 non-null int64\n",
      "binarize_Europe      194 non-null int64\n",
      "binarize_Oceania     194 non-null int64\n",
      "dtypes: float64(10), int64(6), object(2)\n",
      "memory usage: 28.8+ KB\n"
     ]
    }
   ],
   "source": [
    "#importamos librerias\n",
    "\n",
    "import pandas as pd\n",
    "import numpy as np\n",
    "import seaborn as sns\n",
    "import matplotlib.pyplot as plt\n",
    "from scipy import stats\n",
    "from seaborn import distplot\n",
    "from IPython.display import display, Markdown\n",
    "\n",
    "df = pd.read_csv(\"nations.csv\", encoding=\"ISO-8859-1\",  index_col=0)\n",
    "\n",
    "for region in df[\"region\"].unique():\n",
    "    df[\"binarize_\" + region] = np.where(df['region'] == region, 1, 0)\n",
    "\n",
    "df.info()"
   ]
  },
  {
   "cell_type": "markdown",
   "metadata": {},
   "source": [
    "# 3. Implemente una función de prueba de hipótesis a mano\n",
    "\n",
    "- La función debe ingresar los siguientes argumentos:\n",
    "    - df: La tabla de datos.\n",
    "    - variable : La variable a analizar.\n",
    "    - binarize : El indicador binario a utilizar.\n",
    "\n",
    "- tips:\n",
    "    - Separe la variable en dos, utilizando el indicador binario. Recuerde eliminar los perdidos con dropna().\n",
    "    - Implemente ttest_ind de scipy.stats y guarde el valor t y pval.\n",
    "    - Reporte las medias para cada grupo (0 y 1).\n",
    "    - Reporte la diferencia de entre las medias.\n",
    "    - Reporte los valores t y p"
   ]
  },
  {
   "cell_type": "code",
   "execution_count": 74,
   "metadata": {
    "scrolled": false
   },
   "outputs": [
    {
     "data": {
      "text/markdown": [
       "### Campo chldmort y region 'Africa'"
      ],
      "text/plain": [
       "<IPython.core.display.Markdown object>"
      ]
     },
     "metadata": {},
     "output_type": "display_data"
    },
    {
     "data": {
      "text/markdown": [
       " - __Valor t:__ -14.174 "
      ],
      "text/plain": [
       "<IPython.core.display.Markdown object>"
      ]
     },
     "metadata": {},
     "output_type": "display_data"
    },
    {
     "data": {
      "text/markdown": [
       " - __Valor pvalue:__ 0.0 "
      ],
      "text/plain": [
       "<IPython.core.display.Markdown object>"
      ]
     },
     "metadata": {},
     "output_type": "display_data"
    },
    {
     "data": {
      "text/markdown": [
       " - __La media de la region es:__ 24.748"
      ],
      "text/plain": [
       "<IPython.core.display.Markdown object>"
      ]
     },
     "metadata": {},
     "output_type": "display_data"
    },
    {
     "data": {
      "text/markdown": [
       " - __La media del resto del mundo es:__ 109.75"
      ],
      "text/plain": [
       "<IPython.core.display.Markdown object>"
      ]
     },
     "metadata": {},
     "output_type": "display_data"
    },
    {
     "data": {
      "text/markdown": [
       " - __La diferencia entre medias es:__ -85.002"
      ],
      "text/plain": [
       "<IPython.core.display.Markdown object>"
      ]
     },
     "metadata": {},
     "output_type": "display_data"
    },
    {
     "data": {
      "text/markdown": [
       "### Campo chldmort y region 'Americas'"
      ],
      "text/plain": [
       "<IPython.core.display.Markdown object>"
      ]
     },
     "metadata": {},
     "output_type": "display_data"
    },
    {
     "data": {
      "text/markdown": [
       " - __Valor t:__ 3.086 "
      ],
      "text/plain": [
       "<IPython.core.display.Markdown object>"
      ]
     },
     "metadata": {},
     "output_type": "display_data"
    },
    {
     "data": {
      "text/markdown": [
       " - __Valor pvalue:__ 0.002 "
      ],
      "text/plain": [
       "<IPython.core.display.Markdown object>"
      ]
     },
     "metadata": {},
     "output_type": "display_data"
    },
    {
     "data": {
      "text/markdown": [
       " - __La media de la region es:__ 53.052"
      ],
      "text/plain": [
       "<IPython.core.display.Markdown object>"
      ]
     },
     "metadata": {},
     "output_type": "display_data"
    },
    {
     "data": {
      "text/markdown": [
       " - __La media del resto del mundo es:__ 23.264"
      ],
      "text/plain": [
       "<IPython.core.display.Markdown object>"
      ]
     },
     "metadata": {},
     "output_type": "display_data"
    },
    {
     "data": {
      "text/markdown": [
       " - __La diferencia entre medias es:__ 29.788"
      ],
      "text/plain": [
       "<IPython.core.display.Markdown object>"
      ]
     },
     "metadata": {},
     "output_type": "display_data"
    },
    {
     "data": {
      "text/markdown": [
       "### Campo chldmort y region 'Asia'"
      ],
      "text/plain": [
       "<IPython.core.display.Markdown object>"
      ]
     },
     "metadata": {},
     "output_type": "display_data"
    },
    {
     "data": {
      "text/markdown": [
       " - __Valor t:__ 1.603 "
      ],
      "text/plain": [
       "<IPython.core.display.Markdown object>"
      ]
     },
     "metadata": {},
     "output_type": "display_data"
    },
    {
     "data": {
      "text/markdown": [
       " - __Valor pvalue:__ 0.111 "
      ],
      "text/plain": [
       "<IPython.core.display.Markdown object>"
      ]
     },
     "metadata": {},
     "output_type": "display_data"
    },
    {
     "data": {
      "text/markdown": [
       " - __La media de la region es:__ 51.141"
      ],
      "text/plain": [
       "<IPython.core.display.Markdown object>"
      ]
     },
     "metadata": {},
     "output_type": "display_data"
    },
    {
     "data": {
      "text/markdown": [
       " - __La media del resto del mundo es:__ 37.104"
      ],
      "text/plain": [
       "<IPython.core.display.Markdown object>"
      ]
     },
     "metadata": {},
     "output_type": "display_data"
    },
    {
     "data": {
      "text/markdown": [
       " - __La diferencia entre medias es:__ 14.037"
      ],
      "text/plain": [
       "<IPython.core.display.Markdown object>"
      ]
     },
     "metadata": {},
     "output_type": "display_data"
    },
    {
     "data": {
      "text/markdown": [
       "### Campo chldmort y region 'Europe'"
      ],
      "text/plain": [
       "<IPython.core.display.Markdown object>"
      ]
     },
     "metadata": {},
     "output_type": "display_data"
    },
    {
     "data": {
      "text/markdown": [
       " - __Valor t:__ 6.262 "
      ],
      "text/plain": [
       "<IPython.core.display.Markdown object>"
      ]
     },
     "metadata": {},
     "output_type": "display_data"
    },
    {
     "data": {
      "text/markdown": [
       " - __Valor pvalue:__ 0.0 "
      ],
      "text/plain": [
       "<IPython.core.display.Markdown object>"
      ]
     },
     "metadata": {},
     "output_type": "display_data"
    },
    {
     "data": {
      "text/markdown": [
       " - __La media de la region es:__ 59.29"
      ],
      "text/plain": [
       "<IPython.core.display.Markdown object>"
      ]
     },
     "metadata": {},
     "output_type": "display_data"
    },
    {
     "data": {
      "text/markdown": [
       " - __La media del resto del mundo es:__ 7.047"
      ],
      "text/plain": [
       "<IPython.core.display.Markdown object>"
      ]
     },
     "metadata": {},
     "output_type": "display_data"
    },
    {
     "data": {
      "text/markdown": [
       " - __La diferencia entre medias es:__ 52.243"
      ],
      "text/plain": [
       "<IPython.core.display.Markdown object>"
      ]
     },
     "metadata": {},
     "output_type": "display_data"
    },
    {
     "data": {
      "text/markdown": [
       "### Campo chldmort y region 'Oceania'"
      ],
      "text/plain": [
       "<IPython.core.display.Markdown object>"
      ]
     },
     "metadata": {},
     "output_type": "display_data"
    },
    {
     "data": {
      "text/markdown": [
       " - __Valor t:__ 0.628 "
      ],
      "text/plain": [
       "<IPython.core.display.Markdown object>"
      ]
     },
     "metadata": {},
     "output_type": "display_data"
    },
    {
     "data": {
      "text/markdown": [
       " - __Valor pvalue:__ 0.531 "
      ],
      "text/plain": [
       "<IPython.core.display.Markdown object>"
      ]
     },
     "metadata": {},
     "output_type": "display_data"
    },
    {
     "data": {
      "text/markdown": [
       " - __La media de la region es:__ 48.344"
      ],
      "text/plain": [
       "<IPython.core.display.Markdown object>"
      ]
     },
     "metadata": {},
     "output_type": "display_data"
    },
    {
     "data": {
      "text/markdown": [
       " - __La media del resto del mundo es:__ 39.417"
      ],
      "text/plain": [
       "<IPython.core.display.Markdown object>"
      ]
     },
     "metadata": {},
     "output_type": "display_data"
    },
    {
     "data": {
      "text/markdown": [
       " - __La diferencia entre medias es:__ 8.927"
      ],
      "text/plain": [
       "<IPython.core.display.Markdown object>"
      ]
     },
     "metadata": {},
     "output_type": "display_data"
    },
    {
     "data": {
      "text/markdown": [
       "### Campo adfert y region 'Africa'"
      ],
      "text/plain": [
       "<IPython.core.display.Markdown object>"
      ]
     },
     "metadata": {},
     "output_type": "display_data"
    },
    {
     "data": {
      "text/markdown": [
       " - __Valor t:__ -9.444 "
      ],
      "text/plain": [
       "<IPython.core.display.Markdown object>"
      ]
     },
     "metadata": {},
     "output_type": "display_data"
    },
    {
     "data": {
      "text/markdown": [
       " - __Valor pvalue:__ 0.0 "
      ],
      "text/plain": [
       "<IPython.core.display.Markdown object>"
      ]
     },
     "metadata": {},
     "output_type": "display_data"
    },
    {
     "data": {
      "text/markdown": [
       " - __La media de la region es:__ 36.835"
      ],
      "text/plain": [
       "<IPython.core.display.Markdown object>"
      ]
     },
     "metadata": {},
     "output_type": "display_data"
    },
    {
     "data": {
      "text/markdown": [
       " - __La media del resto del mundo es:__ 92.721"
      ],
      "text/plain": [
       "<IPython.core.display.Markdown object>"
      ]
     },
     "metadata": {},
     "output_type": "display_data"
    },
    {
     "data": {
      "text/markdown": [
       " - __La diferencia entre medias es:__ -55.887"
      ],
      "text/plain": [
       "<IPython.core.display.Markdown object>"
      ]
     },
     "metadata": {},
     "output_type": "display_data"
    },
    {
     "data": {
      "text/markdown": [
       "### Campo adfert y region 'Americas'"
      ],
      "text/plain": [
       "<IPython.core.display.Markdown object>"
      ]
     },
     "metadata": {},
     "output_type": "display_data"
    },
    {
     "data": {
      "text/markdown": [
       " - __Valor t:__ -1.766 "
      ],
      "text/plain": [
       "<IPython.core.display.Markdown object>"
      ]
     },
     "metadata": {},
     "output_type": "display_data"
    },
    {
     "data": {
      "text/markdown": [
       " - __Valor pvalue:__ 0.079 "
      ],
      "text/plain": [
       "<IPython.core.display.Markdown object>"
      ]
     },
     "metadata": {},
     "output_type": "display_data"
    },
    {
     "data": {
      "text/markdown": [
       " - __La media de la region es:__ 49.207"
      ],
      "text/plain": [
       "<IPython.core.display.Markdown object>"
      ]
     },
     "metadata": {},
     "output_type": "display_data"
    },
    {
     "data": {
      "text/markdown": [
       " - __La media del resto del mundo es:__ 63.66"
      ],
      "text/plain": [
       "<IPython.core.display.Markdown object>"
      ]
     },
     "metadata": {},
     "output_type": "display_data"
    },
    {
     "data": {
      "text/markdown": [
       " - __La diferencia entre medias es:__ -14.453"
      ],
      "text/plain": [
       "<IPython.core.display.Markdown object>"
      ]
     },
     "metadata": {},
     "output_type": "display_data"
    },
    {
     "data": {
      "text/markdown": [
       "### Campo adfert y region 'Asia'"
      ],
      "text/plain": [
       "<IPython.core.display.Markdown object>"
      ]
     },
     "metadata": {},
     "output_type": "display_data"
    },
    {
     "data": {
      "text/markdown": [
       " - __Valor t:__ 3.386 "
      ],
      "text/plain": [
       "<IPython.core.display.Markdown object>"
      ]
     },
     "metadata": {},
     "output_type": "display_data"
    },
    {
     "data": {
      "text/markdown": [
       " - __Valor pvalue:__ 0.001 "
      ],
      "text/plain": [
       "<IPython.core.display.Markdown object>"
      ]
     },
     "metadata": {},
     "output_type": "display_data"
    },
    {
     "data": {
      "text/markdown": [
       " - __La media de la region es:__ 57.88"
      ],
      "text/plain": [
       "<IPython.core.display.Markdown object>"
      ]
     },
     "metadata": {},
     "output_type": "display_data"
    },
    {
     "data": {
      "text/markdown": [
       " - __La media del resto del mundo es:__ 33.865"
      ],
      "text/plain": [
       "<IPython.core.display.Markdown object>"
      ]
     },
     "metadata": {},
     "output_type": "display_data"
    },
    {
     "data": {
      "text/markdown": [
       " - __La diferencia entre medias es:__ 24.015"
      ],
      "text/plain": [
       "<IPython.core.display.Markdown object>"
      ]
     },
     "metadata": {},
     "output_type": "display_data"
    },
    {
     "data": {
      "text/markdown": [
       "### Campo adfert y region 'Europe'"
      ],
      "text/plain": [
       "<IPython.core.display.Markdown object>"
      ]
     },
     "metadata": {},
     "output_type": "display_data"
    },
    {
     "data": {
      "text/markdown": [
       " - __Valor t:__ 6.798 "
      ],
      "text/plain": [
       "<IPython.core.display.Markdown object>"
      ]
     },
     "metadata": {},
     "output_type": "display_data"
    },
    {
     "data": {
      "text/markdown": [
       " - __Valor pvalue:__ 0.0 "
      ],
      "text/plain": [
       "<IPython.core.display.Markdown object>"
      ]
     },
     "metadata": {},
     "output_type": "display_data"
    },
    {
     "data": {
      "text/markdown": [
       " - __La media de la region es:__ 62.145"
      ],
      "text/plain": [
       "<IPython.core.display.Markdown object>"
      ]
     },
     "metadata": {},
     "output_type": "display_data"
    },
    {
     "data": {
      "text/markdown": [
       " - __La media del resto del mundo es:__ 15.537"
      ],
      "text/plain": [
       "<IPython.core.display.Markdown object>"
      ]
     },
     "metadata": {},
     "output_type": "display_data"
    },
    {
     "data": {
      "text/markdown": [
       " - __La diferencia entre medias es:__ 46.608"
      ],
      "text/plain": [
       "<IPython.core.display.Markdown object>"
      ]
     },
     "metadata": {},
     "output_type": "display_data"
    },
    {
     "data": {
      "text/markdown": [
       "### Campo adfert y region 'Oceania'"
      ],
      "text/plain": [
       "<IPython.core.display.Markdown object>"
      ]
     },
     "metadata": {},
     "output_type": "display_data"
    },
    {
     "data": {
      "text/markdown": [
       " - __Valor t:__ 0.623 "
      ],
      "text/plain": [
       "<IPython.core.display.Markdown object>"
      ]
     },
     "metadata": {},
     "output_type": "display_data"
    },
    {
     "data": {
      "text/markdown": [
       " - __Valor pvalue:__ 0.534 "
      ],
      "text/plain": [
       "<IPython.core.display.Markdown object>"
      ]
     },
     "metadata": {},
     "output_type": "display_data"
    },
    {
     "data": {
      "text/markdown": [
       " - __La media de la region es:__ 52.386"
      ],
      "text/plain": [
       "<IPython.core.display.Markdown object>"
      ]
     },
     "metadata": {},
     "output_type": "display_data"
    },
    {
     "data": {
      "text/markdown": [
       " - __La media del resto del mundo es:__ 44.993"
      ],
      "text/plain": [
       "<IPython.core.display.Markdown object>"
      ]
     },
     "metadata": {},
     "output_type": "display_data"
    },
    {
     "data": {
      "text/markdown": [
       " - __La diferencia entre medias es:__ 7.393"
      ],
      "text/plain": [
       "<IPython.core.display.Markdown object>"
      ]
     },
     "metadata": {},
     "output_type": "display_data"
    },
    {
     "data": {
      "text/markdown": [
       "### Campo life y region 'Africa'"
      ],
      "text/plain": [
       "<IPython.core.display.Markdown object>"
      ]
     },
     "metadata": {},
     "output_type": "display_data"
    },
    {
     "data": {
      "text/markdown": [
       " - __Valor t:__ 15.175 "
      ],
      "text/plain": [
       "<IPython.core.display.Markdown object>"
      ]
     },
     "metadata": {},
     "output_type": "display_data"
    },
    {
     "data": {
      "text/markdown": [
       " - __Valor pvalue:__ 0.0 "
      ],
      "text/plain": [
       "<IPython.core.display.Markdown object>"
      ]
     },
     "metadata": {},
     "output_type": "display_data"
    },
    {
     "data": {
      "text/markdown": [
       " - __La media de la region es:__ 73.211"
      ],
      "text/plain": [
       "<IPython.core.display.Markdown object>"
      ]
     },
     "metadata": {},
     "output_type": "display_data"
    },
    {
     "data": {
      "text/markdown": [
       " - __La media del resto del mundo es:__ 56.49"
      ],
      "text/plain": [
       "<IPython.core.display.Markdown object>"
      ]
     },
     "metadata": {},
     "output_type": "display_data"
    },
    {
     "data": {
      "text/markdown": [
       " - __La diferencia entre medias es:__ 16.721"
      ],
      "text/plain": [
       "<IPython.core.display.Markdown object>"
      ]
     },
     "metadata": {},
     "output_type": "display_data"
    },
    {
     "data": {
      "text/markdown": [
       "### Campo life y region 'Americas'"
      ],
      "text/plain": [
       "<IPython.core.display.Markdown object>"
      ]
     },
     "metadata": {},
     "output_type": "display_data"
    },
    {
     "data": {
      "text/markdown": [
       " - __Valor t:__ -3.138 "
      ],
      "text/plain": [
       "<IPython.core.display.Markdown object>"
      ]
     },
     "metadata": {},
     "output_type": "display_data"
    },
    {
     "data": {
      "text/markdown": [
       " - __Valor pvalue:__ 0.002 "
      ],
      "text/plain": [
       "<IPython.core.display.Markdown object>"
      ]
     },
     "metadata": {},
     "output_type": "display_data"
    },
    {
     "data": {
      "text/markdown": [
       " - __La media de la region es:__ 67.69"
      ],
      "text/plain": [
       "<IPython.core.display.Markdown object>"
      ]
     },
     "metadata": {},
     "output_type": "display_data"
    },
    {
     "data": {
      "text/markdown": [
       " - __La media del resto del mundo es:__ 73.451"
      ],
      "text/plain": [
       "<IPython.core.display.Markdown object>"
      ]
     },
     "metadata": {},
     "output_type": "display_data"
    },
    {
     "data": {
      "text/markdown": [
       " - __La diferencia entre medias es:__ -5.762"
      ],
      "text/plain": [
       "<IPython.core.display.Markdown object>"
      ]
     },
     "metadata": {},
     "output_type": "display_data"
    },
    {
     "data": {
      "text/markdown": [
       "### Campo life y region 'Asia'"
      ],
      "text/plain": [
       "<IPython.core.display.Markdown object>"
      ]
     },
     "metadata": {},
     "output_type": "display_data"
    },
    {
     "data": {
      "text/markdown": [
       " - __Valor t:__ -1.735 "
      ],
      "text/plain": [
       "<IPython.core.display.Markdown object>"
      ]
     },
     "metadata": {},
     "output_type": "display_data"
    },
    {
     "data": {
      "text/markdown": [
       " - __Valor pvalue:__ 0.084 "
      ],
      "text/plain": [
       "<IPython.core.display.Markdown object>"
      ]
     },
     "metadata": {},
     "output_type": "display_data"
    },
    {
     "data": {
      "text/markdown": [
       " - __La media de la region es:__ 68.005"
      ],
      "text/plain": [
       "<IPython.core.display.Markdown object>"
      ]
     },
     "metadata": {},
     "output_type": "display_data"
    },
    {
     "data": {
      "text/markdown": [
       " - __La media del resto del mundo es:__ 70.872"
      ],
      "text/plain": [
       "<IPython.core.display.Markdown object>"
      ]
     },
     "metadata": {},
     "output_type": "display_data"
    },
    {
     "data": {
      "text/markdown": [
       " - __La diferencia entre medias es:__ -2.867"
      ],
      "text/plain": [
       "<IPython.core.display.Markdown object>"
      ]
     },
     "metadata": {},
     "output_type": "display_data"
    },
    {
     "data": {
      "text/markdown": [
       "### Campo life y region 'Europe'"
      ],
      "text/plain": [
       "<IPython.core.display.Markdown object>"
      ]
     },
     "metadata": {},
     "output_type": "display_data"
    },
    {
     "data": {
      "text/markdown": [
       " - __Valor t:__ -6.735 "
      ],
      "text/plain": [
       "<IPython.core.display.Markdown object>"
      ]
     },
     "metadata": {},
     "output_type": "display_data"
    },
    {
     "data": {
      "text/markdown": [
       " - __Valor pvalue:__ 0.0 "
      ],
      "text/plain": [
       "<IPython.core.display.Markdown object>"
      ]
     },
     "metadata": {},
     "output_type": "display_data"
    },
    {
     "data": {
      "text/markdown": [
       " - __La media de la region es:__ 66.39"
      ],
      "text/plain": [
       "<IPython.core.display.Markdown object>"
      ]
     },
     "metadata": {},
     "output_type": "display_data"
    },
    {
     "data": {
      "text/markdown": [
       " - __La media del resto del mundo es:__ 76.946"
      ],
      "text/plain": [
       "<IPython.core.display.Markdown object>"
      ]
     },
     "metadata": {},
     "output_type": "display_data"
    },
    {
     "data": {
      "text/markdown": [
       " - __La diferencia entre medias es:__ -10.556"
      ],
      "text/plain": [
       "<IPython.core.display.Markdown object>"
      ]
     },
     "metadata": {},
     "output_type": "display_data"
    },
    {
     "data": {
      "text/markdown": [
       "### Campo life y region 'Oceania'"
      ],
      "text/plain": [
       "<IPython.core.display.Markdown object>"
      ]
     },
     "metadata": {},
     "output_type": "display_data"
    },
    {
     "data": {
      "text/markdown": [
       " - __Valor t:__ -0.342 "
      ],
      "text/plain": [
       "<IPython.core.display.Markdown object>"
      ]
     },
     "metadata": {},
     "output_type": "display_data"
    },
    {
     "data": {
      "text/markdown": [
       " - __Valor pvalue:__ 0.733 "
      ],
      "text/plain": [
       "<IPython.core.display.Markdown object>"
      ]
     },
     "metadata": {},
     "output_type": "display_data"
    },
    {
     "data": {
      "text/markdown": [
       " - __La media de la region es:__ 68.658"
      ],
      "text/plain": [
       "<IPython.core.display.Markdown object>"
      ]
     },
     "metadata": {},
     "output_type": "display_data"
    },
    {
     "data": {
      "text/markdown": [
       " - __La media del resto del mundo es:__ 69.584"
      ],
      "text/plain": [
       "<IPython.core.display.Markdown object>"
      ]
     },
     "metadata": {},
     "output_type": "display_data"
    },
    {
     "data": {
      "text/markdown": [
       " - __La diferencia entre medias es:__ -0.927"
      ],
      "text/plain": [
       "<IPython.core.display.Markdown object>"
      ]
     },
     "metadata": {},
     "output_type": "display_data"
    }
   ],
   "source": [
    "def prueba_hip(dataframe, variable, binarize):\n",
    "       \n",
    "    grupo_0 = dataframe[dataframe[binarize] == 0][variable].dropna()\n",
    "    grupo_1 = dataframe[dataframe[binarize] == 1][variable].dropna()\n",
    "    \n",
    "    t, pvalue = stats.ttest_ind(grupo_0, grupo_1)\n",
    "    \n",
    "    stats.ttest_ind(grupo_0, grupo_1)\n",
    "    \n",
    "    mean_grupo_0 = grupo_0.mean()\n",
    "    mean_grupo_1 = grupo_1.mean()\n",
    "\n",
    "    display(Markdown(\" - __Valor t:__ {} \".format(round(t,3))))\n",
    "    display(Markdown(\" - __Valor pvalue:__ {} \".format(round(pvalue,3))))\n",
    "    display(Markdown(\" - __La media de la region es:__ {}\".format(round(mean_grupo_0,3))))\n",
    "    display(Markdown(\" - __La media del resto del mundo es:__ {}\".format(round(mean_grupo_1,3))))\n",
    "    display(Markdown(\" - __La diferencia entre medias es:__ {}\".format(round(mean_grupo_0 - mean_grupo_1,3))))\n",
    "  \n",
    "    \n",
    "variables = [\"chldmort\", \"adfert\", \"life\"]\n",
    "\n",
    "binarios_region = [\"binarize_Africa\",  \n",
    "    \"binarize_Asia\", \n",
    "    \"binarize_Europe\", \n",
    "    \"binarize_Oceania\",\n",
    "    \"binarize_Americas\"\n",
    "]\n",
    "\n",
    "region = [\"Africa\",  \n",
    "    \"Asia\", \n",
    "    \"Europe\", \n",
    "    \"Oceania\",\n",
    "    \"Americas\"\n",
    "]\n",
    "\n",
    "for var in variables:\n",
    "    for region in df[\"region\"].unique():\n",
    "        display(Markdown(\"### Campo {} y region '{}'\".format(var, region)))\n",
    "        prueba_hip(df, var, \"binarize_\" + region)\n"
   ]
  },
  {
   "cell_type": "markdown",
   "metadata": {},
   "source": [
    "# 4. Implemente una función que grafique los histogramas para ambas muestras.\n",
    "\n",
    "- Genere una función que devuelva un gráfico donde visualice las dos histogramas cuando la variable es 1 y 0, respectivamente.\n",
    "    - tips: Refactorize la función incluyendo el método `hist` de `matplotlib.pyplot`. Incluya los argumentos alpha y label.\n",
    "- Para las tres variables de interés acorde a su grupo, analice las diferencias de medias por cada continente, y posteriormente grafique. \n",
    "\n",
    "Concluya con los principales resultados al respecto.\n",
    "\n",
    "__Respuesta:__\n",
    "\n",
    "- Para cada región se hicieron pruebas de hipótesis nula vs hipótesis alternativas, donde la hipótesis nula y alternativas se muestran más abajo (se rechaza la hipótesis nula si p < 0.05):\n",
    "    - Campo __chldmort__: Probabilidad de muerte antes de los 5 años por cada 1000\n",
    "        - $H_0$: La probabilidad de muerte antes de los 5 años por cada 1000 no se ve afectada por la región.\n",
    "        - $H_1$: La probabilidad de muerte antes de los 5 años por cada 1000 se ve influída por la región de origen. \n",
    "            - __Africa__: Rechazamos la hipótesis nula.\n",
    "            - __Asia__: No hay suficiente evidencia para rechazar la hipótesis nula.\n",
    "            - __Europe__: Rechazamos la hipótesis nula.\n",
    "            - __Oceanía__: No hay suficiente evidencia para rechazar la hipótesis nula.\n",
    "            - __Americas__: Rechazamos la hipótesis nula.\n",
    "    - Campo __adfert__: Fertilidad adolescente (nacimientos 1:1000 en mujeres entre 15 y 19)\n",
    "        - $H_0$: La fertilidad adolescente (nacimientos 1:1000 en mujeres entre 15 y 19) no se ve afectada por la región.\n",
    "        - $H_1$: La (nacimientos 1:1000 en mujeres entre 15 y 19) se ve influída por la región de origen. \n",
    "            - __Africa__: Rechazamos la hipótesis nula.\n",
    "            - __Asia__: Rechazamos la hipótesis nula.\n",
    "            - __Europe__: Rechazamos la hipótesis nula.\n",
    "            - __Oceanía__: No hay suficiente evidencia para rechazar la hipótesis nula.\n",
    "            - __Americas__: No hay suficiente evidencia para rechazar la hipótesis nula.\n",
    "    - Campo __life__: Esperanza de vida al nacer.\n",
    "        - $H_0$: La fertilidad adolescente (nacimientos 1:1000 en mujeres entre 15 y 19) no se ve afectada por la región.\n",
    "        - $H_1$: La (nacimientos 1:1000 en mujeres entre 15 y 19) se ve influída por la región de origen.\n",
    "            - __Africa__: Rechazamos la hipótesis nula.\n",
    "            - __Asia__: No hay suficiente evidencia para rechazar la hipótesis nula.\n",
    "            - __Europe__: Rechazamos la hipótesis nula.\n",
    "            - __Oceanía__: No hay suficiente evidencia para rechazar la hipótesis nula.\n",
    "            - __Americas__: Rechazamos la hipótesis nula."
   ]
  },
  {
   "cell_type": "code",
   "execution_count": 71,
   "metadata": {},
   "outputs": [
    {
     "data": {
      "image/png": "[encoded data removed]",
      "text/plain": [
       "<Figure size 432x288 with 1 Axes>"
      ]
     },
     "metadata": {
      "needs_background": "light"
     },
     "output_type": "display_data"
    },
    {
     "data": {
      "image/png": "[encoded data removed]",
      "text/plain": [
       "<Figure size 432x288 with 1 Axes>"
      ]
     },
     "metadata": {
      "needs_background": "light"
     },
     "output_type": "display_data"
    },
    {
     "data": {
      "image/png": "[encoded data removed]",
      "text/plain": [
       "<Figure size 432x288 with 1 Axes>"
      ]
     },
     "metadata": {
      "needs_background": "light"
     },
     "output_type": "display_data"
    },
    {
     "data": {
      "image/png": "[encoded data removed]",
      "text/plain": [
       "<Figure size 432x288 with 1 Axes>"
      ]
     },
     "metadata": {
      "needs_background": "light"
     },
     "output_type": "display_data"
    },
    {
     "data": {
      "image/png": "[encoded data removed]",
      "text/plain": [
       "<Figure size 432x288 with 1 Axes>"
      ]
     },
     "metadata": {
      "needs_background": "light"
     },
     "output_type": "display_data"
    },
    {
     "data": {
      "image/png": "[encoded data removed]",
      "text/plain": [
       "<Figure size 432x288 with 1 Axes>"
      ]
     },
     "metadata": {
      "needs_background": "light"
     },
     "output_type": "display_data"
    },
    {
     "data": {
      "image/png": "[encoded data removed]",
      "text/plain": [
       "<Figure size 432x288 with 1 Axes>"
      ]
     },
     "metadata": {
      "needs_background": "light"
     },
     "output_type": "display_data"
    },
    {
     "data": {
      "image/png": "[encoded data removed]",
      "text/plain": [
       "<Figure size 432x288 with 1 Axes>"
      ]
     },
     "metadata": {
      "needs_background": "light"
     },
     "output_type": "display_data"
    },
    {
     "data": {
      "image/png": "[encoded data removed]",
      "text/plain": [
       "<Figure size 432x288 with 1 Axes>"
      ]
     },
     "metadata": {
      "needs_background": "light"
     },
     "output_type": "display_data"
    },
    {
     "data": {
      "image/png": "[encoded data removed]",
      "text/plain": [
       "<Figure size 432x288 with 1 Axes>"
      ]
     },
     "metadata": {
      "needs_background": "light"
     },
     "output_type": "display_data"
    },
    {
     "data": {
      "image/png": "[encoded data removed]",
      "text/plain": [
       "<Figure size 432x288 with 1 Axes>"
      ]
     },
     "metadata": {
      "needs_background": "light"
     },
     "output_type": "display_data"
    },
    {
     "data": {
      "image/png": "[encoded data removed]",
      "text/plain": [
       "<Figure size 432x288 with 1 Axes>"
      ]
     },
     "metadata": {
      "needs_background": "light"
     },
     "output_type": "display_data"
    },
    {
     "data": {
      "image/png": "[encoded data removed]",
      "text/plain": [
       "<Figure size 432x288 with 1 Axes>"
      ]
     },
     "metadata": {
      "needs_background": "light"
     },
     "output_type": "display_data"
    },
    {
     "data": {
      "image/png": "[encoded data removed]",
      "text/plain": [
       "<Figure size 432x288 with 1 Axes>"
      ]
     },
     "metadata": {
      "needs_background": "light"
     },
     "output_type": "display_data"
    },
    {
     "data": {
      "image/png": "[encoded data removed]",
      "text/plain": [
       "<Figure size 432x288 with 1 Axes>"
      ]
     },
     "metadata": {
      "needs_background": "light"
     },
     "output_type": "display_data"
    }
   ],
   "source": [
    "def prueba_hip2(dataframe, variable, binarize):\n",
    "       \n",
    "    grupo_0 = dataframe[dataframe[binarize] == 0][variable].dropna()\n",
    "    grupo_1 = dataframe[dataframe[binarize] == 1][variable].dropna()\n",
    "    \n",
    "    t, pvalue = stats.ttest_ind(grupo_0, grupo_1)\n",
    "    \n",
    "    stats.ttest_ind(grupo_0, grupo_1)\n",
    "    \n",
    "    mean_grupo_0 = grupo_0.mean()\n",
    "    mean_grupo_1 = grupo_1.mean()\n",
    "    \n",
    "    plt.figure()\n",
    "    \n",
    "    plt.hist(grupo_0, alpha=.6, color=\"skyblue\", label=\"Resto del mundo\")\n",
    "    plt.axvline(mean_grupo_0, color=\"deepskyblue\")\n",
    "\n",
    "    plt.hist(grupo_1, alpha=.6, color=\"tomato\", label=\"Region\")\n",
    "    plt.axvline(mean_grupo_1, color=\"red\")\n",
    "    \n",
    "    plt.title(\"{} - {} \".format(binarize, variable))\n",
    "    plt.legend()\n",
    "\n",
    "for var in variables:\n",
    "    for region in df[\"region\"].unique():\n",
    "        prueba_hip2(df, var, \"binarize_\" + region)"
   ]
  }
 ],
 "metadata": {
  "kernelspec": {
   "display_name": "venv",
   "language": "python",
   "name": "venv"
  },
  "language_info": {
   "codemirror_mode": {
    "name": "ipython",
    "version": 3
   },
   "file_extension": ".py",
   "mimetype": "text/x-python",
   "name": "python",
   "nbconvert_exporter": "python",
   "pygments_lexer": "ipython3",
   "version": "3.7.3"
  },
  "toc": {
   "base_numbering": 1,
   "nav_menu": {},
   "number_sections": true,
   "sideBar": true,
   "skip_h1_title": true,
   "title_cell": "Table of Contents",
   "title_sidebar": "Contents",
   "toc_cell": false,
   "toc_position": {},
   "toc_section_display": true,
   "toc_window_display": false
  }
 },
 "nbformat": 4,
 "nbformat_minor": 2
}
