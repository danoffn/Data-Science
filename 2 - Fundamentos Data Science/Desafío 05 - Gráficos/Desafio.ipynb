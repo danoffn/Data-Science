{
 "cells": [
  {
   "cell_type": "markdown",
   "metadata": {},
   "source": [
    "# Desafío 17/06"
   ]
  },
  {
   "cell_type": "markdown",
   "metadata": {},
   "source": [
    "__Integrantes:__ \n",
    "- Yerko Carreño\n",
    "- Javier Pilasi \n",
    "- Daniel Flores\n",
    "- Francisco Fernandez\n",
    "- Máximo Oliva\n",
    "- Rocío Ehijo"
   ]
  },
  {
   "cell_type": "markdown",
   "metadata": {},
   "source": [
    "## Genere una submuestra de casos\n",
    "\n",
    "- Utilice los últimos 4 dígitos de su rut como semilla pseudoaleatoria. __RUT: Seleccionado 2085__\n",
    "- Seleccione el 50% de los casos.\n",
    "- Cada base generada debe contener los siguientes elementos:\n",
    "    - El índice de desarrollo humano ( undp_hdi )\n",
    "    - El nombre del país ( ccodealp )\n",
    "    - La región a la que pertenece ( ht_region )\n",
    "    - El PIB per capita. ( gle_cgdpc )\n",
    "    - El total de la población ( imf_pop )\n",
    "    \n",
    "- Si su apellido está entre la A y la M, escoja las siguientes variables del módulo Educación: __Apellido: F__\n",
    "    - ffp_hf : Human Flight and Brain Drain\n",
    "    - wef_qes : Quality of the educational system\n",
    "    - wdi_expedu : Government expenditure on education, total (% of GDP)\n",
    "    - wdi_ners : School enrollment, secondary (% net)\n",
    "- Si su apellido está entre la N y la Z, escoja las siguientes variables del módulo Salud:\n",
    "    - wef_imort : Infant mortality, deaths/1000 live births\n",
    "    - who_alc2000 : Alcohol consumption per capita (2000-)\n",
    "    - who_tobt : Current smoking of any tobacco product (Total).\n",
    "    - wdi_exph : Government expenditure on health, total (% of GDP)\n",
    "- Guarde esta tabla procesada en un nuevo objeto\n",
    "- Renombre las categorías de la variable ht_region de números a regiones"
   ]
  },
  {
   "cell_type": "code",
   "execution_count": 1,
   "metadata": {},
   "outputs": [
    {
     "data": {
      "text/html": [
       "<div>\n",
       "<style scoped>\n",
       "    .dataframe tbody tr th:only-of-type {\n",
       "        vertical-align: middle;\n",
       "    }\n",
       "\n",
       "    .dataframe tbody tr th {\n",
       "        vertical-align: top;\n",
       "    }\n",
       "\n",
       "    .dataframe thead th {\n",
       "        text-align: right;\n",
       "    }\n",
       "</style>\n",
       "<table border=\"1\" class=\"dataframe\">\n",
       "  <thead>\n",
       "    <tr style=\"text-align: right;\">\n",
       "      <th></th>\n",
       "      <th>undp_hdi</th>\n",
       "      <th>ccodealp</th>\n",
       "      <th>ht_region</th>\n",
       "      <th>gle_cgdpc</th>\n",
       "      <th>imf_pop</th>\n",
       "      <th>ffp_hf</th>\n",
       "      <th>wef_qes</th>\n",
       "      <th>wdi_expedu</th>\n",
       "      <th>wdi_ners</th>\n",
       "    </tr>\n",
       "  </thead>\n",
       "  <tbody>\n",
       "    <tr>\n",
       "      <th>37</th>\n",
       "      <td>NaN</td>\n",
       "      <td>TWN</td>\n",
       "      <td>EastAsia</td>\n",
       "      <td>33965.8710</td>\n",
       "      <td>23.434000</td>\n",
       "      <td>NaN</td>\n",
       "      <td>3.908831</td>\n",
       "      <td>NaN</td>\n",
       "      <td>NaN</td>\n",
       "    </tr>\n",
       "    <tr>\n",
       "      <th>142</th>\n",
       "      <td>0.798</td>\n",
       "      <td>ROU</td>\n",
       "      <td>EastEurope</td>\n",
       "      <td>14563.1400</td>\n",
       "      <td>19.952999</td>\n",
       "      <td>4.5</td>\n",
       "      <td>3.833498</td>\n",
       "      <td>3.12918</td>\n",
       "      <td>83.929939</td>\n",
       "    </tr>\n",
       "    <tr>\n",
       "      <th>188</th>\n",
       "      <td>0.794</td>\n",
       "      <td>URY</td>\n",
       "      <td>LatAm</td>\n",
       "      <td>12804.8400</td>\n",
       "      <td>3.454000</td>\n",
       "      <td>4.4</td>\n",
       "      <td>2.903505</td>\n",
       "      <td>4.35694</td>\n",
       "      <td>76.348099</td>\n",
       "    </tr>\n",
       "    <tr>\n",
       "      <th>28</th>\n",
       "      <td>0.558</td>\n",
       "      <td>KHM</td>\n",
       "      <td>SouthEastAsia</td>\n",
       "      <td>1927.0601</td>\n",
       "      <td>14.605000</td>\n",
       "      <td>7.5</td>\n",
       "      <td>3.176270</td>\n",
       "      <td>1.90197</td>\n",
       "      <td>NaN</td>\n",
       "    </tr>\n",
       "    <tr>\n",
       "      <th>93</th>\n",
       "      <td>0.582</td>\n",
       "      <td>LAO</td>\n",
       "      <td>SouthEastAsia</td>\n",
       "      <td>2926.7700</td>\n",
       "      <td>6.898000</td>\n",
       "      <td>7.4</td>\n",
       "      <td>3.834710</td>\n",
       "      <td>3.32011</td>\n",
       "      <td>50.828941</td>\n",
       "    </tr>\n",
       "  </tbody>\n",
       "</table>\n",
       "</div>"
      ],
      "text/plain": [
       "     undp_hdi ccodealp      ht_region   gle_cgdpc    imf_pop  ffp_hf  \\\n",
       "37        NaN      TWN       EastAsia  33965.8710  23.434000     NaN   \n",
       "142     0.798      ROU     EastEurope  14563.1400  19.952999     4.5   \n",
       "188     0.794      URY          LatAm  12804.8400   3.454000     4.4   \n",
       "28      0.558      KHM  SouthEastAsia   1927.0601  14.605000     7.5   \n",
       "93      0.582      LAO  SouthEastAsia   2926.7700   6.898000     7.4   \n",
       "\n",
       "      wef_qes  wdi_expedu   wdi_ners  \n",
       "37   3.908831         NaN        NaN  \n",
       "142  3.833498     3.12918  83.929939  \n",
       "188  2.903505     4.35694  76.348099  \n",
       "28   3.176270     1.90197        NaN  \n",
       "93   3.834710     3.32011  50.828941  "
      ]
     },
     "execution_count": 1,
     "metadata": {},
     "output_type": "execute_result"
    }
   ],
   "source": [
    "import pandas as pd\n",
    "import numpy as np\n",
    "from IPython.display import display, Markdown\n",
    "\n",
    "df = pd.read_csv(\"qog_std_cs_jan18.csv\")\n",
    "df_full = df \n",
    "\n",
    "# Columnas a seleccionar para apellido rango A-M\n",
    "\n",
    "columnasBase = [\"undp_hdi\", \"ccodealp\", \"ht_region\", \"gle_cgdpc\", \"imf_pop\"]\n",
    "columnasAF = [\"ffp_hf\", \"wef_qes\", \"wdi_expedu\", \"wdi_ners\"]\n",
    "columnas = columnasBase + columnasAF\n",
    "\n",
    "# Obtener subset al azar\n",
    "\n",
    "df = df.loc[:,columnas].sample(frac=0.5, random_state = np.random.seed(2085) )\n",
    "\n",
    "# Renombrar subset\n",
    "df['ht_region'] = df['ht_region'].replace([1, 2, 3, 4, 5, 6, 7, 8, 9, 10],['EastEurope', 'LatAm', 'NorthAfrica','SubSaharian', 'WesternDem', 'EastAsia','SouthEastAsia','SouthAsia','Pacific', 'Caribbean'])\n",
    "\n",
    "df.head()"
   ]
  },
  {
   "cell_type": "markdown",
   "metadata": {},
   "source": [
    "    \n",
    "## Genere una función que ingrese su objeto y devuelva:\n",
    "\n",
    "- Por cada variable existente en su objeto, calcule las medidas descriptivas para los casos contínuos\n",
    "    - Para cada variable discreta, que calcule la frecuencia.\n",
    "    - Reporte las estadísticas descriptivas para gle_cgdpc , undp_hdi , imf_pop .\n",
    "    - Compare las estadísticas con algún compañero. ¿Ve alguna diferencia substancial en alguna de ellas?"
   ]
  },
  {
   "cell_type": "code",
   "execution_count": 2,
   "metadata": {},
   "outputs": [
    {
     "name": "stdout",
     "output_type": "stream",
     "text": [
      "undp_hdi      float64\n",
      "ccodealp       object\n",
      "ht_region      object\n",
      "gle_cgdpc     float64\n",
      "imf_pop       float64\n",
      "ffp_hf        float64\n",
      "wef_qes       float64\n",
      "wdi_expedu    float64\n",
      "wdi_ners      float64\n",
      "dtype: object\n",
      "Variable: undp_hdi\n",
      "count    93.000\n",
      "mean      0.690\n",
      "std       0.161\n",
      "min       0.351\n",
      "25%       0.555\n",
      "50%       0.702\n",
      "75%       0.834\n",
      "max       0.948\n",
      "Name: undp_hdi, dtype: float64\n",
      "Variable: gle_cgdpc\n",
      "count        97.000\n",
      "mean      14547.540\n",
      "std       19270.122\n",
      "min         324.160\n",
      "25%        2584.600\n",
      "50%        5733.370\n",
      "75%       19990.939\n",
      "max      108481.130\n",
      "Name: gle_cgdpc, dtype: float64\n",
      "Variable: imf_pop\n",
      "count     74.000\n",
      "mean      28.525\n",
      "std       53.330\n",
      "min        0.011\n",
      "25%        3.099\n",
      "50%        9.673\n",
      "75%       25.247\n",
      "max      318.789\n",
      "Name: imf_pop, dtype: float64\n",
      "Variable: ffp_hf\n",
      "count    88.000\n",
      "mean      5.426\n",
      "std       2.015\n",
      "min       1.000\n",
      "25%       3.675\n",
      "50%       5.750\n",
      "75%       7.025\n",
      "max       8.900\n",
      "Name: ffp_hf, dtype: float64\n",
      "Variable: wef_qes\n",
      "count    76.000\n",
      "mean      3.698\n",
      "std       0.918\n",
      "min       1.875\n",
      "25%       3.039\n",
      "50%       3.587\n",
      "75%       4.244\n",
      "max       5.821\n",
      "Name: wef_qes, dtype: float64\n",
      "Variable: wdi_expedu\n",
      "count    77.000\n",
      "mean      4.599\n",
      "std       1.682\n",
      "min       1.022\n",
      "25%       3.320\n",
      "50%       4.659\n",
      "75%       5.757\n",
      "max       8.429\n",
      "Name: wdi_expedu, dtype: float64\n",
      "Variable: wdi_ners\n",
      "count    69.000\n",
      "mean     72.232\n",
      "std      23.251\n",
      "min      15.665\n",
      "25%      51.059\n",
      "50%      81.858\n",
      "75%      92.052\n",
      "max      99.573\n",
      "Name: wdi_ners, dtype: float64\n",
      "Variable: ccodealp\n",
      "RWA    0.010309\n",
      "AGO    0.010309\n",
      "ISL    0.010309\n",
      "PRT    0.010309\n",
      "SVN    0.010309\n",
      "TUN    0.010309\n",
      "MMR    0.010309\n",
      "KAZ    0.010309\n",
      "BDI    0.010309\n",
      "BRN    0.010309\n",
      "DJI    0.010309\n",
      "TGO    0.010309\n",
      "BGD    0.010309\n",
      "IRL    0.010309\n",
      "BEL    0.010309\n",
      "COG    0.010309\n",
      "TUR    0.010309\n",
      "GTM    0.010309\n",
      "COM    0.010309\n",
      "STP    0.010309\n",
      "AFG    0.010309\n",
      "AND    0.010309\n",
      "MDG    0.010309\n",
      "GMB    0.010309\n",
      "BRA    0.010309\n",
      "ZAF    0.010309\n",
      "GNB    0.010309\n",
      "MDV    0.010309\n",
      "NAM    0.010309\n",
      "KIR    0.010309\n",
      "         ...   \n",
      "KGZ    0.010309\n",
      "CYP    0.010309\n",
      "IND    0.010309\n",
      "GRC    0.010309\n",
      "URY    0.010309\n",
      "NER    0.010309\n",
      "VNM    0.010309\n",
      "DEU    0.010309\n",
      "TJK    0.010309\n",
      "SWZ    0.010309\n",
      "ARM    0.010309\n",
      "GIN    0.010309\n",
      "FJI    0.010309\n",
      "SEN    0.010309\n",
      "UKR    0.010309\n",
      "JPN    0.010309\n",
      "BOL    0.010309\n",
      "USA    0.010309\n",
      "WSM    0.010309\n",
      "HUN    0.010309\n",
      "GRD    0.010309\n",
      "LBR    0.010309\n",
      "LSO    0.010309\n",
      "ROU    0.010309\n",
      "BRB    0.010309\n",
      "PNG    0.010309\n",
      "PLW    0.010309\n",
      "KHM    0.010309\n",
      "BLR    0.010309\n",
      "HND    0.010309\n",
      "Name: ccodealp, Length: 97, dtype: float64\n",
      "Variable: ht_region\n",
      "SubSaharian      0.268041\n",
      "EastEurope       0.154639\n",
      "WesternDem       0.144330\n",
      "NorthAfrica      0.092784\n",
      "SouthAsia        0.072165\n",
      "SouthEastAsia    0.072165\n",
      "Pacific          0.072165\n",
      "LatAm            0.061856\n",
      "Caribbean        0.030928\n",
      "EastAsia         0.030928\n",
      "Name: ht_region, dtype: float64\n"
     ]
    }
   ],
   "source": [
    "print(df.dtypes)\n",
    "# Estadistica descriptiva para variables continuas\n",
    "\n",
    "def descriptiva(dataframe):\n",
    "    \n",
    "    for column in dataframe.loc[:, dataframe.dtypes == np.float64].columns:\n",
    "        print(\"Variable: \" + column)\n",
    "        print(dataframe[column].describe().round(3))\n",
    "\n",
    "    # Estadistica descriptiva para variables discretas\n",
    "\n",
    "    for column in dataframe.loc[:, dataframe.dtypes == object].columns:\n",
    "        print(\"Variable: \" + column)\n",
    "        print(dataframe[column].value_counts(\"%\"))\n",
    "\n",
    "descriptiva(df)"
   ]
  },
  {
   "cell_type": "markdown",
   "metadata": {},
   "source": [
    "## Genere una función que liste las observaciones perdidas de una variable\n",
    "\n",
    "- La función debe contener los siguientes argumentos:\n",
    "    - dataframe : La función debe ingresar un objeto DataFrame.\n",
    "    - var : Variable a inspeccionar.\n",
    "    - print_list : Opción para imprimir la lista de observaciones perdidas en la variable. Debe ser False por defecto.\n",
    "- La función debe retornar la cantidad de casos perdidos y el porcentaje correspondiente.\n",
    "- Cuando print_list = True , debe retornar la lista de casos.\n",
    "- Analice todas las variables y sus casos perdidos.\n",
    "- Para las 3 variables con un mayor porcentaje de casos perdidos, solicite la lista de países con ausencia de datos."
   ]
  },
  {
   "cell_type": "code",
   "execution_count": 3,
   "metadata": {},
   "outputs": [
    {
     "data": {
      "text/markdown": [
       "### Tabla de observaciones perdidas"
      ],
      "text/plain": [
       "<IPython.core.display.Markdown object>"
      ]
     },
     "metadata": {},
     "output_type": "display_data"
    },
    {
     "data": {
      "text/html": [
       "<div>\n",
       "<style scoped>\n",
       "    .dataframe tbody tr th:only-of-type {\n",
       "        vertical-align: middle;\n",
       "    }\n",
       "\n",
       "    .dataframe tbody tr th {\n",
       "        vertical-align: top;\n",
       "    }\n",
       "\n",
       "    .dataframe thead th {\n",
       "        text-align: right;\n",
       "    }\n",
       "</style>\n",
       "<table border=\"1\" class=\"dataframe\">\n",
       "  <thead>\n",
       "    <tr style=\"text-align: right;\">\n",
       "      <th></th>\n",
       "      <th>columna</th>\n",
       "      <th>numero_NOK</th>\n",
       "      <th>porcentaje_NOK</th>\n",
       "    </tr>\n",
       "  </thead>\n",
       "  <tbody>\n",
       "    <tr>\n",
       "      <th>0</th>\n",
       "      <td>undp_hdi</td>\n",
       "      <td>4</td>\n",
       "      <td>0.041</td>\n",
       "    </tr>\n",
       "    <tr>\n",
       "      <th>1</th>\n",
       "      <td>ccodealp</td>\n",
       "      <td>0</td>\n",
       "      <td>0.000</td>\n",
       "    </tr>\n",
       "    <tr>\n",
       "      <th>2</th>\n",
       "      <td>ht_region</td>\n",
       "      <td>0</td>\n",
       "      <td>0.000</td>\n",
       "    </tr>\n",
       "    <tr>\n",
       "      <th>3</th>\n",
       "      <td>gle_cgdpc</td>\n",
       "      <td>0</td>\n",
       "      <td>0.000</td>\n",
       "    </tr>\n",
       "    <tr>\n",
       "      <th>4</th>\n",
       "      <td>imf_pop</td>\n",
       "      <td>23</td>\n",
       "      <td>0.237</td>\n",
       "    </tr>\n",
       "    <tr>\n",
       "      <th>5</th>\n",
       "      <td>ffp_hf</td>\n",
       "      <td>9</td>\n",
       "      <td>0.093</td>\n",
       "    </tr>\n",
       "    <tr>\n",
       "      <th>6</th>\n",
       "      <td>wef_qes</td>\n",
       "      <td>21</td>\n",
       "      <td>0.216</td>\n",
       "    </tr>\n",
       "    <tr>\n",
       "      <th>7</th>\n",
       "      <td>wdi_expedu</td>\n",
       "      <td>20</td>\n",
       "      <td>0.206</td>\n",
       "    </tr>\n",
       "    <tr>\n",
       "      <th>8</th>\n",
       "      <td>wdi_ners</td>\n",
       "      <td>28</td>\n",
       "      <td>0.289</td>\n",
       "    </tr>\n",
       "  </tbody>\n",
       "</table>\n",
       "</div>"
      ],
      "text/plain": [
       "      columna  numero_NOK  porcentaje_NOK\n",
       "0    undp_hdi           4           0.041\n",
       "1    ccodealp           0           0.000\n",
       "2   ht_region           0           0.000\n",
       "3   gle_cgdpc           0           0.000\n",
       "4     imf_pop          23           0.237\n",
       "5      ffp_hf           9           0.093\n",
       "6     wef_qes          21           0.216\n",
       "7  wdi_expedu          20           0.206\n",
       "8    wdi_ners          28           0.289"
      ]
     },
     "metadata": {},
     "output_type": "display_data"
    },
    {
     "data": {
      "text/markdown": [
       "### Columnas con mayor porcentaje de registros perdidos (3)"
      ],
      "text/plain": [
       "<IPython.core.display.Markdown object>"
      ]
     },
     "metadata": {},
     "output_type": "display_data"
    },
    {
     "data": {
      "text/html": [
       "<div>\n",
       "<style scoped>\n",
       "    .dataframe tbody tr th:only-of-type {\n",
       "        vertical-align: middle;\n",
       "    }\n",
       "\n",
       "    .dataframe tbody tr th {\n",
       "        vertical-align: top;\n",
       "    }\n",
       "\n",
       "    .dataframe thead th {\n",
       "        text-align: right;\n",
       "    }\n",
       "</style>\n",
       "<table border=\"1\" class=\"dataframe\">\n",
       "  <thead>\n",
       "    <tr style=\"text-align: right;\">\n",
       "      <th></th>\n",
       "      <th>columna</th>\n",
       "      <th>numero_NOK</th>\n",
       "      <th>porcentaje_NOK</th>\n",
       "    </tr>\n",
       "  </thead>\n",
       "  <tbody>\n",
       "    <tr>\n",
       "      <th>8</th>\n",
       "      <td>wdi_ners</td>\n",
       "      <td>28</td>\n",
       "      <td>0.289</td>\n",
       "    </tr>\n",
       "    <tr>\n",
       "      <th>4</th>\n",
       "      <td>imf_pop</td>\n",
       "      <td>23</td>\n",
       "      <td>0.237</td>\n",
       "    </tr>\n",
       "    <tr>\n",
       "      <th>6</th>\n",
       "      <td>wef_qes</td>\n",
       "      <td>21</td>\n",
       "      <td>0.216</td>\n",
       "    </tr>\n",
       "  </tbody>\n",
       "</table>\n",
       "</div>"
      ],
      "text/plain": [
       "    columna  numero_NOK  porcentaje_NOK\n",
       "8  wdi_ners          28           0.289\n",
       "4   imf_pop          23           0.237\n",
       "6   wef_qes          21           0.216"
      ]
     },
     "metadata": {},
     "output_type": "display_data"
    },
    {
     "data": {
      "text/markdown": [
       "### Lista de países con ausencia de datos"
      ],
      "text/plain": [
       "<IPython.core.display.Markdown object>"
      ]
     },
     "metadata": {},
     "output_type": "display_data"
    },
    {
     "data": {
      "text/markdown": [
       "#### Columna wdi_ners"
      ],
      "text/plain": [
       "<IPython.core.display.Markdown object>"
      ]
     },
     "metadata": {},
     "output_type": "display_data"
    },
    {
     "name": "stdout",
     "output_type": "stream",
     "text": [
      "['TWN', 'KHM', 'MCO', 'AGO', 'COD', 'PNG', 'ARM', 'GMB', 'MDV', 'TGO', 'AND', 'MNG', 'NAM', 'CZE', 'DJI', 'DEU', 'GAB', 'TUN', 'COG', 'LBR', 'GNB', 'CAN', 'VNM', 'KIR', 'SGP', 'LBY', 'ZAF', 'SEN']\n"
     ]
    },
    {
     "data": {
      "text/markdown": [
       "#### Columna wdi_expedu"
      ],
      "text/plain": [
       "<IPython.core.display.Markdown object>"
      ]
     },
     "metadata": {},
     "output_type": "display_data"
    },
    {
     "name": "stdout",
     "output_type": "stream",
     "text": [
      "['TWN', 'DMA', 'AGO', 'PNG', 'TUV', 'MAR', 'JOR', 'NAM', 'LSO', 'DJI', 'GRC', 'COG', 'MMR', 'NRU', 'KIR', 'GRD', 'PLW', 'LBY', 'WSM', 'EGY']\n"
     ]
    },
    {
     "data": {
      "text/markdown": [
       "#### Columna wef_qes"
      ],
      "text/plain": [
       "<IPython.core.display.Markdown object>"
      ]
     },
     "metadata": {},
     "output_type": "display_data"
    },
    {
     "name": "stdout",
     "output_type": "stream",
     "text": [
      "['MCO', 'DMA', 'PNG', 'TUV', 'MDV', 'TGO', 'AND', 'AFG', 'STP', 'DJI', 'BLR', 'COG', 'GNB', 'NRU', 'NER', 'KIR', 'GRD', 'PLW', 'WSM', 'FJI', 'COM']\n"
     ]
    }
   ],
   "source": [
    "def obs_perdidas(dataframe, columna, print_list=False):\n",
    "    lista = []\n",
    "    \n",
    "    numero_registros = dataframe[columna].shape[0]\n",
    "    lista_NOK = df.loc[df[columna].isnull()]['ccodealp'].unique()\n",
    "    numero_NOK = dataframe[columna].isna().sum()\n",
    "    \n",
    "    try:\n",
    "        porcentaje_NOK = (numero_NOK/numero_registros).round(3)\n",
    "    except:\n",
    "        porcentaje_NOK = 0\n",
    "    \n",
    "    if print_list:\n",
    "        display(Markdown(\"#### Columna \" + columna))\n",
    "        print(list(lista_NOK))\n",
    "        \n",
    "    return numero_NOK, porcentaje_NOK\n",
    "\n",
    "# Obtener lista de diccionarios a partir de resultados\n",
    "\n",
    "lista_obs_perdidas = []\n",
    "for columna in df.columns:\n",
    "    numero_NOK, porcentaje_NOK = obs_perdidas(df,columna, False)\n",
    "    lista_obs_perdidas.append({\"columna\": columna, \"numero_NOK\": numero_NOK, \"porcentaje_NOK\":porcentaje_NOK})\n",
    "\n",
    "# Crear dataframe a partir de diccionario\n",
    "\n",
    "df_des3 = pd.DataFrame(lista_obs_perdidas)\n",
    "# Imprimir dataframe de resultados\n",
    "\n",
    "display(Markdown(\"### Tabla de observaciones perdidas\"))\n",
    "display(df_des3)\n",
    "\n",
    "display(Markdown(\"### Columnas con mayor porcentaje de registros perdidos (3)\"))\n",
    "display(df_des3.sort_values(\"porcentaje_NOK\", ascending=False).iloc[:3])\n",
    "\n",
    "display(Markdown(\"### Lista de países con ausencia de datos\"))\n",
    "\n",
    "lista_mayores_perdidas = [\"wdi_ners\",\"wdi_expedu\", \"wef_qes\"]\n",
    "for columna in lista_mayores_perdidas:\n",
    "    numero_NOK, porcentaje_NOK = obs_perdidas(df,columna, True)"
   ]
  },
  {
   "cell_type": "markdown",
   "metadata": {},
   "source": [
    "## Grafique los histogramas\n",
    "\n",
    "- Genere una función que grafique un histograma en conjunto y señale las medias.\n",
    "    - La función debe incluír los siguientes argumentos:\n",
    "        - dataframe : La base de datos donde se encuentran los datos específicos. __Nota: Se usa la la base de datos con el 50% de los datos.__\n",
    "        - var : La variable a graficar.\n",
    "        - sample_mean : Booleano. Si es verdadero, debe generar una recta vertical indicando la media de la variable en la selección muestral. Por defecto debe ser False .\n",
    "        - true_mean : Booleano. Si es verdadero, debe generar una recta vertical indicando la media de variable en la base de datos completa.__Nota: La base de datos completa se pasa como variable global.__ \n",
    "- Implemente las funciones para las 4 variables seleccionadas según su grupo.\n",
    "- ¿En qué variables la media de la submuestra es mayor a la de la muestra completa? \n",
    "    - __Resp: En las variables wef_qes, wdi_expedu__"
   ]
  },
  {
   "cell_type": "code",
   "execution_count": 10,
   "metadata": {},
   "outputs": [
    {
     "data": {
      "image/png": "[encoded data removed]",
      "text/plain": [
       "<Figure size 432x288 with 1 Axes>"
      ]
     },
     "metadata": {
      "needs_background": "light"
     },
     "output_type": "display_data"
    },
    {
     "data": {
      "image/png": "[encoded data removed]",
      "text/plain": [
       "<Figure size 432x288 with 1 Axes>"
      ]
     },
     "metadata": {
      "needs_background": "light"
     },
     "output_type": "display_data"
    },
    {
     "data": {
      "image/png": "[encoded data removed]",
      "text/plain": [
       "<Figure size 432x288 with 1 Axes>"
      ]
     },
     "metadata": {
      "needs_background": "light"
     },
     "output_type": "display_data"
    },
    {
     "data": {
      "image/png": "[encoded data removed]",
      "text/plain": [
       "<Figure size 432x288 with 1 Axes>"
      ]
     },
     "metadata": {
      "needs_background": "light"
     },
     "output_type": "display_data"
    },
    {
     "data": {
      "image/png": "[encoded data removed]",
      "text/plain": [
       "<Figure size 432x288 with 1 Axes>"
      ]
     },
     "metadata": {
      "needs_background": "light"
     },
     "output_type": "display_data"
    }
   ],
   "source": [
    "import matplotlib.pyplot as plt\n",
    "\n",
    "def graficar_histograma(dataframe, var, sample_mean=False, true_mean=False):\n",
    "    df_temp = dataframe[var].dropna()\n",
    "    plt.figure()\n",
    "    plt.hist(df_temp, color='k', alpha=0.3)\n",
    "    plt.title(\"Histograma de columna '\" + var + \"'\")\n",
    "    \n",
    "    if sample_mean:\n",
    "        plt.axvline(df_temp.mean(), color=\"tomato\", label=\"Media muestras 50%\")\n",
    "        \n",
    "    if true_mean:\n",
    "        plt.axvline(df_full[var].dropna().mean(), linestyle = \"--\", label=\"Media total muestras\")\n",
    "        \n",
    "    plt.legend()\n",
    "    \n",
    "graficar_histograma(df, \"undp_hdi\", True, True)\n",
    "\n",
    "for columna in columnasAF:\n",
    "    graficar_histograma(df, columna, True, True)"
   ]
  },
  {
   "cell_type": "markdown",
   "metadata": {},
   "source": [
    "## Genere una función que devuelva un dotplot\n",
    "\n",
    "- La función debe contener los siguientes argumentos como argumentos:\n",
    "    - dataframe : La tabla de datos donde buscar las variables.\n",
    "    - plot_var : La variable a analizar y extraer las medias.\n",
    "    - plot_by : La variable agrupadora.\n",
    "    - global_stat : Booleano. Si es True debe graficar la media global de la variable. Por defecto debe ser False.\n",
    "    - statistic: Debe presentar dos opciones. mean para la media y median para la mediana. Por defecto debe ser mean.\n",
    "- Implemente la función en las 3 variables con una menor cantidad de datos perdidos."
   ]
  },
  {
   "cell_type": "code",
   "execution_count": 12,
   "metadata": {},
   "outputs": [
    {
     "data": {
      "text/markdown": [
       "### Porcentajes de registros perdidos"
      ],
      "text/plain": [
       "<IPython.core.display.Markdown object>"
      ]
     },
     "metadata": {},
     "output_type": "display_data"
    },
    {
     "data": {
      "text/html": [
       "<div>\n",
       "<style scoped>\n",
       "    .dataframe tbody tr th:only-of-type {\n",
       "        vertical-align: middle;\n",
       "    }\n",
       "\n",
       "    .dataframe tbody tr th {\n",
       "        vertical-align: top;\n",
       "    }\n",
       "\n",
       "    .dataframe thead th {\n",
       "        text-align: right;\n",
       "    }\n",
       "</style>\n",
       "<table border=\"1\" class=\"dataframe\">\n",
       "  <thead>\n",
       "    <tr style=\"text-align: right;\">\n",
       "      <th></th>\n",
       "      <th>columna</th>\n",
       "      <th>numero_NOK</th>\n",
       "      <th>porcentaje_NOK</th>\n",
       "    </tr>\n",
       "  </thead>\n",
       "  <tbody>\n",
       "    <tr>\n",
       "      <th>1</th>\n",
       "      <td>ccodealp</td>\n",
       "      <td>0</td>\n",
       "      <td>0.000</td>\n",
       "    </tr>\n",
       "    <tr>\n",
       "      <th>2</th>\n",
       "      <td>ht_region</td>\n",
       "      <td>0</td>\n",
       "      <td>0.000</td>\n",
       "    </tr>\n",
       "    <tr>\n",
       "      <th>3</th>\n",
       "      <td>gle_cgdpc</td>\n",
       "      <td>0</td>\n",
       "      <td>0.000</td>\n",
       "    </tr>\n",
       "    <tr>\n",
       "      <th>0</th>\n",
       "      <td>undp_hdi</td>\n",
       "      <td>4</td>\n",
       "      <td>0.041</td>\n",
       "    </tr>\n",
       "    <tr>\n",
       "      <th>5</th>\n",
       "      <td>ffp_hf</td>\n",
       "      <td>9</td>\n",
       "      <td>0.093</td>\n",
       "    </tr>\n",
       "    <tr>\n",
       "      <th>7</th>\n",
       "      <td>wdi_expedu</td>\n",
       "      <td>20</td>\n",
       "      <td>0.206</td>\n",
       "    </tr>\n",
       "    <tr>\n",
       "      <th>6</th>\n",
       "      <td>wef_qes</td>\n",
       "      <td>21</td>\n",
       "      <td>0.216</td>\n",
       "    </tr>\n",
       "    <tr>\n",
       "      <th>4</th>\n",
       "      <td>imf_pop</td>\n",
       "      <td>23</td>\n",
       "      <td>0.237</td>\n",
       "    </tr>\n",
       "    <tr>\n",
       "      <th>8</th>\n",
       "      <td>wdi_ners</td>\n",
       "      <td>28</td>\n",
       "      <td>0.289</td>\n",
       "    </tr>\n",
       "  </tbody>\n",
       "</table>\n",
       "</div>"
      ],
      "text/plain": [
       "      columna  numero_NOK  porcentaje_NOK\n",
       "1    ccodealp           0           0.000\n",
       "2   ht_region           0           0.000\n",
       "3   gle_cgdpc           0           0.000\n",
       "0    undp_hdi           4           0.041\n",
       "5      ffp_hf           9           0.093\n",
       "7  wdi_expedu          20           0.206\n",
       "6     wef_qes          21           0.216\n",
       "4     imf_pop          23           0.237\n",
       "8    wdi_ners          28           0.289"
      ]
     },
     "metadata": {},
     "output_type": "display_data"
    }
   ],
   "source": [
    "display(Markdown(\"### Porcentajes de registros perdidos\"))\n",
    "display(df_des3.sort_values(\"porcentaje_NOK\", ascending=True))"
   ]
  },
  {
   "cell_type": "code",
   "execution_count": 13,
   "metadata": {},
   "outputs": [
    {
     "data": {
      "image/png": "[encoded data removed]",
      "text/plain": [
       "<Figure size 432x288 with 1 Axes>"
      ]
     },
     "metadata": {
      "needs_background": "light"
     },
     "output_type": "display_data"
    },
    {
     "data": {
      "image/png": "[encoded data removed]",
      "text/plain": [
       "<Figure size 432x288 with 1 Axes>"
      ]
     },
     "metadata": {
      "needs_background": "light"
     },
     "output_type": "display_data"
    },
    {
     "data": {
      "image/png": "[encoded data removed]",
      "text/plain": [
       "<Figure size 432x288 with 1 Axes>"
      ]
     },
     "metadata": {
      "needs_background": "light"
     },
     "output_type": "display_data"
    }
   ],
   "source": [
    "def graficar_dotplot(dataframe, plt_var, plot_by, global_stat=False, statistic=\"mean\"):\n",
    "    grupo = dataframe.groupby(plot_by)[plt_var]\n",
    "    plt.figure()\n",
    "    \n",
    "    if statistic == \"mean\":\n",
    "        estadistica = \"media\"\n",
    "        grupo = round(grupo.mean(),2)\n",
    "        plt.plot(grupo.values, grupo.index, 'o', color = 'grey')\n",
    "        plt.title(\"Gráfico de puntos de la \" + estadistica + \" de la variable \"  + plt_var)\n",
    "    elif statistic == \"median\":\n",
    "        estadistica = \"mediana\"\n",
    "        grupo = round(grupo.median(),2)\n",
    "        plt.plot(grupo.values, grupo.index, 'o', color = 'grey')\n",
    "        plt.title(\"Gráfico de puntos de la \" + estadistica + \" de la variable \"  + plt_var)\n",
    "        \n",
    "    if global_stat:\n",
    "        plt.axvline(dataframe[plt_var].mean(), color=\"tomato\", label=\"Media muestras 50%\")\n",
    "\n",
    "    #plt.legend()\n",
    "\n",
    "lista_menores_perdidas = [\"gle_cgdpc\",\"undp_hdi\", \"ffp_hf\"]\n",
    "\n",
    "for columna in lista_menores_perdidas:\n",
    "    graficar_dotplot(df, columna, \"ht_region\", True)"
   ]
  },
  {
   "cell_type": "markdown",
   "metadata": {},
   "source": [
    "## Guarde la base de datos\n",
    "\n",
    "- La submuestra creada tiene un método llamado to_csv. Acceda a éste y guarde la base de datos con la siguiente nomenclatura: subsample_DFN_demo.csv. Súbala a la plataforma, junto al desafío"
   ]
  },
  {
   "cell_type": "code",
   "execution_count": 14,
   "metadata": {},
   "outputs": [],
   "source": [
    "df.to_csv(\"subsample_DFN_demo.csv\")"
   ]
  }
 ],
 "metadata": {
  "file_extension": ".py",
  "kernelspec": {
   "display_name": "venv",
   "language": "python",
   "name": "venv"
  },
  "language_info": {
   "codemirror_mode": {
    "name": "ipython",
    "version": 3
   },
   "file_extension": ".py",
   "mimetype": "text/x-python",
   "name": "python",
   "nbconvert_exporter": "python",
   "pygments_lexer": "ipython3",
   "version": "3.7.3"
  },
  "mimetype": "text/x-python",
  "name": "python",
  "npconvert_exporter": "python",
  "pygments_lexer": "ipython3",
  "toc": {
   "base_numbering": 1,
   "nav_menu": {},
   "number_sections": true,
   "sideBar": true,
   "skip_h1_title": false,
   "title_cell": "Table of Contents",
   "title_sidebar": "Contents",
   "toc_cell": false,
   "toc_position": {},
   "toc_section_display": true,
   "toc_window_display": false
  },
  "version": 3
 },
 "nbformat": 4,
 "nbformat_minor": 2
}
