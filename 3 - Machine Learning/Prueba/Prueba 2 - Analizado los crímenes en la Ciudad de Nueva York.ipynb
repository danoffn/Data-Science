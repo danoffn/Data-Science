{
 "cells": [
  {
   "cell_type": "markdown",
   "metadata": {},
   "source": [
    "# Analizado los crímenes en la Ciudad de Nueva York\n",
    "\n",
    "__Integrantes:__ \n",
    "- Daniel Flores\n",
    "- Francisco Fernandez\n",
    "\n",
    "Sección G1\n"
   ]
  },
  {
   "cell_type": "markdown",
   "metadata": {},
   "source": [
    "## Hito 1\n",
    "\n",
    "### Objetivo\n",
    "\n",
    "El objetivo del problema es generar dos modelos predictivos relacionados con los stop-and-frisk (detenciones y cateos) realizadas por la policía de NYC (NYPD).\n",
    "\n",
    "El primer modelo debe predecir si un determinado procedimiento terminará en arresto o no en base a las características medidas del sospechoso: género, raza y que se arrestado en uno de los cincos barrios.\n",
    "\n",
    "El segundo modelo debe predecir si el procedimiento finalizará en una acción violenta.\n",
    "\n",
    "### Contexto\n",
    "\n",
    "Cada vez que un policía detiene a una persona en NYC, el oficial debe completar un formulario registrando los detalles de la detención. Los formularios eran llenados a mano hasta el año 2017, cuando los formularios en papel se conviertieron a electrónicos. La policía informa las detenciones y cateos de dos maneras: un informe resumido publicado trimestralmente y una base de datos completa publicada anualmente.\n",
    "\n",
    "Los informes trimestrasles son publicados cada tres meses, incluyen información de detenciones, arrestos y citaciones. Los datos son desglosados por distrito policial, raza y genero de la persona detenida.\n",
    "\n",
    "La base de datos anual incluye practicamente toda la información registrada por el oficial de policía después de una detención, tal como la edad, si la persona fue cateada, si tenía un arma o si se recuperó un arma de fuego, si se usó fuerza física en la detención, y la ubicación exacta de la detenciín dentro del distrito policial. La NYPD sube esta base de datos a su página web anualmente. La base de datos contiene más de 100 variables y dependiendo del año, sobre 10.000 observaciones, cada registro representa una detención realizada por un oficial de policía.\n",
    "\n",
    "### Desarrollo de la solución\n",
    "\n",
    "Se seguirá el flujo habitual de machine learning:\n",
    "\n",
    "1. **Importación/obtención de datos.**\n",
    "2. **Análisis de datos:** Se analizarán los datos pérdidos y outliers, se generarán tendencias y estadística descriptiva de los atributos y vectores objetivos. Se presentará el esquema de recodificación en caso de requerirse.\n",
    "3. **Preprocesamiento:** Se transformarán (recodificarán) y limpiarán datos. Se normalizarán los atributos. \n",
    "4. **Búsqueda y selección de algoritmos a ocupar en base a objetivos del modelo.** En esta sección en base al conocimiento previo y a búsqueda de problemas similares se seleccionarán los algoritmos a utilizar para los modelos. Selección de métricas para modelos.\n",
    "5. **Entrenar y validación del modelo:** \n",
    "Se dividirán los datos en grupos: Entrenamiento, validación y **prueba PENDIENTE NOMBRE**. Se entrenarán y compararán los modelos utilizando los algoritmos seleccionados del item anterior en un GridSearch con la métrica previamente seleccionada. Los modelos tendrán hyperparámetros básicos.\n",
    "Se seleccionará el modelo con mejor métrica y se ajustarán sus hyperparámetros utilizando los datos de validación.\n",
    "Podría ser necesario recodificar datos.\n",
    "6. **Evaluación del modelo**\n",
    "Finalmente se evaluará el modelo seleccionado para cada problema, obteniéndo sus métricas, y finalmente se serializará."
   ]
  }
 ],
 "metadata": {
  "hide_input": false,
  "kernelspec": {
   "display_name": "Python 3",
   "language": "python",
   "name": "python3"
  },
  "language_info": {
   "codemirror_mode": {
    "name": "ipython",
    "version": 3
   },
   "file_extension": ".py",
   "mimetype": "text/x-python",
   "name": "python",
   "nbconvert_exporter": "python",
   "pygments_lexer": "ipython3",
   "version": "3.7.4"
  },
  "latex_envs": {
   "LaTeX_envs_menu_present": true,
   "autoclose": false,
   "autocomplete": true,
   "bibliofile": "biblio.bib",
   "cite_by": "apalike",
   "current_citInitial": 1,
   "eqLabelWithNumbers": true,
   "eqNumInitial": 1,
   "hotkeys": {
    "equation": "Ctrl-E",
    "itemize": "Ctrl-I"
   },
   "labels_anchors": false,
   "latex_user_defs": false,
   "report_style_numbering": false,
   "user_envs_cfg": false
  },
  "toc": {
   "base_numbering": 1,
   "nav_menu": {},
   "number_sections": true,
   "sideBar": true,
   "skip_h1_title": true,
   "title_cell": "Table of Contents",
   "title_sidebar": "Contents",
   "toc_cell": false,
   "toc_position": {},
   "toc_section_display": true,
   "toc_window_display": true
  }
 },
 "nbformat": 4,
 "nbformat_minor": 2
}
