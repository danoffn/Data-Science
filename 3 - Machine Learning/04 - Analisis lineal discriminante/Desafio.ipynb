{
 "cells": [
  {
   "cell_type": "markdown",
   "metadata": {},
   "source": [
    "# Desafío - Naive Bayes\n",
    "\n",
    "__Integrantes:__ \n",
    "\n",
    "- Yerko Carreño\n",
    "- Javier Pilasi \n",
    "- Daniel Flores\n",
    "- Francisco Fernandez\n",
    "- Máximo Oliva\n",
    "- Rocío Ehijo\n",
    "- Cristián Contreras\n"
   ]
  },
  {
   "cell_type": "markdown",
   "metadata": {},
   "source": [
    "# Descripción\n",
    "\n",
    "Trabajaremos con una base de datos sobre clientes morosos de un banco. Dentro de ésta se registran las siguientes observaciones:\n",
    "- default : Variable Binaria. Registra si el cliente entró en morosidad o no.\n",
    "- income : Ingreso promedio declarado por el cliente.\n",
    "- balance : total del sando en la cuenta de crédito.\n",
    "- student : Variable binaria. Registra si el cliente es estudiante o no."
   ]
  },
  {
   "cell_type": "markdown",
   "metadata": {},
   "source": [
    "## Preparación de ambiente de trabajo\n",
    "\n",
    "- Importe los módulos básicos para el análisis de datos\n",
    "- Importe las clases LabelEncoder, StandardScaler y LabelBinarizer de preprocessing\n",
    "- Importe las funciones train_test_split y cross_val_score de model_selection\n",
    "- Importe la función classification_report de metrics\n",
    "- Importe las clases LinearDiscriminantAnalysis y QuadraticDiscriminantAnalysis\n",
    "- Agregue la base de datos en el ambiente de trabajo\n",
    "- Inspeccione la distribución de cada atributo"
   ]
  },
  {
   "cell_type": "code",
   "execution_count": 1,
   "metadata": {},
   "outputs": [],
   "source": [
    "import pandas as pd\n",
    "import numpy as np\n",
    "import seaborn as sns\n",
    "import matplotlib.pyplot as plt\n",
    "import glob\n",
    "import os\n",
    "\n",
    "from sklearn.model_selection import cross_val_score\n",
    "from sklearn.model_selection import train_test_split\n",
    "from sklearn.preprocessing import StandardScaler\n",
    "from sklearn.preprocessing import LabelEncoder\n",
    "from sklearn.preprocessing import LabelBinarizer\n",
    "from sklearn.metrics import classification_report\n",
    "# from sklearn.metrics import roc_curve\n",
    "# from sklearn.metrics import roc_auc_score\n",
    "from sklearn.metrics import confusion_matrix\n",
    "from sklearn.metrics import r2_score, mean_squared_error, median_absolute_error\n",
    "# from sklearn.feature_extraction.text import CountVectorizer\n",
    "# from sklearn.pipeline import Pipeline\n",
    "# from sklearn.naive_bayes import MultinomialNB\n",
    "# from sklearn.feature_extraction.text import TfidfTransformer\n",
    "from sklearn.discriminant_analysis import QuadraticDiscriminantAnalysis\n",
    "from sklearn.discriminant_analysis import LinearDiscriminantAnalysis\n",
    "\n",
    "import missingno as msngo\n",
    "import warnings\n",
    "\n",
    "from IPython.display import display, Markdown\n",
    "\n",
    "warnings.filterwarnings('ignore')"
   ]
  },
  {
   "cell_type": "code",
   "execution_count": 2,
   "metadata": {},
   "outputs": [
    {
     "data": {
      "text/html": [
       "<div>\n",
       "<style scoped>\n",
       "    .dataframe tbody tr th:only-of-type {\n",
       "        vertical-align: middle;\n",
       "    }\n",
       "\n",
       "    .dataframe tbody tr th {\n",
       "        vertical-align: top;\n",
       "    }\n",
       "\n",
       "    .dataframe thead th {\n",
       "        text-align: right;\n",
       "    }\n",
       "</style>\n",
       "<table border=\"1\" class=\"dataframe\">\n",
       "  <thead>\n",
       "    <tr style=\"text-align: right;\">\n",
       "      <th></th>\n",
       "      <th>default</th>\n",
       "      <th>student</th>\n",
       "      <th>balance</th>\n",
       "      <th>income</th>\n",
       "    </tr>\n",
       "    <tr>\n",
       "      <th>index</th>\n",
       "      <th></th>\n",
       "      <th></th>\n",
       "      <th></th>\n",
       "      <th></th>\n",
       "    </tr>\n",
       "  </thead>\n",
       "  <tbody>\n",
       "    <tr>\n",
       "      <th>1</th>\n",
       "      <td>No</td>\n",
       "      <td>No</td>\n",
       "      <td>729.526495</td>\n",
       "      <td>44361.625074</td>\n",
       "    </tr>\n",
       "    <tr>\n",
       "      <th>2</th>\n",
       "      <td>No</td>\n",
       "      <td>Yes</td>\n",
       "      <td>817.180407</td>\n",
       "      <td>12106.134700</td>\n",
       "    </tr>\n",
       "    <tr>\n",
       "      <th>3</th>\n",
       "      <td>No</td>\n",
       "      <td>No</td>\n",
       "      <td>1073.549164</td>\n",
       "      <td>31767.138947</td>\n",
       "    </tr>\n",
       "    <tr>\n",
       "      <th>4</th>\n",
       "      <td>No</td>\n",
       "      <td>No</td>\n",
       "      <td>529.250605</td>\n",
       "      <td>35704.493935</td>\n",
       "    </tr>\n",
       "    <tr>\n",
       "      <th>5</th>\n",
       "      <td>No</td>\n",
       "      <td>No</td>\n",
       "      <td>785.655883</td>\n",
       "      <td>38463.495879</td>\n",
       "    </tr>\n",
       "  </tbody>\n",
       "</table>\n",
       "</div>"
      ],
      "text/plain": [
       "      default student      balance        income\n",
       "index                                           \n",
       "1          No      No   729.526495  44361.625074\n",
       "2          No     Yes   817.180407  12106.134700\n",
       "3          No      No  1073.549164  31767.138947\n",
       "4          No      No   529.250605  35704.493935\n",
       "5          No      No   785.655883  38463.495879"
      ]
     },
     "metadata": {},
     "output_type": "display_data"
    },
    {
     "data": {
      "text/markdown": [
       "#### Información de datos no nulos y nombres de columnas para base de datos"
      ],
      "text/plain": [
       "<IPython.core.display.Markdown object>"
      ]
     },
     "metadata": {},
     "output_type": "display_data"
    },
    {
     "name": "stdout",
     "output_type": "stream",
     "text": [
      "<class 'pandas.core.frame.DataFrame'>\n",
      "Int64Index: 10000 entries, 1 to 10000\n",
      "Data columns (total 4 columns):\n",
      "default    10000 non-null object\n",
      "student    10000 non-null object\n",
      "balance    10000 non-null float64\n",
      "income     10000 non-null float64\n",
      "dtypes: float64(2), object(2)\n",
      "memory usage: 390.6+ KB\n"
     ]
    },
    {
     "data": {
      "text/plain": [
       "None"
      ]
     },
     "metadata": {},
     "output_type": "display_data"
    }
   ],
   "source": [
    "df = pd.read_csv(\"default_credit.csv\", index_col=0)\n",
    "display(df.head())\n",
    "\n",
    "display(Markdown(\"\"\"#### Información de datos no nulos y nombres de columnas para base de datos\"\"\"))\n",
    "\n",
    "display(df.info())"
   ]
  },
  {
   "cell_type": "code",
   "execution_count": 3,
   "metadata": {
    "scrolled": false
   },
   "outputs": [
    {
     "data": {
      "text/markdown": [
       "#### Visualización de datos numéricos"
      ],
      "text/plain": [
       "<IPython.core.display.Markdown object>"
      ]
     },
     "metadata": {},
     "output_type": "display_data"
    },
    {
     "data": {
      "text/html": [
       "<div>\n",
       "<style scoped>\n",
       "    .dataframe tbody tr th:only-of-type {\n",
       "        vertical-align: middle;\n",
       "    }\n",
       "\n",
       "    .dataframe tbody tr th {\n",
       "        vertical-align: top;\n",
       "    }\n",
       "\n",
       "    .dataframe thead th {\n",
       "        text-align: right;\n",
       "    }\n",
       "</style>\n",
       "<table border=\"1\" class=\"dataframe\">\n",
       "  <thead>\n",
       "    <tr style=\"text-align: right;\">\n",
       "      <th></th>\n",
       "      <th>balance</th>\n",
       "      <th>income</th>\n",
       "    </tr>\n",
       "  </thead>\n",
       "  <tbody>\n",
       "    <tr>\n",
       "      <th>count</th>\n",
       "      <td>10000.000000</td>\n",
       "      <td>10000.000000</td>\n",
       "    </tr>\n",
       "    <tr>\n",
       "      <th>mean</th>\n",
       "      <td>835.374886</td>\n",
       "      <td>33516.981876</td>\n",
       "    </tr>\n",
       "    <tr>\n",
       "      <th>std</th>\n",
       "      <td>483.714985</td>\n",
       "      <td>13336.639563</td>\n",
       "    </tr>\n",
       "    <tr>\n",
       "      <th>min</th>\n",
       "      <td>0.000000</td>\n",
       "      <td>771.967729</td>\n",
       "    </tr>\n",
       "    <tr>\n",
       "      <th>25%</th>\n",
       "      <td>481.731105</td>\n",
       "      <td>21340.462903</td>\n",
       "    </tr>\n",
       "    <tr>\n",
       "      <th>50%</th>\n",
       "      <td>823.636973</td>\n",
       "      <td>34552.644802</td>\n",
       "    </tr>\n",
       "    <tr>\n",
       "      <th>75%</th>\n",
       "      <td>1166.308386</td>\n",
       "      <td>43807.729272</td>\n",
       "    </tr>\n",
       "    <tr>\n",
       "      <th>max</th>\n",
       "      <td>2654.322576</td>\n",
       "      <td>73554.233495</td>\n",
       "    </tr>\n",
       "  </tbody>\n",
       "</table>\n",
       "</div>"
      ],
      "text/plain": [
       "            balance        income\n",
       "count  10000.000000  10000.000000\n",
       "mean     835.374886  33516.981876\n",
       "std      483.714985  13336.639563\n",
       "min        0.000000    771.967729\n",
       "25%      481.731105  21340.462903\n",
       "50%      823.636973  34552.644802\n",
       "75%     1166.308386  43807.729272\n",
       "max     2654.322576  73554.233495"
      ]
     },
     "metadata": {},
     "output_type": "display_data"
    },
    {
     "data": {
      "image/png": "[encoded data removed]",
      "text/plain": [
       "<Figure size 432x288 with 1 Axes>"
      ]
     },
     "metadata": {
      "needs_background": "light"
     },
     "output_type": "display_data"
    },
    {
     "data": {
      "image/png": "[encoded data removed]",
      "text/plain": [
       "<Figure size 432x288 with 1 Axes>"
      ]
     },
     "metadata": {
      "needs_background": "light"
     },
     "output_type": "display_data"
    }
   ],
   "source": [
    "var_categoricas = list(df.select_dtypes(include=['object']).columns)\n",
    "var_numericas = list(df.select_dtypes(include=['float64']).columns)\n",
    "\n",
    "display(Markdown(\"#### Visualización de datos numéricos\"))\n",
    "\n",
    "display(df.describe())\n",
    "\n",
    "def graficar(df, variable):\n",
    "\n",
    "    temp = df[variable]\n",
    "    temp = temp.dropna()\n",
    "\n",
    "    plt.figure()\n",
    "    plt.title(variable)\n",
    "\n",
    "    sns.distplot(temp, rug=True, )\n",
    "    plt.axvline(temp.mean(), color='tomato', linestyle='--', label='mean')\n",
    "    plt.axvline(temp.median(), color='tomato', linestyle='-', label='median')\n",
    "    plt.legend()\n",
    "    \n",
    "for var in var_numericas:\n",
    "    graficar(df, var)"
   ]
  },
  {
   "cell_type": "code",
   "execution_count": 4,
   "metadata": {},
   "outputs": [
    {
     "data": {
      "text/markdown": [
       "#### Visualización de datos categóricos"
      ],
      "text/plain": [
       "<IPython.core.display.Markdown object>"
      ]
     },
     "metadata": {},
     "output_type": "display_data"
    },
    {
     "data": {
      "image/png": "[encoded data removed]",
      "text/plain": [
       "<Figure size 720x360 with 1 Axes>"
      ]
     },
     "metadata": {
      "needs_background": "light"
     },
     "output_type": "display_data"
    },
    {
     "data": {
      "image/png": "[encoded data removed]",
      "text/plain": [
       "<Figure size 720x360 with 1 Axes>"
      ]
     },
     "metadata": {
      "needs_background": "light"
     },
     "output_type": "display_data"
    }
   ],
   "source": [
    "display(Markdown(\"#### Visualización de datos categóricos\"))\n",
    "\n",
    "default_count  = df[\"default\"].value_counts()\n",
    "\n",
    "plt.figure(figsize=(10,5))\n",
    "sns.barplot(default_count.index, default_count.values, alpha=0.8)\n",
    "plt.title(\"Ocurrencias para 'default'\")\n",
    "plt.ylabel(\"Número de ocurrencias\", fontsize=12)\n",
    "plt.xlabel(\"Morosidad?\", fontsize=12)\n",
    "plt.show()\n",
    "\n",
    "student_count  = df[\"student\"].value_counts()\n",
    "\n",
    "plt.figure(figsize=(10,5))\n",
    "sns.barplot(student_count.index, student_count.values, alpha=0.8)\n",
    "plt.title(\"Ocurrencias para 'student'\")\n",
    "plt.ylabel(\"Número de ocurrencias\", fontsize=12)\n",
    "plt.xlabel(\"Estudiante?\", fontsize=12)\n",
    "plt.show()"
   ]
  },
  {
   "cell_type": "markdown",
   "metadata": {},
   "source": [
    "## Modelo base\n",
    "\n",
    "- Recuerde que los modelos de sklearn no soportan datos que no sean numéricos. Transforme los atributos pertinentes con LabelEncoder.\n",
    "- Genere muestras de validación y entrenamiento, reservando un 33% de los datos como validación.\n",
    "- Genere un modelo con LinearDiscriminantAnalysis sin modificar los hiperparámetros. Genere métricas de evaluación utilizando classification_report.\n",
    "- Comente sobre cuál es el desempeño del modelo en cada clase, así como en general."
   ]
  },
  {
   "cell_type": "code",
   "execution_count": 5,
   "metadata": {
    "scrolled": true
   },
   "outputs": [
    {
     "data": {
      "text/html": [
       "<div>\n",
       "<style scoped>\n",
       "    .dataframe tbody tr th:only-of-type {\n",
       "        vertical-align: middle;\n",
       "    }\n",
       "\n",
       "    .dataframe tbody tr th {\n",
       "        vertical-align: top;\n",
       "    }\n",
       "\n",
       "    .dataframe thead th {\n",
       "        text-align: right;\n",
       "    }\n",
       "</style>\n",
       "<table border=\"1\" class=\"dataframe\">\n",
       "  <thead>\n",
       "    <tr style=\"text-align: right;\">\n",
       "      <th></th>\n",
       "      <th>default</th>\n",
       "      <th>student</th>\n",
       "      <th>balance</th>\n",
       "      <th>income</th>\n",
       "    </tr>\n",
       "    <tr>\n",
       "      <th>index</th>\n",
       "      <th></th>\n",
       "      <th></th>\n",
       "      <th></th>\n",
       "      <th></th>\n",
       "    </tr>\n",
       "  </thead>\n",
       "  <tbody>\n",
       "    <tr>\n",
       "      <th>1</th>\n",
       "      <td>0</td>\n",
       "      <td>0</td>\n",
       "      <td>729.526495</td>\n",
       "      <td>44361.625074</td>\n",
       "    </tr>\n",
       "    <tr>\n",
       "      <th>2</th>\n",
       "      <td>0</td>\n",
       "      <td>1</td>\n",
       "      <td>817.180407</td>\n",
       "      <td>12106.134700</td>\n",
       "    </tr>\n",
       "    <tr>\n",
       "      <th>3</th>\n",
       "      <td>0</td>\n",
       "      <td>0</td>\n",
       "      <td>1073.549164</td>\n",
       "      <td>31767.138947</td>\n",
       "    </tr>\n",
       "    <tr>\n",
       "      <th>4</th>\n",
       "      <td>0</td>\n",
       "      <td>0</td>\n",
       "      <td>529.250605</td>\n",
       "      <td>35704.493935</td>\n",
       "    </tr>\n",
       "    <tr>\n",
       "      <th>5</th>\n",
       "      <td>0</td>\n",
       "      <td>0</td>\n",
       "      <td>785.655883</td>\n",
       "      <td>38463.495879</td>\n",
       "    </tr>\n",
       "  </tbody>\n",
       "</table>\n",
       "</div>"
      ],
      "text/plain": [
       "       default  student      balance        income\n",
       "index                                             \n",
       "1            0        0   729.526495  44361.625074\n",
       "2            0        1   817.180407  12106.134700\n",
       "3            0        0  1073.549164  31767.138947\n",
       "4            0        0   529.250605  35704.493935\n",
       "5            0        0   785.655883  38463.495879"
      ]
     },
     "execution_count": 5,
     "metadata": {},
     "output_type": "execute_result"
    }
   ],
   "source": [
    "df['default'] = LabelEncoder().fit_transform(df['default'])\n",
    "df['student'] = LabelEncoder().fit_transform(df['student'])\n",
    "df.head()"
   ]
  },
  {
   "cell_type": "code",
   "execution_count": 6,
   "metadata": {},
   "outputs": [],
   "source": [
    "y = df['default']\n",
    "X = df.loc[:,'student':'income']\n",
    "\n",
    "X_train, X_test, y_train, y_test, = train_test_split(X, y, test_size = 0.33, random_state = 7082019)"
   ]
  },
  {
   "cell_type": "code",
   "execution_count": 7,
   "metadata": {},
   "outputs": [],
   "source": [
    "def get_metricas(X_train, y_train, tipo=\"LDA\", priors=None):\n",
    "    if tipo == 'LDA':\n",
    "        metodo = LinearDiscriminantAnalysis(priors=priors)\n",
    "    else:\n",
    "        metodo = QuadraticDiscriminantAnalysis(priors=priors)\n",
    "\n",
    "    modelo = metodo.fit(X_train, y_train)\n",
    "    y_hat = modelo.predict(X_test)\n",
    "    \n",
    "    display(Markdown(\"**Métricas de modelo**\"))\n",
    "    \n",
    "    display(pd.DataFrame(\n",
    "        classification_report(\n",
    "            y_test,\n",
    "            y_hat,\n",
    "            output_dict=True\n",
    "    )))"
   ]
  },
  {
   "cell_type": "code",
   "execution_count": 8,
   "metadata": {},
   "outputs": [
    {
     "data": {
      "text/markdown": [
       "**Métricas de modelo**"
      ],
      "text/plain": [
       "<IPython.core.display.Markdown object>"
      ]
     },
     "metadata": {},
     "output_type": "display_data"
    },
    {
     "data": {
      "text/html": [
       "<div>\n",
       "<style scoped>\n",
       "    .dataframe tbody tr th:only-of-type {\n",
       "        vertical-align: middle;\n",
       "    }\n",
       "\n",
       "    .dataframe tbody tr th {\n",
       "        vertical-align: top;\n",
       "    }\n",
       "\n",
       "    .dataframe thead th {\n",
       "        text-align: right;\n",
       "    }\n",
       "</style>\n",
       "<table border=\"1\" class=\"dataframe\">\n",
       "  <thead>\n",
       "    <tr style=\"text-align: right;\">\n",
       "      <th></th>\n",
       "      <th>0</th>\n",
       "      <th>1</th>\n",
       "      <th>accuracy</th>\n",
       "      <th>macro avg</th>\n",
       "      <th>weighted avg</th>\n",
       "    </tr>\n",
       "  </thead>\n",
       "  <tbody>\n",
       "    <tr>\n",
       "      <th>f1-score</th>\n",
       "      <td>0.986687</td>\n",
       "      <td>0.385714</td>\n",
       "      <td>0.973939</td>\n",
       "      <td>0.686201</td>\n",
       "      <td>0.967201</td>\n",
       "    </tr>\n",
       "    <tr>\n",
       "      <th>precision</th>\n",
       "      <td>0.975513</td>\n",
       "      <td>0.818182</td>\n",
       "      <td>0.973939</td>\n",
       "      <td>0.896847</td>\n",
       "      <td>0.970411</td>\n",
       "    </tr>\n",
       "    <tr>\n",
       "      <th>recall</th>\n",
       "      <td>0.998121</td>\n",
       "      <td>0.252336</td>\n",
       "      <td>0.973939</td>\n",
       "      <td>0.625229</td>\n",
       "      <td>0.973939</td>\n",
       "    </tr>\n",
       "    <tr>\n",
       "      <th>support</th>\n",
       "      <td>3193.000000</td>\n",
       "      <td>107.000000</td>\n",
       "      <td>0.973939</td>\n",
       "      <td>3300.000000</td>\n",
       "      <td>3300.000000</td>\n",
       "    </tr>\n",
       "  </tbody>\n",
       "</table>\n",
       "</div>"
      ],
      "text/plain": [
       "                     0           1  accuracy    macro avg  weighted avg\n",
       "f1-score      0.986687    0.385714  0.973939     0.686201      0.967201\n",
       "precision     0.975513    0.818182  0.973939     0.896847      0.970411\n",
       "recall        0.998121    0.252336  0.973939     0.625229      0.973939\n",
       "support    3193.000000  107.000000  0.973939  3300.000000   3300.000000"
      ]
     },
     "metadata": {},
     "output_type": "display_data"
    }
   ],
   "source": [
    "get_metricas(X_train, y_train)"
   ]
  },
  {
   "cell_type": "markdown",
   "metadata": {},
   "source": [
    "### Observaciones:\n",
    "\n",
    "- Se compararán los modelos usando la métrica f1, enfocándose en la predicción de los clientes morosos. Igualmente se comentarán ambos casos.\n",
    "- El modelo clasifica muy bien la clase no moroso con un 96,6% de precisión, y tienen un excelente recall 99,8%.\n",
    "- Para la clase moroso tiene un pésimo recall de un 25%, y una buena presición 81,8%. Lo que significa que el modelo sólo logra capturar un bajo porcentaje de morosos. El f1 es de 38,6%.\n",
    "\n",
    "Esto se debe a un claro problema de desbalanceo de datos, como se aprecia en el gráfico de ocurrencias para `default`."
   ]
  },
  {
   "cell_type": "markdown",
   "metadata": {},
   "source": [
    "## Refactorización 1 - información a priori\n",
    "- Dado que trabajamos con modelos generativos, podemos incluír información exógena. Para este caso agregaremos dos distribuciones:\n",
    "    - Asumamos que hay un 50/50 de morosos y no morosos.\n",
    "    - Asumamos que hay un 60/40 de morosos y no morosos.\n",
    "- Por cada modelo, reporte las métricas de clasificación."
   ]
  },
  {
   "cell_type": "code",
   "execution_count": 9,
   "metadata": {},
   "outputs": [
    {
     "data": {
      "text/markdown": [
       "**Métricas de modelo**"
      ],
      "text/plain": [
       "<IPython.core.display.Markdown object>"
      ]
     },
     "metadata": {},
     "output_type": "display_data"
    },
    {
     "data": {
      "text/html": [
       "<div>\n",
       "<style scoped>\n",
       "    .dataframe tbody tr th:only-of-type {\n",
       "        vertical-align: middle;\n",
       "    }\n",
       "\n",
       "    .dataframe tbody tr th {\n",
       "        vertical-align: top;\n",
       "    }\n",
       "\n",
       "    .dataframe thead th {\n",
       "        text-align: right;\n",
       "    }\n",
       "</style>\n",
       "<table border=\"1\" class=\"dataframe\">\n",
       "  <thead>\n",
       "    <tr style=\"text-align: right;\">\n",
       "      <th></th>\n",
       "      <th>0</th>\n",
       "      <th>1</th>\n",
       "      <th>accuracy</th>\n",
       "      <th>macro avg</th>\n",
       "      <th>weighted avg</th>\n",
       "    </tr>\n",
       "  </thead>\n",
       "  <tbody>\n",
       "    <tr>\n",
       "      <th>f1-score</th>\n",
       "      <td>0.910824</td>\n",
       "      <td>0.276243</td>\n",
       "      <td>0.841212</td>\n",
       "      <td>0.593533</td>\n",
       "      <td>0.890248</td>\n",
       "    </tr>\n",
       "    <tr>\n",
       "      <th>precision</th>\n",
       "      <td>0.997391</td>\n",
       "      <td>0.162075</td>\n",
       "      <td>0.841212</td>\n",
       "      <td>0.579733</td>\n",
       "      <td>0.970306</td>\n",
       "    </tr>\n",
       "    <tr>\n",
       "      <th>recall</th>\n",
       "      <td>0.838083</td>\n",
       "      <td>0.934579</td>\n",
       "      <td>0.841212</td>\n",
       "      <td>0.886331</td>\n",
       "      <td>0.841212</td>\n",
       "    </tr>\n",
       "    <tr>\n",
       "      <th>support</th>\n",
       "      <td>3193.000000</td>\n",
       "      <td>107.000000</td>\n",
       "      <td>0.841212</td>\n",
       "      <td>3300.000000</td>\n",
       "      <td>3300.000000</td>\n",
       "    </tr>\n",
       "  </tbody>\n",
       "</table>\n",
       "</div>"
      ],
      "text/plain": [
       "                     0           1  accuracy    macro avg  weighted avg\n",
       "f1-score      0.910824    0.276243  0.841212     0.593533      0.890248\n",
       "precision     0.997391    0.162075  0.841212     0.579733      0.970306\n",
       "recall        0.838083    0.934579  0.841212     0.886331      0.841212\n",
       "support    3193.000000  107.000000  0.841212  3300.000000   3300.000000"
      ]
     },
     "metadata": {},
     "output_type": "display_data"
    }
   ],
   "source": [
    "get_metricas(X_train, y_train, priors=[0.5, 0.5])"
   ]
  },
  {
   "cell_type": "code",
   "execution_count": 10,
   "metadata": {
    "scrolled": false
   },
   "outputs": [
    {
     "data": {
      "text/markdown": [
       "**Métricas de modelo**"
      ],
      "text/plain": [
       "<IPython.core.display.Markdown object>"
      ]
     },
     "metadata": {},
     "output_type": "display_data"
    },
    {
     "data": {
      "text/html": [
       "<div>\n",
       "<style scoped>\n",
       "    .dataframe tbody tr th:only-of-type {\n",
       "        vertical-align: middle;\n",
       "    }\n",
       "\n",
       "    .dataframe tbody tr th {\n",
       "        vertical-align: top;\n",
       "    }\n",
       "\n",
       "    .dataframe thead th {\n",
       "        text-align: right;\n",
       "    }\n",
       "</style>\n",
       "<table border=\"1\" class=\"dataframe\">\n",
       "  <thead>\n",
       "    <tr style=\"text-align: right;\">\n",
       "      <th></th>\n",
       "      <th>0</th>\n",
       "      <th>1</th>\n",
       "      <th>accuracy</th>\n",
       "      <th>macro avg</th>\n",
       "      <th>weighted avg</th>\n",
       "    </tr>\n",
       "  </thead>\n",
       "  <tbody>\n",
       "    <tr>\n",
       "      <th>f1-score</th>\n",
       "      <td>0.879467</td>\n",
       "      <td>0.228700</td>\n",
       "      <td>0.791515</td>\n",
       "      <td>0.554083</td>\n",
       "      <td>0.858367</td>\n",
       "    </tr>\n",
       "    <tr>\n",
       "      <th>precision</th>\n",
       "      <td>0.998012</td>\n",
       "      <td>0.129936</td>\n",
       "      <td>0.791515</td>\n",
       "      <td>0.563974</td>\n",
       "      <td>0.969865</td>\n",
       "    </tr>\n",
       "    <tr>\n",
       "      <th>recall</th>\n",
       "      <td>0.786095</td>\n",
       "      <td>0.953271</td>\n",
       "      <td>0.791515</td>\n",
       "      <td>0.869683</td>\n",
       "      <td>0.791515</td>\n",
       "    </tr>\n",
       "    <tr>\n",
       "      <th>support</th>\n",
       "      <td>3193.000000</td>\n",
       "      <td>107.000000</td>\n",
       "      <td>0.791515</td>\n",
       "      <td>3300.000000</td>\n",
       "      <td>3300.000000</td>\n",
       "    </tr>\n",
       "  </tbody>\n",
       "</table>\n",
       "</div>"
      ],
      "text/plain": [
       "                     0           1  accuracy    macro avg  weighted avg\n",
       "f1-score      0.879467    0.228700  0.791515     0.554083      0.858367\n",
       "precision     0.998012    0.129936  0.791515     0.563974      0.969865\n",
       "recall        0.786095    0.953271  0.791515     0.869683      0.791515\n",
       "support    3193.000000  107.000000  0.791515  3300.000000   3300.000000"
      ]
     },
     "metadata": {},
     "output_type": "display_data"
    }
   ],
   "source": [
    "get_metricas(X_train, y_train, priors=[0.4, 0.6])"
   ]
  },
  {
   "cell_type": "markdown",
   "metadata": {},
   "source": [
    "### Observaciones:\n",
    "\n",
    "- Ambos modelos mejoran la presición de la clasificación no moroso, en comparación del primer caso, 99,7% para el 50/50 y 99.8% para el 60/40. El recall tuvo una baja a 83.8% y 78,6%.\n",
    "\n",
    "- Para la clase moroso, en ambos casos hay un aumento grande del recall, hasta un 93,5% en el caso 50/50 y de 95,3% en el caso de 60/40. El problema es que la precisión bajo tremendamente a menos del 16,2% en el 50/50. De todas formas el f1 de ambos modelos disminuyó en comparación con el primer modelo."
   ]
  },
  {
   "cell_type": "markdown",
   "metadata": {},
   "source": [
    "## Refactorización 2 - oversampling\n",
    "Digresión: Synthetic Over(Under)Sampling\n",
    "\n",
    "* Por lo general podemos intentar aliviar el problema del desbalance de clases mediante la ponderación dentro del algoritmo. Otra alternativa es el muestreo con reemplazo dentro de los conjuntos de entrenamiento. Estos métodos clásicos se conocen como Oversampling cuando repetimos registros aleatorios de la clase minoritaria, y Undersampling cuando eliminamos aleatoriamente registros de la clase mayoritaria.\n",
    "* Un contratiempo de estos métodos clásicos es que pueden replicar información sesgada que afecte el desempeño de generalización del modelo. Si los datos son malos, estaremos replicando estas fallas.\n",
    "* Otra solución es generar ejemplos de entrenamiento sintéticos mediante el entrenamiento de ejemplos de la clase minoritaria. A grandes rasgos la solución funciona de la siguiente forma: \n",
    "    * En función a un subconjunto de datos correspondientes a la case minoritaria, entrenamos algún modelo no supervisado o generativo como Naive Bayes, KMeans o KNearestNeighbors para generar representaciones sintéticas de los datos en el espacio de atributos de la clase específica mediante \n",
    "    \n",
    "    $\\mathbf{x}_{nuevoEjemplo} = \\mathbf{x}_{i} + \\lambda (\\mathbf{x}_{zi} - \\mathbf{x}_{i})$ \n",
    "    \n",
    "    donde \n",
    "    $\\mathbf{x}_{zi}$ \n",
    "    es un ejemplo de entrenamiento de la clase minoritaria y $\\lambda$ es un parámetro de interpolación aleatorio $\\lambda \\sim \\textsf{Uniforme}(0, 1)$.\n",
    "    \n",
    "    \n",
    "* Uno de los problemas más graves de esta base de datos, es el fuerte desbalance entre clases. Ahora generaremos observaciones sintéticas mediante SMOTE (Synthetic Minority Oversampling Technique). Para ello, debemos agregar el paquete a nuestro ambiente virtual. En nuestro terminal agregamos conda install -c conda-forge imbalanced-learn. Incorpore SMOTE en el ambiente de trabajo con la siguiente sintáxis from imblearn.over_sampling import SMOTE.\n",
    "\n",
    "* Para implementar oversampling, debemos generar nuevos objetos que representan nuestra muestra de entrenamiento incrementada artificialmente. Para ello implemente la siguiente sintáxis:\n",
    "\n",
    "```python\n",
    "from imblearn.over_sampling import SMOTE\n",
    "# Instanciamos la clase\n",
    "oversampler = SMOTE(random_state=11238, ratio='minority')\n",
    "# generamos el eversampling de la matriz de entrenamiento y\n",
    "X_train_oversamp, y_train_oversamp = oversampler.fit_sample(X_train, y_train)\n",
    "```\n",
    "\n",
    "* Vuelva a entrenar el modelo con los datos aumentados de forma artificial y comente sobre su desempeño."
   ]
  },
  {
   "cell_type": "code",
   "execution_count": 11,
   "metadata": {},
   "outputs": [],
   "source": [
    "from imblearn.over_sampling import SMOTE\n",
    "\n",
    "oversampler = SMOTE(random_state=11238, ratio='minority')\n",
    "\n",
    "X_train_oversamp, y_train_oversamp = oversampler.fit_sample(X_train, y_train)\n",
    "\n",
    "df_1 = pd.DataFrame(y_train_oversamp)"
   ]
  },
  {
   "cell_type": "code",
   "execution_count": 12,
   "metadata": {},
   "outputs": [
    {
     "data": {
      "image/png": "[encoded data removed]",
      "text/plain": [
       "<Figure size 720x360 with 1 Axes>"
      ]
     },
     "metadata": {
      "needs_background": "light"
     },
     "output_type": "display_data"
    }
   ],
   "source": [
    "default_count  = df_1[0].value_counts()\n",
    "\n",
    "plt.figure(figsize=(10,5))\n",
    "sns.barplot(default_count.index, default_count.values, alpha=0.8)\n",
    "plt.title(\"Ocurrencias para 'default'\")\n",
    "plt.ylabel(\"Número de ocurrencias\", fontsize=12)\n",
    "plt.xlabel(\"Morosidad?\", fontsize=12)\n",
    "plt.show()"
   ]
  },
  {
   "cell_type": "markdown",
   "metadata": {},
   "source": [
    "Se confirma que oversampling aumenta y balancea las muestras ."
   ]
  },
  {
   "cell_type": "code",
   "execution_count": 13,
   "metadata": {},
   "outputs": [
    {
     "data": {
      "text/markdown": [
       "**Métricas de modelo**"
      ],
      "text/plain": [
       "<IPython.core.display.Markdown object>"
      ]
     },
     "metadata": {},
     "output_type": "display_data"
    },
    {
     "data": {
      "text/html": [
       "<div>\n",
       "<style scoped>\n",
       "    .dataframe tbody tr th:only-of-type {\n",
       "        vertical-align: middle;\n",
       "    }\n",
       "\n",
       "    .dataframe tbody tr th {\n",
       "        vertical-align: top;\n",
       "    }\n",
       "\n",
       "    .dataframe thead th {\n",
       "        text-align: right;\n",
       "    }\n",
       "</style>\n",
       "<table border=\"1\" class=\"dataframe\">\n",
       "  <thead>\n",
       "    <tr style=\"text-align: right;\">\n",
       "      <th></th>\n",
       "      <th>0</th>\n",
       "      <th>1</th>\n",
       "      <th>accuracy</th>\n",
       "      <th>macro avg</th>\n",
       "      <th>weighted avg</th>\n",
       "    </tr>\n",
       "  </thead>\n",
       "  <tbody>\n",
       "    <tr>\n",
       "      <th>f1-score</th>\n",
       "      <td>0.913413</td>\n",
       "      <td>0.281690</td>\n",
       "      <td>0.845455</td>\n",
       "      <td>0.597551</td>\n",
       "      <td>0.892929</td>\n",
       "    </tr>\n",
       "    <tr>\n",
       "      <th>precision</th>\n",
       "      <td>0.997405</td>\n",
       "      <td>0.165837</td>\n",
       "      <td>0.845455</td>\n",
       "      <td>0.581621</td>\n",
       "      <td>0.970442</td>\n",
       "    </tr>\n",
       "    <tr>\n",
       "      <th>recall</th>\n",
       "      <td>0.842468</td>\n",
       "      <td>0.934579</td>\n",
       "      <td>0.845455</td>\n",
       "      <td>0.888524</td>\n",
       "      <td>0.845455</td>\n",
       "    </tr>\n",
       "    <tr>\n",
       "      <th>support</th>\n",
       "      <td>3193.000000</td>\n",
       "      <td>107.000000</td>\n",
       "      <td>0.845455</td>\n",
       "      <td>3300.000000</td>\n",
       "      <td>3300.000000</td>\n",
       "    </tr>\n",
       "  </tbody>\n",
       "</table>\n",
       "</div>"
      ],
      "text/plain": [
       "                     0           1  accuracy    macro avg  weighted avg\n",
       "f1-score      0.913413    0.281690  0.845455     0.597551      0.892929\n",
       "precision     0.997405    0.165837  0.845455     0.581621      0.970442\n",
       "recall        0.842468    0.934579  0.845455     0.888524      0.845455\n",
       "support    3193.000000  107.000000  0.845455  3300.000000   3300.000000"
      ]
     },
     "metadata": {},
     "output_type": "display_data"
    }
   ],
   "source": [
    "get_metricas(X_train_oversamp, y_train_oversamp)"
   ]
  },
  {
   "cell_type": "markdown",
   "metadata": {},
   "source": [
    "### Observaciones:\n",
    "\n",
    "- La clasificación para personas no morosas, se mantiene en 99,7%. El recall mejora levemente a 84.2%.\n",
    "\n",
    "- Para la clase moroso, la presición aumentó levemente en comparación con los modelos del punto anterior, el recall sigue en un valor alto 93,5%. De todas formas el f1 del primer modelo sigue siendo mejor.\n",
    "\n",
    "En conclusión, las mejoras son leves en comparación con el punto anterior. Y el primer modelo sigue siendo el mejor modelo."
   ]
  },
  {
   "cell_type": "markdown",
   "metadata": {},
   "source": [
    "## Refactorización 3 - QDA\n",
    "\n",
    "* Por último, implemente un modelo QuadraticDiscriminantAnalysis con los datos aumentados artificialmente. Genere las métricas de desempeño.\n",
    "* Comente a grandes rasgos sobre el mejor modelo en su capacidad predictiva."
   ]
  },
  {
   "cell_type": "code",
   "execution_count": 14,
   "metadata": {},
   "outputs": [
    {
     "data": {
      "text/markdown": [
       "**Métricas de modelo**"
      ],
      "text/plain": [
       "<IPython.core.display.Markdown object>"
      ]
     },
     "metadata": {},
     "output_type": "display_data"
    },
    {
     "data": {
      "text/html": [
       "<div>\n",
       "<style scoped>\n",
       "    .dataframe tbody tr th:only-of-type {\n",
       "        vertical-align: middle;\n",
       "    }\n",
       "\n",
       "    .dataframe tbody tr th {\n",
       "        vertical-align: top;\n",
       "    }\n",
       "\n",
       "    .dataframe thead th {\n",
       "        text-align: right;\n",
       "    }\n",
       "</style>\n",
       "<table border=\"1\" class=\"dataframe\">\n",
       "  <thead>\n",
       "    <tr style=\"text-align: right;\">\n",
       "      <th></th>\n",
       "      <th>0</th>\n",
       "      <th>1</th>\n",
       "      <th>accuracy</th>\n",
       "      <th>macro avg</th>\n",
       "      <th>weighted avg</th>\n",
       "    </tr>\n",
       "  </thead>\n",
       "  <tbody>\n",
       "    <tr>\n",
       "      <th>f1-score</th>\n",
       "      <td>0.926944</td>\n",
       "      <td>0.310127</td>\n",
       "      <td>0.867879</td>\n",
       "      <td>0.618535</td>\n",
       "      <td>0.906944</td>\n",
       "    </tr>\n",
       "    <tr>\n",
       "      <th>precision</th>\n",
       "      <td>0.996757</td>\n",
       "      <td>0.186667</td>\n",
       "      <td>0.867879</td>\n",
       "      <td>0.591712</td>\n",
       "      <td>0.970490</td>\n",
       "    </tr>\n",
       "    <tr>\n",
       "      <th>recall</th>\n",
       "      <td>0.866270</td>\n",
       "      <td>0.915888</td>\n",
       "      <td>0.867879</td>\n",
       "      <td>0.891079</td>\n",
       "      <td>0.867879</td>\n",
       "    </tr>\n",
       "    <tr>\n",
       "      <th>support</th>\n",
       "      <td>3193.000000</td>\n",
       "      <td>107.000000</td>\n",
       "      <td>0.867879</td>\n",
       "      <td>3300.000000</td>\n",
       "      <td>3300.000000</td>\n",
       "    </tr>\n",
       "  </tbody>\n",
       "</table>\n",
       "</div>"
      ],
      "text/plain": [
       "                     0           1  accuracy    macro avg  weighted avg\n",
       "f1-score      0.926944    0.310127  0.867879     0.618535      0.906944\n",
       "precision     0.996757    0.186667  0.867879     0.591712      0.970490\n",
       "recall        0.866270    0.915888  0.867879     0.891079      0.867879\n",
       "support    3193.000000  107.000000  0.867879  3300.000000   3300.000000"
      ]
     },
     "metadata": {},
     "output_type": "display_data"
    }
   ],
   "source": [
    "get_metricas(X_train_oversamp, y_train_oversamp, tipo='QDA')"
   ]
  },
  {
   "cell_type": "markdown",
   "metadata": {},
   "source": [
    "### Observaciones:\n",
    "\n",
    "- La clasificación para personas no morosas, se mantiene en el 99,7%. Nuevamente el recall mejora levemente, a 86.6%.\n",
    "\n",
    "- Para la clase moroso, la presición aumentó levemente a un valor del 18.7%, aunque tuvo una leve baja del recall a un valor de 91.6%, que igualmente es alto. El f1 es de 31%.\n",
    "\n",
    "### Observaciones generales :\n",
    "\n",
    "Se consideró que el objetivo del modelo debe ser predecir a clientes morosos, y se usaría la métrica f1 para la clasificación de clientes morosos. En base a esto el mejor modelo es el modelo base.\n",
    "\n",
    "En los modelos refactorizados aparece un claro balance entre la presición y el recall, para la predicción de morosos, a medifa que el recall aumentó, disminuía la precisión."
   ]
  }
 ],
 "metadata": {
  "hide_input": false,
  "kernelspec": {
   "display_name": "venv",
   "language": "python",
   "name": "venv"
  },
  "language_info": {
   "codemirror_mode": {
    "name": "ipython",
    "version": 3
   },
   "file_extension": ".py",
   "mimetype": "text/x-python",
   "name": "python",
   "nbconvert_exporter": "python",
   "pygments_lexer": "ipython3",
   "version": "3.7.3"
  },
  "latex_envs": {
   "LaTeX_envs_menu_present": true,
   "autoclose": false,
   "autocomplete": true,
   "bibliofile": "biblio.bib",
   "cite_by": "apalike",
   "current_citInitial": 1,
   "eqLabelWithNumbers": true,
   "eqNumInitial": 1,
   "hotkeys": {
    "equation": "Ctrl-E",
    "itemize": "Ctrl-I"
   },
   "labels_anchors": false,
   "latex_user_defs": false,
   "report_style_numbering": false,
   "user_envs_cfg": false
  },
  "toc": {
   "base_numbering": 1,
   "nav_menu": {},
   "number_sections": true,
   "sideBar": true,
   "skip_h1_title": true,
   "title_cell": "Table of Contents",
   "title_sidebar": "Contents",
   "toc_cell": false,
   "toc_position": {
    "height": "calc(100% - 180px)",
    "left": "10px",
    "top": "150px",
    "width": "299.188px"
   },
   "toc_section_display": true,
   "toc_window_display": true
  }
 },
 "nbformat": 4,
 "nbformat_minor": 2
}
