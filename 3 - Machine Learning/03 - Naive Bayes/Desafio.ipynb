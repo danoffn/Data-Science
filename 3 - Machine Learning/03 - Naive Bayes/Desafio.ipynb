{
 "cells": [
  {
   "cell_type": "markdown",
   "metadata": {},
   "source": [
    "# Desafío - Naive Bayes\n",
    "\n",
    "__Integrantes:__ \n",
    "\n",
    "- Yerko Carreño\n",
    "- Javier Pilasi \n",
    "- Daniel Flores\n",
    "- Francisco Fernandez\n",
    "- Máximo Oliva\n",
    "- Rocío Ehijo\n",
    "- Cristián Contreras\n"
   ]
  },
  {
   "cell_type": "markdown",
   "metadata": {},
   "source": [
    "# Descripción\n",
    "\n",
    "- En esta sesión trabajaremos con una serie de base de datos sobre letras musicales de distintos artistas. Cada uno de los csv se encuentra en la carpeta dump dentro del proyecto.\n",
    "- Cada csv tiene el nombre del artista a analizar. Los archivos contienen el nombre del artista, el género musical del artista, el nombre de la canción y las letras.\n",
    "- En base a esta información, se les pide un modelo generativo que pueda predecir el género de una canción a patir de la letra de una canción.\n",
    "- Existen 4 géneros que se registran en la base de datos, por lo que para esta actividad trabajaremos con un Multinomial Naive Bayes."
   ]
  },
  {
   "cell_type": "markdown",
   "metadata": {},
   "source": [
    "## Preparación del Ambiente de Trabajo\n",
    "\n",
    "- Importe los módulos numpy, pandas, matplotlib, seaborn, glob y os siguiendo las\n",
    "buenas prácticas. Los últimos dos módulos permitirán realizar la importación de múltiples\n",
    "archivos dentro de la carpeta dump .\n",
    "- Para ello genere un objeto que guarde en una lista todos los archivos alojados en dump\n",
    "utilizando glob.glob y os.getcwd() para extraer las rutas absolutas. Posteriormente genere\n",
    "un objeto pd.DataFrame que contenga todos los csv.\n",
    "- Asegúrese de eliminar la columna Unnamed: 0 que se genera por defecto."
   ]
  },
  {
   "cell_type": "code",
   "execution_count": 40,
   "metadata": {},
   "outputs": [],
   "source": [
    "# Bibliotecas\n",
    "\n",
    "import pandas as pd\n",
    "import numpy as np\n",
    "import seaborn as sns\n",
    "import matplotlib.pyplot as plt\n",
    "import glob\n",
    "import os\n",
    "\n",
    "# from sklearn.model_selection import cross_validate\n",
    "from sklearn.model_selection import train_test_split\n",
    "from sklearn.preprocessing import StandardScaler\n",
    "# from sklearn.preprocessing import LabelEncoder\n",
    "# from sklearn.metrics import classification_report\n",
    "# from sklearn.metrics import roc_curve\n",
    "# from sklearn.metrics import roc_auc_score\n",
    "# from sklearn.metrics import confusion_matrix\n",
    "from sklearn.metrics import r2_score, mean_squared_error, median_absolute_error\n",
    "from sklearn.feature_extraction.text import CountVectorizer\n",
    "\n",
    "import missingno as msngo\n",
    "import warnings\n",
    "\n",
    "from IPython.display import display, Markdown\n",
    "\n",
    "warnings.filterwarnings('ignore')"
   ]
  },
  {
   "cell_type": "code",
   "execution_count": 75,
   "metadata": {},
   "outputs": [
    {
     "data": {
      "text/html": [
       "<div>\n",
       "<style scoped>\n",
       "    .dataframe tbody tr th:only-of-type {\n",
       "        vertical-align: middle;\n",
       "    }\n",
       "\n",
       "    .dataframe tbody tr th {\n",
       "        vertical-align: top;\n",
       "    }\n",
       "\n",
       "    .dataframe thead th {\n",
       "        text-align: right;\n",
       "    }\n",
       "</style>\n",
       "<table border=\"1\" class=\"dataframe\">\n",
       "  <thead>\n",
       "    <tr style=\"text-align: right;\">\n",
       "      <th></th>\n",
       "      <th>artista</th>\n",
       "      <th>genero</th>\n",
       "      <th>cancion</th>\n",
       "      <th>letra</th>\n",
       "    </tr>\n",
       "  </thead>\n",
       "  <tbody>\n",
       "    <tr>\n",
       "      <th>0</th>\n",
       "      <td>Vital Remains</td>\n",
       "      <td>metal</td>\n",
       "      <td>Human Sacrifice</td>\n",
       "      <td>Taken to death from sacrifice \\n Carving out y...</td>\n",
       "    </tr>\n",
       "    <tr>\n",
       "      <th>1</th>\n",
       "      <td>Vital Remains</td>\n",
       "      <td>metal</td>\n",
       "      <td>Ressurrected</td>\n",
       "      <td>Doomed to an after life of pain \\n Seeing your...</td>\n",
       "    </tr>\n",
       "    <tr>\n",
       "      <th>2</th>\n",
       "      <td>Vital Remains</td>\n",
       "      <td>metal</td>\n",
       "      <td>Fallen Angels</td>\n",
       "      <td>Fallen angels souls of hate \\n Fallen angels c...</td>\n",
       "    </tr>\n",
       "    <tr>\n",
       "      <th>3</th>\n",
       "      <td>Vital Remains</td>\n",
       "      <td>metal</td>\n",
       "      <td>Excruciating Pain</td>\n",
       "      <td>Feel the torment of brutal bestial torture \\n ...</td>\n",
       "    </tr>\n",
       "    <tr>\n",
       "      <th>4</th>\n",
       "      <td>Vital Remains</td>\n",
       "      <td>metal</td>\n",
       "      <td>Nocturnal Blasphemy</td>\n",
       "      <td>Blasphemy \\n Awakened by nocturnal cries \\n Su...</td>\n",
       "    </tr>\n",
       "  </tbody>\n",
       "</table>\n",
       "</div>"
      ],
      "text/plain": [
       "         artista genero              cancion  \\\n",
       "0  Vital Remains  metal      Human Sacrifice   \n",
       "1  Vital Remains  metal         Ressurrected   \n",
       "2  Vital Remains  metal        Fallen Angels   \n",
       "3  Vital Remains  metal    Excruciating Pain   \n",
       "4  Vital Remains  metal  Nocturnal Blasphemy   \n",
       "\n",
       "                                               letra  \n",
       "0  Taken to death from sacrifice \\n Carving out y...  \n",
       "1  Doomed to an after life of pain \\n Seeing your...  \n",
       "2  Fallen angels souls of hate \\n Fallen angels c...  \n",
       "3  Feel the torment of brutal bestial torture \\n ...  \n",
       "4  Blasphemy \\n Awakened by nocturnal cries \\n Su...  "
      ]
     },
     "metadata": {},
     "output_type": "display_data"
    }
   ],
   "source": [
    "# Leer archivos en ruta dump\n",
    "\n",
    "files = glob.glob(\"dump/*\", recursive=True)\n",
    "\n",
    "li = []\n",
    "\n",
    "for filename in files:\n",
    "    df_file = pd.read_csv(filename, index_col=0)\n",
    "    li.append(df_file)\n",
    "\n",
    "df = pd.concat(li, ignore_index=True)\n",
    "df.columns = [\"artista\", \"genero\", \"cancion\", \"letra\"]\n",
    "display(df.head())"
   ]
  },
  {
   "cell_type": "markdown",
   "metadata": {},
   "source": [
    "## Descripción de los datos\n",
    "\n",
    "- Utilizando el objeto creado en el Ejercicio 1, genere dos gráficos de barras que resuman la siguiente información:\n",
    "    - La cantidad de canciones registradas por cada artista, ordenado de mayor a menor.\n",
    "    - La cantidad de canciones registradas en cada género, ordenados de mayor a menor.\n",
    "- Comente sobre las principales tendencias."
   ]
  },
  {
   "cell_type": "code",
   "execution_count": 81,
   "metadata": {},
   "outputs": [
    {
     "data": {
      "text/plain": [
       "Text(0.5, 1.0, 'Número de canciones registradas por género')"
      ]
     },
     "execution_count": 81,
     "metadata": {},
     "output_type": "execute_result"
    },
    {
     "data": {
      "image/png": "[encoded data removed]",
      "text/plain": [
       "<Figure size 1440x1296 with 1 Axes>"
      ]
     },
     "metadata": {
      "needs_background": "light"
     },
     "output_type": "display_data"
    },
    {
     "data": {
      "image/png": "[encoded data removed]",
      "text/plain": [
       "<Figure size 432x288 with 1 Axes>"
      ]
     },
     "metadata": {
      "needs_background": "light"
     },
     "output_type": "display_data"
    }
   ],
   "source": [
    "canciones = pd.DataFrame(data={\"counts\": df[\"artista\"].value_counts()})\n",
    "genero = pd.DataFrame(data={\"counts\": df[\"genero\"].value_counts()})\n",
    "\n",
    "plt.figure(figsize=(20,18))\n",
    "barplot_art = sns.barplot( x=\"counts\", y=canciones.index, data=canciones)\n",
    "barplot_art.set_title('Número de canciones registradas por artista')\n",
    "\n",
    "plt.figure()\n",
    "barplot_gen = sns.barplot( x=\"counts\", y=genero.index, data=genero)\n",
    "barplot_gen.set_title('Número de canciones registradas por género')"
   ]
  },
  {
   "cell_type": "markdown",
   "metadata": {},
   "source": [
    "A partir del gráfico se observa que el rock es el género con más canciones, seguido por el hiphop. En cuento artitas con más canciones el top 3 son: Eminen, Bruce Springsteen y Bob Dylan con más de 400 canciones."
   ]
  },
  {
   "cell_type": "markdown",
   "metadata": {},
   "source": [
    "## Matriz de ocurrencias\n",
    "\n",
    "**Digresión**: Tokenización de Textos.\n",
    "\n",
    "Para poder trabajar con textos, debemos pasarlos a una matriz dispersa, donde cada fila representará una entrada (en este caso, una canción), y cada columna representará una palabra (token). Este es el proceso de tokenización: Identificar la ocurrencia de una palabra específica dentro de un conjunto de textos (corpus). El tokenizador más simple sklearn.feature_extraction.text.CountVectorizer genera una colección de textos a una matriz que representa la frecuencia dentro del texto de una palabra específica. El tokenizador funciona de la siguiente manera:\n",
    "\n",
    "```python\n",
    "from sklearn.feature_extraction.text import CountVectorizer\n",
    "# instanciamos un objeto\n",
    "count_vectorizer=CountVectorizer(stop_words='english')\n",
    "# Implementamos los pasos fit y transform\n",
    "count_vectorizer_fit = count_vectorizer.fit_transform(lista_de_textos)\n",
    "# Extraemos tokens (palabras)\n",
    "words = count_vectorizer.get_feature_names()\n",
    "# extraemos frecuencia\n",
    "words_freq = count_vectorizer_fit.toarray().sum(axis=0)\n",
    "```\n",
    "\n",
    "- Importe la clase CountVectorizer dentro de los módulos feature_extraction.text de la librería sklearn . Lea la documentación asociada a ésta. ¿Cuál es el objetivo de esta clase? \n",
    "    - **Respuesta**:\n",
    "        - CountVectorizer convierte la columna de texto en una matriz en la que cada palabra es una columna cuyo valor es el número de veces que dicha palabra aparece.\n",
    "- Aplique la clase para extraer las 100 palabras más repetidas en toda la base de datos.\n",
    "- Genere una función que replique el procedimiento para cada uno de los géneros.\n",
    "- Comente sobre las principales características de cada género en cuanto a sus palabras."
   ]
  },
  {
   "cell_type": "code",
   "execution_count": 74,
   "metadata": {},
   "outputs": [
    {
     "data": {
      "text/markdown": [
       "#### 100 palabras más repetidas en toda la base de datos"
      ],
      "text/plain": [
       "<IPython.core.display.Markdown object>"
      ]
     },
     "metadata": {},
     "output_type": "display_data"
    },
    {
     "data": {
      "text/plain": [
       "['ah',\n",
       " 'ain',\n",
       " 'ass',\n",
       " 'away',\n",
       " 'baby',\n",
       " 'bad',\n",
       " 'better',\n",
       " 'big',\n",
       " 'bitch',\n",
       " 'black',\n",
       " 'boy',\n",
       " 'cause',\n",
       " 'come',\n",
       " 'day',\n",
       " 'dead',\n",
       " 'death',\n",
       " 'did',\n",
       " 'die',\n",
       " 'don',\n",
       " 'em',\n",
       " 'end',\n",
       " 'everybody',\n",
       " 'eyes',\n",
       " 'face',\n",
       " 'feel',\n",
       " 'fuck',\n",
       " 'girl',\n",
       " 'god',\n",
       " 'gone',\n",
       " 'gonna',\n",
       " 'good',\n",
       " 'got',\n",
       " 'gotta',\n",
       " 'hard',\n",
       " 'head',\n",
       " 'hear',\n",
       " 'heart',\n",
       " 'hey',\n",
       " 'high',\n",
       " 'hit',\n",
       " 'hold',\n",
       " 'home',\n",
       " 'inside',\n",
       " 'just',\n",
       " 'know',\n",
       " 'la',\n",
       " 'leave',\n",
       " 'left',\n",
       " 'let',\n",
       " 'life',\n",
       " 'light',\n",
       " 'like',\n",
       " 'little',\n",
       " 'live',\n",
       " 'll',\n",
       " 'long',\n",
       " 'look',\n",
       " 'love',\n",
       " 'make',\n",
       " 'man',\n",
       " 'mind',\n",
       " 'money',\n",
       " 'need',\n",
       " 'new',\n",
       " 'nigga',\n",
       " 'niggas',\n",
       " 'night',\n",
       " 'oh',\n",
       " 'ooh',\n",
       " 'people',\n",
       " 'play',\n",
       " 'real',\n",
       " 'really',\n",
       " 'right',\n",
       " 'rock',\n",
       " 'run',\n",
       " 'said',\n",
       " 'say',\n",
       " 'shit',\n",
       " 'soul',\n",
       " 'stop',\n",
       " 'tell',\n",
       " 'thing',\n",
       " 'things',\n",
       " 'think',\n",
       " 'till',\n",
       " 'time',\n",
       " 'tonight',\n",
       " 'try',\n",
       " 'turn',\n",
       " 'uh',\n",
       " 've',\n",
       " 'wanna',\n",
       " 'want',\n",
       " 'way',\n",
       " 'won',\n",
       " 'world',\n",
       " 'ya',\n",
       " 'yeah',\n",
       " 'yo']"
      ]
     },
     "metadata": {},
     "output_type": "display_data"
    }
   ],
   "source": [
    "count_vec = CountVectorizer(lowercase = True, stop_words=\"english\", analyzer='word', max_features=100)\n",
    "count_train = count_vec.fit(df[\"lyric\"])\n",
    "\n",
    "display(Markdown(\"#### 100 palabras más repetidas en toda la base de datos\"))\n",
    "display(count_vec.get_feature_names())\n",
    "\n",
    "df.groupby[\"genero\"]"
   ]
  }
 ],
 "metadata": {
  "hide_input": false,
  "kernelspec": {
   "display_name": "venv",
   "language": "python",
   "name": "venv"
  },
  "language_info": {
   "codemirror_mode": {
    "name": "ipython",
    "version": 3
   },
   "file_extension": ".py",
   "mimetype": "text/x-python",
   "name": "python",
   "nbconvert_exporter": "python",
   "pygments_lexer": "ipython3",
   "version": "3.7.3"
  },
  "latex_envs": {
   "LaTeX_envs_menu_present": true,
   "autoclose": false,
   "autocomplete": true,
   "bibliofile": "biblio.bib",
   "cite_by": "apalike",
   "current_citInitial": 1,
   "eqLabelWithNumbers": true,
   "eqNumInitial": 1,
   "hotkeys": {
    "equation": "Ctrl-E",
    "itemize": "Ctrl-I"
   },
   "labels_anchors": false,
   "latex_user_defs": false,
   "report_style_numbering": false,
   "user_envs_cfg": false
  },
  "toc": {
   "base_numbering": 1,
   "nav_menu": {},
   "number_sections": true,
   "sideBar": true,
   "skip_h1_title": true,
   "title_cell": "Table of Contents",
   "title_sidebar": "Contents",
   "toc_cell": false,
   "toc_position": {
    "height": "calc(100% - 180px)",
    "left": "10px",
    "top": "150px",
    "width": "299.188px"
   },
   "toc_section_display": true,
   "toc_window_display": true
  }
 },
 "nbformat": 4,
 "nbformat_minor": 2
}
