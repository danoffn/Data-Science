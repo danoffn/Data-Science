{
 "cells": [
  {
   "cell_type": "markdown",
   "metadata": {},
   "source": [
    "## Desafío: Funciones y probabilidad básica - 12/06\n",
    "Integrantes: \n",
    "- Yerko Carreño\n",
    "- Javier Pilasi\n",
    "- Daniel Flores\n",
    "- Francisco Fernandez\n",
    "- Máximo Oliva\n",
    "- Rocío Ehijo"
   ]
  },
  {
   "cell_type": "markdown",
   "metadata": {},
   "source": [
    "### Desafío 1: Generación de funciones"
   ]
  },
  {
   "cell_type": "code",
   "execution_count": 3,
   "metadata": {},
   "outputs": [],
   "source": [
    "import pandas as pd\n",
    "import numpy as np\n",
    "\n",
    "df=pd.read_csv('worldcup2014.csv')"
   ]
  },
  {
   "cell_type": "code",
   "execution_count": 4,
   "metadata": {},
   "outputs": [],
   "source": [
    "def media(x):\n",
    "    \"\"\"\n",
    "    media: retorna la media de los elementos de la serie o arreglo\n",
    "    \n",
    "    Parámetro:\n",
    "    x -> Serie    \n",
    "    \n",
    "    \"\"\"\n",
    "    sum=0\n",
    "    for i in x:\n",
    "        sum+=i\n",
    "    med=sum/len(x)\n",
    "    return med\n",
    "\n",
    "def varianza(x):\n",
    "    \"\"\"\n",
    "    varianza: retorna la varianza de la población, calculada como la sumatoria del cuadrado de la diferencia entre el valor i y el promedio, sobre la cantidad de datos\n",
    "    \n",
    "    Parámetro:\n",
    "    x -> Serie\n",
    "    \n",
    "    \"\"\"\n",
    "    num=0\n",
    "    for i in x:\n",
    "        num+=(i-media(x))**2\n",
    "    var=num/(len(x))\n",
    "\n",
    "    return var\n"
   ]
  },
  {
   "cell_type": "markdown",
   "metadata": {},
   "source": [
    "### Desafío 2:"
   ]
  },
  {
   "cell_type": "code",
   "execution_count": 5,
   "metadata": {
    "scrolled": true
   },
   "outputs": [
    {
     "name": "stdout",
     "output_type": "stream",
     "text": [
      "Media goles a favor y varianza: 4.25 - 5.1875\n",
      "Media goles en contra y varianza: 4.25 - 4.8125\n",
      "Media puntos y varianza: 4.21875 - 8.0458984375\n"
     ]
    }
   ],
   "source": [
    "# Calculos media\n",
    "media_goles_favor = media(df[\"goles_favor\"])\n",
    "media_goles_contra = media(df[\"goles_contra\"])\n",
    "media_puntos = media(df[\"puntos\"])\n",
    "\n",
    "# Calculos varianza\n",
    "varianza_goles_favor = varianza(df[\"goles_favor\"])\n",
    "varianza_goles_contra = varianza(df[\"goles_contra\"])\n",
    "varianza_puntos = varianza(df[\"puntos\"])\n",
    "\n",
    "print(\"Media goles a favor y varianza: {} - {}\".format(media_goles_favor, varianza_goles_favor))\n",
    "print(\"Media goles en contra y varianza: {} - {}\".format(media_goles_contra, varianza_goles_contra))\n",
    "print(\"Media puntos y varianza: {} - {}\".format(media_puntos, varianza_puntos))"
   ]
  },
  {
   "cell_type": "markdown",
   "metadata": {},
   "source": [
    "### Desafío 2"
   ]
  },
  {
   "cell_type": "code",
   "execution_count": 7,
   "metadata": {},
   "outputs": [],
   "source": [
    "def funcion(x,group,var):\n",
    "    distinct_groupby=list(x[group].unique())\n",
    "    store_mean = []\n",
    "    store_std = []\n",
    "    for i in distinct_groupby:\n",
    "        df_group=df[df[group]==i]\n",
    "        store_mean.append(media(df_group[var]))\n",
    "        store_std.append(varianza(df_group[var]))\n",
    "    tmp=pd.DataFrame({group: distinct_groupby,\n",
    "                    'media': store_mean,\n",
    "                    'varianza': store_std})\n",
    "    return tmp"
   ]
  },
  {
   "cell_type": "code",
   "execution_count": 8,
   "metadata": {},
   "outputs": [
    {
     "data": {
      "text/html": [
       "<div>\n",
       "<style scoped>\n",
       "    .dataframe tbody tr th:only-of-type {\n",
       "        vertical-align: middle;\n",
       "    }\n",
       "\n",
       "    .dataframe tbody tr th {\n",
       "        vertical-align: top;\n",
       "    }\n",
       "\n",
       "    .dataframe thead th {\n",
       "        text-align: right;\n",
       "    }\n",
       "</style>\n",
       "<table border=\"1\" class=\"dataframe\">\n",
       "  <thead>\n",
       "    <tr style=\"text-align: right;\">\n",
       "      <th></th>\n",
       "      <th>continent</th>\n",
       "      <th>media</th>\n",
       "      <th>varianza</th>\n",
       "    </tr>\n",
       "  </thead>\n",
       "  <tbody>\n",
       "    <tr>\n",
       "      <th>0</th>\n",
       "      <td>southamerica</td>\n",
       "      <td>5.666667</td>\n",
       "      <td>3.888889</td>\n",
       "    </tr>\n",
       "    <tr>\n",
       "      <th>1</th>\n",
       "      <td>northamerica</td>\n",
       "      <td>3.250000</td>\n",
       "      <td>1.687500</td>\n",
       "    </tr>\n",
       "    <tr>\n",
       "      <th>2</th>\n",
       "      <td>europe</td>\n",
       "      <td>4.769231</td>\n",
       "      <td>6.331361</td>\n",
       "    </tr>\n",
       "    <tr>\n",
       "      <th>3</th>\n",
       "      <td>africa</td>\n",
       "      <td>3.600000</td>\n",
       "      <td>2.640000</td>\n",
       "    </tr>\n",
       "    <tr>\n",
       "      <th>4</th>\n",
       "      <td>asia</td>\n",
       "      <td>2.250000</td>\n",
       "      <td>0.687500</td>\n",
       "    </tr>\n",
       "  </tbody>\n",
       "</table>\n",
       "</div>"
      ],
      "text/plain": [
       "      continent     media  varianza\n",
       "0  southamerica  5.666667  3.888889\n",
       "1  northamerica  3.250000  1.687500\n",
       "2        europe  4.769231  6.331361\n",
       "3        africa  3.600000  2.640000\n",
       "4          asia  2.250000  0.687500"
      ]
     },
     "execution_count": 8,
     "metadata": {},
     "output_type": "execute_result"
    }
   ],
   "source": [
    "funcion(df,'continent','goles_favor')"
   ]
  },
  {
   "cell_type": "code",
   "execution_count": 9,
   "metadata": {},
   "outputs": [
    {
     "data": {
      "text/html": [
       "<div>\n",
       "<style scoped>\n",
       "    .dataframe tbody tr th:only-of-type {\n",
       "        vertical-align: middle;\n",
       "    }\n",
       "\n",
       "    .dataframe tbody tr th {\n",
       "        vertical-align: top;\n",
       "    }\n",
       "\n",
       "    .dataframe thead th {\n",
       "        text-align: right;\n",
       "    }\n",
       "</style>\n",
       "<table border=\"1\" class=\"dataframe\">\n",
       "  <thead>\n",
       "    <tr style=\"text-align: right;\">\n",
       "      <th></th>\n",
       "      <th>continent</th>\n",
       "      <th>media</th>\n",
       "      <th>varianza</th>\n",
       "    </tr>\n",
       "  </thead>\n",
       "  <tbody>\n",
       "    <tr>\n",
       "      <th>0</th>\n",
       "      <td>southamerica</td>\n",
       "      <td>2.833333</td>\n",
       "      <td>0.472222</td>\n",
       "    </tr>\n",
       "    <tr>\n",
       "      <th>1</th>\n",
       "      <td>northamerica</td>\n",
       "      <td>3.500000</td>\n",
       "      <td>8.250000</td>\n",
       "    </tr>\n",
       "    <tr>\n",
       "      <th>2</th>\n",
       "      <td>europe</td>\n",
       "      <td>4.000000</td>\n",
       "      <td>3.538462</td>\n",
       "    </tr>\n",
       "    <tr>\n",
       "      <th>3</th>\n",
       "      <td>africa</td>\n",
       "      <td>5.600000</td>\n",
       "      <td>3.840000</td>\n",
       "    </tr>\n",
       "    <tr>\n",
       "      <th>4</th>\n",
       "      <td>asia</td>\n",
       "      <td>6.250000</td>\n",
       "      <td>3.187500</td>\n",
       "    </tr>\n",
       "  </tbody>\n",
       "</table>\n",
       "</div>"
      ],
      "text/plain": [
       "      continent     media  varianza\n",
       "0  southamerica  2.833333  0.472222\n",
       "1  northamerica  3.500000  8.250000\n",
       "2        europe  4.000000  3.538462\n",
       "3        africa  5.600000  3.840000\n",
       "4          asia  6.250000  3.187500"
      ]
     },
     "execution_count": 9,
     "metadata": {},
     "output_type": "execute_result"
    }
   ],
   "source": [
    "funcion(df,'continent','goles_contra')"
   ]
  },
  {
   "cell_type": "code",
   "execution_count": 10,
   "metadata": {},
   "outputs": [
    {
     "data": {
      "text/html": [
       "<div>\n",
       "<style scoped>\n",
       "    .dataframe tbody tr th:only-of-type {\n",
       "        vertical-align: middle;\n",
       "    }\n",
       "\n",
       "    .dataframe tbody tr th {\n",
       "        vertical-align: top;\n",
       "    }\n",
       "\n",
       "    .dataframe thead th {\n",
       "        text-align: right;\n",
       "    }\n",
       "</style>\n",
       "<table border=\"1\" class=\"dataframe\">\n",
       "  <thead>\n",
       "    <tr style=\"text-align: right;\">\n",
       "      <th></th>\n",
       "      <th>continent</th>\n",
       "      <th>media</th>\n",
       "      <th>varianza</th>\n",
       "    </tr>\n",
       "  </thead>\n",
       "  <tbody>\n",
       "    <tr>\n",
       "      <th>0</th>\n",
       "      <td>southamerica</td>\n",
       "      <td>6.833333</td>\n",
       "      <td>3.138889</td>\n",
       "    </tr>\n",
       "    <tr>\n",
       "      <th>1</th>\n",
       "      <td>northamerica</td>\n",
       "      <td>4.500000</td>\n",
       "      <td>8.250000</td>\n",
       "    </tr>\n",
       "    <tr>\n",
       "      <th>2</th>\n",
       "      <td>europe</td>\n",
       "      <td>4.692308</td>\n",
       "      <td>6.366864</td>\n",
       "    </tr>\n",
       "    <tr>\n",
       "      <th>3</th>\n",
       "      <td>africa</td>\n",
       "      <td>2.400000</td>\n",
       "      <td>2.640000</td>\n",
       "    </tr>\n",
       "    <tr>\n",
       "      <th>4</th>\n",
       "      <td>asia</td>\n",
       "      <td>0.750000</td>\n",
       "      <td>0.187500</td>\n",
       "    </tr>\n",
       "  </tbody>\n",
       "</table>\n",
       "</div>"
      ],
      "text/plain": [
       "      continent     media  varianza\n",
       "0  southamerica  6.833333  3.138889\n",
       "1  northamerica  4.500000  8.250000\n",
       "2        europe  4.692308  6.366864\n",
       "3        africa  2.400000  2.640000\n",
       "4          asia  0.750000  0.187500"
      ]
     },
     "execution_count": 10,
     "metadata": {},
     "output_type": "execute_result"
    }
   ],
   "source": [
    "funcion(df,'continent','puntos')"
   ]
  },
  {
   "cell_type": "markdown",
   "metadata": {},
   "source": [
    "En promedio, Sudamérica reporta una mayor cantidad de goles a favor, Asia una mayor cantidad de goles en contra, y Sudamérica tiene más puntos."
   ]
  },
  {
   "cell_type": "markdown",
   "metadata": {},
   "source": [
    "### Desafío 3: Simulaciones"
   ]
  },
  {
   "cell_type": "code",
   "execution_count": 21,
   "metadata": {},
   "outputs": [],
   "source": [
    "np.random.seed(2)\n",
    "def generate_pet():\n",
    "    masc=['perro','gato']\n",
    "    pet=np.random.choice(masc)\n",
    "    return pet"
   ]
  },
  {
   "cell_type": "code",
   "execution_count": 22,
   "metadata": {},
   "outputs": [
    {
     "data": {
      "text/plain": [
       "'gato'"
      ]
     },
     "execution_count": 22,
     "metadata": {},
     "output_type": "execute_result"
    }
   ],
   "source": [
    "generate_pet()\n",
    "generate_pet()"
   ]
  },
  {
   "cell_type": "code",
   "execution_count": 23,
   "metadata": {},
   "outputs": [
    {
     "data": {
      "text/plain": [
       "gato     0.55\n",
       "perro    0.45\n",
       "dtype: float64"
      ]
     },
     "execution_count": 23,
     "metadata": {},
     "output_type": "execute_result"
    }
   ],
   "source": [
    "lista20=[]\n",
    "for i in range(20):\n",
    "    lista20.append(generate_pet())\n",
    "\n",
    "dfpet=pd.Series(lista20)\n",
    "dfpet.value_counts('%')"
   ]
  },
  {
   "cell_type": "markdown",
   "metadata": {},
   "source": [
    "La probabilidad de elegir un perro al azar es de 0.45, y un gato de 0.45. El método np.random.seed() setea el método random de acuerdo al parámetro entregado, manteniendo constantes los valores aleatorios cada vez que se utiliza el método random."
   ]
  },
  {
   "cell_type": "markdown",
   "metadata": {},
   "source": [
    "### Desafío 4: Función simuladora"
   ]
  },
  {
   "cell_type": "code",
   "execution_count": 53,
   "metadata": {},
   "outputs": [],
   "source": [
    "def simulate_pets_prob(nro):\n",
    "    np.random.seed(1)\n",
    "    young_pet=[]\n",
    "    old_pet=[]\n",
    "    \n",
    "    perro_o=0\n",
    "    perro_viejo=0\n",
    "    perro_y=0\n",
    "    \n",
    "    for i in range(nro):\n",
    "        young_pet.append(generate_pet())\n",
    "        old_pet.append(generate_pet())\n",
    "        \n",
    "        if young_pet[i]=='perro' or old_pet[i]=='perro':\n",
    "            perro_o += 1\n",
    "        if old_pet[i]=='perro':\n",
    "            perro_viejo += 1\n",
    "        if young_pet[i]=='perro' and old_pet[i]=='perro':\n",
    "            perro_y += 1\n",
    "\n",
    "    return young_pet,old_pet, perro_o, perro_viejo, perro_y"
   ]
  },
  {
   "cell_type": "code",
   "execution_count": 54,
   "metadata": {
    "scrolled": true
   },
   "outputs": [
    {
     "name": "stdout",
     "output_type": "stream",
     "text": [
      "Número de situaciones donde:\n",
      "- Por lo menos uno de los animales es un perro: 7\n",
      "- Por lo menos uno de los animales es un perro viejo: 4\n",
      "- Los dos animales sean perros: 2\n"
     ]
    }
   ],
   "source": [
    "[young_pet, old_pet, perro_o, perro_viejo, perro_y]= (simulate_pets_prob(10))\n",
    "\n",
    "print(\"Número de situaciones donde:\")\n",
    "print(\"- Por lo menos uno de los animales es un perro: {}\".format(perro_o))\n",
    "print(\"- Por lo menos uno de los animales es un perro viejo: {}\".format(perro_viejo))\n",
    "print(\"- Los dos animales sean perros: {}\".format(perro_y))"
   ]
  },
  {
   "cell_type": "markdown",
   "metadata": {},
   "source": [
    "- De los tres escenarios, ¿Cuál es el menos probable? __Resp: El caso donde los dos animales sean perros__ ¿Cuál es el más probable? __Resp: El caso donde por lo menos uno de los animales es un perro__"
   ]
  }
 ],
 "metadata": {
  "kernelspec": {
   "display_name": "Python 3",
   "language": "python",
   "name": "python3"
  },
  "language_info": {
   "codemirror_mode": {
    "name": "ipython",
    "version": 3
   },
   "file_extension": ".py",
   "mimetype": "text/x-python",
   "name": "python",
   "nbconvert_exporter": "python",
   "pygments_lexer": "ipython3",
   "version": "3.7.3"
  }
 },
 "nbformat": 4,
 "nbformat_minor": 2
}
