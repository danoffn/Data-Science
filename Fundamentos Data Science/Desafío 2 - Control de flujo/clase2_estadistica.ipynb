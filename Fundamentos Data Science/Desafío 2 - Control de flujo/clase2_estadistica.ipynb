{
 "cells": [
  {
   "cell_type": "markdown",
   "metadata": {},
   "source": [
    "# Segundo Desafío Fundamentos Data Sicence\n",
    "\n",
    "Máximo Oliva, Daniel Flores, Francisco Fernandez, Rocio Ehijo, Javier Pilasi\n"
   ]
  },
  {
   "cell_type": "code",
   "execution_count": 1,
   "metadata": {},
   "outputs": [
    {
     "name": "stdout",
     "output_type": "stream",
     "text": [
      "[ 1.  2.  3.  4.  5.  6.  7.  8.  9. 10. 11. 12. 13. 14. 15. 16. 17. 18.\n",
      " 19. 20. 21. 22. 23. 24. 25. 26. 27. 28. 29. 30. 31. 32. 33. 34. 35. 36.\n",
      " 37. 38. 39. 40. 41. 42. 43. 44. 45. 46. 47. 48. 49. 50.]\n"
     ]
    }
   ],
   "source": [
    "import pandas as pd\n",
    "import numpy as np\n",
    "array50=np.linspace(1,50,)\n",
    "array150=np.linspace( 50,150, num=101)\n",
    "print(array50)\n"
   ]
  },
  {
   "cell_type": "code",
   "execution_count": 2,
   "metadata": {},
   "outputs": [
    {
     "name": "stdout",
     "output_type": "stream",
     "text": [
      "1.0 es impar\n",
      "2.0 es par\n",
      "3.0 es impar\n",
      "4.0 es par\n",
      "5.0 es impar\n",
      "6.0 es par\n",
      "7.0 es impar\n",
      "8.0 es par\n",
      "9.0 es impar\n",
      "10.0 es par\n",
      "11.0 es impar\n",
      "12.0 es par\n",
      "13.0 es impar\n",
      "14.0 es par\n",
      "15.0 es impar\n",
      "16.0 es par\n",
      "17.0 es impar\n",
      "18.0 es par\n",
      "19.0 es impar\n",
      "20.0 es par\n",
      "21.0 es impar\n",
      "22.0 es par\n",
      "23.0 es impar\n",
      "24.0 es par\n",
      "25.0 es impar\n",
      "26.0 es par\n",
      "27.0 es impar\n",
      "28.0 es par\n",
      "29.0 es impar\n",
      "30.0 es par\n",
      "31.0 es impar\n",
      "32.0 es par\n",
      "33.0 es impar\n",
      "34.0 es par\n",
      "35.0 es impar\n",
      "36.0 es par\n",
      "37.0 es impar\n",
      "38.0 es par\n",
      "39.0 es impar\n",
      "40.0 es par\n",
      "41.0 es impar\n",
      "42.0 es par\n",
      "43.0 es impar\n",
      "44.0 es par\n",
      "45.0 es impar\n",
      "46.0 es par\n",
      "47.0 es impar\n",
      "48.0 es par\n",
      "49.0 es impar\n",
      "50.0 es par\n"
     ]
    }
   ],
   "source": [
    "for i in array50:\n",
    "    if i%2==0:\n",
    "        print(i, \"es par\")\n",
    "    else:\n",
    "        print(i, \"es impar\")"
   ]
  },
  {
   "cell_type": "code",
   "execution_count": 3,
   "metadata": {},
   "outputs": [
    {
     "name": "stdout",
     "output_type": "stream",
     "text": [
      "17 registros son disivibles por 2 y 3\n",
      "68 registros son divisibles por 2 o 3\n",
      "33 registros no son divisibles no por 2 ni por 3\n",
      "17 son divisibles por 3 y no por 2\n"
     ]
    }
   ],
   "source": [
    "import numpy as np\n",
    "divisible2y3=0\n",
    "divisible2o3=0\n",
    "divisiblesolo3=0\n",
    "nodivisible=0\n",
    "array150=np.linspace( 50,150, num=101)\n",
    "\n",
    "for i in array150:\n",
    "    if i%2==0 and i%3==0:\n",
    "        divisible2y3+=1\n",
    "    if i%2==0 or i%3==0:\n",
    "        divisible2o3+=1\n",
    "    if i%3==0 and i%2!=0:\n",
    "        divisiblesolo3+=1\n",
    "    if i%3!=0 and i%2!=0:\n",
    "        nodivisible+=1\n",
    "        \n",
    "\n",
    "print(\"{} registros son disivibles por 2 y 3\". format(divisible2y3))\n",
    "print(\"{} registros son divisibles por 2 o 3\". format(divisible2o3))\n",
    "print(\"{} registros no son divisibles no por 2 ni por 3\". format(nodivisible))\n",
    "print(\"{} son divisibles por 3 y no por 2\".format(divisiblesolo3))"
   ]
  },
  {
   "cell_type": "code",
   "execution_count": 4,
   "metadata": {},
   "outputs": [
    {
     "name": "stdout",
     "output_type": "stream",
     "text": [
      "0\n",
      "1\n",
      "4\n",
      "9\n",
      "16\n",
      "25\n",
      "36\n",
      "49\n",
      "64\n",
      "81\n",
      "100\n",
      "121\n",
      "144\n",
      "169\n",
      "196\n",
      "225\n",
      "256\n",
      "289\n",
      "324\n",
      "361\n",
      "400\n",
      "441\n",
      "484\n",
      "529\n",
      "576\n",
      "625\n",
      "676\n",
      "729\n",
      "784\n",
      "841\n",
      "900\n",
      "961\n",
      "1024\n",
      "1089\n",
      "1156\n",
      "1225\n",
      "1296\n",
      "1369\n",
      "1444\n",
      "1521\n",
      "1600\n",
      "1681\n",
      "1764\n",
      "1849\n",
      "1936\n",
      "2025\n",
      "2116\n",
      "2209\n",
      "2304\n",
      "2401\n",
      "2500\n",
      "2601\n",
      "2704\n",
      "2809\n",
      "2916\n",
      "3025\n",
      "3136\n",
      "3249\n",
      "3364\n",
      "3481\n",
      "3600\n",
      "3721\n",
      "3844\n",
      "3969\n",
      "4096\n",
      "4225\n",
      "4356\n",
      "4489\n",
      "4624\n",
      "4761\n",
      "4900\n",
      "5041\n",
      "5184\n",
      "5329\n",
      "5476\n",
      "5625\n",
      "5776\n",
      "5929\n",
      "6084\n",
      "6241\n",
      "6400\n",
      "6561\n",
      "6724\n",
      "6889\n",
      "7056\n",
      "7225\n",
      "7396\n",
      "7569\n",
      "7744\n",
      "7921\n",
      "8100\n",
      "8281\n",
      "8464\n",
      "8649\n",
      "8836\n",
      "9025\n",
      "9216\n",
      "9409\n",
      "9604\n",
      "9801\n"
     ]
    }
   ],
   "source": [
    "for i in range(100):\n",
    "    print(i**2)"
   ]
  },
  {
   "cell_type": "code",
   "execution_count": 23,
   "metadata": {},
   "outputs": [
    {
     "name": "stderr",
     "output_type": "stream",
     "text": [
      "C:\\Users\\Max\\Anaconda3\\lib\\site-packages\\ipykernel_launcher.py:9: FutureWarning: set_value is deprecated and will be removed in a future release. Please use .at[] or .iat[] accessors instead\n",
      "  if __name__ == '__main__':\n"
     ]
    }
   ],
   "source": [
    "import pandas as pd\n",
    "import numpy as np\n",
    "df_flights=pd.read_csv('flights.csv')\n",
    "media_pasajeros=np.mean(df_flights['passengers'])\n",
    "df_flights['underperforming']=0\n",
    "\n",
    "for index, rowserie in df_flights.iterrows():\n",
    "    if rowserie[\"passengers\"] < media_pasajeros:\n",
    "        df_flights.set_value(index, \"underperforming\", 1)\n",
    "        \n",
    "\n"
   ]
  },
  {
   "cell_type": "code",
   "execution_count": 27,
   "metadata": {},
   "outputs": [
    {
     "name": "stdout",
     "output_type": "stream",
     "text": [
      "Existen 53 casos que pueden ser considerados como extremos\n"
     ]
    },
    {
     "name": "stderr",
     "output_type": "stream",
     "text": [
      "C:\\Users\\Max\\Anaconda3\\lib\\site-packages\\ipykernel_launcher.py:13: FutureWarning: set_value is deprecated and will be removed in a future release. Please use .at[] or .iat[] accessors instead\n",
      "  del sys.path[0]\n",
      "C:\\Users\\Max\\Anaconda3\\lib\\site-packages\\ipykernel_launcher.py:18: FutureWarning: set_value is deprecated and will be removed in a future release. Please use .at[] or .iat[] accessors instead\n"
     ]
    }
   ],
   "source": [
    "import pandas as pd\n",
    "import numpy as np\n",
    "df_flights=pd.read_csv('flights.csv')\n",
    "media_pasajeros=np.mean(df_flights['passengers'])\n",
    "sd_pasajeros=np.std(df_flights['passengers'])\n",
    "df_flights['outliers']=0\n",
    "limite_inferior=media_pasajeros-sd_pasajeros\n",
    "limite_superior=media_pasajeros+sd_pasajeros\n",
    "n_casos=0\n",
    "\n",
    "for index, rowserie in df_flights.iterrows():\n",
    "    if rowserie[\"passengers\"] < limite_inferior:\n",
    "        df_flights.set_value(index, \"outliers\", 1)\n",
    "        n_casos+=1\n",
    "\n",
    "for index, rowserie in df_flights.iterrows():\n",
    "    if rowserie[\"passengers\"] > limite_superior:\n",
    "        df_flights.set_value(index, \"outliers\", 1)\n",
    "        n_casos+=1\n",
    "\n",
    "print(\"Existen {} casos que pueden ser considerados como extremos\". format(n_casos))\n",
    "\n"
   ]
  },
  {
   "cell_type": "code",
   "execution_count": null,
   "metadata": {},
   "outputs": [],
   "source": []
  },
  {
   "cell_type": "code",
   "execution_count": null,
   "metadata": {},
   "outputs": [],
   "source": []
  }
 ],
 "metadata": {
  "kernelspec": {
   "display_name": "Python 3",
   "language": "python",
   "name": "python3"
  },
  "language_info": {
   "codemirror_mode": {
    "name": "ipython",
    "version": 3
   },
   "file_extension": ".py",
   "mimetype": "text/x-python",
   "name": "python",
   "nbconvert_exporter": "python",
   "pygments_lexer": "ipython3",
   "version": "3.7.3"
  }
 },
 "nbformat": 4,
 "nbformat_minor": 2
}
